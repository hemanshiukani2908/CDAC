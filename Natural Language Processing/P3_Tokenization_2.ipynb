{
 "cells": [
  {
   "cell_type": "code",
   "execution_count": 1,
   "id": "364d00e7-0405-4869-aba0-36cc9dd2fc30",
   "metadata": {},
   "outputs": [],
   "source": [
    "import nltk"
   ]
  },
  {
   "cell_type": "code",
   "execution_count": 2,
   "id": "13bf5e7f-7c95-49ca-b1db-a8aaa06184bd",
   "metadata": {},
   "outputs": [],
   "source": [
    "sents='''त्रेता युग में चैत्र मास की नवमी तिथि में जब चन्द्रमा कर्क राशि के पुनर्वसु नक्षत्र में, सूर्य मेष राशि में, मंगल मकर राशि में, शनि तुला राशि में, बृहस्पति कर्क राशि में तथा शुक मीन राशि में (पांचों ग्रह उच्च में) स्थित थे, राम का जन्म हुआ।[20]\n",
    "\n",
    "पौराणिक साहित्य में उपलब्ध आंकड़ों के अनुसार एक चतुर्युग में 43,20,000 वर्ष होते हैं, जिनमें कलियुग के 4,32,000 वर्ष तथा द्वापर के 8,64,000 वर्ष होते हैं। राम का जन्म त्रेता युग में अर्थात द्वापर युग से पहले हुआ था। चूंकि कलियुग का अभी प्रारंभ ही हुआ है (लगभग 5,500 वर्ष ही बीते हैं) और श्रीराम का जन्म त्रेता के अंत में हुआ तथा अवतार लेकर धरती पर उनके वर्तमान रहने का समय परंपरागत रूप से 11,000 वर्ष माना गया है।[21] अतः द्वापर युग के 8,64,000 वर्ष + राम की वर्तमानता के 11,000 वर्ष + द्वापर युग के अंत से अबतक बीते 5,100 वर्ष = कुल 8,80,100 वर्ष। अतएव परंपरागत रूप से श्रीराम का जन्म आज से लगभग 8,80,100 वर्ष पहले माना जाता है।\n",
    "\n",
    "प्रख्यात मराठी शोधकर्ता विद्वान डॉ॰ पद्माकर विष्णु वर्तक ने एक दृष्टि से इस समय को संभाव्य माना है। उनका कहना है कि वाल्मीकीय रामायण में एक स्थल पर विन्ध्याचल तथा हिमालय की ऊँचाई को समान बताया गया है। विन्ध्याचल की ऊंचाई 5,000 फीट है तथा यह प्रायः स्थिर है, जबकि हिमालय की ऊँचाई वर्तमान में 29,029 फीट है तथा यह निरंतर वर्धनशील है। दोनों की ऊँचाई का अंतर 24,029 फीट है। विशेषज्ञों की मान्यता के अनुसार हिमालय 100 वर्षों में 3 फीट बढ़ता है। अतः 24,029 फीट बढ़ने में हिमालय को करीब 8,01,000 वर्ष लगे होंगे। अतः अभी से करीब 8,01,000 वर्ष पहले हिमालय की ऊँचाई विन्ध्याचल के समान रही होगी, जिसका उल्लेख वाल्मीकीय रामायण में वर्तमानकालिक रूप में हुआ है। इस तरह डाॅ॰ वर्तक को एक दृष्टि से यह समय संभव लगता है, परंतु उनका स्वयं मानना है कि वे किसी अन्य स्रोत से इस समय की पुष्टि नहीं कर सकते हैं।[22] अपने सुविख्यात ग्रंथ 'वास्तव रामायण' में डॉ॰ वर्तक ने मुख्यतः ग्रहगतियों के आधार पर गणित करके[23] वाल्मीकीय रामायण में उल्लिखित ग्रहस्थिति के अनुसार श्रीराम की वास्तविक जन्म-तिथि 4 दिसंबर 7323 ईसापूर्व को सुनिश्चित किया है। उनके अनुसार इसी तिथि को दिन में 1:30 से 3:00 बजे के बीच श्री राम का जन्म हुआ होगा।[24]\n",
    "\n",
    "डॉ॰ पी॰ वी॰ वर्तक के शोध के अनेक वर्षों के बाद[25] (2004 ईस्वी से) 'आई-सर्व' के एक शोध दल ने 'प्लेनेटेरियम गोल्ड' सॉफ्टवेयर का प्रयोग करके रामजी का जन्म 10 जनवरी 5114 ईसापूर्व में सिद्ध किया। उनका मानना था कि इस तिथि को ग्रहों की वही स्थिति थी जिसका वर्णन वाल्मीकीय रामायण में है। परंतु यह समय काफी संदेहास्पद हो गया है। 'आई-सर्व' के शोध दल ने जिस 'प्लेनेटेरियम गोल्ड' सॉफ्टवेयर का प्रयोग किया वह वास्तव में ईसा पूर्व 3000 से पहले का सही ग्रह-गणित करने में सक्षम नहीं है।[26] वस्तुतः 2013 ईस्वी से पहले इतने पहले का ग्रह-गणित करने हेतु सक्षम सॉफ्टवेयर उपलब्ध ही नहीं था।[27] इस गणना द्वारा प्राप्त ग्रह-स्थिति में शनि वृश्चिक में था अर्थात् उच्च (तुला) में नहीं था। चन्द्रमा पुनर्वसु नक्षत्र में न होकर पुष्य के द्वितीय चरण में ही था तथा तिथि भी अष्टमी ही थी।[28] बाद में अन्य विशेषज्ञ द्वारा \"ejplde431\" सॉफ्टवेयर द्वारा की गयी सही गणना में तिथि तो नवमी हो जाती है परन्तु शनि वृश्चिक में ही आता है तथा चन्द्रमा पुष्य के चतुर्थ चरण में।[29] अतः 10 जनवरी 5114 ईसापूर्व की तिथि वस्तुतः श्रीराम की जन्म-तिथि सिद्ध नहीं हो पाती है। ऐसी स्थिति में अब यदि डॉ० पी० वी० वर्तक द्वारा पहले ही परिशोधित तिथि सॉफ्टवेयर द्वारा प्रमाणित हो जाए तभी श्रीराम का वास्तविक समय प्रायः सर्वमान्य हो पाएगा अथवा प्रमाणित न हो पाने की स्थिति में नवीन तिथि के शोध का रास्ता खुलेगा।'''"
   ]
  },
  {
   "cell_type": "code",
   "execution_count": 3,
   "id": "424d1aeb-5ddc-4afa-ad13-c68360102ace",
   "metadata": {},
   "outputs": [
    {
     "data": {
      "text/plain": [
       "'त्रेता युग में चैत्र मास की नवमी तिथि में जब चन्द्रमा कर्क राशि के पुनर्वसु नक्षत्र में, सूर्य मेष राशि में, मंगल मकर राशि में, शनि तुला राशि में, बृहस्पति कर्क राशि में तथा शुक मीन राशि में (पांचों ग्रह उच्च में) स्थित थे, राम का जन्म हुआ।[20]\\n\\nपौराणिक साहित्य में उपलब्ध आंकड़ों के अनुसार एक चतुर्युग में 43,20,000 वर्ष होते हैं, जिनमें कलियुग के 4,32,000 वर्ष तथा द्वापर के 8,64,000 वर्ष होते हैं। राम का जन्म त्रेता युग में अर्थात द्वापर युग से पहले हुआ था। चूंकि कलियुग का अभी प्रारंभ ही हुआ है (लगभग 5,500 वर्ष ही बीते हैं) और श्रीराम का जन्म त्रेता के अंत में हुआ तथा अवतार लेकर धरती पर उनके वर्तमान रहने का समय परंपरागत रूप से 11,000 वर्ष माना गया है।[21] अतः द्वापर युग के 8,64,000 वर्ष + राम की वर्तमानता के 11,000 वर्ष + द्वापर युग के अंत से अबतक बीते 5,100 वर्ष = कुल 8,80,100 वर्ष। अतएव परंपरागत रूप से श्रीराम का जन्म आज से लगभग 8,80,100 वर्ष पहले माना जाता है।\\n\\nप्रख्यात मराठी शोधकर्ता विद्वान डॉ॰ पद्माकर विष्णु वर्तक ने एक दृष्टि से इस समय को संभाव्य माना है। उनका कहना है कि वाल्मीकीय रामायण में एक स्थल पर विन्ध्याचल तथा हिमालय की ऊँचाई को समान बताया गया है। विन्ध्याचल की ऊंचाई 5,000 फीट है तथा यह प्रायः स्थिर है, जबकि हिमालय की ऊँचाई वर्तमान में 29,029 फीट है तथा यह निरंतर वर्धनशील है। दोनों की ऊँचाई का अंतर 24,029 फीट है। विशेषज्ञों की मान्यता के अनुसार हिमालय 100 वर्षों में 3 फीट बढ़ता है। अतः 24,029 फीट बढ़ने में हिमालय को करीब 8,01,000 वर्ष लगे होंगे। अतः अभी से करीब 8,01,000 वर्ष पहले हिमालय की ऊँचाई विन्ध्याचल के समान रही होगी, जिसका उल्लेख वाल्मीकीय रामायण में वर्तमानकालिक रूप में हुआ है। इस तरह डाॅ॰ वर्तक को एक दृष्टि से यह समय संभव लगता है, परंतु उनका स्वयं मानना है कि वे किसी अन्य स्रोत से इस समय की पुष्टि नहीं कर सकते हैं।[22] अपने सुविख्यात ग्रंथ \\'वास्तव रामायण\\' में डॉ॰ वर्तक ने मुख्यतः ग्रहगतियों के आधार पर गणित करके[23] वाल्मीकीय रामायण में उल्लिखित ग्रहस्थिति के अनुसार श्रीराम की वास्तविक जन्म-तिथि 4 दिसंबर 7323 ईसापूर्व को सुनिश्चित किया है। उनके अनुसार इसी तिथि को दिन में 1:30 से 3:00 बजे के बीच श्री राम का जन्म हुआ होगा।[24]\\n\\nडॉ॰ पी॰ वी॰ वर्तक के शोध के अनेक वर्षों के बाद[25] (2004 ईस्वी से) \\'आई-सर्व\\' के एक शोध दल ने \\'प्लेनेटेरियम गोल्ड\\' सॉफ्टवेयर का प्रयोग करके रामजी का जन्म 10 जनवरी 5114 ईसापूर्व में सिद्ध किया। उनका मानना था कि इस तिथि को ग्रहों की वही स्थिति थी जिसका वर्णन वाल्मीकीय रामायण में है। परंतु यह समय काफी संदेहास्पद हो गया है। \\'आई-सर्व\\' के शोध दल ने जिस \\'प्लेनेटेरियम गोल्ड\\' सॉफ्टवेयर का प्रयोग किया वह वास्तव में ईसा पूर्व 3000 से पहले का सही ग्रह-गणित करने में सक्षम नहीं है।[26] वस्तुतः 2013 ईस्वी से पहले इतने पहले का ग्रह-गणित करने हेतु सक्षम सॉफ्टवेयर उपलब्ध ही नहीं था।[27] इस गणना द्वारा प्राप्त ग्रह-स्थिति में शनि वृश्चिक में था अर्थात् उच्च (तुला) में नहीं था। चन्द्रमा पुनर्वसु नक्षत्र में न होकर पुष्य के द्वितीय चरण में ही था तथा तिथि भी अष्टमी ही थी।[28] बाद में अन्य विशेषज्ञ द्वारा \"ejplde431\" सॉफ्टवेयर द्वारा की गयी सही गणना में तिथि तो नवमी हो जाती है परन्तु शनि वृश्चिक में ही आता है तथा चन्द्रमा पुष्य के चतुर्थ चरण में।[29] अतः 10 जनवरी 5114 ईसापूर्व की तिथि वस्तुतः श्रीराम की जन्म-तिथि सिद्ध नहीं हो पाती है। ऐसी स्थिति में अब यदि डॉ० पी० वी० वर्तक द्वारा पहले ही परिशोधित तिथि सॉफ्टवेयर द्वारा प्रमाणित हो जाए तभी श्रीराम का वास्तविक समय प्रायः सर्वमान्य हो पाएगा अथवा प्रमाणित न हो पाने की स्थिति में नवीन तिथि के शोध का रास्ता खुलेगा।'"
      ]
     },
     "execution_count": 3,
     "metadata": {},
     "output_type": "execute_result"
    }
   ],
   "source": [
    "sents"
   ]
  },
  {
   "cell_type": "markdown",
   "id": "6aff4a51-78a4-4712-81e5-a6bcd2d72b5e",
   "metadata": {},
   "source": [
    "## 1. word_tokenizer for another language"
   ]
  },
  {
   "cell_type": "code",
   "execution_count": 5,
   "id": "63293bbf-cb9a-464d-a02e-39fc21497bb5",
   "metadata": {},
   "outputs": [],
   "source": [
    "from nltk.tokenize import word_tokenize"
   ]
  },
  {
   "cell_type": "code",
   "execution_count": 6,
   "id": "d93eadf0-cd3a-4391-b2e5-3339a71b3b5b",
   "metadata": {},
   "outputs": [],
   "source": [
    "token = word_tokenize(sents)"
   ]
  },
  {
   "cell_type": "code",
   "execution_count": 7,
   "id": "e02bf2bf-0e17-4130-bb8b-1e3337f6de1d",
   "metadata": {},
   "outputs": [
    {
     "name": "stdout",
     "output_type": "stream",
     "text": [
      "['त्रेता', 'युग', 'में', 'चैत्र', 'मास', 'की', 'नवमी', 'तिथि', 'में', 'जब', 'चन्द्रमा', 'कर्क', 'राशि', 'के', 'पुनर्वसु', 'नक्षत्र', 'में', ',', 'सूर्य', 'मेष', 'राशि', 'में', ',', 'मंगल', 'मकर', 'राशि', 'में', ',', 'शनि', 'तुला', 'राशि', 'में', ',', 'बृहस्पति', 'कर्क', 'राशि', 'में', 'तथा', 'शुक', 'मीन', 'राशि', 'में', '(', 'पांचों', 'ग्रह', 'उच्च', 'में', ')', 'स्थित', 'थे', ',', 'राम', 'का', 'जन्म', 'हुआ।', '[', '20', ']', 'पौराणिक', 'साहित्य', 'में', 'उपलब्ध', 'आंकड़ों', 'के', 'अनुसार', 'एक', 'चतुर्युग', 'में', '43,20,000', 'वर्ष', 'होते', 'हैं', ',', 'जिनमें', 'कलियुग', 'के', '4,32,000', 'वर्ष', 'तथा', 'द्वापर', 'के', '8,64,000', 'वर्ष', 'होते', 'हैं।', 'राम', 'का', 'जन्म', 'त्रेता', 'युग', 'में', 'अर्थात', 'द्वापर', 'युग', 'से', 'पहले', 'हुआ', 'था।', 'चूंकि', 'कलियुग', 'का', 'अभी', 'प्रारंभ', 'ही', 'हुआ', 'है', '(', 'लगभग', '5,500', 'वर्ष', 'ही', 'बीते', 'हैं', ')', 'और', 'श्रीराम', 'का', 'जन्म', 'त्रेता', 'के', 'अंत', 'में', 'हुआ', 'तथा', 'अवतार', 'लेकर', 'धरती', 'पर', 'उनके', 'वर्तमान', 'रहने', 'का', 'समय', 'परंपरागत', 'रूप', 'से', '11,000', 'वर्ष', 'माना', 'गया', 'है।', '[', '21', ']', 'अतः', 'द्वापर', 'युग', 'के', '8,64,000', 'वर्ष', '+', 'राम', 'की', 'वर्तमानता', 'के', '11,000', 'वर्ष', '+', 'द्वापर', 'युग', 'के', 'अंत', 'से', 'अबतक', 'बीते', '5,100', 'वर्ष', '=', 'कुल', '8,80,100', 'वर्ष।', 'अतएव', 'परंपरागत', 'रूप', 'से', 'श्रीराम', 'का', 'जन्म', 'आज', 'से', 'लगभग', '8,80,100', 'वर्ष', 'पहले', 'माना', 'जाता', 'है।', 'प्रख्यात', 'मराठी', 'शोधकर्ता', 'विद्वान', 'डॉ॰', 'पद्माकर', 'विष्णु', 'वर्तक', 'ने', 'एक', 'दृष्टि', 'से', 'इस', 'समय', 'को', 'संभाव्य', 'माना', 'है।', 'उनका', 'कहना', 'है', 'कि', 'वाल्मीकीय', 'रामायण', 'में', 'एक', 'स्थल', 'पर', 'विन्ध्याचल', 'तथा', 'हिमालय', 'की', 'ऊँचाई', 'को', 'समान', 'बताया', 'गया', 'है।', 'विन्ध्याचल', 'की', 'ऊंचाई', '5,000', 'फीट', 'है', 'तथा', 'यह', 'प्रायः', 'स्थिर', 'है', ',', 'जबकि', 'हिमालय', 'की', 'ऊँचाई', 'वर्तमान', 'में', '29,029', 'फीट', 'है', 'तथा', 'यह', 'निरंतर', 'वर्धनशील', 'है।', 'दोनों', 'की', 'ऊँचाई', 'का', 'अंतर', '24,029', 'फीट', 'है।', 'विशेषज्ञों', 'की', 'मान्यता', 'के', 'अनुसार', 'हिमालय', '100', 'वर्षों', 'में', '3', 'फीट', 'बढ़ता', 'है।', 'अतः', '24,029', 'फीट', 'बढ़ने', 'में', 'हिमालय', 'को', 'करीब', '8,01,000', 'वर्ष', 'लगे', 'होंगे।', 'अतः', 'अभी', 'से', 'करीब', '8,01,000', 'वर्ष', 'पहले', 'हिमालय', 'की', 'ऊँचाई', 'विन्ध्याचल', 'के', 'समान', 'रही', 'होगी', ',', 'जिसका', 'उल्लेख', 'वाल्मीकीय', 'रामायण', 'में', 'वर्तमानकालिक', 'रूप', 'में', 'हुआ', 'है।', 'इस', 'तरह', 'डाॅ॰', 'वर्तक', 'को', 'एक', 'दृष्टि', 'से', 'यह', 'समय', 'संभव', 'लगता', 'है', ',', 'परंतु', 'उनका', 'स्वयं', 'मानना', 'है', 'कि', 'वे', 'किसी', 'अन्य', 'स्रोत', 'से', 'इस', 'समय', 'की', 'पुष्टि', 'नहीं', 'कर', 'सकते', 'हैं।', '[', '22', ']', 'अपने', 'सुविख्यात', 'ग्रंथ', \"'\", 'वास्तव', 'रामायण', \"'\", 'में', 'डॉ॰', 'वर्तक', 'ने', 'मुख्यतः', 'ग्रहगतियों', 'के', 'आधार', 'पर', 'गणित', 'करके', '[', '23', ']', 'वाल्मीकीय', 'रामायण', 'में', 'उल्लिखित', 'ग्रहस्थिति', 'के', 'अनुसार', 'श्रीराम', 'की', 'वास्तविक', 'जन्म-तिथि', '4', 'दिसंबर', '7323', 'ईसापूर्व', 'को', 'सुनिश्चित', 'किया', 'है।', 'उनके', 'अनुसार', 'इसी', 'तिथि', 'को', 'दिन', 'में', '1:30', 'से', '3:00', 'बजे', 'के', 'बीच', 'श्री', 'राम', 'का', 'जन्म', 'हुआ', 'होगा।', '[', '24', ']', 'डॉ॰', 'पी॰', 'वी॰', 'वर्तक', 'के', 'शोध', 'के', 'अनेक', 'वर्षों', 'के', 'बाद', '[', '25', ']', '(', '2004', 'ईस्वी', 'से', ')', \"'आई-सर्व\", \"'\", 'के', 'एक', 'शोध', 'दल', 'ने', \"'\", 'प्लेनेटेरियम', 'गोल्ड', \"'\", 'सॉफ्टवेयर', 'का', 'प्रयोग', 'करके', 'रामजी', 'का', 'जन्म', '10', 'जनवरी', '5114', 'ईसापूर्व', 'में', 'सिद्ध', 'किया।', 'उनका', 'मानना', 'था', 'कि', 'इस', 'तिथि', 'को', 'ग्रहों', 'की', 'वही', 'स्थिति', 'थी', 'जिसका', 'वर्णन', 'वाल्मीकीय', 'रामायण', 'में', 'है।', 'परंतु', 'यह', 'समय', 'काफी', 'संदेहास्पद', 'हो', 'गया', 'है।', \"'आई-सर्व\", \"'\", 'के', 'शोध', 'दल', 'ने', 'जिस', \"'\", 'प्लेनेटेरियम', 'गोल्ड', \"'\", 'सॉफ्टवेयर', 'का', 'प्रयोग', 'किया', 'वह', 'वास्तव', 'में', 'ईसा', 'पूर्व', '3000', 'से', 'पहले', 'का', 'सही', 'ग्रह-गणित', 'करने', 'में', 'सक्षम', 'नहीं', 'है।', '[', '26', ']', 'वस्तुतः', '2013', 'ईस्वी', 'से', 'पहले', 'इतने', 'पहले', 'का', 'ग्रह-गणित', 'करने', 'हेतु', 'सक्षम', 'सॉफ्टवेयर', 'उपलब्ध', 'ही', 'नहीं', 'था।', '[', '27', ']', 'इस', 'गणना', 'द्वारा', 'प्राप्त', 'ग्रह-स्थिति', 'में', 'शनि', 'वृश्चिक', 'में', 'था', 'अर्थात्', 'उच्च', '(', 'तुला', ')', 'में', 'नहीं', 'था।', 'चन्द्रमा', 'पुनर्वसु', 'नक्षत्र', 'में', 'न', 'होकर', 'पुष्य', 'के', 'द्वितीय', 'चरण', 'में', 'ही', 'था', 'तथा', 'तिथि', 'भी', 'अष्टमी', 'ही', 'थी।', '[', '28', ']', 'बाद', 'में', 'अन्य', 'विशेषज्ञ', 'द्वारा', '``', 'ejplde431', \"''\", 'सॉफ्टवेयर', 'द्वारा', 'की', 'गयी', 'सही', 'गणना', 'में', 'तिथि', 'तो', 'नवमी', 'हो', 'जाती', 'है', 'परन्तु', 'शनि', 'वृश्चिक', 'में', 'ही', 'आता', 'है', 'तथा', 'चन्द्रमा', 'पुष्य', 'के', 'चतुर्थ', 'चरण', 'में।', '[', '29', ']', 'अतः', '10', 'जनवरी', '5114', 'ईसापूर्व', 'की', 'तिथि', 'वस्तुतः', 'श्रीराम', 'की', 'जन्म-तिथि', 'सिद्ध', 'नहीं', 'हो', 'पाती', 'है।', 'ऐसी', 'स्थिति', 'में', 'अब', 'यदि', 'डॉ०', 'पी०', 'वी०', 'वर्तक', 'द्वारा', 'पहले', 'ही', 'परिशोधित', 'तिथि', 'सॉफ्टवेयर', 'द्वारा', 'प्रमाणित', 'हो', 'जाए', 'तभी', 'श्रीराम', 'का', 'वास्तविक', 'समय', 'प्रायः', 'सर्वमान्य', 'हो', 'पाएगा', 'अथवा', 'प्रमाणित', 'न', 'हो', 'पाने', 'की', 'स्थिति', 'में', 'नवीन', 'तिथि', 'के', 'शोध', 'का', 'रास्ता', 'खुलेगा।']\n"
     ]
    }
   ],
   "source": [
    "print(token)"
   ]
  },
  {
   "cell_type": "markdown",
   "id": "236f54f5-f301-47fc-9778-2af0c1af2722",
   "metadata": {},
   "source": [
    "## 2. Sentence Tokenizer"
   ]
  },
  {
   "cell_type": "code",
   "execution_count": 9,
   "id": "b07462be-461c-42e0-8b6e-e997fd0c7bcb",
   "metadata": {},
   "outputs": [],
   "source": [
    "from nltk.tokenize import sent_tokenize"
   ]
  },
  {
   "cell_type": "code",
   "execution_count": 10,
   "id": "c4e9a2dd-c8c0-4952-87e5-f392a2d56ab5",
   "metadata": {},
   "outputs": [],
   "source": [
    "text = '''hello friends!\n",
    "how are you buddy? \n",
    "welcome to the world of NLP'''"
   ]
  },
  {
   "cell_type": "code",
   "execution_count": 11,
   "id": "e02f2e33-49fb-443c-9b30-981b2cfeb43e",
   "metadata": {},
   "outputs": [
    {
     "data": {
      "text/plain": [
       "['hello friends!', 'how are you buddy?', 'welcome to the world of NLP']"
      ]
     },
     "execution_count": 11,
     "metadata": {},
     "output_type": "execute_result"
    }
   ],
   "source": [
    "sent_tokenize(text)"
   ]
  },
  {
   "cell_type": "markdown",
   "id": "32979b27-db01-43d6-9555-e60bbac532fe",
   "metadata": {},
   "source": [
    "### ```2.1 sentence tokenazation for english input```"
   ]
  },
  {
   "cell_type": "code",
   "execution_count": 13,
   "id": "adcfd0e5-39b5-40b5-972b-4d2ceb0da09e",
   "metadata": {},
   "outputs": [],
   "source": [
    "india_data = '''India, officially the Republic of India,[j][20] is a country in South Asia. It is the seventh-largest country in the world by area and the most populous country. Bounded by the Indian Ocean on the south, the Arabian Sea on the southwest, and the Bay of Bengal on the southeast, it shares land borders with Pakistan to the west;[k] China, Nepal, and Bhutan to the north; and Bangladesh and Myanmar to the east. In the Indian Ocean, India is in the vicinity of Sri Lanka and the Maldives; its Andaman and Nicobar Islands share a maritime border with Thailand, Myanmar, and Indonesia.\n",
    "\n",
    "Modern humans arrived on the Indian subcontinent from Africa no later than 55,000 years ago.[22][23][24] Their long occupation, initially in varying forms of isolation as hunter-gatherers, has made the region highly diverse, second only to Africa in human genetic diversity.[25] Settled life emerged on the subcontinent in the western margins of the Indus river basin 9,000 years ago, evolving gradually into the Indus Valley Civilisation of the third millennium BCE.[26] By at least 1200 BCE, an archaic form of Sanskrit, an Indo-European language, had diffused into India from the northwest.[27][28] Its evidence today is found in the hymns of the Rigveda. Preserved by an oral tradition that was resolutely vigilant, the Rigveda records the dawning of Hinduism in India.[29] The Dravidian languages of India were supplanted in the northern and western regions.[30] By 400 BCE, stratification and exclusion by caste had emerged within Hinduism,[31] and Buddhism and Jainism had arisen, proclaiming social orders unlinked to heredity.[32] Early political consolidations gave rise to the loose-knit Maurya and Gupta Empires based in the Ganges Basin.[33] Their collective era was suffused with wide-ranging creativity,[34] but also marked by the declining status of women,[35] and the incorporation of untouchability into an organised system of belief.[l][36] The Middle kingdoms exported Sanskrit language, south Indian scripts and religions of Hinduism and Buddhism to the Southeast Asia.[37]'''"
   ]
  },
  {
   "cell_type": "code",
   "execution_count": 14,
   "id": "42ef64ce-677d-486c-a1d6-7d663437404d",
   "metadata": {},
   "outputs": [],
   "source": [
    "token_sents = sent_tokenize(india_data)"
   ]
  },
  {
   "cell_type": "code",
   "execution_count": 15,
   "id": "dc84fec0-8faf-47bc-9131-a5cc93b1e2c6",
   "metadata": {},
   "outputs": [
    {
     "name": "stdout",
     "output_type": "stream",
     "text": [
      "['India, officially the Republic of India,[j][20] is a country in South Asia.', 'It is the seventh-largest country in the world by area and the most populous country.', 'Bounded by the Indian Ocean on the south, the Arabian Sea on the southwest, and the Bay of Bengal on the southeast, it shares land borders with Pakistan to the west;[k] China, Nepal, and Bhutan to the north; and Bangladesh and Myanmar to the east.', 'In the Indian Ocean, India is in the vicinity of Sri Lanka and the Maldives; its Andaman and Nicobar Islands share a maritime border with Thailand, Myanmar, and Indonesia.', 'Modern humans arrived on the Indian subcontinent from Africa no later than 55,000 years ago.', '[22][23][24] Their long occupation, initially in varying forms of isolation as hunter-gatherers, has made the region highly diverse, second only to Africa in human genetic diversity.', '[25] Settled life emerged on the subcontinent in the western margins of the Indus river basin 9,000 years ago, evolving gradually into the Indus Valley Civilisation of the third millennium BCE.', '[26] By at least 1200 BCE, an archaic form of Sanskrit, an Indo-European language, had diffused into India from the northwest.', '[27][28] Its evidence today is found in the hymns of the Rigveda.', 'Preserved by an oral tradition that was resolutely vigilant, the Rigveda records the dawning of Hinduism in India.', '[29] The Dravidian languages of India were supplanted in the northern and western regions.', '[30] By 400 BCE, stratification and exclusion by caste had emerged within Hinduism,[31] and Buddhism and Jainism had arisen, proclaiming social orders unlinked to heredity.', '[32] Early political consolidations gave rise to the loose-knit Maurya and Gupta Empires based in the Ganges Basin.', '[33] Their collective era was suffused with wide-ranging creativity,[34] but also marked by the declining status of women,[35] and the incorporation of untouchability into an organised system of belief.', '[l][36] The Middle kingdoms exported Sanskrit language, south Indian scripts and religions of Hinduism and Buddhism to the Southeast Asia.', '[37]']\n"
     ]
    }
   ],
   "source": [
    "print(token_sents)"
   ]
  },
  {
   "cell_type": "markdown",
   "id": "a09d1ce6-aa4e-44fb-b7dd-1c198c6124c3",
   "metadata": {},
   "source": [
    "### ```2.2 print sentence which has maximum number of the```"
   ]
  },
  {
   "cell_type": "markdown",
   "id": "f7a232ab-32ae-4a21-b312-3003e9c0cdf9",
   "metadata": {},
   "source": [
    "#### Method: 1"
   ]
  },
  {
   "cell_type": "code",
   "execution_count": 18,
   "id": "e1bb9ccd-4a0b-4af1-9bae-10870c8d42e6",
   "metadata": {},
   "outputs": [],
   "source": [
    "sent_the = []\n",
    "for sent in token_sents:\n",
    "    word_sent = word_tokenize(sent.lower())\n",
    "    the_count = 0\n",
    "    for word in word_sent:\n",
    "        if word == 'the':\n",
    "            the_count+=1\n",
    "    sent_the.append(the_count)          "
   ]
  },
  {
   "cell_type": "code",
   "execution_count": 19,
   "id": "add2a563-44ec-4fed-badd-b3c3c0b0e4c1",
   "metadata": {},
   "outputs": [
    {
     "data": {
      "text/plain": [
       "[1, 3, 9, 3, 1, 1, 5, 1, 2, 2, 2, 0, 2, 2, 2, 0]"
      ]
     },
     "execution_count": 19,
     "metadata": {},
     "output_type": "execute_result"
    }
   ],
   "source": [
    "sent_the"
   ]
  },
  {
   "cell_type": "code",
   "execution_count": 20,
   "id": "f37da24d-9dc1-4c65-b814-f35052906e7f",
   "metadata": {},
   "outputs": [],
   "source": [
    "max_index = sent_the.index(max(sent_the))"
   ]
  },
  {
   "cell_type": "code",
   "execution_count": 21,
   "id": "cb9fe213-8a95-4213-b309-2349c18e6ebd",
   "metadata": {},
   "outputs": [
    {
     "name": "stdout",
     "output_type": "stream",
     "text": [
      "Bounded by the Indian Ocean on the south, the Arabian Sea on the southwest, and the Bay of Bengal on the southeast, it shares land borders with Pakistan to the west;[k] China, Nepal, and Bhutan to the north; and Bangladesh and Myanmar to the east.\n"
     ]
    }
   ],
   "source": [
    "print(token_sents[max_index])"
   ]
  },
  {
   "cell_type": "markdown",
   "id": "c770f058-2688-42c1-9310-95136bf308e4",
   "metadata": {},
   "source": [
    "#### Method:2"
   ]
  },
  {
   "cell_type": "code",
   "execution_count": 23,
   "id": "4e451e69-f421-43ee-8047-43d4804a62fc",
   "metadata": {},
   "outputs": [],
   "source": [
    "max= 0 \n",
    "for sent in token_sents:\n",
    "    count = word_tokenize(sent.lower()).count('the')\n",
    "    if count >max:\n",
    "        max = count\n",
    "        final_sent = sent"
   ]
  },
  {
   "cell_type": "code",
   "execution_count": 24,
   "id": "0bb1fb38-b03d-4344-b0d8-ce6c1187099a",
   "metadata": {},
   "outputs": [
    {
     "data": {
      "text/plain": [
       "'Bounded by the Indian Ocean on the south, the Arabian Sea on the southwest, and the Bay of Bengal on the southeast, it shares land borders with Pakistan to the west;[k] China, Nepal, and Bhutan to the north; and Bangladesh and Myanmar to the east.'"
      ]
     },
     "execution_count": 24,
     "metadata": {},
     "output_type": "execute_result"
    }
   ],
   "source": [
    "final_sent"
   ]
  },
  {
   "cell_type": "code",
   "execution_count": null,
   "id": "d4dcbc44-28cb-4828-879c-ad6d014c87f4",
   "metadata": {},
   "outputs": [],
   "source": []
  },
  {
   "cell_type": "markdown",
   "id": "7c819f44-6867-457d-a971-1b027c5f0a89",
   "metadata": {},
   "source": [
    "## 3. Whitespace Tokenizer"
   ]
  },
  {
   "cell_type": "code",
   "execution_count": 26,
   "id": "d0583c6e-a92b-4c7c-a0ed-1ed02cd7690a",
   "metadata": {},
   "outputs": [],
   "source": [
    "from nltk.tokenize import WhitespaceTokenizer"
   ]
  },
  {
   "cell_type": "code",
   "execution_count": 27,
   "id": "f47ca574-1b7c-4fc4-8667-5c2847b81aaf",
   "metadata": {},
   "outputs": [],
   "source": [
    "tk = WhitespaceTokenizer()"
   ]
  },
  {
   "cell_type": "code",
   "execution_count": 28,
   "id": "b1e4b453-9023-4181-a807-1d75d7b56baf",
   "metadata": {},
   "outputs": [
    {
     "data": {
      "text/plain": [
       "['hello',\n",
       " 'friends!',\n",
       " 'how',\n",
       " 'are',\n",
       " 'you',\n",
       " 'buddy?',\n",
       " 'welcome',\n",
       " 'to',\n",
       " 'the',\n",
       " 'world',\n",
       " 'of',\n",
       " 'NLP']"
      ]
     },
     "execution_count": 28,
     "metadata": {},
     "output_type": "execute_result"
    }
   ],
   "source": [
    "tk.tokenize(text)"
   ]
  },
  {
   "cell_type": "code",
   "execution_count": null,
   "id": "7cbdf488-bd61-4345-8e73-c0693790394f",
   "metadata": {},
   "outputs": [],
   "source": []
  },
  {
   "cell_type": "markdown",
   "id": "bbebcc18-b952-4de4-b116-cd664d40212c",
   "metadata": {},
   "source": [
    "## 3. space Tokenizer"
   ]
  },
  {
   "cell_type": "code",
   "execution_count": 30,
   "id": "1b1ebae7-790a-4e26-a0cb-061a1f35d93e",
   "metadata": {},
   "outputs": [],
   "source": [
    "from nltk.tokenize import SpaceTokenizer"
   ]
  },
  {
   "cell_type": "code",
   "execution_count": 31,
   "id": "4083088d-fe70-4fb2-9bce-6c7030dfc362",
   "metadata": {},
   "outputs": [],
   "source": [
    "tk = SpaceTokenizer()"
   ]
  },
  {
   "cell_type": "code",
   "execution_count": 32,
   "id": "d76bb42b-607a-4509-816d-3c87fb50da21",
   "metadata": {},
   "outputs": [
    {
     "name": "stdout",
     "output_type": "stream",
     "text": [
      "hello friends!\n",
      "how are you buddy? \n",
      "welcome to the world of NLP\n"
     ]
    }
   ],
   "source": [
    "print(text)"
   ]
  },
  {
   "cell_type": "code",
   "execution_count": 33,
   "id": "44ba2816-f7c1-47a1-ad67-291205c91c59",
   "metadata": {},
   "outputs": [
    {
     "data": {
      "text/plain": [
       "['hello',\n",
       " 'friends!\\nhow',\n",
       " 'are',\n",
       " 'you',\n",
       " 'buddy?',\n",
       " '\\nwelcome',\n",
       " 'to',\n",
       " 'the',\n",
       " 'world',\n",
       " 'of',\n",
       " 'NLP']"
      ]
     },
     "execution_count": 33,
     "metadata": {},
     "output_type": "execute_result"
    }
   ],
   "source": [
    "tk.tokenize(text)"
   ]
  },
  {
   "cell_type": "code",
   "execution_count": null,
   "id": "b94711c9-0bd1-46b0-ac33-091ff5777b7c",
   "metadata": {},
   "outputs": [],
   "source": []
  },
  {
   "cell_type": "markdown",
   "id": "2756522c-40fa-4329-bc7d-514d4b70542f",
   "metadata": {},
   "source": [
    "## 4. Line Tokenizer"
   ]
  },
  {
   "cell_type": "code",
   "execution_count": 35,
   "id": "2bde5474-4e4f-4ca4-a741-530349de0c3b",
   "metadata": {},
   "outputs": [],
   "source": [
    "from nltk.tokenize import LineTokenizer"
   ]
  },
  {
   "cell_type": "code",
   "execution_count": 36,
   "id": "207d9804-9829-4e81-a097-2504955265fb",
   "metadata": {},
   "outputs": [],
   "source": [
    "tk = LineTokenizer()"
   ]
  },
  {
   "cell_type": "code",
   "execution_count": 37,
   "id": "61b5059e-81dc-41b3-9e84-27a58da43a6b",
   "metadata": {},
   "outputs": [
    {
     "data": {
      "text/plain": [
       "['hello friends!', 'how are you buddy? ', 'welcome to the world of NLP']"
      ]
     },
     "execution_count": 37,
     "metadata": {},
     "output_type": "execute_result"
    }
   ],
   "source": [
    "tk.tokenize(text)"
   ]
  },
  {
   "cell_type": "code",
   "execution_count": null,
   "id": "1904014b-410a-477b-afbb-f3613e990a46",
   "metadata": {},
   "outputs": [],
   "source": []
  },
  {
   "cell_type": "markdown",
   "id": "2d1c18f5-4b60-4359-808c-623632976ca1",
   "metadata": {},
   "source": [
    "## 5. Tab Tokenizer"
   ]
  },
  {
   "cell_type": "code",
   "execution_count": 39,
   "id": "5327af55-f936-43d5-8ea6-cbb3dc1cbabf",
   "metadata": {},
   "outputs": [],
   "source": [
    "from nltk.tokenize import TabTokenizer"
   ]
  },
  {
   "cell_type": "code",
   "execution_count": 40,
   "id": "881f27b3-c03c-40c0-bba7-8803bfb5af3f",
   "metadata": {},
   "outputs": [],
   "source": [
    "tk = TabTokenizer()"
   ]
  },
  {
   "cell_type": "code",
   "execution_count": 41,
   "id": "cfd0314b-565a-4d4e-8207-4280ae0c717a",
   "metadata": {},
   "outputs": [
    {
     "data": {
      "text/plain": [
       "'hello friends!\\nhow are you buddy? \\nwelcome to the world of NLP'"
      ]
     },
     "execution_count": 41,
     "metadata": {},
     "output_type": "execute_result"
    }
   ],
   "source": [
    "text "
   ]
  },
  {
   "cell_type": "code",
   "execution_count": 42,
   "id": "2711ce82-4eda-451a-99b8-578b4f7d13c5",
   "metadata": {},
   "outputs": [],
   "source": [
    "text = '''hello friends!\\nhow are you buddy? \\nwelcome to\\tthe\\tworld\\tof NLP'''"
   ]
  },
  {
   "cell_type": "code",
   "execution_count": 43,
   "id": "84989009-55ed-4214-ad38-7702bc1112cc",
   "metadata": {},
   "outputs": [
    {
     "data": {
      "text/plain": [
       "['hello friends!\\nhow are you buddy? \\nwelcome to', 'the', 'world', 'of NLP']"
      ]
     },
     "execution_count": 43,
     "metadata": {},
     "output_type": "execute_result"
    }
   ],
   "source": [
    "tk.tokenize(text)"
   ]
  },
  {
   "cell_type": "code",
   "execution_count": null,
   "id": "c164c14c-4d2e-4b64-987f-c54e2cf54726",
   "metadata": {},
   "outputs": [],
   "source": []
  },
  {
   "cell_type": "markdown",
   "id": "9eefb7fa-1e5f-4d81-aeb4-21241d990a7e",
   "metadata": {},
   "source": [
    "## 6. Tweet Tokenizer"
   ]
  },
  {
   "cell_type": "code",
   "execution_count": 45,
   "id": "32bfc0ce-c816-4425-a85f-d01be11c1f67",
   "metadata": {},
   "outputs": [],
   "source": [
    "data = '''hello friends! :)✌️ \\nhow are you buddy💕💙? :$ \\nwelcome to\\tthe\\tworld\\tof NLP 🗣️<3. 😍'''"
   ]
  },
  {
   "cell_type": "code",
   "execution_count": 46,
   "id": "5d1a713b-073a-460c-bf68-41e22cbf80c9",
   "metadata": {},
   "outputs": [],
   "source": [
    "from nltk.tokenize import TweetTokenizer"
   ]
  },
  {
   "cell_type": "code",
   "execution_count": 47,
   "id": "ad3ecd16-3c5f-4961-ad1b-fc75e7c40eda",
   "metadata": {},
   "outputs": [],
   "source": [
    "tk = TweetTokenizer()"
   ]
  },
  {
   "cell_type": "code",
   "execution_count": 48,
   "id": "41946fe6-c12b-4d5d-8566-4ed8ba7c65ca",
   "metadata": {},
   "outputs": [
    {
     "data": {
      "text/plain": [
       "['hello',\n",
       " 'friends',\n",
       " '!',\n",
       " ':)',\n",
       " '✌',\n",
       " '️',\n",
       " 'how',\n",
       " 'are',\n",
       " 'you',\n",
       " 'buddy',\n",
       " '💕',\n",
       " '💙',\n",
       " '?',\n",
       " ':',\n",
       " '$',\n",
       " 'welcome',\n",
       " 'to',\n",
       " 'the',\n",
       " 'world',\n",
       " 'of',\n",
       " 'NLP',\n",
       " '🗣',\n",
       " '️',\n",
       " '<3',\n",
       " '.',\n",
       " '😍']"
      ]
     },
     "execution_count": 48,
     "metadata": {},
     "output_type": "execute_result"
    }
   ],
   "source": [
    "tk.tokenize(data)"
   ]
  },
  {
   "cell_type": "code",
   "execution_count": null,
   "id": "2c0a40e1-71a5-405c-88eb-ea13bbe377fb",
   "metadata": {},
   "outputs": [],
   "source": []
  },
  {
   "cell_type": "markdown",
   "id": "f10736d7-0323-4097-baea-34a5540708f9",
   "metadata": {},
   "source": [
    "## 7. Multiword Extention(MWE) Tokenizer"
   ]
  },
  {
   "cell_type": "code",
   "execution_count": 50,
   "id": "ed5504f7-e2b9-47d5-9bc6-472c444cedb1",
   "metadata": {},
   "outputs": [],
   "source": [
    "from nltk.tokenize import MWETokenizer"
   ]
  },
  {
   "cell_type": "code",
   "execution_count": 51,
   "id": "1403c7c6-5d43-4c86-947a-e32729a44f4a",
   "metadata": {},
   "outputs": [],
   "source": [
    "data = 'Van Rossom is in pune Today. WE welcomed van rossom here.'"
   ]
  },
  {
   "cell_type": "code",
   "execution_count": 52,
   "id": "b8fa64c8-8ca5-4290-866a-56860c767c44",
   "metadata": {},
   "outputs": [],
   "source": [
    "tk = MWETokenizer(separator=' ')"
   ]
  },
  {
   "cell_type": "code",
   "execution_count": 53,
   "id": "904227d4-b906-4926-89a7-b07d93dc7b93",
   "metadata": {},
   "outputs": [],
   "source": [
    "tk.add_mwe(('Van','Rossom'))"
   ]
  },
  {
   "cell_type": "code",
   "execution_count": 54,
   "id": "c29edb17-a056-446d-ae30-cd421fdcd22d",
   "metadata": {},
   "outputs": [
    {
     "data": {
      "text/plain": [
       "['Van Rossom',\n",
       " 'is',\n",
       " 'in',\n",
       " 'pune',\n",
       " 'Today',\n",
       " '.',\n",
       " 'WE',\n",
       " 'welcomed',\n",
       " 'van',\n",
       " 'rossom',\n",
       " 'here',\n",
       " '.']"
      ]
     },
     "execution_count": 54,
     "metadata": {},
     "output_type": "execute_result"
    }
   ],
   "source": [
    "tk.tokenize(word_tokenize(data))"
   ]
  },
  {
   "cell_type": "code",
   "execution_count": null,
   "id": "9c15286e-6186-4d53-b56d-b81b5a13a5ce",
   "metadata": {},
   "outputs": [],
   "source": []
  },
  {
   "cell_type": "markdown",
   "id": "24ee57c9-30d7-4168-927d-eebd341a47e5",
   "metadata": {},
   "source": [
    "## 8. Custom Tokenizer"
   ]
  },
  {
   "cell_type": "code",
   "execution_count": 56,
   "id": "83684fa7-b969-43db-b1c9-d60a36af29a0",
   "metadata": {},
   "outputs": [],
   "source": [
    "import re"
   ]
  },
  {
   "cell_type": "code",
   "execution_count": 57,
   "id": "9767cf1e-dfd6-4f9d-850d-fe5fa9e7d384",
   "metadata": {},
   "outputs": [
    {
     "name": "stdout",
     "output_type": "stream",
     "text": [
      "This\n",
      "is\n",
      "some\n",
      "text\n",
      "with\n",
      "punctuation\n",
      "Let's\n",
      "It\n",
      "is\n",
      "ok\n",
      "then\n",
      "go\n",
      "\n"
     ]
    }
   ],
   "source": [
    "def custom_tokenizer(text):\n",
    "    return re.split(r'[,.:?!\\s<>]+',text)\n",
    "\n",
    "text = \"This is some text with punctuation> Let's. It is ok? then go.\"\n",
    "\n",
    "tokens = custom_tokenizer(text)\n",
    "\n",
    "for token in tokens:\n",
    "    print(token)"
   ]
  },
  {
   "cell_type": "code",
   "execution_count": null,
   "id": "31a61b69-0d0a-4ba7-b376-1a3a199c7918",
   "metadata": {},
   "outputs": [],
   "source": []
  }
 ],
 "metadata": {
  "kernelspec": {
   "display_name": "Python 3 (ipykernel)",
   "language": "python",
   "name": "python3"
  },
  "language_info": {
   "codemirror_mode": {
    "name": "ipython",
    "version": 3
   },
   "file_extension": ".py",
   "mimetype": "text/x-python",
   "name": "python",
   "nbconvert_exporter": "python",
   "pygments_lexer": "ipython3",
   "version": "3.12.7"
  }
 },
 "nbformat": 4,
 "nbformat_minor": 5
}
