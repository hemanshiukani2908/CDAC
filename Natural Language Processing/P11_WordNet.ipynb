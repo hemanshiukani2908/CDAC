{
  "cells": [
    {
      "cell_type": "code",
      "execution_count": 30,
      "id": "ada15610-698e-4363-90ab-33d756a406cc",
      "metadata": {
        "id": "ada15610-698e-4363-90ab-33d756a406cc"
      },
      "outputs": [],
      "source": [
        "import nltk"
      ]
    },
    {
      "cell_type": "code",
      "execution_count": 31,
      "id": "23afb55e-b234-4146-af57-2bbd9d9e875c",
      "metadata": {
        "id": "23afb55e-b234-4146-af57-2bbd9d9e875c",
        "outputId": "838f897d-dbed-4a54-c8b6-b97ea76cbc70",
        "colab": {
          "base_uri": "https://localhost:8080/"
        }
      },
      "outputs": [
        {
          "output_type": "stream",
          "name": "stderr",
          "text": [
            "[nltk_data] Downloading package wordnet to /root/nltk_data...\n",
            "[nltk_data]   Package wordnet is already up-to-date!\n"
          ]
        },
        {
          "output_type": "execute_result",
          "data": {
            "text/plain": [
              "True"
            ]
          },
          "metadata": {},
          "execution_count": 31
        }
      ],
      "source": [
        "nltk.download('wordnet')"
      ]
    },
    {
      "cell_type": "markdown",
      "id": "9ba0b30a-6063-419c-8536-4fe0cc170fcb",
      "metadata": {
        "id": "9ba0b30a-6063-419c-8536-4fe0cc170fcb"
      },
      "source": [
        "### <b>``` Using synsets```</b>"
      ]
    },
    {
      "cell_type": "code",
      "execution_count": 32,
      "id": "7c6f6c2c-14f8-4d5f-9e67-4f7df4e9f6bc",
      "metadata": {
        "id": "7c6f6c2c-14f8-4d5f-9e67-4f7df4e9f6bc"
      },
      "outputs": [],
      "source": [
        "from nltk.corpus import wordnet"
      ]
    },
    {
      "cell_type": "code",
      "execution_count": 33,
      "id": "af063a17-705c-44ec-85f3-23696dc245fb",
      "metadata": {
        "id": "af063a17-705c-44ec-85f3-23696dc245fb"
      },
      "outputs": [],
      "source": [
        "'''The wordnet.synsets() function from the NLTK (Natural Language Toolkit) library retrieves a list of synsets for a given word.\n",
        "A synset is a set of synonyms that share a common meaning.\n",
        "When you use wordnet.synsets('create'), it fetches the synsets associated with the word \"create.\"'''\n",
        "\n",
        "x = wordnet.synsets('create')"
      ]
    },
    {
      "cell_type": "code",
      "execution_count": 34,
      "id": "25564dd8-9e64-4a19-a457-cf905821c440",
      "metadata": {
        "id": "25564dd8-9e64-4a19-a457-cf905821c440",
        "outputId": "da4eedce-ba9f-4531-9495-18443075e581",
        "colab": {
          "base_uri": "https://localhost:8080/"
        }
      },
      "outputs": [
        {
          "output_type": "execute_result",
          "data": {
            "text/plain": [
              "[Synset('make.v.03'),\n",
              " Synset('create.v.02'),\n",
              " Synset('create.v.03'),\n",
              " Synset('create.v.04'),\n",
              " Synset('create.v.05'),\n",
              " Synset('produce.v.02')]"
            ]
          },
          "metadata": {},
          "execution_count": 34
        }
      ],
      "source": [
        "x"
      ]
    },
    {
      "cell_type": "code",
      "execution_count": 34,
      "id": "1e0258df-f4f4-4cbe-b730-aac3c387951c",
      "metadata": {
        "id": "1e0258df-f4f4-4cbe-b730-aac3c387951c"
      },
      "outputs": [],
      "source": []
    },
    {
      "cell_type": "markdown",
      "id": "65cd457a-57be-4a59-9e4f-30e707e7a64f",
      "metadata": {
        "id": "65cd457a-57be-4a59-9e4f-30e707e7a64f"
      },
      "source": [
        "## 1."
      ]
    },
    {
      "cell_type": "code",
      "execution_count": 35,
      "id": "1f4beb34-4aa8-4cf7-8130-90c72646190d",
      "metadata": {
        "id": "1f4beb34-4aa8-4cf7-8130-90c72646190d",
        "colab": {
          "base_uri": "https://localhost:8080/"
        },
        "outputId": "8398a630-e0a1-4eb1-a954-60214c88eedf"
      },
      "outputs": [
        {
          "output_type": "stream",
          "name": "stdout",
          "text": [
            "make :::: make or cause to be or to become\n",
            "create :::: bring into existence\n",
            "create :::: pursue a creative activity; be engaged in a creative activity\n",
            "create :::: invest with a new title, office, or rank\n",
            "create :::: create by artistic means\n",
            "produce :::: create or manufacture a man-made product\n"
          ]
        }
      ],
      "source": [
        "synonyms = set()\n",
        "for word in wordnet.synsets('create'):\n",
        "    synonyms.add(word.lemmas()[0].name())\n",
        "    print(word.lemmas()[0].name(),\"::::\",word.definition())"
      ]
    },
    {
      "cell_type": "code",
      "execution_count": 36,
      "id": "ab9c9dd8-4dd4-4e44-811f-59bd7ae09026",
      "metadata": {
        "id": "ab9c9dd8-4dd4-4e44-811f-59bd7ae09026",
        "outputId": "670e693f-ee84-4da7-fa13-6fa8e928a33a",
        "colab": {
          "base_uri": "https://localhost:8080/"
        }
      },
      "outputs": [
        {
          "output_type": "execute_result",
          "data": {
            "text/plain": [
              "{'create', 'make', 'produce'}"
            ]
          },
          "metadata": {},
          "execution_count": 36
        }
      ],
      "source": [
        "synonyms"
      ]
    },
    {
      "cell_type": "code",
      "execution_count": 37,
      "id": "64515aec-6bed-43ea-b080-2cca8f283291",
      "metadata": {
        "id": "64515aec-6bed-43ea-b080-2cca8f283291",
        "outputId": "6c3ec66b-58b2-4bed-b2d9-9b8f6d11a18b",
        "colab": {
          "base_uri": "https://localhost:8080/",
          "height": 35
        }
      },
      "outputs": [
        {
          "output_type": "execute_result",
          "data": {
            "text/plain": [
              "'make'"
            ],
            "application/vnd.google.colaboratory.intrinsic+json": {
              "type": "string"
            }
          },
          "metadata": {},
          "execution_count": 37
        }
      ],
      "source": [
        "wordnet.synsets('create')[0].lemmas()[0].name()"
      ]
    },
    {
      "cell_type": "code",
      "execution_count": 38,
      "id": "fc6501e7-1394-48f2-9d59-493c9606a026",
      "metadata": {
        "id": "fc6501e7-1394-48f2-9d59-493c9606a026",
        "outputId": "25eed40f-e634-4c0d-c302-0d08bc42eee3",
        "colab": {
          "base_uri": "https://localhost:8080/"
        }
      },
      "outputs": [
        {
          "output_type": "execute_result",
          "data": {
            "text/plain": [
              "[Lemma('make.v.03.make'), Lemma('make.v.03.create')]"
            ]
          },
          "metadata": {},
          "execution_count": 38
        }
      ],
      "source": [
        "wordnet.synsets('create')[0].lemmas()"
      ]
    },
    {
      "cell_type": "code",
      "execution_count": 38,
      "id": "617a41c4-a96c-45cd-afeb-3cb3e69c9977",
      "metadata": {
        "id": "617a41c4-a96c-45cd-afeb-3cb3e69c9977"
      },
      "outputs": [],
      "source": []
    },
    {
      "cell_type": "markdown",
      "id": "87bb6618-9e95-4152-b31b-49e245ff4a42",
      "metadata": {
        "id": "87bb6618-9e95-4152-b31b-49e245ff4a42"
      },
      "source": [
        "## 2."
      ]
    },
    {
      "cell_type": "code",
      "execution_count": 39,
      "id": "8229f0c9-eed1-4e22-9b0a-ac5ac98b1726",
      "metadata": {
        "id": "8229f0c9-eed1-4e22-9b0a-ac5ac98b1726"
      },
      "outputs": [],
      "source": [
        "synonyms = set()\n",
        "for word in wordnet.synsets('respect'):\n",
        "    synonyms.add(word.lemmas()[0].name())"
      ]
    },
    {
      "cell_type": "code",
      "execution_count": 40,
      "id": "76e263b8-36ae-496c-8295-1a497a775049",
      "metadata": {
        "id": "76e263b8-36ae-496c-8295-1a497a775049",
        "outputId": "0fc77bae-d804-4dcf-9820-bb3e0cfdd546",
        "colab": {
          "base_uri": "https://localhost:8080/"
        }
      },
      "outputs": [
        {
          "output_type": "execute_result",
          "data": {
            "text/plain": [
              "{'deference', 'esteem', 'obedience', 'regard', 'respect'}"
            ]
          },
          "metadata": {},
          "execution_count": 40
        }
      ],
      "source": [
        "synonyms"
      ]
    },
    {
      "cell_type": "code",
      "execution_count": 41,
      "id": "5f5c52e6-560b-415e-af9a-2ea7f47cf912",
      "metadata": {
        "id": "5f5c52e6-560b-415e-af9a-2ea7f47cf912",
        "outputId": "127f9df5-d2ad-4c88-bb05-f57096fb954d",
        "colab": {
          "base_uri": "https://localhost:8080/"
        }
      },
      "outputs": [
        {
          "output_type": "execute_result",
          "data": {
            "text/plain": [
              "[Lemma('respect.n.01.respect'), Lemma('respect.n.01.regard')]"
            ]
          },
          "metadata": {},
          "execution_count": 41
        }
      ],
      "source": [
        "wordnet.synsets('respect')[0].lemmas()"
      ]
    },
    {
      "cell_type": "code",
      "execution_count": 41,
      "id": "1400516d-2cc0-4e8b-a32a-b4aa9fa16d4e",
      "metadata": {
        "id": "1400516d-2cc0-4e8b-a32a-b4aa9fa16d4e"
      },
      "outputs": [],
      "source": []
    },
    {
      "cell_type": "markdown",
      "id": "ecc86fc7-ef6d-4017-9d21-95c4b6f59e0b",
      "metadata": {
        "id": "ecc86fc7-ef6d-4017-9d21-95c4b6f59e0b"
      },
      "source": [
        "### <b>```Extract definition and meaning from wordnet```</b>"
      ]
    },
    {
      "cell_type": "code",
      "execution_count": 42,
      "id": "c3e1ce29-3ba0-4960-b5fb-46f6835ef407",
      "metadata": {
        "id": "c3e1ce29-3ba0-4960-b5fb-46f6835ef407",
        "outputId": "011dcb11-5e5a-48fa-c7d4-bbebb614a827",
        "colab": {
          "base_uri": "https://localhost:8080/"
        }
      },
      "outputs": [
        {
          "output_type": "stream",
          "name": "stdout",
          "text": [
            "word and Type : beautiful.a.01\n",
            "Synonym : beautiful\n",
            "The meaning of the word : delighting the senses or exciting intellectual or emotional admiration\n",
            "Example : ['a beautiful child', 'beautiful country', 'a beautiful painting', 'a beautiful theory', 'a beautiful party']\n"
          ]
        }
      ],
      "source": [
        "synset = wordnet.synsets('beautiful')\n",
        "print(\"word and Type : \" + synset[0].name())\n",
        "print(\"Synonym : \" + synset[0].lemmas()[0].name())\n",
        "print(\"The meaning of the word : \" + synset[0].definition())\n",
        "print(\"Example : \" + str(synset[0].examples()))"
      ]
    },
    {
      "cell_type": "code",
      "execution_count": 42,
      "id": "485b6c3c-0969-43ff-8e57-98d25c423ea5",
      "metadata": {
        "id": "485b6c3c-0969-43ff-8e57-98d25c423ea5"
      },
      "outputs": [],
      "source": []
    },
    {
      "cell_type": "code",
      "execution_count": 43,
      "id": "b20139eb-a787-42d4-9470-77bedd0d48cb",
      "metadata": {
        "id": "b20139eb-a787-42d4-9470-77bedd0d48cb",
        "outputId": "fb62b50e-335f-4ddb-99dc-2e3e335a4d80",
        "colab": {
          "base_uri": "https://localhost:8080/"
        }
      },
      "outputs": [
        {
          "output_type": "stream",
          "name": "stdout",
          "text": [
            "word and Type : post.n.01\n",
            "Synonym : post\n",
            "The meaning of the word : the position where someone (as a guard or sentry) stands or is assigned to stand\n",
            "Example : ['a soldier manned the entrance post', 'a sentry station']\n"
          ]
        }
      ],
      "source": [
        "synset = wordnet.synsets('post')\n",
        "print(\"word and Type : \" + synset[0].name())\n",
        "print(\"Synonym : \" + synset[0].lemmas()[0].name())\n",
        "print(\"The meaning of the word : \" + synset[0].definition())\n",
        "print(\"Example : \" + str(synset[0].examples()))"
      ]
    },
    {
      "cell_type": "code",
      "execution_count": 44,
      "id": "c67ee52b-4bde-4d6d-8cd6-19dde7b3fe55",
      "metadata": {
        "id": "c67ee52b-4bde-4d6d-8cd6-19dde7b3fe55",
        "outputId": "d9e04b25-1863-43df-923f-b61103f1a9ae",
        "colab": {
          "base_uri": "https://localhost:8080/"
        }
      },
      "outputs": [
        {
          "output_type": "execute_result",
          "data": {
            "text/plain": [
              "[Synset('post.n.01'),\n",
              " Synset('military_post.n.01'),\n",
              " Synset('position.n.06'),\n",
              " Synset('post.n.04'),\n",
              " Synset('post.n.05'),\n",
              " Synset('post.n.06'),\n",
              " Synset('post.n.07'),\n",
              " Synset('mail.n.04'),\n",
              " Synset('post.n.09'),\n",
              " Synset('mail.n.02'),\n",
              " Synset('post.n.11'),\n",
              " Synset('post.v.01'),\n",
              " Synset('post.v.02'),\n",
              " Synset('post.v.03'),\n",
              " Synset('station.v.01'),\n",
              " Synset('post.v.05'),\n",
              " Synset('post.v.06'),\n",
              " Synset('post.v.07'),\n",
              " Synset('post.v.08'),\n",
              " Synset('stake.v.03'),\n",
              " Synset('post.v.10'),\n",
              " Synset('mail.v.02'),\n",
              " Synset('post.v.12')]"
            ]
          },
          "metadata": {},
          "execution_count": 44
        }
      ],
      "source": [
        "synset"
      ]
    },
    {
      "cell_type": "code",
      "execution_count": 44,
      "id": "2237ccc2-4f89-46b0-a76d-730bbe7ad96d",
      "metadata": {
        "id": "2237ccc2-4f89-46b0-a76d-730bbe7ad96d"
      },
      "outputs": [],
      "source": []
    },
    {
      "cell_type": "code",
      "execution_count": 45,
      "id": "8410c986-65a7-4d87-a939-8083e8591819",
      "metadata": {
        "id": "8410c986-65a7-4d87-a939-8083e8591819",
        "outputId": "9ba09eb8-b3ad-4a27-82c1-348130a8f70e",
        "colab": {
          "base_uri": "https://localhost:8080/"
        }
      },
      "outputs": [
        {
          "output_type": "stream",
          "name": "stdout",
          "text": [
            "word and Type : sound.n.01\n",
            "Synonym : sound\n",
            "The meaning of the word : the particular auditory effect produced by a given cause\n",
            "Example : ['the sound of rain on the roof', 'the beautiful sound of music']\n"
          ]
        }
      ],
      "source": [
        "synset = wordnet.synsets('sound')\n",
        "print(\"word and Type : \" + synset[0].name())\n",
        "print(\"Synonym : \" + synset[0].lemmas()[0].name())\n",
        "print(\"The meaning of the word : \" + synset[0].definition())\n",
        "print(\"Example : \" + str(synset[0].examples()))"
      ]
    },
    {
      "cell_type": "code",
      "execution_count": 46,
      "id": "e371d2ed-ee1c-4f8b-9460-0df180758d82",
      "metadata": {
        "id": "e371d2ed-ee1c-4f8b-9460-0df180758d82",
        "outputId": "c4097137-6845-45f8-afbe-8a9855fa2a35",
        "colab": {
          "base_uri": "https://localhost:8080/"
        }
      },
      "outputs": [
        {
          "output_type": "stream",
          "name": "stdout",
          "text": [
            "sound.n.01\n",
            "sound.n.02\n",
            "sound.n.03\n",
            "sound.n.04\n",
            "audio.n.01\n",
            "phone.n.02\n",
            "strait.n.01\n",
            "sound.n.08\n",
            "sound.v.01\n",
            "sound.v.02\n",
            "sound.v.03\n",
            "sound.v.04\n",
            "voice.v.02\n",
            "sound.v.06\n",
            "fathom.v.02\n",
            "sound.a.01\n",
            "healthy.s.04\n",
            "sound.a.03\n",
            "good.s.17\n",
            "reasoned.s.01\n",
            "legal.s.03\n",
            "sound.s.07\n",
            "heavy.s.26\n",
            "sound.s.09\n"
          ]
        }
      ],
      "source": [
        "for word in wordnet.synsets('sound'):\n",
        "    print(word.name())"
      ]
    },
    {
      "cell_type": "code",
      "execution_count": 47,
      "id": "b29c519a-fd04-499b-b401-df8473cb9f06",
      "metadata": {
        "id": "b29c519a-fd04-499b-b401-df8473cb9f06",
        "outputId": "95baf19f-3ccc-4f13-95e7-03922038e7bb",
        "colab": {
          "base_uri": "https://localhost:8080/"
        }
      },
      "outputs": [
        {
          "output_type": "stream",
          "name": "stdout",
          "text": [
            "sound.v.01\n",
            "sound.v.02\n",
            "sound.v.03\n",
            "sound.v.04\n",
            "voice.v.02\n",
            "sound.v.06\n",
            "fathom.v.02\n"
          ]
        }
      ],
      "source": [
        "for word in wordnet.synsets('sound',pos='v'):\n",
        "    print(word.name())"
      ]
    },
    {
      "cell_type": "code",
      "execution_count": 47,
      "id": "4a758162-078f-437b-9e46-c52d41a00167",
      "metadata": {
        "id": "4a758162-078f-437b-9e46-c52d41a00167"
      },
      "outputs": [],
      "source": []
    },
    {
      "cell_type": "code",
      "execution_count": 48,
      "id": "34247f57-6b41-49f3-a4de-210ee46ccb13",
      "metadata": {
        "id": "34247f57-6b41-49f3-a4de-210ee46ccb13",
        "outputId": "06b9726e-77da-4b54-a7f7-c000eb570536",
        "colab": {
          "base_uri": "https://localhost:8080/"
        }
      },
      "outputs": [
        {
          "name": "stdout",
          "output_type": "stream",
          "text": [
            "Enter a word you want meaning of :river\n"
          ]
        }
      ],
      "source": [
        "name = input(\"Enter a word you want meaning of :\")"
      ]
    },
    {
      "cell_type": "code",
      "execution_count": 49,
      "id": "65469cac-b9de-4567-9464-14ec72eda376",
      "metadata": {
        "id": "65469cac-b9de-4567-9464-14ec72eda376"
      },
      "outputs": [],
      "source": [
        "# synset = wordnet.synsets(name)\n",
        "# print(\"The meaning of the word : \" + synset.definition())"
      ]
    },
    {
      "cell_type": "code",
      "execution_count": 50,
      "id": "77515e35-cbdd-4e17-be5e-274794a43049",
      "metadata": {
        "id": "77515e35-cbdd-4e17-be5e-274794a43049",
        "outputId": "1a36bc2f-97a5-4c98-ad34-2e885599af0d",
        "colab": {
          "base_uri": "https://localhost:8080/"
        }
      },
      "outputs": [
        {
          "output_type": "stream",
          "name": "stdout",
          "text": [
            "The meaning of all the noun :\n",
            "\n",
            "river.n.01 -----> a large natural stream of water (larger than a creek)\n"
          ]
        }
      ],
      "source": [
        "print(\"The meaning of all the noun :\\n\")\n",
        "for word in wordnet.synsets(name,pos='n'):\n",
        "    print(word.name()+\" -----> \"+ word.definition())"
      ]
    },
    {
      "cell_type": "code",
      "execution_count": 50,
      "id": "0272e826-9db4-4878-adb6-e731cffd0c07",
      "metadata": {
        "id": "0272e826-9db4-4878-adb6-e731cffd0c07"
      },
      "outputs": [],
      "source": []
    },
    {
      "cell_type": "markdown",
      "id": "eb396281-9398-458f-aaa2-33ca1ff2946f",
      "metadata": {
        "id": "eb396281-9398-458f-aaa2-33ca1ff2946f"
      },
      "source": [
        "### <b>```Different forms of the meaning for a word```</b>"
      ]
    },
    {
      "cell_type": "code",
      "execution_count": 69,
      "id": "aa4936a9-0bc0-4b29-9f12-43250c860400",
      "metadata": {
        "id": "aa4936a9-0bc0-4b29-9f12-43250c860400",
        "outputId": "1d4d2008-6d25-4af1-d9fa-fb8d138e7bef",
        "colab": {
          "base_uri": "https://localhost:8080/"
        }
      },
      "outputs": [
        {
          "name": "stdout",
          "output_type": "stream",
          "text": [
            "Enter a word you want meaning of :Book\n"
          ]
        }
      ],
      "source": [
        "name = input(\"Enter a word you want meaning of :\")"
      ]
    },
    {
      "cell_type": "code",
      "execution_count": 70,
      "id": "f34711c7-7675-4401-8db6-b5cd4f070c27",
      "metadata": {
        "id": "f34711c7-7675-4401-8db6-b5cd4f070c27"
      },
      "outputs": [],
      "source": [
        "verbs = set()\n",
        "nouns = set()\n",
        "adj = set()\n",
        "\n",
        "for word in wordnet.synsets(name,pos='n'):\n",
        "    nouns.add(word.lemmas()[0].name())\n",
        "\n",
        "for word in wordnet.synsets(name,pos='v'):\n",
        "    verbs.add(word.lemmas()[0].name())\n",
        "\n",
        "for word in wordnet.synsets(name,pos='a'):\n",
        "    adj.add(word.lemmas()[0].name())"
      ]
    },
    {
      "cell_type": "code",
      "execution_count": 71,
      "id": "b6eceba1-d316-4ca4-abd6-571f9e9e5341",
      "metadata": {
        "id": "b6eceba1-d316-4ca4-abd6-571f9e9e5341",
        "outputId": "4053b942-e4f7-4935-c5df-c871ba6e2295",
        "colab": {
          "base_uri": "https://localhost:8080/"
        }
      },
      "outputs": [
        {
          "output_type": "execute_result",
          "data": {
            "text/plain": [
              "{'book', 'reserve'}"
            ]
          },
          "metadata": {},
          "execution_count": 71
        }
      ],
      "source": [
        "verbs"
      ]
    },
    {
      "cell_type": "code",
      "execution_count": 72,
      "id": "56e34f74-5c71-4442-9629-e992c875ab58",
      "metadata": {
        "id": "56e34f74-5c71-4442-9629-e992c875ab58",
        "outputId": "3e3e9426-5408-4607-ca47-528ac3224209",
        "colab": {
          "base_uri": "https://localhost:8080/"
        }
      },
      "outputs": [
        {
          "output_type": "execute_result",
          "data": {
            "text/plain": [
              "{'Bible', 'Koran', 'book', 'ledger', 'record', 'script'}"
            ]
          },
          "metadata": {},
          "execution_count": 72
        }
      ],
      "source": [
        "nouns"
      ]
    },
    {
      "cell_type": "code",
      "execution_count": 73,
      "id": "be613ee4-74ae-420f-ab01-97085267221a",
      "metadata": {
        "id": "be613ee4-74ae-420f-ab01-97085267221a",
        "outputId": "dfabe385-debd-4d33-b1c6-e63ed48f57f0",
        "colab": {
          "base_uri": "https://localhost:8080/"
        }
      },
      "outputs": [
        {
          "output_type": "execute_result",
          "data": {
            "text/plain": [
              "set()"
            ]
          },
          "metadata": {},
          "execution_count": 73
        }
      ],
      "source": [
        "adj"
      ]
    },
    {
      "cell_type": "code",
      "execution_count": 73,
      "id": "35aa6282-b0d9-4571-9984-bee279ee6c96",
      "metadata": {
        "id": "35aa6282-b0d9-4571-9984-bee279ee6c96"
      },
      "outputs": [],
      "source": []
    },
    {
      "cell_type": "markdown",
      "id": "99cfee02-45c8-41e5-8a1e-0d42b6c023e0",
      "metadata": {
        "id": "99cfee02-45c8-41e5-8a1e-0d42b6c023e0"
      },
      "source": [
        "### <b>```Find antonyms```</b>"
      ]
    },
    {
      "cell_type": "code",
      "execution_count": 74,
      "id": "41cf53b5-3f52-4ffd-bbce-23f78cf6b050",
      "metadata": {
        "id": "41cf53b5-3f52-4ffd-bbce-23f78cf6b050",
        "outputId": "ade6d045-c528-49d2-e6a2-bdbd29df81ed",
        "colab": {
          "base_uri": "https://localhost:8080/"
        }
      },
      "outputs": [
        {
          "output_type": "stream",
          "name": "stdout",
          "text": [
            "Antonyms : {'ugly'}\n"
          ]
        }
      ],
      "source": [
        "ant = set()\n",
        "for synset in wordnet.synsets(\"beautiful\"):\n",
        "    for lemma in synset.lemmas():\n",
        "        if lemma.antonyms():\n",
        "            ant.add(lemma.antonyms()[0].name())\n",
        "\n",
        "print(\"Antonyms :\",ant)"
      ]
    },
    {
      "cell_type": "code",
      "execution_count": 74,
      "id": "87567b9a-5817-430c-bf83-9df5464670ed",
      "metadata": {
        "id": "87567b9a-5817-430c-bf83-9df5464670ed"
      },
      "outputs": [],
      "source": []
    },
    {
      "cell_type": "markdown",
      "id": "c5de413a-7517-42b9-99b2-08c12de195a3",
      "metadata": {
        "id": "c5de413a-7517-42b9-99b2-08c12de195a3"
      },
      "source": [
        "### <b>```Find Hypernyms```</b>"
      ]
    },
    {
      "cell_type": "code",
      "execution_count": 75,
      "id": "4935bd1a-cb8a-4613-a906-a2e82ac37083",
      "metadata": {
        "id": "4935bd1a-cb8a-4613-a906-a2e82ac37083",
        "outputId": "754ed5eb-28c2-457d-e86d-ac97ef6a1d17",
        "colab": {
          "base_uri": "https://localhost:8080/"
        }
      },
      "outputs": [
        {
          "output_type": "stream",
          "name": "stdout",
          "text": [
            "air is a hyponym of gas.n.02\n",
            "air is a hyponym of region.n.01\n",
            "air is a hyponym of quality.n.01\n",
            "air is a hyponym of wind.n.01\n",
            "air is a hyponym of region.n.01\n",
            "air is a hyponym of element.n.05\n",
            "air is a hyponym of music.n.01\n",
            "air is a hyponym of medium.n.03\n",
            "air is a hyponym of travel.n.01\n",
            "air is a hyponym of expose.v.01\n",
            "air is a hyponym of publicize.v.01\n",
            "air is a hyponym of tell.v.02\n",
            "air is a hyponym of dry.v.01\n",
            "air is a hyponym of refresh.v.02\n"
          ]
        }
      ],
      "source": [
        "word = 'air'\n",
        "synsets = wordnet.synsets(word)\n",
        "\n",
        "for synset in synsets:\n",
        "    hypernyms = synset.hypernyms()\n",
        "    if hypernyms:\n",
        "        for hypernym in hypernyms:\n",
        "            print(f\"{word} is a hyponym of {hypernym.name()}\")"
      ]
    },
    {
      "cell_type": "code",
      "execution_count": 57,
      "id": "cd393ad5-ef51-42e9-a11e-b10c76eecebe",
      "metadata": {
        "id": "cd393ad5-ef51-42e9-a11e-b10c76eecebe"
      },
      "outputs": [],
      "source": []
    },
    {
      "cell_type": "markdown",
      "id": "71a40448-eaaf-409b-ad6d-f510c25f9818",
      "metadata": {
        "id": "71a40448-eaaf-409b-ad6d-f510c25f9818"
      },
      "source": [
        "### <b>```Find Meronyms```</b>"
      ]
    },
    {
      "cell_type": "code",
      "execution_count": 58,
      "id": "8d9ac5fe-0ffe-4f0e-bd78-600940cdf40c",
      "metadata": {
        "id": "8d9ac5fe-0ffe-4f0e-bd78-600940cdf40c",
        "outputId": "d7f31535-5e76-4b34-edfd-411d09df94fe",
        "colab": {
          "base_uri": "https://localhost:8080/"
        }
      },
      "outputs": [
        {
          "output_type": "stream",
          "name": "stdout",
          "text": [
            "car is a meronym of air_bag.n.01\n",
            "car is a meronym of hood.n.09\n",
            "car is a meronym of luggage_compartment.n.01\n",
            "car is a meronym of automobile_engine.n.01\n",
            "car is a meronym of roof.n.02\n",
            "car is a meronym of gasoline_engine.n.01\n",
            "car is a meronym of auto_accessory.n.01\n",
            "car is a meronym of sunroof.n.01\n",
            "car is a meronym of automobile_horn.n.01\n",
            "car is a meronym of rear_window.n.01\n",
            "car is a meronym of buffer.n.06\n",
            "car is a meronym of fender.n.01\n",
            "car is a meronym of floorboard.n.02\n",
            "car is a meronym of glove_compartment.n.01\n",
            "car is a meronym of car_window.n.01\n",
            "car is a meronym of accelerator.n.01\n",
            "car is a meronym of grille.n.02\n",
            "car is a meronym of first_gear.n.01\n",
            "car is a meronym of car_mirror.n.01\n",
            "car is a meronym of car_door.n.01\n",
            "car is a meronym of reverse.n.02\n",
            "car is a meronym of stabilizer_bar.n.01\n",
            "car is a meronym of bumper.n.02\n",
            "car is a meronym of car_seat.n.01\n",
            "car is a meronym of high_gear.n.01\n",
            "car is a meronym of window.n.02\n",
            "car is a meronym of tail_fin.n.02\n",
            "car is a meronym of third_gear.n.01\n",
            "car is a meronym of running_board.n.01\n",
            "car is a meronym of suspension.n.05\n"
          ]
        }
      ],
      "source": [
        "word = 'car'\n",
        "synsets = wordnet.synsets(word)\n",
        "\n",
        "for synset in synsets:\n",
        "    meronyms = synset.part_meronyms()\n",
        "    if meronyms:\n",
        "        for meronym in meronyms:\n",
        "            print(f\"{word} is a meronym of {meronym.name()}\")"
      ]
    },
    {
      "cell_type": "code",
      "execution_count": 58,
      "id": "5364c43c-b4ee-425e-adcb-5d75b03521ee",
      "metadata": {
        "id": "5364c43c-b4ee-425e-adcb-5d75b03521ee"
      },
      "outputs": [],
      "source": []
    }
  ],
  "metadata": {
    "kernelspec": {
      "display_name": "Python 3",
      "name": "python3"
    },
    "language_info": {
      "codemirror_mode": {
        "name": "ipython",
        "version": 3
      },
      "file_extension": ".py",
      "mimetype": "text/x-python",
      "name": "python",
      "nbconvert_exporter": "python",
      "pygments_lexer": "ipython3",
      "version": "3.12.7"
    },
    "colab": {
      "provenance": [],
      "gpuType": "T4"
    },
    "accelerator": "GPU"
  },
  "nbformat": 4,
  "nbformat_minor": 5
}