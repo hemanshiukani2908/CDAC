{
  "cells": [
    {
      "cell_type": "code",
      "execution_count": 23,
      "id": "92c791e6-7236-432b-884e-90aac9e10f6d",
      "metadata": {
        "id": "92c791e6-7236-432b-884e-90aac9e10f6d"
      },
      "outputs": [],
      "source": [
        "# pip install spacy"
      ]
    },
    {
      "cell_type": "code",
      "source": [
        "!pip install svgling"
      ],
      "metadata": {
        "colab": {
          "base_uri": "https://localhost:8080/"
        },
        "id": "L0xclXdY10zU",
        "outputId": "79919817-ce1e-4c36-a86b-43fb0286d5fb"
      },
      "id": "L0xclXdY10zU",
      "execution_count": 24,
      "outputs": [
        {
          "output_type": "stream",
          "name": "stdout",
          "text": [
            "Requirement already satisfied: svgling in /usr/local/lib/python3.10/dist-packages (0.5.0)\n",
            "Requirement already satisfied: svgwrite in /usr/local/lib/python3.10/dist-packages (from svgling) (1.4.3)\n"
          ]
        }
      ]
    },
    {
      "cell_type": "code",
      "execution_count": 25,
      "id": "60e660af-205f-41d8-9f44-82f7da6403be",
      "metadata": {
        "id": "60e660af-205f-41d8-9f44-82f7da6403be"
      },
      "outputs": [],
      "source": [
        "import nltk"
      ]
    },
    {
      "cell_type": "code",
      "execution_count": 26,
      "id": "dd2981a8-3536-46d9-b401-3230af267ae8",
      "metadata": {
        "id": "dd2981a8-3536-46d9-b401-3230af267ae8",
        "outputId": "aa8bb1bf-f0c5-43c5-8b29-6b2d84241d4a",
        "colab": {
          "base_uri": "https://localhost:8080/"
        }
      },
      "outputs": [
        {
          "output_type": "stream",
          "name": "stderr",
          "text": [
            "[nltk_data] Downloading package maxent_ne_chunker to\n",
            "[nltk_data]     /root/nltk_data...\n",
            "[nltk_data]   Package maxent_ne_chunker is already up-to-date!\n",
            "[nltk_data] Downloading package maxent_ne_chunker_tab to\n",
            "[nltk_data]     /root/nltk_data...\n",
            "[nltk_data]   Package maxent_ne_chunker_tab is already up-to-date!\n",
            "[nltk_data] Downloading package words to /root/nltk_data...\n",
            "[nltk_data]   Package words is already up-to-date!\n",
            "[nltk_data] Downloading package punkt_tab to /root/nltk_data...\n",
            "[nltk_data]   Package punkt_tab is already up-to-date!\n",
            "[nltk_data] Downloading package averaged_perceptron_tagger_eng to\n",
            "[nltk_data]     /root/nltk_data...\n",
            "[nltk_data]   Package averaged_perceptron_tagger_eng is already up-to-\n",
            "[nltk_data]       date!\n"
          ]
        },
        {
          "output_type": "execute_result",
          "data": {
            "text/plain": [
              "True"
            ]
          },
          "metadata": {},
          "execution_count": 26
        }
      ],
      "source": [
        "nltk.download('maxent_ne_chunker')\n",
        "nltk.download('maxent_ne_chunker_tab')\n",
        "nltk.download('words')\n",
        "nltk.download('punkt_tab')\n",
        "nltk.download('averaged_perceptron_tagger_eng')"
      ]
    },
    {
      "cell_type": "markdown",
      "id": "d76cccbb-74f6-4706-af6c-670b48629f80",
      "metadata": {
        "id": "d76cccbb-74f6-4706-af6c-670b48629f80"
      },
      "source": [
        "### <b>```Apply Named entity recognition using NLTK```</b>"
      ]
    },
    {
      "cell_type": "code",
      "execution_count": 27,
      "id": "e1ece5c3-fc48-4548-afa6-3a94bf792561",
      "metadata": {
        "id": "e1ece5c3-fc48-4548-afa6-3a94bf792561",
        "outputId": "3d6a167b-2172-40a7-d65c-dea07d92bbae",
        "colab": {
          "base_uri": "https://localhost:8080/"
        }
      },
      "outputs": [
        {
          "output_type": "execute_result",
          "data": {
            "text/plain": [
              "[('Sachin', 'NNP'),\n",
              " ('Tendulkar', 'NNP'),\n",
              " ('was', 'VBD'),\n",
              " ('born', 'VBN'),\n",
              " ('in', 'IN'),\n",
              " ('Mumbai', 'NNP'),\n",
              " (',', ','),\n",
              " ('India', 'NNP'),\n",
              " ('on', 'IN'),\n",
              " ('April', 'NNP'),\n",
              " ('24', 'CD'),\n",
              " (',', ','),\n",
              " ('1974', 'CD'),\n",
              " ('.', '.')]"
            ]
          },
          "metadata": {},
          "execution_count": 27
        }
      ],
      "source": [
        "from nltk import word_tokenize, pos_tag, ne_chunk\n",
        "\n",
        "# sample Text\n",
        "text = \"Sachin Tendulkar was born in Mumbai, India on April 24, 1974.\"\n",
        "\n",
        "# tokenize the text into words\n",
        "tokens = word_tokenize(text)\n",
        "\n",
        "# pos tagging\n",
        "tagged_tokens = pos_tag(tokens)\n",
        "tagged_tokens"
      ]
    },
    {
      "cell_type": "markdown",
      "id": "442028af-bebc-4ce0-9433-c394422d4ecf",
      "metadata": {
        "id": "442028af-bebc-4ce0-9433-c394422d4ecf"
      },
      "source": [
        "### <b>```Perform Named Entity Recognition (NER)```</b>"
      ]
    },
    {
      "cell_type": "code",
      "execution_count": 28,
      "id": "db0dfdd1-45f2-4134-afd5-252aa3174f8f",
      "metadata": {
        "id": "db0dfdd1-45f2-4134-afd5-252aa3174f8f",
        "outputId": "2bfb697a-290c-4099-ecd4-458bde630605",
        "colab": {
          "base_uri": "https://localhost:8080/",
          "height": 189
        }
      },
      "outputs": [
        {
          "output_type": "execute_result",
          "data": {
            "text/plain": [
              "Tree('S', [Tree('PERSON', [('Sachin', 'NNP')]), Tree('PERSON', [('Tendulkar', 'NNP')]), ('was', 'VBD'), ('born', 'VBN'), ('in', 'IN'), Tree('GPE', [('Mumbai', 'NNP')]), (',', ','), Tree('GPE', [('India', 'NNP')]), ('on', 'IN'), ('April', 'NNP'), ('24', 'CD'), (',', ','), ('1974', 'CD'), ('.', '.')])"
            ],
            "image/svg+xml": "<svg baseProfile=\"full\" height=\"168px\" preserveAspectRatio=\"xMidYMid meet\" style=\"font-family: times, serif; font-weight: normal; font-style: normal; font-size: 16px\" version=\"1.1\" viewBox=\"0,0,632.0,168.0\" width=\"632px\" xmlns=\"http://www.w3.org/2000/svg\" xmlns:ev=\"http://www.w3.org/2001/xml-events\" xmlns:xlink=\"http://www.w3.org/1999/xlink\"><defs /><svg width=\"100%\" x=\"0\" y=\"0px\"><defs /><text text-anchor=\"middle\" x=\"50%\" y=\"16px\">S</text></svg><svg width=\"10.1266%\" x=\"0%\" y=\"48px\"><defs /><svg width=\"100%\" x=\"0\" y=\"0px\"><defs /><text text-anchor=\"middle\" x=\"50%\" y=\"16px\">PERSON</text></svg><svg width=\"100%\" x=\"0%\" y=\"48px\"><defs /><svg width=\"100%\" x=\"0\" y=\"0px\"><defs /><text text-anchor=\"middle\" x=\"50%\" y=\"16px\">Sachin</text></svg><svg width=\"100%\" x=\"0%\" y=\"48px\"><defs /><svg width=\"100%\" x=\"0\" y=\"0px\"><defs /><text text-anchor=\"middle\" x=\"50%\" y=\"16px\">NNP</text></svg></svg><line stroke=\"black\" x1=\"50%\" x2=\"50%\" y1=\"20px\" y2=\"48px\" /></svg><line stroke=\"black\" x1=\"50%\" x2=\"50%\" y1=\"20px\" y2=\"48px\" /></svg><line stroke=\"black\" x1=\"50%\" x2=\"5.06329%\" y1=\"20px\" y2=\"48px\" /><svg width=\"13.9241%\" x=\"10.1266%\" y=\"48px\"><defs /><svg width=\"100%\" x=\"0\" y=\"0px\"><defs /><text text-anchor=\"middle\" x=\"50%\" y=\"16px\">PERSON</text></svg><svg width=\"100%\" x=\"0%\" y=\"48px\"><defs /><svg width=\"100%\" x=\"0\" y=\"0px\"><defs /><text text-anchor=\"middle\" x=\"50%\" y=\"16px\">Tendulkar</text></svg><svg width=\"100%\" x=\"0%\" y=\"48px\"><defs /><svg width=\"100%\" x=\"0\" y=\"0px\"><defs /><text text-anchor=\"middle\" x=\"50%\" y=\"16px\">NNP</text></svg></svg><line stroke=\"black\" x1=\"50%\" x2=\"50%\" y1=\"20px\" y2=\"48px\" /></svg><line stroke=\"black\" x1=\"50%\" x2=\"50%\" y1=\"20px\" y2=\"48px\" /></svg><line stroke=\"black\" x1=\"50%\" x2=\"17.0886%\" y1=\"20px\" y2=\"48px\" /><svg width=\"6.32911%\" x=\"24.0506%\" y=\"48px\"><defs /><svg width=\"100%\" x=\"0\" y=\"0px\"><defs /><text text-anchor=\"middle\" x=\"50%\" y=\"16px\">was</text></svg><svg width=\"100%\" x=\"0%\" y=\"48px\"><defs /><svg width=\"100%\" x=\"0\" y=\"0px\"><defs /><text text-anchor=\"middle\" x=\"50%\" y=\"16px\">VBD</text></svg></svg><line stroke=\"black\" x1=\"50%\" x2=\"50%\" y1=\"20px\" y2=\"48px\" /></svg><line stroke=\"black\" x1=\"50%\" x2=\"27.2152%\" y1=\"20px\" y2=\"48px\" /><svg width=\"7.59494%\" x=\"30.3797%\" y=\"48px\"><defs /><svg width=\"100%\" x=\"0\" y=\"0px\"><defs /><text text-anchor=\"middle\" x=\"50%\" y=\"16px\">born</text></svg><svg width=\"100%\" x=\"0%\" y=\"48px\"><defs /><svg width=\"100%\" x=\"0\" y=\"0px\"><defs /><text text-anchor=\"middle\" x=\"50%\" y=\"16px\">VBN</text></svg></svg><line stroke=\"black\" x1=\"50%\" x2=\"50%\" y1=\"20px\" y2=\"48px\" /></svg><line stroke=\"black\" x1=\"50%\" x2=\"34.1772%\" y1=\"20px\" y2=\"48px\" /><svg width=\"5.06329%\" x=\"37.9747%\" y=\"48px\"><defs /><svg width=\"100%\" x=\"0\" y=\"0px\"><defs /><text text-anchor=\"middle\" x=\"50%\" y=\"16px\">in</text></svg><svg width=\"100%\" x=\"0%\" y=\"48px\"><defs /><svg width=\"100%\" x=\"0\" y=\"0px\"><defs /><text text-anchor=\"middle\" x=\"50%\" y=\"16px\">IN</text></svg></svg><line stroke=\"black\" x1=\"50%\" x2=\"50%\" y1=\"20px\" y2=\"48px\" /></svg><line stroke=\"black\" x1=\"50%\" x2=\"40.5063%\" y1=\"20px\" y2=\"48px\" /><svg width=\"10.1266%\" x=\"43.038%\" y=\"48px\"><defs /><svg width=\"100%\" x=\"0\" y=\"0px\"><defs /><text text-anchor=\"middle\" x=\"50%\" y=\"16px\">GPE</text></svg><svg width=\"100%\" x=\"0%\" y=\"48px\"><defs /><svg width=\"100%\" x=\"0\" y=\"0px\"><defs /><text text-anchor=\"middle\" x=\"50%\" y=\"16px\">Mumbai</text></svg><svg width=\"100%\" x=\"0%\" y=\"48px\"><defs /><svg width=\"100%\" x=\"0\" y=\"0px\"><defs /><text text-anchor=\"middle\" x=\"50%\" y=\"16px\">NNP</text></svg></svg><line stroke=\"black\" x1=\"50%\" x2=\"50%\" y1=\"20px\" y2=\"48px\" /></svg><line stroke=\"black\" x1=\"50%\" x2=\"50%\" y1=\"20px\" y2=\"48px\" /></svg><line stroke=\"black\" x1=\"50%\" x2=\"48.1013%\" y1=\"20px\" y2=\"48px\" /><svg width=\"3.79747%\" x=\"53.1646%\" y=\"48px\"><defs /><svg width=\"100%\" x=\"0\" y=\"0px\"><defs /><text text-anchor=\"middle\" x=\"50%\" y=\"16px\">,</text></svg><svg width=\"100%\" x=\"0%\" y=\"48px\"><defs /><svg width=\"100%\" x=\"0\" y=\"0px\"><defs /><text text-anchor=\"middle\" x=\"50%\" y=\"16px\">,</text></svg></svg><line stroke=\"black\" x1=\"50%\" x2=\"50%\" y1=\"20px\" y2=\"48px\" /></svg><line stroke=\"black\" x1=\"50%\" x2=\"55.0633%\" y1=\"20px\" y2=\"48px\" /><svg width=\"8.86076%\" x=\"56.962%\" y=\"48px\"><defs /><svg width=\"100%\" x=\"0\" y=\"0px\"><defs /><text text-anchor=\"middle\" x=\"50%\" y=\"16px\">GPE</text></svg><svg width=\"100%\" x=\"0%\" y=\"48px\"><defs /><svg width=\"100%\" x=\"0\" y=\"0px\"><defs /><text text-anchor=\"middle\" x=\"50%\" y=\"16px\">India</text></svg><svg width=\"100%\" x=\"0%\" y=\"48px\"><defs /><svg width=\"100%\" x=\"0\" y=\"0px\"><defs /><text text-anchor=\"middle\" x=\"50%\" y=\"16px\">NNP</text></svg></svg><line stroke=\"black\" x1=\"50%\" x2=\"50%\" y1=\"20px\" y2=\"48px\" /></svg><line stroke=\"black\" x1=\"50%\" x2=\"50%\" y1=\"20px\" y2=\"48px\" /></svg><line stroke=\"black\" x1=\"50%\" x2=\"61.3924%\" y1=\"20px\" y2=\"48px\" /><svg width=\"5.06329%\" x=\"65.8228%\" y=\"48px\"><defs /><svg width=\"100%\" x=\"0\" y=\"0px\"><defs /><text text-anchor=\"middle\" x=\"50%\" y=\"16px\">on</text></svg><svg width=\"100%\" x=\"0%\" y=\"48px\"><defs /><svg width=\"100%\" x=\"0\" y=\"0px\"><defs /><text text-anchor=\"middle\" x=\"50%\" y=\"16px\">IN</text></svg></svg><line stroke=\"black\" x1=\"50%\" x2=\"50%\" y1=\"20px\" y2=\"48px\" /></svg><line stroke=\"black\" x1=\"50%\" x2=\"68.3544%\" y1=\"20px\" y2=\"48px\" /><svg width=\"8.86076%\" x=\"70.8861%\" y=\"48px\"><defs /><svg width=\"100%\" x=\"0\" y=\"0px\"><defs /><text text-anchor=\"middle\" x=\"50%\" y=\"16px\">April</text></svg><svg width=\"100%\" x=\"0%\" y=\"48px\"><defs /><svg width=\"100%\" x=\"0\" y=\"0px\"><defs /><text text-anchor=\"middle\" x=\"50%\" y=\"16px\">NNP</text></svg></svg><line stroke=\"black\" x1=\"50%\" x2=\"50%\" y1=\"20px\" y2=\"48px\" /></svg><line stroke=\"black\" x1=\"50%\" x2=\"75.3165%\" y1=\"20px\" y2=\"48px\" /><svg width=\"5.06329%\" x=\"79.7468%\" y=\"48px\"><defs /><svg width=\"100%\" x=\"0\" y=\"0px\"><defs /><text text-anchor=\"middle\" x=\"50%\" y=\"16px\">24</text></svg><svg width=\"100%\" x=\"0%\" y=\"48px\"><defs /><svg width=\"100%\" x=\"0\" y=\"0px\"><defs /><text text-anchor=\"middle\" x=\"50%\" y=\"16px\">CD</text></svg></svg><line stroke=\"black\" x1=\"50%\" x2=\"50%\" y1=\"20px\" y2=\"48px\" /></svg><line stroke=\"black\" x1=\"50%\" x2=\"82.2785%\" y1=\"20px\" y2=\"48px\" /><svg width=\"3.79747%\" x=\"84.8101%\" y=\"48px\"><defs /><svg width=\"100%\" x=\"0\" y=\"0px\"><defs /><text text-anchor=\"middle\" x=\"50%\" y=\"16px\">,</text></svg><svg width=\"100%\" x=\"0%\" y=\"48px\"><defs /><svg width=\"100%\" x=\"0\" y=\"0px\"><defs /><text text-anchor=\"middle\" x=\"50%\" y=\"16px\">,</text></svg></svg><line stroke=\"black\" x1=\"50%\" x2=\"50%\" y1=\"20px\" y2=\"48px\" /></svg><line stroke=\"black\" x1=\"50%\" x2=\"86.7089%\" y1=\"20px\" y2=\"48px\" /><svg width=\"7.59494%\" x=\"88.6076%\" y=\"48px\"><defs /><svg width=\"100%\" x=\"0\" y=\"0px\"><defs /><text text-anchor=\"middle\" x=\"50%\" y=\"16px\">1974</text></svg><svg width=\"100%\" x=\"0%\" y=\"48px\"><defs /><svg width=\"100%\" x=\"0\" y=\"0px\"><defs /><text text-anchor=\"middle\" x=\"50%\" y=\"16px\">CD</text></svg></svg><line stroke=\"black\" x1=\"50%\" x2=\"50%\" y1=\"20px\" y2=\"48px\" /></svg><line stroke=\"black\" x1=\"50%\" x2=\"92.4051%\" y1=\"20px\" y2=\"48px\" /><svg width=\"3.79747%\" x=\"96.2025%\" y=\"48px\"><defs /><svg width=\"100%\" x=\"0\" y=\"0px\"><defs /><text text-anchor=\"middle\" x=\"50%\" y=\"16px\">.</text></svg><svg width=\"100%\" x=\"0%\" y=\"48px\"><defs /><svg width=\"100%\" x=\"0\" y=\"0px\"><defs /><text text-anchor=\"middle\" x=\"50%\" y=\"16px\">.</text></svg></svg><line stroke=\"black\" x1=\"50%\" x2=\"50%\" y1=\"20px\" y2=\"48px\" /></svg><line stroke=\"black\" x1=\"50%\" x2=\"98.1013%\" y1=\"20px\" y2=\"48px\" /></svg>"
          },
          "metadata": {},
          "execution_count": 28
        }
      ],
      "source": [
        "ner_tree = ne_chunk(tagged_tokens)\n",
        "\n",
        "# display the ner tree\n",
        "ner_tree"
      ]
    },
    {
      "cell_type": "code",
      "execution_count": 29,
      "id": "e57d49b5-7b44-41b7-b6f3-6a72f5ef7032",
      "metadata": {
        "id": "e57d49b5-7b44-41b7-b6f3-6a72f5ef7032",
        "outputId": "eaec48f9-e509-4a8f-eb5d-2a2052100427",
        "colab": {
          "base_uri": "https://localhost:8080/"
        }
      },
      "outputs": [
        {
          "output_type": "execute_result",
          "data": {
            "text/plain": [
              "[(('Sachin', 'NNP'), 'PERSON'),\n",
              " (('Tendulkar', 'NNP'), 'PERSON'),\n",
              " (('was', 'VBD'), 'S'),\n",
              " (('born', 'VBN'), 'S'),\n",
              " (('in', 'IN'), 'S'),\n",
              " (('Mumbai', 'NNP'), 'GPE'),\n",
              " ((',', ','), 'S'),\n",
              " (('India', 'NNP'), 'GPE'),\n",
              " (('on', 'IN'), 'S'),\n",
              " (('April', 'NNP'), 'S'),\n",
              " (('24', 'CD'), 'S'),\n",
              " ((',', ','), 'S'),\n",
              " (('1974', 'CD'), 'S'),\n",
              " (('.', '.'), 'S')]"
            ]
          },
          "metadata": {},
          "execution_count": 29
        }
      ],
      "source": [
        "pos_lst = ner_tree.pos()\n",
        "pos_lst"
      ]
    },
    {
      "cell_type": "markdown",
      "id": "c6c68372-a2a4-4e8b-81f0-83edceead031",
      "metadata": {
        "id": "c6c68372-a2a4-4e8b-81f0-83edceead031"
      },
      "source": [
        "#### Practice: <b>``` Print word that are given by (NER)```</b>"
      ]
    },
    {
      "cell_type": "code",
      "execution_count": 30,
      "id": "e4f0051d-0cb2-4f17-9a7f-fe44cbef3a2b",
      "metadata": {
        "id": "e4f0051d-0cb2-4f17-9a7f-fe44cbef3a2b",
        "outputId": "29439e81-c8ff-4ea1-fd92-4bbe54ddcf5f",
        "colab": {
          "base_uri": "https://localhost:8080/"
        }
      },
      "outputs": [
        {
          "output_type": "stream",
          "name": "stdout",
          "text": [
            "Named entity recognition list : [('Sachin', 'PERSON'), ('Tendulkar', 'PERSON'), ('Mumbai', 'GPE'), ('India', 'GPE')]\n"
          ]
        }
      ],
      "source": [
        "ner_lst = []\n",
        "for tup in pos_lst:\n",
        "    word_tag , root = tup\n",
        "    if root != \"S\":\n",
        "        word, tag = word_tag\n",
        "        ner_lst.append((word,root))\n",
        "\n",
        "print(f\"Named entity recognition list : {ner_lst}\")"
      ]
    }
  ],
  "metadata": {
    "kernelspec": {
      "display_name": "Python 3 (ipykernel)",
      "language": "python",
      "name": "python3"
    },
    "language_info": {
      "codemirror_mode": {
        "name": "ipython",
        "version": 3
      },
      "file_extension": ".py",
      "mimetype": "text/x-python",
      "name": "python",
      "nbconvert_exporter": "python",
      "pygments_lexer": "ipython3",
      "version": "3.12.7"
    },
    "colab": {
      "provenance": []
    }
  },
  "nbformat": 4,
  "nbformat_minor": 5
}