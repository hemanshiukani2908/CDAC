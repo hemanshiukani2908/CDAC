{
  "cells": [
    {
      "cell_type": "markdown",
      "source": [
        "## **Using NLTK**"
      ],
      "metadata": {
        "id": "HgBvWwAyqUiv"
      },
      "id": "HgBvWwAyqUiv"
    },
    {
      "cell_type": "code",
      "execution_count": 1,
      "id": "290612d1-c870-4ae9-95bb-63cdcc6971be",
      "metadata": {
        "id": "290612d1-c870-4ae9-95bb-63cdcc6971be"
      },
      "outputs": [],
      "source": [
        "from nltk.tokenize import word_tokenize\n",
        "from nltk import pos_tag"
      ]
    },
    {
      "cell_type": "code",
      "execution_count": 2,
      "id": "f361909c-fcb8-4653-8d57-8602d93ff32c",
      "metadata": {
        "id": "f361909c-fcb8-4653-8d57-8602d93ff32c"
      },
      "outputs": [],
      "source": [
        "text = '''Saturn is the sixth planet from the Sun and the second largest in the Solar System, after Jupiter. It is a gas giant, with an average radius of about nine times that of Earth.[27][28] It has an eighth the average density of Earth, but is over 95 times more massive.[29][30][31] Even though Saturn is almost as big as Jupiter, Saturn has less than a third the mass of Jupiter. Saturn orbits the Sun at a distance of 9.59 AU (1,434 million km), with an orbital period of 29.45 years.\n",
        "\n",
        "Saturn's interior is thought to be composed of a rocky core, surrounded by a deep layer of metallic hydrogen, an intermediate layer of liquid hydrogen and liquid helium, and an outer layer of gas. Saturn has a pale yellow hue, due to ammonia crystals in its upper atmosphere. An electrical current in the metallic hydrogen layer is thought to give rise to Saturn's planetary magnetic field, which is weaker than Earth's, but has a magnetic moment 580 times that of Earth because of Saturn's greater size. Saturn's magnetic field strength is about a twentieth that of Jupiter.[32] The outer atmosphere is generally bland and lacking in contrast, although long-lived features can appear. Wind speeds on Saturn can reach 1,800 kilometres per hour (1,100 miles per hour).\n",
        "\n",
        "The planet has a bright and extensive system of rings, composed mainly of ice particles, with a smaller amount of rocky debris and dust. At least 146 moons[33] orbit the planet, of which 63 are officially named; these do not include the hundreds of moonlets in the rings. Titan, Saturn's largest moon and the second largest in the Solar System, is larger (and less massive) than the planet Mercury and is the only moon in the Solar System that has a substantial atmosphere.'''"
      ]
    },
    {
      "cell_type": "code",
      "execution_count": 3,
      "id": "720f9f71-d76a-4a6d-806e-4e71e3408d4d",
      "metadata": {
        "id": "720f9f71-d76a-4a6d-806e-4e71e3408d4d",
        "outputId": "435505c4-2630-441e-d837-871475a87b7f",
        "colab": {
          "base_uri": "https://localhost:8080/",
          "height": 139
        }
      },
      "outputs": [
        {
          "output_type": "execute_result",
          "data": {
            "text/plain": [
              "\"Saturn is the sixth planet from the Sun and the second largest in the Solar System, after Jupiter. It is a gas giant, with an average radius of about nine times that of Earth.[27][28] It has an eighth the average density of Earth, but is over 95 times more massive.[29][30][31] Even though Saturn is almost as big as Jupiter, Saturn has less than a third the mass of Jupiter. Saturn orbits the Sun at a distance of 9.59 AU (1,434 million km), with an orbital period of 29.45 years.\\n\\nSaturn's interior is thought to be composed of a rocky core, surrounded by a deep layer of metallic hydrogen, an intermediate layer of liquid hydrogen and liquid helium, and an outer layer of gas. Saturn has a pale yellow hue, due to ammonia crystals in its upper atmosphere. An electrical current in the metallic hydrogen layer is thought to give rise to Saturn's planetary magnetic field, which is weaker than Earth's, but has a magnetic moment 580 times that of Earth because of Saturn's greater size. Saturn's magnetic field strength is about a twentieth that of Jupiter.[32] The outer atmosphere is generally bland and lacking in contrast, although long-lived features can appear. Wind speeds on Saturn can reach 1,800 kilometres per hour (1,100 miles per hour).\\n\\nThe planet has a bright and extensive system of rings, composed mainly of ice particles, with a smaller amount of rocky debris and dust. At least 146 moons[33] orbit the planet, of which 63 are officially named; these do not include the hundreds of moonlets in the rings. Titan, Saturn's largest moon and the second largest in the Solar System, is larger (and less massive) than the planet Mercury and is the only moon in the Solar System that has a substantial atmosphere.\""
            ],
            "application/vnd.google.colaboratory.intrinsic+json": {
              "type": "string"
            }
          },
          "metadata": {},
          "execution_count": 3
        }
      ],
      "source": [
        "text"
      ]
    },
    {
      "cell_type": "code",
      "execution_count": 6,
      "id": "c096873c-0315-439a-a9b7-6e8590e24421",
      "metadata": {
        "id": "c096873c-0315-439a-a9b7-6e8590e24421",
        "colab": {
          "base_uri": "https://localhost:8080/"
        },
        "outputId": "4ec30153-d5bc-44aa-bc0a-065914212aaf"
      },
      "outputs": [
        {
          "output_type": "stream",
          "name": "stderr",
          "text": [
            "[nltk_data] Downloading package averaged_perceptron_tagger_eng to\n",
            "[nltk_data]     /root/nltk_data...\n",
            "[nltk_data]   Unzipping taggers/averaged_perceptron_tagger_eng.zip.\n",
            "[nltk_data] Downloading package punkt_tab to /root/nltk_data...\n",
            "[nltk_data]   Unzipping tokenizers/punkt_tab.zip.\n"
          ]
        },
        {
          "output_type": "execute_result",
          "data": {
            "text/plain": [
              "True"
            ]
          },
          "metadata": {},
          "execution_count": 6
        }
      ],
      "source": [
        "import nltk\n",
        "nltk.download('averaged_perceptron_tagger_eng')\n",
        "nltk.download('punkt_tab')\n",
        "\n",
        "# Loads the small English language model (en_core_web_sm) provided by spaCy.\n",
        "# This model is sufficient for basic NLP tasks like tokenization, POS tagging, dependency parsing, and named entity recognition."
      ]
    },
    {
      "cell_type": "code",
      "execution_count": 7,
      "id": "1fc411b4-a3e3-4b85-ace1-ca0ac9e9d070",
      "metadata": {
        "id": "1fc411b4-a3e3-4b85-ace1-ca0ac9e9d070"
      },
      "outputs": [],
      "source": [
        "pos = pos_tag(word_tokenize(text))"
      ]
    },
    {
      "cell_type": "code",
      "execution_count": 8,
      "id": "1b10b172-3671-41a2-ab43-60453d12b033",
      "metadata": {
        "id": "1b10b172-3671-41a2-ab43-60453d12b033",
        "outputId": "34c49f05-1584-450d-a1cf-09fe88be3c9c",
        "colab": {
          "base_uri": "https://localhost:8080/"
        }
      },
      "outputs": [
        {
          "output_type": "stream",
          "name": "stdout",
          "text": [
            "[('Saturn', 'NNP'), ('is', 'VBZ'), ('the', 'DT'), ('sixth', 'JJ'), ('planet', 'NN'), ('from', 'IN'), ('the', 'DT'), ('Sun', 'NNP'), ('and', 'CC'), ('the', 'DT'), ('second', 'JJ'), ('largest', 'JJS'), ('in', 'IN'), ('the', 'DT'), ('Solar', 'NNP'), ('System', 'NNP'), (',', ','), ('after', 'IN'), ('Jupiter', 'NNP'), ('.', '.'), ('It', 'PRP'), ('is', 'VBZ'), ('a', 'DT'), ('gas', 'NN'), ('giant', 'NN'), (',', ','), ('with', 'IN'), ('an', 'DT'), ('average', 'JJ'), ('radius', 'NN'), ('of', 'IN'), ('about', 'RB'), ('nine', 'CD'), ('times', 'NNS'), ('that', 'IN'), ('of', 'IN'), ('Earth', 'NNP'), ('.', '.'), ('[', 'CC'), ('27', 'CD'), (']', 'JJ'), ('[', '$'), ('28', 'CD'), (']', 'NN'), ('It', 'PRP'), ('has', 'VBZ'), ('an', 'DT'), ('eighth', 'JJ'), ('the', 'DT'), ('average', 'JJ'), ('density', 'NN'), ('of', 'IN'), ('Earth', 'NNP'), (',', ','), ('but', 'CC'), ('is', 'VBZ'), ('over', 'RB'), ('95', 'CD'), ('times', 'NNS'), ('more', 'RBR'), ('massive', 'JJ'), ('.', '.'), ('[', '$'), ('29', 'CD'), (']', 'NNP'), ('[', 'VBD'), ('30', 'CD'), (']', 'NNP'), ('[', 'VBD'), ('31', 'CD'), (']', 'NNP'), ('Even', 'RB'), ('though', 'IN'), ('Saturn', 'NNP'), ('is', 'VBZ'), ('almost', 'RB'), ('as', 'RB'), ('big', 'JJ'), ('as', 'IN'), ('Jupiter', 'NNP'), (',', ','), ('Saturn', 'NNP'), ('has', 'VBZ'), ('less', 'JJR'), ('than', 'IN'), ('a', 'DT'), ('third', 'JJ'), ('the', 'DT'), ('mass', 'NN'), ('of', 'IN'), ('Jupiter', 'NNP'), ('.', '.'), ('Saturn', 'NNP'), ('orbits', 'VBZ'), ('the', 'DT'), ('Sun', 'NNP'), ('at', 'IN'), ('a', 'DT'), ('distance', 'NN'), ('of', 'IN'), ('9.59', 'CD'), ('AU', 'NNP'), ('(', '('), ('1,434', 'CD'), ('million', 'CD'), ('km', 'NN'), (')', ')'), (',', ','), ('with', 'IN'), ('an', 'DT'), ('orbital', 'JJ'), ('period', 'NN'), ('of', 'IN'), ('29.45', 'CD'), ('years', 'NNS'), ('.', '.'), ('Saturn', 'NNP'), (\"'s\", 'POS'), ('interior', 'NN'), ('is', 'VBZ'), ('thought', 'VBN'), ('to', 'TO'), ('be', 'VB'), ('composed', 'VBN'), ('of', 'IN'), ('a', 'DT'), ('rocky', 'JJ'), ('core', 'NN'), (',', ','), ('surrounded', 'VBN'), ('by', 'IN'), ('a', 'DT'), ('deep', 'JJ'), ('layer', 'NN'), ('of', 'IN'), ('metallic', 'JJ'), ('hydrogen', 'NN'), (',', ','), ('an', 'DT'), ('intermediate', 'JJ'), ('layer', 'NN'), ('of', 'IN'), ('liquid', 'NN'), ('hydrogen', 'NN'), ('and', 'CC'), ('liquid', 'JJ'), ('helium', 'NN'), (',', ','), ('and', 'CC'), ('an', 'DT'), ('outer', 'JJ'), ('layer', 'NN'), ('of', 'IN'), ('gas', 'NN'), ('.', '.'), ('Saturn', 'NNP'), ('has', 'VBZ'), ('a', 'DT'), ('pale', 'JJ'), ('yellow', 'JJ'), ('hue', 'NN'), (',', ','), ('due', 'JJ'), ('to', 'TO'), ('ammonia', 'VB'), ('crystals', 'NNS'), ('in', 'IN'), ('its', 'PRP$'), ('upper', 'JJ'), ('atmosphere', 'NN'), ('.', '.'), ('An', 'DT'), ('electrical', 'JJ'), ('current', 'JJ'), ('in', 'IN'), ('the', 'DT'), ('metallic', 'JJ'), ('hydrogen', 'NN'), ('layer', 'NN'), ('is', 'VBZ'), ('thought', 'VBN'), ('to', 'TO'), ('give', 'VB'), ('rise', 'NN'), ('to', 'TO'), ('Saturn', 'NNP'), (\"'s\", 'POS'), ('planetary', 'JJ'), ('magnetic', 'JJ'), ('field', 'NN'), (',', ','), ('which', 'WDT'), ('is', 'VBZ'), ('weaker', 'JJR'), ('than', 'IN'), ('Earth', 'NNP'), (\"'s\", 'POS'), (',', ','), ('but', 'CC'), ('has', 'VBZ'), ('a', 'DT'), ('magnetic', 'JJ'), ('moment', 'NN'), ('580', 'CD'), ('times', 'NNS'), ('that', 'IN'), ('of', 'IN'), ('Earth', 'NNP'), ('because', 'IN'), ('of', 'IN'), ('Saturn', 'NNP'), (\"'s\", 'POS'), ('greater', 'JJR'), ('size', 'NN'), ('.', '.'), ('Saturn', 'NNP'), (\"'s\", 'POS'), ('magnetic', 'JJ'), ('field', 'NN'), ('strength', 'NN'), ('is', 'VBZ'), ('about', 'IN'), ('a', 'DT'), ('twentieth', 'NN'), ('that', 'IN'), ('of', 'IN'), ('Jupiter', 'NNP'), ('.', '.'), ('[', 'CC'), ('32', 'CD'), (']', 'IN'), ('The', 'DT'), ('outer', 'NN'), ('atmosphere', 'NN'), ('is', 'VBZ'), ('generally', 'RB'), ('bland', 'JJ'), ('and', 'CC'), ('lacking', 'VBG'), ('in', 'IN'), ('contrast', 'NN'), (',', ','), ('although', 'IN'), ('long-lived', 'JJ'), ('features', 'NNS'), ('can', 'MD'), ('appear', 'VB'), ('.', '.'), ('Wind', 'NNP'), ('speeds', 'NNS'), ('on', 'IN'), ('Saturn', 'NNP'), ('can', 'MD'), ('reach', 'VB'), ('1,800', 'CD'), ('kilometres', 'NNS'), ('per', 'IN'), ('hour', 'NN'), ('(', '('), ('1,100', 'CD'), ('miles', 'NNS'), ('per', 'IN'), ('hour', 'NN'), (')', ')'), ('.', '.'), ('The', 'DT'), ('planet', 'NN'), ('has', 'VBZ'), ('a', 'DT'), ('bright', 'JJ'), ('and', 'CC'), ('extensive', 'JJ'), ('system', 'NN'), ('of', 'IN'), ('rings', 'NNS'), (',', ','), ('composed', 'VBD'), ('mainly', 'RB'), ('of', 'IN'), ('ice', 'NN'), ('particles', 'NNS'), (',', ','), ('with', 'IN'), ('a', 'DT'), ('smaller', 'JJR'), ('amount', 'NN'), ('of', 'IN'), ('rocky', 'JJ'), ('debris', 'NN'), ('and', 'CC'), ('dust', 'NN'), ('.', '.'), ('At', 'IN'), ('least', 'JJS'), ('146', 'CD'), ('moons', 'NNS'), ('[', 'VBP'), ('33', 'CD'), (']', 'JJ'), ('orbit', 'NN'), ('the', 'DT'), ('planet', 'NN'), (',', ','), ('of', 'IN'), ('which', 'WDT'), ('63', 'CD'), ('are', 'VBP'), ('officially', 'RB'), ('named', 'VBN'), (';', ':'), ('these', 'DT'), ('do', 'VBP'), ('not', 'RB'), ('include', 'VB'), ('the', 'DT'), ('hundreds', 'NNS'), ('of', 'IN'), ('moonlets', 'NNS'), ('in', 'IN'), ('the', 'DT'), ('rings', 'NNS'), ('.', '.'), ('Titan', 'NNP'), (',', ','), ('Saturn', 'NNP'), (\"'s\", 'POS'), ('largest', 'JJS'), ('moon', 'NN'), ('and', 'CC'), ('the', 'DT'), ('second', 'JJ'), ('largest', 'JJS'), ('in', 'IN'), ('the', 'DT'), ('Solar', 'NNP'), ('System', 'NNP'), (',', ','), ('is', 'VBZ'), ('larger', 'JJR'), ('(', '('), ('and', 'CC'), ('less', 'RBR'), ('massive', 'JJ'), (')', ')'), ('than', 'IN'), ('the', 'DT'), ('planet', 'JJ'), ('Mercury', 'NNP'), ('and', 'CC'), ('is', 'VBZ'), ('the', 'DT'), ('only', 'JJ'), ('moon', 'NN'), ('in', 'IN'), ('the', 'DT'), ('Solar', 'NNP'), ('System', 'NNP'), ('that', 'WDT'), ('has', 'VBZ'), ('a', 'DT'), ('substantial', 'JJ'), ('atmosphere', 'NN'), ('.', '.')]\n"
          ]
        }
      ],
      "source": [
        "print(pos)"
      ]
    },
    {
      "cell_type": "markdown",
      "id": "82ebaa62-5603-4daa-ab70-e69de58ab870",
      "metadata": {
        "id": "82ebaa62-5603-4daa-ab70-e69de58ab870"
      },
      "source": [
        "### ```1. Count how many verbs are there?```"
      ]
    },
    {
      "cell_type": "code",
      "execution_count": 9,
      "id": "7f75f5e2-6a3d-4371-90f4-8af92674a258",
      "metadata": {
        "id": "7f75f5e2-6a3d-4371-90f4-8af92674a258",
        "outputId": "d513dd1a-f2b8-4903-e348-a2697aeb2588",
        "colab": {
          "base_uri": "https://localhost:8080/"
        }
      },
      "outputs": [
        {
          "output_type": "stream",
          "name": "stdout",
          "text": [
            "16\n"
          ]
        }
      ],
      "source": [
        "import re\n",
        "verb_lst = set()\n",
        "for word, tag in pos:\n",
        "    if tag.startswith('V') and word.isalpha():\n",
        "        verb_lst.add(word)\n",
        "\n",
        "print(len(verb_lst))"
      ]
    },
    {
      "cell_type": "code",
      "execution_count": 10,
      "id": "7919ffba-e1d2-41cd-8a68-2fa8f827f38a",
      "metadata": {
        "id": "7919ffba-e1d2-41cd-8a68-2fa8f827f38a",
        "outputId": "f74eb26d-3a3f-4145-8e2d-942285f17146",
        "colab": {
          "base_uri": "https://localhost:8080/"
        }
      },
      "outputs": [
        {
          "output_type": "stream",
          "name": "stdout",
          "text": [
            "{'lacking', 'include', 'be', 'has', 'reach', 'is', 'give', 'do', 'thought', 'composed', 'ammonia', 'appear', 'are', 'orbits', 'named', 'surrounded'}\n"
          ]
        }
      ],
      "source": [
        "print(verb_lst)"
      ]
    },
    {
      "cell_type": "markdown",
      "id": "8c240329-5375-46e0-b7b5-ccc7417b1535",
      "metadata": {
        "id": "8c240329-5375-46e0-b7b5-ccc7417b1535"
      },
      "source": [
        "### ```2. Print all the nouns from this```"
      ]
    },
    {
      "cell_type": "code",
      "execution_count": 11,
      "id": "66504492-7ea3-4bc0-801c-9943edfa0fe2",
      "metadata": {
        "id": "66504492-7ea3-4bc0-801c-9943edfa0fe2",
        "outputId": "6c80dd32-278e-4303-f1b7-a87a17a8b9f0",
        "colab": {
          "base_uri": "https://localhost:8080/"
        }
      },
      "outputs": [
        {
          "output_type": "stream",
          "name": "stdout",
          "text": [
            "{'rise', 'moonlets', 'distance', 'field', 'debris', 'mass', 'System', 'moment', 'period', 'crystals', 'size', 'speeds', 'hour', 'hundreds', 'dust', 'amount', 'atmosphere', 'hydrogen', 'AU', 'Wind', 'contrast', 'twentieth', 'features', 'Titan', 'moon', 'kilometres', 'ice', 'rings', 'Mercury', 'density', 'orbit', 'radius', 'layer', 'liquid', 'Jupiter', 'Sun', 'Saturn', 'gas', 'miles', 'Solar', 'Earth', 'times', 'km', 'years', 'strength', 'system', 'moons', 'hue', 'particles', 'giant', 'outer', 'planet', 'helium', 'core', 'interior'}\n",
            "\n",
            "Count the number of nouns: 55\n"
          ]
        }
      ],
      "source": [
        "noun_lst = set()\n",
        "for word, tag in pos:\n",
        "    if tag.startswith('N') and word.isalpha() :\n",
        "        noun_lst.add(word)\n",
        "print(noun_lst)\n",
        "\n",
        "print(f'\\nCount the number of nouns: {len(noun_lst)}')"
      ]
    },
    {
      "cell_type": "markdown",
      "id": "0654dd00-a54a-47b3-8406-42d34c3f23f8",
      "metadata": {
        "id": "0654dd00-a54a-47b3-8406-42d34c3f23f8"
      },
      "source": [
        "### ```3. Print all the adjective_noun pair```"
      ]
    },
    {
      "cell_type": "code",
      "execution_count": 12,
      "id": "d3e4052e-291b-4594-828e-5cfcede8001e",
      "metadata": {
        "id": "d3e4052e-291b-4594-828e-5cfcede8001e"
      },
      "outputs": [],
      "source": [
        "ad_noun = []\n",
        "for i in range(len(pos)):\n",
        "    if ((pos[i][1].startswith('JJ')) and (pos[i][0].isalpha())) and (pos[i+1][1].startswith('NN') or pos[i-1][1].startswith('NN')):\n",
        "        ad_noun.append([pos[i][0],pos[i+1][0]])"
      ]
    },
    {
      "cell_type": "code",
      "execution_count": 13,
      "id": "ef0b1f01-b672-440d-a3e9-2bd8929adcaf",
      "metadata": {
        "id": "ef0b1f01-b672-440d-a3e9-2bd8929adcaf",
        "outputId": "6486cb3a-42e9-41d9-c2cc-a3ced72afc27",
        "colab": {
          "base_uri": "https://localhost:8080/"
        }
      },
      "outputs": [
        {
          "output_type": "execute_result",
          "data": {
            "text/plain": [
              "[['sixth', 'planet'],\n",
              " ['average', 'radius'],\n",
              " ['average', 'density'],\n",
              " ['orbital', 'period'],\n",
              " ['rocky', 'core'],\n",
              " ['deep', 'layer'],\n",
              " ['metallic', 'hydrogen'],\n",
              " ['intermediate', 'layer'],\n",
              " ['liquid', 'helium'],\n",
              " ['outer', 'layer'],\n",
              " ['yellow', 'hue'],\n",
              " ['upper', 'atmosphere'],\n",
              " ['metallic', 'hydrogen'],\n",
              " ['magnetic', 'field'],\n",
              " ['magnetic', 'moment'],\n",
              " ['greater', 'size'],\n",
              " ['magnetic', 'field'],\n",
              " ['extensive', 'system'],\n",
              " ['smaller', 'amount'],\n",
              " ['rocky', 'debris'],\n",
              " ['largest', 'moon'],\n",
              " ['planet', 'Mercury'],\n",
              " ['only', 'moon'],\n",
              " ['substantial', 'atmosphere']]"
            ]
          },
          "metadata": {},
          "execution_count": 13
        }
      ],
      "source": [
        "ad_noun"
      ]
    },
    {
      "cell_type": "markdown",
      "id": "d8e85b5a-1544-4831-86f2-d3776290f5df",
      "metadata": {
        "id": "d8e85b5a-1544-4831-86f2-d3776290f5df"
      },
      "source": [
        "## Indian Language POS tagging"
      ]
    },
    {
      "cell_type": "code",
      "execution_count": 14,
      "id": "1fe85ce6-c69e-4665-8720-ab599fe1b545",
      "metadata": {
        "id": "1fe85ce6-c69e-4665-8720-ab599fe1b545",
        "outputId": "64e687fa-6461-4a4b-d6f1-2a4a7103cac3",
        "colab": {
          "base_uri": "https://localhost:8080/"
        }
      },
      "outputs": [
        {
          "output_type": "stream",
          "name": "stderr",
          "text": [
            "[nltk_data] Downloading package indian to /root/nltk_data...\n",
            "[nltk_data]   Unzipping corpora/indian.zip.\n"
          ]
        },
        {
          "output_type": "execute_result",
          "data": {
            "text/plain": [
              "True"
            ]
          },
          "metadata": {},
          "execution_count": 14
        }
      ],
      "source": [
        "nltk.download('indian')"
      ]
    },
    {
      "cell_type": "code",
      "execution_count": 15,
      "id": "f001e33d-c295-45d6-a01a-345a9bdfab17",
      "metadata": {
        "id": "f001e33d-c295-45d6-a01a-345a9bdfab17"
      },
      "outputs": [],
      "source": [
        "from nltk.corpus import indian\n",
        "from nltk import TnT"
      ]
    },
    {
      "cell_type": "code",
      "execution_count": 16,
      "id": "b78a0dd3-81a8-401f-addd-ca1e2480a64f",
      "metadata": {
        "id": "b78a0dd3-81a8-401f-addd-ca1e2480a64f",
        "outputId": "249b8d0a-9442-482b-85ac-c3c1aa297319",
        "colab": {
          "base_uri": "https://localhost:8080/"
        }
      },
      "outputs": [
        {
          "output_type": "stream",
          "name": "stdout",
          "text": [
            "bangla.pos\n",
            "10281\n",
            "hindi.pos\n",
            "9408\n",
            "marathi.pos\n",
            "19066\n",
            "telugu.pos\n",
            "9999\n"
          ]
        }
      ],
      "source": [
        "for name in indian.fileids():\n",
        "    print(name)\n",
        "    print(len(indian.words(name)))"
      ]
    },
    {
      "cell_type": "code",
      "execution_count": 17,
      "id": "2d313e84-aec3-4c2c-b968-025df9bd06c4",
      "metadata": {
        "id": "2d313e84-aec3-4c2c-b968-025df9bd06c4",
        "outputId": "764a95e0-b5f1-46a0-bfec-86688d5363d0",
        "colab": {
          "base_uri": "https://localhost:8080/"
        }
      },
      "outputs": [
        {
          "output_type": "execute_result",
          "data": {
            "text/plain": [
              "[[\"''\", 'सनातनवाद्यांनी', 'व', 'प्रतिगाम्यांनी', 'समाज', 'रसातळाला', 'नेला', 'असताना', 'या', 'अंधारात', 'बाळशास्त्री', 'जांभेकर', 'यांनी', \"'दर्पण'च्या\", 'माध्यमातून', 'पहिली', 'ज्ञानज्योत', 'तेववली', ',', \"''\", 'असे', 'प्रतिपादन', 'नटसम्राट', 'प्रभाकर', 'पणशीकर', 'यांनी', 'केले', '.'], ['दर्पणकार', 'बाळशास्त्री', 'जांभेकर', 'यांच्या', '१९५व्या', 'जयंतीनिमित्त', 'महाराष्ट्र', 'संपादक', 'परिषद', 'व', 'सिंधुदुर्ग', 'जिल्हा', 'मराठी', 'पत्रकार', 'संघाच्या', 'वतीने', 'तसेच', 'महाराष्ट्र', 'जर्नलिस्ट', 'फाउंडेशन', 'व', 'महाराष्ट्र', 'ग्रामीण', 'पत्रकार', 'संघाच्या', 'सहभागाने', 'अभिवादन', 'कार्यक्रम', 'आयोजित', 'केला', 'होता', '.'], ...]"
            ]
          },
          "metadata": {},
          "execution_count": 17
        }
      ],
      "source": [
        "indian.sents('marathi.pos')"
      ]
    },
    {
      "cell_type": "code",
      "execution_count": 18,
      "id": "ae912573-18b1-40df-b766-70a01af8ea5c",
      "metadata": {
        "id": "ae912573-18b1-40df-b766-70a01af8ea5c"
      },
      "outputs": [],
      "source": [
        "m_pos = indian.tagged_sents('marathi.pos')"
      ]
    },
    {
      "cell_type": "code",
      "execution_count": 19,
      "id": "41ef5e78-d16a-4158-9501-81337a18968f",
      "metadata": {
        "id": "41ef5e78-d16a-4158-9501-81337a18968f",
        "outputId": "68019000-fb97-4a48-f62f-0aa88a46fa40",
        "colab": {
          "base_uri": "https://localhost:8080/"
        }
      },
      "outputs": [
        {
          "output_type": "execute_result",
          "data": {
            "text/plain": [
              "[[(\"''\", 'SYM'), ('सनातनवाद्यांनी', 'NN'), ('व', 'CC'), ('प्रतिगाम्यांनी', 'NN'), ('समाज', 'NN'), ('रसातळाला', 'NN'), ('नेला', 'VM'), ('असताना', 'VAUX'), ('या', 'DEM'), ('अंधारात', 'NN'), ('बाळशास्त्री', 'NNPC'), ('जांभेकर', 'NNP'), ('यांनी', 'PRP'), (\"'दर्पण'च्या\", 'NNP'), ('माध्यमातून', 'NN'), ('पहिली', 'QO'), ('ज्ञानज्योत', 'NN'), ('तेववली', 'VM'), (',', 'SYM'), (\"''\", 'SYM'), ('असे', 'DEM'), ('प्रतिपादन', 'NN'), ('नटसम्राट', 'NNPC'), ('प्रभाकर', 'NNPC'), ('पणशीकर', 'NNP'), ('यांनी', 'PRP'), ('केले', 'VM'), ('.', 'SYM')], [('दर्पणकार', 'JJ'), ('बाळशास्त्री', 'NNPC'), ('जांभेकर', 'NNP'), ('यांच्या', 'PRP'), ('१९५व्या', 'QC'), ('जयंतीनिमित्त', 'NN'), ('महाराष्ट्र', 'NNPC'), ('संपादक', 'NNPC'), ('परिषद', 'NNP'), ('व', 'CC'), ('सिंधुदुर्ग', 'NNPC'), ('जिल्हा', 'NNPC'), ('मराठी', 'NNPC'), ('पत्रकार', 'NNPC'), ('संघाच्या', 'NNP'), ('वतीने', 'NN'), ('तसेच', 'PRP'), ('महाराष्ट्र', 'NNPC'), ('जर्नलिस्ट', 'NNPC'), ('फाउंडेशन', 'NNP'), ('व', 'CC'), ('महाराष्ट्र', 'NNPC'), ('ग्रामीण', 'NNPC'), ('पत्रकार', 'NNPC'), ('संघाच्या', 'NNP'), ('सहभागाने', 'NN'), ('अभिवादन', 'NN'), ('कार्यक्रम', 'NN'), ('आयोजित', 'JJ'), ('केला', 'VM'), ('होता', 'VAUX'), ('.', 'SYM')], ...]"
            ]
          },
          "metadata": {},
          "execution_count": 19
        }
      ],
      "source": [
        "m_pos"
      ]
    },
    {
      "cell_type": "markdown",
      "id": "88284baa-5b5e-4bf3-93b2-d09cd6c88e30",
      "metadata": {
        "id": "88284baa-5b5e-4bf3-93b2-d09cd6c88e30"
      },
      "source": [
        "### 1.1 Create the object of tagger"
      ]
    },
    {
      "cell_type": "code",
      "execution_count": 20,
      "id": "e8e5f9d1-aeb3-4a3b-88b0-bd96f8af5671",
      "metadata": {
        "id": "e8e5f9d1-aeb3-4a3b-88b0-bd96f8af5671"
      },
      "outputs": [],
      "source": [
        "tagger = TnT()"
      ]
    },
    {
      "cell_type": "markdown",
      "id": "1fcac343-8cab-49da-a823-45bd60f85ffb",
      "metadata": {
        "id": "1fcac343-8cab-49da-a823-45bd60f85ffb"
      },
      "source": [
        "### 1.2 Train the tagger with tags"
      ]
    },
    {
      "cell_type": "code",
      "execution_count": 21,
      "id": "6b0831c8-6652-4216-ae62-c5160c1526bb",
      "metadata": {
        "id": "6b0831c8-6652-4216-ae62-c5160c1526bb"
      },
      "outputs": [],
      "source": [
        "tagger.train(m_pos)"
      ]
    },
    {
      "cell_type": "code",
      "execution_count": 22,
      "id": "918a37b3-9ac7-4088-871a-59e75756380a",
      "metadata": {
        "id": "918a37b3-9ac7-4088-871a-59e75756380a"
      },
      "outputs": [],
      "source": [
        "sent = 'आंतरराष्ट्रीय क्रिकेट समिती ही क्रिकेट ह्या खेळाची आंतरराष्ट्रीय प्रशासकीय संघटना आहे.'"
      ]
    },
    {
      "cell_type": "code",
      "execution_count": 23,
      "id": "b71c8291-4dd6-4073-9213-314641efd5d7",
      "metadata": {
        "id": "b71c8291-4dd6-4073-9213-314641efd5d7",
        "outputId": "7f2b6592-77ac-4eb6-cbd4-90d6649ecf0e",
        "colab": {
          "base_uri": "https://localhost:8080/"
        }
      },
      "outputs": [
        {
          "output_type": "execute_result",
          "data": {
            "text/plain": [
              "[('आंतरराष्ट्रीय', 'NNC'),\n",
              " ('क्रिकेट', 'NNC'),\n",
              " ('समिती', 'NN'),\n",
              " ('ही', 'DEM'),\n",
              " ('क्रिकेट', 'NN'),\n",
              " ('ह्या', 'Unk'),\n",
              " ('खेळाची', 'Unk'),\n",
              " ('आंतरराष्ट्रीय', 'JJ'),\n",
              " ('प्रशासकीय', 'Unk'),\n",
              " ('संघटना', 'NNP'),\n",
              " ('आहे', 'VM'),\n",
              " ('.', 'SYM')]"
            ]
          },
          "metadata": {},
          "execution_count": 23
        }
      ],
      "source": [
        "tagger.tag(word_tokenize(sent))"
      ]
    },
    {
      "cell_type": "code",
      "execution_count": 23,
      "id": "68d9df1d-36b9-4379-a817-9eb0a0b9dc83",
      "metadata": {
        "id": "68d9df1d-36b9-4379-a817-9eb0a0b9dc83"
      },
      "outputs": [],
      "source": []
    },
    {
      "cell_type": "markdown",
      "source": [
        "## **Using Spacy**"
      ],
      "metadata": {
        "id": "Gr1qSFL1qZ1Y"
      },
      "id": "Gr1qSFL1qZ1Y"
    },
    {
      "cell_type": "code",
      "source": [
        "# !pip install spacy"
      ],
      "metadata": {
        "id": "NPXO8vTtqggd"
      },
      "id": "NPXO8vTtqggd",
      "execution_count": 24,
      "outputs": []
    },
    {
      "cell_type": "markdown",
      "source": [
        "1. token.pos_ (Coarse-Grained POS Tag):\n",
        "   **Represents the general category of a word's part of speech.**\n",
        "    - These categories are universal, meaning they are broadly applicable across languages (based on the Universal POS tags standard).\n",
        "    - Examples:\n",
        "          - NOUN: For nouns (e.g., \"dog\", \"car\").\n",
        "          - VERB: For verbs (e.g., \"run\", \"is\").\n",
        "          - ADJ: For adjectives (e.g., \"happy\", \"blue\").\n",
        "          - ADV: For adverbs (e.g., \"quickly\", \"very\").\n",
        "          - PRON: For pronouns (e.g., \"he\", \"they\").\n",
        "\n",
        "\n",
        "2. token.tag_ (Fine-Grained POS Tag):\n",
        "    **Provides a language-specific and detailed classification of the part of speech.**\n",
        "    - Includes additional grammatical information such as tense, number, and case.\n",
        "    - Examples (specific to English):\n",
        "          - NN: Singular noun (e.g., \"dog\").\n",
        "          - NNS: Plural noun (e.g., \"dogs\").\n",
        "          - VBD: Past-tense verb (e.g., \"ran\").\n",
        "          - VBG: Present participle or gerund (e.g., \"running\").\n",
        "          - JJ: Adjective (e.g., \"beautiful\").\n",
        "          - RB: Adverb (e.g., \"quickly\").\n"
      ],
      "metadata": {
        "id": "OPtIt_YwshBX"
      },
      "id": "OPtIt_YwshBX"
    },
    {
      "cell_type": "code",
      "source": [
        "import spacy\n",
        "\n",
        "'''\n",
        "Processes the input text (text) using the loaded nlp model.\n",
        "This step converts the text into a Doc object, which is spaCy's representation of a parsed text.'''\n",
        "\n",
        "nlp = spacy.load(\"en_core_web_sm\")\n",
        "\n",
        "doc = nlp(text)\n",
        "\n",
        "for token in doc:\n",
        "    print(f'{token.text} =====> {token.pos_},{token.tag_},{(spacy.explain(token.tag_))}')"
      ],
      "metadata": {
        "colab": {
          "base_uri": "https://localhost:8080/"
        },
        "id": "dh8i9xOXqrof",
        "outputId": "5a7cd578-1f1d-40d3-f8ea-692e6dca0d7f"
      },
      "id": "dh8i9xOXqrof",
      "execution_count": 30,
      "outputs": [
        {
          "output_type": "stream",
          "name": "stdout",
          "text": [
            "Saturn =====> NOUN,NN,noun, singular or mass\n",
            "is =====> AUX,VBZ,verb, 3rd person singular present\n",
            "the =====> DET,DT,determiner\n",
            "sixth =====> ADJ,JJ,adjective (English), other noun-modifier (Chinese)\n",
            "planet =====> NOUN,NN,noun, singular or mass\n",
            "from =====> ADP,IN,conjunction, subordinating or preposition\n",
            "the =====> DET,DT,determiner\n",
            "Sun =====> PROPN,NNP,noun, proper singular\n",
            "and =====> CCONJ,CC,conjunction, coordinating\n",
            "the =====> DET,DT,determiner\n",
            "second =====> ADJ,JJ,adjective (English), other noun-modifier (Chinese)\n",
            "largest =====> ADJ,JJS,adjective, superlative\n",
            "in =====> ADP,IN,conjunction, subordinating or preposition\n",
            "the =====> DET,DT,determiner\n",
            "Solar =====> PROPN,NNP,noun, proper singular\n",
            "System =====> PROPN,NNP,noun, proper singular\n",
            ", =====> PUNCT,,,punctuation mark, comma\n",
            "after =====> ADP,IN,conjunction, subordinating or preposition\n",
            "Jupiter =====> PROPN,NNP,noun, proper singular\n",
            ". =====> PUNCT,.,punctuation mark, sentence closer\n",
            "It =====> PRON,PRP,pronoun, personal\n",
            "is =====> AUX,VBZ,verb, 3rd person singular present\n",
            "a =====> DET,DT,determiner\n",
            "gas =====> NOUN,NN,noun, singular or mass\n",
            "giant =====> NOUN,NN,noun, singular or mass\n",
            ", =====> PUNCT,,,punctuation mark, comma\n",
            "with =====> ADP,IN,conjunction, subordinating or preposition\n",
            "an =====> DET,DT,determiner\n",
            "average =====> ADJ,JJ,adjective (English), other noun-modifier (Chinese)\n",
            "radius =====> NOUN,NN,noun, singular or mass\n",
            "of =====> ADP,IN,conjunction, subordinating or preposition\n",
            "about =====> ADV,RB,adverb\n",
            "nine =====> NUM,CD,cardinal number\n",
            "times =====> NOUN,NNS,noun, plural\n",
            "that =====> PRON,DT,determiner\n",
            "of =====> ADP,IN,conjunction, subordinating or preposition\n",
            "Earth.[27][28 =====> PROPN,NNP,noun, proper singular\n",
            "] =====> PUNCT,-RRB-,right round bracket\n",
            "It =====> PRON,PRP,pronoun, personal\n",
            "has =====> VERB,VBZ,verb, 3rd person singular present\n",
            "an =====> DET,DT,determiner\n",
            "eighth =====> ADJ,JJ,adjective (English), other noun-modifier (Chinese)\n",
            "the =====> DET,DT,determiner\n",
            "average =====> ADJ,JJ,adjective (English), other noun-modifier (Chinese)\n",
            "density =====> NOUN,NN,noun, singular or mass\n",
            "of =====> ADP,IN,conjunction, subordinating or preposition\n",
            "Earth =====> PROPN,NNP,noun, proper singular\n",
            ", =====> PUNCT,,,punctuation mark, comma\n",
            "but =====> CCONJ,CC,conjunction, coordinating\n",
            "is =====> AUX,VBZ,verb, 3rd person singular present\n",
            "over =====> ADP,IN,conjunction, subordinating or preposition\n",
            "95 =====> NUM,CD,cardinal number\n",
            "times =====> NOUN,NNS,noun, plural\n",
            "more =====> ADJ,JJR,adjective, comparative\n",
            "massive.[29][30][31 =====> NOUN,NN,noun, singular or mass\n",
            "] =====> X,XX,unknown\n",
            "Even =====> ADV,RB,adverb\n",
            "though =====> SCONJ,IN,conjunction, subordinating or preposition\n",
            "Saturn =====> PROPN,NNP,noun, proper singular\n",
            "is =====> AUX,VBZ,verb, 3rd person singular present\n",
            "almost =====> ADV,RB,adverb\n",
            "as =====> ADV,RB,adverb\n",
            "big =====> ADJ,JJ,adjective (English), other noun-modifier (Chinese)\n",
            "as =====> ADP,IN,conjunction, subordinating or preposition\n",
            "Jupiter =====> PROPN,NNP,noun, proper singular\n",
            ", =====> PUNCT,,,punctuation mark, comma\n",
            "Saturn =====> PROPN,NNP,noun, proper singular\n",
            "has =====> VERB,VBZ,verb, 3rd person singular present\n",
            "less =====> ADJ,JJR,adjective, comparative\n",
            "than =====> ADP,IN,conjunction, subordinating or preposition\n",
            "a =====> DET,DT,determiner\n",
            "third =====> NOUN,NN,noun, singular or mass\n",
            "the =====> DET,DT,determiner\n",
            "mass =====> NOUN,NN,noun, singular or mass\n",
            "of =====> ADP,IN,conjunction, subordinating or preposition\n",
            "Jupiter =====> PROPN,NNP,noun, proper singular\n",
            ". =====> PUNCT,.,punctuation mark, sentence closer\n",
            "Saturn =====> NOUN,NN,noun, singular or mass\n",
            "orbits =====> VERB,VBZ,verb, 3rd person singular present\n",
            "the =====> DET,DT,determiner\n",
            "Sun =====> PROPN,NNP,noun, proper singular\n",
            "at =====> ADP,IN,conjunction, subordinating or preposition\n",
            "a =====> DET,DT,determiner\n",
            "distance =====> NOUN,NN,noun, singular or mass\n",
            "of =====> ADP,IN,conjunction, subordinating or preposition\n",
            "9.59 =====> NUM,CD,cardinal number\n",
            "AU =====> PROPN,NNP,noun, proper singular\n",
            "( =====> PUNCT,-LRB-,left round bracket\n",
            "1,434 =====> NUM,CD,cardinal number\n",
            "million =====> NUM,CD,cardinal number\n",
            "km =====> NOUN,NN,noun, singular or mass\n",
            ") =====> PUNCT,-RRB-,right round bracket\n",
            ", =====> PUNCT,,,punctuation mark, comma\n",
            "with =====> ADP,IN,conjunction, subordinating or preposition\n",
            "an =====> DET,DT,determiner\n",
            "orbital =====> ADJ,JJ,adjective (English), other noun-modifier (Chinese)\n",
            "period =====> NOUN,NN,noun, singular or mass\n",
            "of =====> ADP,IN,conjunction, subordinating or preposition\n",
            "29.45 =====> NUM,CD,cardinal number\n",
            "years =====> NOUN,NNS,noun, plural\n",
            ". =====> PUNCT,.,punctuation mark, sentence closer\n",
            "\n",
            "\n",
            " =====> SPACE,_SP,whitespace\n",
            "Saturn =====> PROPN,NNP,noun, proper singular\n",
            "'s =====> PART,POS,possessive ending\n",
            "interior =====> NOUN,NN,noun, singular or mass\n",
            "is =====> AUX,VBZ,verb, 3rd person singular present\n",
            "thought =====> VERB,VBN,verb, past participle\n",
            "to =====> PART,TO,infinitival \"to\"\n",
            "be =====> AUX,VB,verb, base form\n",
            "composed =====> VERB,VBN,verb, past participle\n",
            "of =====> ADP,IN,conjunction, subordinating or preposition\n",
            "a =====> DET,DT,determiner\n",
            "rocky =====> ADJ,JJ,adjective (English), other noun-modifier (Chinese)\n",
            "core =====> NOUN,NN,noun, singular or mass\n",
            ", =====> PUNCT,,,punctuation mark, comma\n",
            "surrounded =====> VERB,VBN,verb, past participle\n",
            "by =====> ADP,IN,conjunction, subordinating or preposition\n",
            "a =====> DET,DT,determiner\n",
            "deep =====> ADJ,JJ,adjective (English), other noun-modifier (Chinese)\n",
            "layer =====> NOUN,NN,noun, singular or mass\n",
            "of =====> ADP,IN,conjunction, subordinating or preposition\n",
            "metallic =====> ADJ,JJ,adjective (English), other noun-modifier (Chinese)\n",
            "hydrogen =====> NOUN,NN,noun, singular or mass\n",
            ", =====> PUNCT,,,punctuation mark, comma\n",
            "an =====> DET,DT,determiner\n",
            "intermediate =====> ADJ,JJ,adjective (English), other noun-modifier (Chinese)\n",
            "layer =====> NOUN,NN,noun, singular or mass\n",
            "of =====> ADP,IN,conjunction, subordinating or preposition\n",
            "liquid =====> ADJ,JJ,adjective (English), other noun-modifier (Chinese)\n",
            "hydrogen =====> NOUN,NN,noun, singular or mass\n",
            "and =====> CCONJ,CC,conjunction, coordinating\n",
            "liquid =====> ADJ,JJ,adjective (English), other noun-modifier (Chinese)\n",
            "helium =====> NOUN,NN,noun, singular or mass\n",
            ", =====> PUNCT,,,punctuation mark, comma\n",
            "and =====> CCONJ,CC,conjunction, coordinating\n",
            "an =====> DET,DT,determiner\n",
            "outer =====> ADJ,JJ,adjective (English), other noun-modifier (Chinese)\n",
            "layer =====> NOUN,NN,noun, singular or mass\n",
            "of =====> ADP,IN,conjunction, subordinating or preposition\n",
            "gas =====> NOUN,NN,noun, singular or mass\n",
            ". =====> PUNCT,.,punctuation mark, sentence closer\n",
            "Saturn =====> NOUN,NN,noun, singular or mass\n",
            "has =====> VERB,VBZ,verb, 3rd person singular present\n",
            "a =====> DET,DT,determiner\n",
            "pale =====> ADJ,JJ,adjective (English), other noun-modifier (Chinese)\n",
            "yellow =====> ADJ,JJ,adjective (English), other noun-modifier (Chinese)\n",
            "hue =====> NOUN,NN,noun, singular or mass\n",
            ", =====> PUNCT,,,punctuation mark, comma\n",
            "due =====> ADP,IN,conjunction, subordinating or preposition\n",
            "to =====> ADP,IN,conjunction, subordinating or preposition\n",
            "ammonia =====> ADJ,JJ,adjective (English), other noun-modifier (Chinese)\n",
            "crystals =====> NOUN,NNS,noun, plural\n",
            "in =====> ADP,IN,conjunction, subordinating or preposition\n",
            "its =====> PRON,PRP$,pronoun, possessive\n",
            "upper =====> ADJ,JJ,adjective (English), other noun-modifier (Chinese)\n",
            "atmosphere =====> NOUN,NN,noun, singular or mass\n",
            ". =====> PUNCT,.,punctuation mark, sentence closer\n",
            "An =====> DET,DT,determiner\n",
            "electrical =====> ADJ,JJ,adjective (English), other noun-modifier (Chinese)\n",
            "current =====> NOUN,NN,noun, singular or mass\n",
            "in =====> ADP,IN,conjunction, subordinating or preposition\n",
            "the =====> DET,DT,determiner\n",
            "metallic =====> ADJ,JJ,adjective (English), other noun-modifier (Chinese)\n",
            "hydrogen =====> NOUN,NN,noun, singular or mass\n",
            "layer =====> NOUN,NN,noun, singular or mass\n",
            "is =====> AUX,VBZ,verb, 3rd person singular present\n",
            "thought =====> VERB,VBN,verb, past participle\n",
            "to =====> PART,TO,infinitival \"to\"\n",
            "give =====> VERB,VB,verb, base form\n",
            "rise =====> NOUN,NN,noun, singular or mass\n",
            "to =====> ADP,IN,conjunction, subordinating or preposition\n",
            "Saturn =====> PROPN,NNP,noun, proper singular\n",
            "'s =====> PART,POS,possessive ending\n",
            "planetary =====> ADJ,JJ,adjective (English), other noun-modifier (Chinese)\n",
            "magnetic =====> ADJ,JJ,adjective (English), other noun-modifier (Chinese)\n",
            "field =====> NOUN,NN,noun, singular or mass\n",
            ", =====> PUNCT,,,punctuation mark, comma\n",
            "which =====> PRON,WDT,wh-determiner\n",
            "is =====> AUX,VBZ,verb, 3rd person singular present\n",
            "weaker =====> ADJ,JJR,adjective, comparative\n",
            "than =====> ADP,IN,conjunction, subordinating or preposition\n",
            "Earth =====> PROPN,NNP,noun, proper singular\n",
            "'s =====> PART,POS,possessive ending\n",
            ", =====> PUNCT,,,punctuation mark, comma\n",
            "but =====> CCONJ,CC,conjunction, coordinating\n",
            "has =====> VERB,VBZ,verb, 3rd person singular present\n",
            "a =====> DET,DT,determiner\n",
            "magnetic =====> ADJ,JJ,adjective (English), other noun-modifier (Chinese)\n",
            "moment =====> NOUN,NN,noun, singular or mass\n",
            "580 =====> NUM,CD,cardinal number\n",
            "times =====> NOUN,NNS,noun, plural\n",
            "that =====> PRON,DT,determiner\n",
            "of =====> ADP,IN,conjunction, subordinating or preposition\n",
            "Earth =====> PROPN,NNP,noun, proper singular\n",
            "because =====> SCONJ,IN,conjunction, subordinating or preposition\n",
            "of =====> ADP,IN,conjunction, subordinating or preposition\n",
            "Saturn =====> PROPN,NNP,noun, proper singular\n",
            "'s =====> PART,POS,possessive ending\n",
            "greater =====> ADJ,JJR,adjective, comparative\n",
            "size =====> NOUN,NN,noun, singular or mass\n",
            ". =====> PUNCT,.,punctuation mark, sentence closer\n",
            "Saturn =====> PROPN,NNP,noun, proper singular\n",
            "'s =====> PART,POS,possessive ending\n",
            "magnetic =====> ADJ,JJ,adjective (English), other noun-modifier (Chinese)\n",
            "field =====> NOUN,NN,noun, singular or mass\n",
            "strength =====> NOUN,NN,noun, singular or mass\n",
            "is =====> AUX,VBZ,verb, 3rd person singular present\n",
            "about =====> ADV,RB,adverb\n",
            "a =====> PRON,DT,determiner\n",
            "twentieth =====> ADJ,JJ,adjective (English), other noun-modifier (Chinese)\n",
            "that =====> PRON,DT,determiner\n",
            "of =====> ADP,IN,conjunction, subordinating or preposition\n",
            "Jupiter.[32 =====> X,XX,unknown\n",
            "] =====> PUNCT,-RRB-,right round bracket\n",
            "The =====> DET,DT,determiner\n",
            "outer =====> ADJ,JJ,adjective (English), other noun-modifier (Chinese)\n",
            "atmosphere =====> NOUN,NN,noun, singular or mass\n",
            "is =====> AUX,VBZ,verb, 3rd person singular present\n",
            "generally =====> ADV,RB,adverb\n",
            "bland =====> ADJ,JJ,adjective (English), other noun-modifier (Chinese)\n",
            "and =====> CCONJ,CC,conjunction, coordinating\n",
            "lacking =====> VERB,VBG,verb, gerund or present participle\n",
            "in =====> ADP,IN,conjunction, subordinating or preposition\n",
            "contrast =====> NOUN,NN,noun, singular or mass\n",
            ", =====> PUNCT,,,punctuation mark, comma\n",
            "although =====> SCONJ,IN,conjunction, subordinating or preposition\n",
            "long =====> ADV,RB,adverb\n",
            "- =====> PUNCT,HYPH,punctuation mark, hyphen\n",
            "lived =====> VERB,VBN,verb, past participle\n",
            "features =====> NOUN,NNS,noun, plural\n",
            "can =====> AUX,MD,verb, modal auxiliary\n",
            "appear =====> VERB,VB,verb, base form\n",
            ". =====> PUNCT,.,punctuation mark, sentence closer\n",
            "Wind =====> NOUN,NN,noun, singular or mass\n",
            "speeds =====> NOUN,NNS,noun, plural\n",
            "on =====> ADP,IN,conjunction, subordinating or preposition\n",
            "Saturn =====> PROPN,NNP,noun, proper singular\n",
            "can =====> AUX,MD,verb, modal auxiliary\n",
            "reach =====> VERB,VB,verb, base form\n",
            "1,800 =====> NUM,CD,cardinal number\n",
            "kilometres =====> NOUN,NNS,noun, plural\n",
            "per =====> ADP,IN,conjunction, subordinating or preposition\n",
            "hour =====> NOUN,NN,noun, singular or mass\n",
            "( =====> PUNCT,-LRB-,left round bracket\n",
            "1,100 =====> NUM,CD,cardinal number\n",
            "miles =====> NOUN,NNS,noun, plural\n",
            "per =====> ADP,IN,conjunction, subordinating or preposition\n",
            "hour =====> NOUN,NN,noun, singular or mass\n",
            ") =====> PUNCT,-RRB-,right round bracket\n",
            ". =====> PUNCT,.,punctuation mark, sentence closer\n",
            "\n",
            "\n",
            " =====> SPACE,_SP,whitespace\n",
            "The =====> DET,DT,determiner\n",
            "planet =====> NOUN,NN,noun, singular or mass\n",
            "has =====> VERB,VBZ,verb, 3rd person singular present\n",
            "a =====> DET,DT,determiner\n",
            "bright =====> ADJ,JJ,adjective (English), other noun-modifier (Chinese)\n",
            "and =====> CCONJ,CC,conjunction, coordinating\n",
            "extensive =====> ADJ,JJ,adjective (English), other noun-modifier (Chinese)\n",
            "system =====> NOUN,NN,noun, singular or mass\n",
            "of =====> ADP,IN,conjunction, subordinating or preposition\n",
            "rings =====> NOUN,NNS,noun, plural\n",
            ", =====> PUNCT,,,punctuation mark, comma\n",
            "composed =====> VERB,VBN,verb, past participle\n",
            "mainly =====> ADV,RB,adverb\n",
            "of =====> ADP,IN,conjunction, subordinating or preposition\n",
            "ice =====> NOUN,NN,noun, singular or mass\n",
            "particles =====> NOUN,NNS,noun, plural\n",
            ", =====> PUNCT,,,punctuation mark, comma\n",
            "with =====> ADP,IN,conjunction, subordinating or preposition\n",
            "a =====> DET,DT,determiner\n",
            "smaller =====> ADJ,JJR,adjective, comparative\n",
            "amount =====> NOUN,NN,noun, singular or mass\n",
            "of =====> ADP,IN,conjunction, subordinating or preposition\n",
            "rocky =====> ADJ,JJ,adjective (English), other noun-modifier (Chinese)\n",
            "debris =====> NOUN,NN,noun, singular or mass\n",
            "and =====> CCONJ,CC,conjunction, coordinating\n",
            "dust =====> NOUN,NN,noun, singular or mass\n",
            ". =====> PUNCT,.,punctuation mark, sentence closer\n",
            "At =====> ADP,IN,conjunction, subordinating or preposition\n",
            "least =====> ADV,RBS,adverb, superlative\n",
            "146 =====> NUM,CD,cardinal number\n",
            "moons[33 =====> NOUN,NN,noun, singular or mass\n",
            "] =====> PUNCT,-RRB-,right round bracket\n",
            "orbit =====> VERB,VBP,verb, non-3rd person singular present\n",
            "the =====> DET,DT,determiner\n",
            "planet =====> NOUN,NN,noun, singular or mass\n",
            ", =====> PUNCT,,,punctuation mark, comma\n",
            "of =====> ADP,IN,conjunction, subordinating or preposition\n",
            "which =====> PRON,WDT,wh-determiner\n",
            "63 =====> NUM,CD,cardinal number\n",
            "are =====> AUX,VBP,verb, non-3rd person singular present\n",
            "officially =====> ADV,RB,adverb\n",
            "named =====> VERB,VBN,verb, past participle\n",
            "; =====> PUNCT,:,punctuation mark, colon or ellipsis\n",
            "these =====> PRON,DT,determiner\n",
            "do =====> AUX,VBP,verb, non-3rd person singular present\n",
            "not =====> PART,RB,adverb\n",
            "include =====> VERB,VB,verb, base form\n",
            "the =====> DET,DT,determiner\n",
            "hundreds =====> NOUN,NNS,noun, plural\n",
            "of =====> ADP,IN,conjunction, subordinating or preposition\n",
            "moonlets =====> NOUN,NNS,noun, plural\n",
            "in =====> ADP,IN,conjunction, subordinating or preposition\n",
            "the =====> DET,DT,determiner\n",
            "rings =====> NOUN,NNS,noun, plural\n",
            ". =====> PUNCT,.,punctuation mark, sentence closer\n",
            "Titan =====> PROPN,NNP,noun, proper singular\n",
            ", =====> PUNCT,,,punctuation mark, comma\n",
            "Saturn =====> PROPN,NNP,noun, proper singular\n",
            "'s =====> PART,POS,possessive ending\n",
            "largest =====> ADJ,JJS,adjective, superlative\n",
            "moon =====> NOUN,NN,noun, singular or mass\n",
            "and =====> CCONJ,CC,conjunction, coordinating\n",
            "the =====> DET,DT,determiner\n",
            "second =====> ADJ,JJ,adjective (English), other noun-modifier (Chinese)\n",
            "largest =====> ADJ,JJS,adjective, superlative\n",
            "in =====> ADP,IN,conjunction, subordinating or preposition\n",
            "the =====> DET,DT,determiner\n",
            "Solar =====> PROPN,NNP,noun, proper singular\n",
            "System =====> PROPN,NNP,noun, proper singular\n",
            ", =====> PUNCT,,,punctuation mark, comma\n",
            "is =====> AUX,VBZ,verb, 3rd person singular present\n",
            "larger =====> ADJ,JJR,adjective, comparative\n",
            "( =====> PUNCT,-LRB-,left round bracket\n",
            "and =====> CCONJ,CC,conjunction, coordinating\n",
            "less =====> ADV,RBR,adverb, comparative\n",
            "massive =====> ADJ,JJ,adjective (English), other noun-modifier (Chinese)\n",
            ") =====> PUNCT,-RRB-,right round bracket\n",
            "than =====> ADP,IN,conjunction, subordinating or preposition\n",
            "the =====> DET,DT,determiner\n",
            "planet =====> NOUN,NN,noun, singular or mass\n",
            "Mercury =====> PROPN,NNP,noun, proper singular\n",
            "and =====> CCONJ,CC,conjunction, coordinating\n",
            "is =====> AUX,VBZ,verb, 3rd person singular present\n",
            "the =====> DET,DT,determiner\n",
            "only =====> ADJ,JJ,adjective (English), other noun-modifier (Chinese)\n",
            "moon =====> NOUN,NN,noun, singular or mass\n",
            "in =====> ADP,IN,conjunction, subordinating or preposition\n",
            "the =====> DET,DT,determiner\n",
            "Solar =====> PROPN,NNP,noun, proper singular\n",
            "System =====> PROPN,NNP,noun, proper singular\n",
            "that =====> PRON,WDT,wh-determiner\n",
            "has =====> VERB,VBZ,verb, 3rd person singular present\n",
            "a =====> DET,DT,determiner\n",
            "substantial =====> ADJ,JJ,adjective (English), other noun-modifier (Chinese)\n",
            "atmosphere =====> NOUN,NN,noun, singular or mass\n",
            ". =====> PUNCT,.,punctuation mark, sentence closer\n"
          ]
        }
      ]
    },
    {
      "cell_type": "code",
      "source": [],
      "metadata": {
        "id": "jcHqqeokrERY"
      },
      "id": "jcHqqeokrERY",
      "execution_count": 25,
      "outputs": []
    }
  ],
  "metadata": {
    "kernelspec": {
      "display_name": "Python 3 (ipykernel)",
      "language": "python",
      "name": "python3"
    },
    "language_info": {
      "codemirror_mode": {
        "name": "ipython",
        "version": 3
      },
      "file_extension": ".py",
      "mimetype": "text/x-python",
      "name": "python",
      "nbconvert_exporter": "python",
      "pygments_lexer": "ipython3",
      "version": "3.12.7"
    },
    "colab": {
      "provenance": []
    }
  },
  "nbformat": 4,
  "nbformat_minor": 5
}