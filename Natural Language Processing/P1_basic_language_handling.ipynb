{
 "cells": [
  {
   "cell_type": "markdown",
   "id": "809e581e-a38b-491d-9ef9-ae0368f1323d",
   "metadata": {},
   "source": [
    "# find the average of ages in third sentence"
   ]
  },
  {
   "cell_type": "markdown",
   "id": "12eace75-0fb5-4be4-a640-2e3db1d67d5a",
   "metadata": {},
   "source": [
    "### Method:1"
   ]
  },
  {
   "cell_type": "code",
   "execution_count": 3,
   "id": "ef6a1247-a53a-4c8c-aabe-5bab18179b61",
   "metadata": {},
   "outputs": [],
   "source": [
    "sent = 'They told that their ages are 25 26 and 31 respectively'"
   ]
  },
  {
   "cell_type": "code",
   "execution_count": 4,
   "id": "b5a0509b-3aee-4363-9bd8-27d347fa963b",
   "metadata": {},
   "outputs": [],
   "source": [
    "import re\n",
    "r = r'\\d{2}' \n",
    "age = re.findall(r,sent)"
   ]
  },
  {
   "cell_type": "code",
   "execution_count": 5,
   "id": "1c8c1d3a-9ae8-410e-959a-708de1c80c09",
   "metadata": {},
   "outputs": [
    {
     "data": {
      "text/plain": [
       "['25', '26', '31']"
      ]
     },
     "execution_count": 5,
     "metadata": {},
     "output_type": "execute_result"
    }
   ],
   "source": [
    "age"
   ]
  },
  {
   "cell_type": "code",
   "execution_count": 6,
   "id": "946d352b-af02-4ffe-a935-ddc22f06e300",
   "metadata": {},
   "outputs": [],
   "source": [
    "sum = 0\n",
    "for i in age:\n",
    "    sum += int(i)\n",
    "avg = sum/int(len(age))"
   ]
  },
  {
   "cell_type": "code",
   "execution_count": 7,
   "id": "b0625604-8175-4afa-b46f-d9441ba26d80",
   "metadata": {},
   "outputs": [
    {
     "data": {
      "text/plain": [
       "27.333333333333332"
      ]
     },
     "execution_count": 7,
     "metadata": {},
     "output_type": "execute_result"
    }
   ],
   "source": [
    "avg"
   ]
  },
  {
   "cell_type": "markdown",
   "id": "1e67f62d-68cc-4407-ad55-ef07a0bf2ee9",
   "metadata": {},
   "source": [
    "### Method: 2"
   ]
  },
  {
   "cell_type": "code",
   "execution_count": 9,
   "id": "add7fc0d-f90a-4ce9-8362-44f52dc4364d",
   "metadata": {},
   "outputs": [],
   "source": [
    "age_list = []\n",
    "for i in sent.split():\n",
    "    if i.isdigit():\n",
    "        age_list.append(int(i))"
   ]
  },
  {
   "cell_type": "code",
   "execution_count": 10,
   "id": "16c47e6b-4fff-4de9-ab5a-2b43d5251155",
   "metadata": {},
   "outputs": [
    {
     "data": {
      "text/plain": [
       "[25, 26, 31]"
      ]
     },
     "execution_count": 10,
     "metadata": {},
     "output_type": "execute_result"
    }
   ],
   "source": [
    "age_list"
   ]
  },
  {
   "cell_type": "markdown",
   "id": "e6529cc8-d04c-4743-b9fc-04f2e760c36f",
   "metadata": {},
   "source": [
    "## Check string start with special character"
   ]
  },
  {
   "cell_type": "code",
   "execution_count": 12,
   "id": "b148a544-208b-4119-8255-8900185dfce8",
   "metadata": {},
   "outputs": [
    {
     "name": "stdout",
     "output_type": "stream",
     "text": [
      "રામ\n",
      "રાધા\n",
      "રામમ\n"
     ]
    }
   ],
   "source": [
    "name = ['રામ', 'સીતા' ,'લક્ષમ્ણ' ,'ક્રિષ્ના','રાધા' ,'રામમ']\n",
    "for x in name:\n",
    "    if x.startswith('રા'):\n",
    "        print(x)"
   ]
  },
  {
   "cell_type": "code",
   "execution_count": 13,
   "id": "935ca765-4993-4851-a70a-30cf3306d2d7",
   "metadata": {},
   "outputs": [
    {
     "data": {
      "text/plain": [
       "'રામ સીતા લક્ષમ્ણ ક્રિષ્ના રાધા રામમ'"
      ]
     },
     "execution_count": 13,
     "metadata": {},
     "output_type": "execute_result"
    }
   ],
   "source": [
    "' '.join(name)"
   ]
  },
  {
   "cell_type": "code",
   "execution_count": 14,
   "id": "e58902a4-5907-43c1-bc3c-81fa6d68827c",
   "metadata": {},
   "outputs": [
    {
     "data": {
      "text/plain": [
       "'krishna ક્રિષ્ના'"
      ]
     },
     "execution_count": 14,
     "metadata": {},
     "output_type": "execute_result"
    }
   ],
   "source": [
    "'ક્રિષ્ના'.replace('ક્રિ','krishna ક્રિ')"
   ]
  },
  {
   "cell_type": "code",
   "execution_count": 23,
   "id": "46c24b91-642f-41ff-9bd2-86f8b9690c33",
   "metadata": {},
   "outputs": [
    {
     "data": {
      "text/plain": [
       "114"
      ]
     },
     "execution_count": 23,
     "metadata": {},
     "output_type": "execute_result"
    }
   ],
   "source": [
    "ord('r')"
   ]
  },
  {
   "cell_type": "code",
   "execution_count": 29,
   "id": "fce5bc06-92d3-45b9-9807-b3cb933f6eec",
   "metadata": {},
   "outputs": [
    {
     "data": {
      "text/plain": [
       "'C'"
      ]
     },
     "execution_count": 29,
     "metadata": {},
     "output_type": "execute_result"
    }
   ],
   "source": [
    "chr(67)"
   ]
  },
  {
   "cell_type": "code",
   "execution_count": 33,
   "id": "7a0728ae-d869-45c4-a9d2-93b4b53dde0a",
   "metadata": {},
   "outputs": [
    {
     "data": {
      "text/plain": [
       "2709"
      ]
     },
     "execution_count": 33,
     "metadata": {},
     "output_type": "execute_result"
    }
   ],
   "source": [
    "ord('ક')"
   ]
  },
  {
   "cell_type": "code",
   "execution_count": 35,
   "id": "49e61363-e5c8-4f0a-8d6a-f7691d2580b2",
   "metadata": {},
   "outputs": [],
   "source": [
    "emoji = '😊😂❤️😒😍'"
   ]
  },
  {
   "cell_type": "code",
   "execution_count": 45,
   "id": "9705a1d8-1912-4d76-8338-0bfe64416af5",
   "metadata": {},
   "outputs": [
    {
     "data": {
      "text/plain": [
       "'😒'"
      ]
     },
     "execution_count": 45,
     "metadata": {},
     "output_type": "execute_result"
    }
   ],
   "source": [
    "emoji[4]"
   ]
  },
  {
   "cell_type": "code",
   "execution_count": 43,
   "id": "22e92811-2a81-4c3b-be80-ccf99b169b03",
   "metadata": {},
   "outputs": [
    {
     "data": {
      "text/plain": [
       "10084"
      ]
     },
     "execution_count": 43,
     "metadata": {},
     "output_type": "execute_result"
    }
   ],
   "source": [
    "ord(emoji[2])"
   ]
  },
  {
   "cell_type": "markdown",
   "id": "dcac8338-de2c-4a74-bfec-a17a6483d860",
   "metadata": {},
   "source": [
    "## Write these name in file txt file"
   ]
  },
  {
   "cell_type": "code",
   "execution_count": 21,
   "id": "569ec548-7d9f-4421-a232-c82a48714c4c",
   "metadata": {},
   "outputs": [],
   "source": [
    "f = open('name.txt','w',encoding = \"utf-8\")\n",
    "for i in name:\n",
    "    f.write(i)\n",
    "f.close()"
   ]
  }
 ],
 "metadata": {
  "kernelspec": {
   "display_name": "Python 3 (ipykernel)",
   "language": "python",
   "name": "python3"
  },
  "language_info": {
   "codemirror_mode": {
    "name": "ipython",
    "version": 3
   },
   "file_extension": ".py",
   "mimetype": "text/x-python",
   "name": "python",
   "nbconvert_exporter": "python",
   "pygments_lexer": "ipython3",
   "version": "3.12.7"
  }
 },
 "nbformat": 4,
 "nbformat_minor": 5
}
