{
  "cells": [
    {
      "cell_type": "markdown",
      "id": "76b079a2-dc3b-4025-974a-1249eb66a3d4",
      "metadata": {
        "id": "76b079a2-dc3b-4025-974a-1249eb66a3d4"
      },
      "source": [
        "## Theoritical probability"
      ]
    },
    {
      "cell_type": "code",
      "execution_count": null,
      "id": "6463eeb6-9918-42ad-98b8-e80fc63ac910",
      "metadata": {
        "id": "6463eeb6-9918-42ad-98b8-e80fc63ac910"
      },
      "outputs": [],
      "source": [
        "def coin_flip_p():\n",
        "    head_P = 1/2\n",
        "    return head_P"
      ]
    },
    {
      "cell_type": "code",
      "execution_count": null,
      "id": "2256d4a9-f846-4605-925c-24dd163d1891",
      "metadata": {
        "id": "2256d4a9-f846-4605-925c-24dd163d1891"
      },
      "outputs": [],
      "source": [
        "def roll_dice_p(number):\n",
        "    if number not in range(1,7):\n",
        "        raise ValueError(\"Number must be between 1 and 6\")\n",
        "    probability = 1/6\n",
        "    return probability"
      ]
    },
    {
      "cell_type": "code",
      "execution_count": null,
      "id": "632aca13-a1f4-4b02-899c-c918e961ce53",
      "metadata": {
        "id": "632aca13-a1f4-4b02-899c-c918e961ce53",
        "outputId": "05a6e080-1ff1-43af-fc8a-5c83d8fe26fd"
      },
      "outputs": [
        {
          "name": "stdout",
          "output_type": "stream",
          "text": [
            "p of heads in a coin flip : 0.5\n",
            "p of rolling a 4 on a die : 0.16666666666666666\n"
          ]
        }
      ],
      "source": [
        "coin_flip_result = coin_flip_p()\n",
        "dice_roll_result = roll_dice_p(4)\n",
        "\n",
        "print(\"p of heads in a coin flip :\", coin_flip_result)\n",
        "print(\"p of rolling a 4 on a die :\", dice_roll_result)\n"
      ]
    },
    {
      "cell_type": "code",
      "execution_count": null,
      "id": "77fd4db2-e674-4ecc-a5d9-ef68c5b390e2",
      "metadata": {
        "id": "77fd4db2-e674-4ecc-a5d9-ef68c5b390e2"
      },
      "outputs": [],
      "source": []
    },
    {
      "cell_type": "code",
      "execution_count": null,
      "id": "b62e8397-459c-4968-ab16-62f482dfda9d",
      "metadata": {
        "id": "b62e8397-459c-4968-ab16-62f482dfda9d"
      },
      "outputs": [],
      "source": [
        "import random\n",
        "import numpy as np"
      ]
    },
    {
      "cell_type": "code",
      "execution_count": null,
      "id": "a0afda5f-4ec7-4b80-93b3-8b0155c7b492",
      "metadata": {
        "id": "a0afda5f-4ec7-4b80-93b3-8b0155c7b492"
      },
      "outputs": [],
      "source": [
        "def simulate_coin_flips(num_flips):\n",
        "    results = []\n",
        "    for i in range(num_flips):\n",
        "        flip = random.choice([\"heads\",\"tails\"])\n",
        "        results.append(flip)\n",
        "    return results"
      ]
    },
    {
      "cell_type": "code",
      "execution_count": null,
      "id": "32f30cb6-9d4a-429e-b5e1-69863dcbea21",
      "metadata": {
        "id": "32f30cb6-9d4a-429e-b5e1-69863dcbea21",
        "outputId": "2f02fd39-bbed-44c8-e877-edea56c31bd1"
      },
      "outputs": [
        {
          "data": {
            "text/plain": [
              "'tails'"
            ]
          },
          "execution_count": 7,
          "metadata": {},
          "output_type": "execute_result"
        }
      ],
      "source": [
        "random.choice([\"head\",\"tails\"])"
      ]
    },
    {
      "cell_type": "code",
      "execution_count": null,
      "id": "2179b24d-9906-41cb-bd0d-ac4dad55f4c8",
      "metadata": {
        "id": "2179b24d-9906-41cb-bd0d-ac4dad55f4c8",
        "outputId": "3c77d0ed-98cb-4912-d3ba-0fc10b2bbd50"
      },
      "outputs": [
        {
          "data": {
            "text/plain": [
              "['heads',\n",
              " 'tails',\n",
              " 'tails',\n",
              " 'heads',\n",
              " 'tails',\n",
              " 'heads',\n",
              " 'heads',\n",
              " 'heads',\n",
              " 'heads',\n",
              " 'tails',\n",
              " 'tails',\n",
              " 'tails',\n",
              " 'tails',\n",
              " 'tails',\n",
              " 'tails',\n",
              " 'tails',\n",
              " 'heads',\n",
              " 'heads',\n",
              " 'heads',\n",
              " 'heads']"
            ]
          },
          "execution_count": 8,
          "metadata": {},
          "output_type": "execute_result"
        }
      ],
      "source": [
        "simulate_coin_flips(20)"
      ]
    },
    {
      "cell_type": "code",
      "execution_count": null,
      "id": "03e2ac0c-b81a-4401-abe4-2a1c451d2eaa",
      "metadata": {
        "id": "03e2ac0c-b81a-4401-abe4-2a1c451d2eaa",
        "outputId": "dd3b9817-2887-4424-946a-dc2a0cd02535"
      },
      "outputs": [
        {
          "data": {
            "text/plain": [
              "tails    502\n",
              "heads    498\n",
              "Name: count, dtype: int64"
            ]
          },
          "execution_count": 22,
          "metadata": {},
          "output_type": "execute_result"
        }
      ],
      "source": [
        "import pandas as pd\n",
        "\n",
        "pd.Series(simulate_coin_flips(1000)).value_counts()"
      ]
    },
    {
      "cell_type": "code",
      "execution_count": null,
      "id": "bcb2a1e7-a745-4f74-ade3-de67ceb05424",
      "metadata": {
        "id": "bcb2a1e7-a745-4f74-ade3-de67ceb05424",
        "outputId": "75f6e651-053a-4ba1-bb6b-6a109f0ae1e2"
      },
      "outputs": [
        {
          "data": {
            "text/plain": [
              "Counter({'heads': 504, 'tails': 496})"
            ]
          },
          "execution_count": 25,
          "metadata": {},
          "output_type": "execute_result"
        }
      ],
      "source": [
        "from collections import Counter\n",
        "Counter(simulate_coin_flips(1000))"
      ]
    },
    {
      "cell_type": "code",
      "execution_count": null,
      "id": "083ae9d2-7c44-4833-8479-c7280162b9d7",
      "metadata": {
        "id": "083ae9d2-7c44-4833-8479-c7280162b9d7"
      },
      "outputs": [],
      "source": []
    },
    {
      "cell_type": "markdown",
      "id": "d4a808e5-2a9d-42e5-80af-7e768b8d5c39",
      "metadata": {
        "id": "d4a808e5-2a9d-42e5-80af-7e768b8d5c39"
      },
      "source": [
        "## Experimental probability"
      ]
    },
    {
      "cell_type": "code",
      "execution_count": null,
      "id": "59ae9503-b0ab-4c54-85f8-0ec4a3e8aa2c",
      "metadata": {
        "id": "59ae9503-b0ab-4c54-85f8-0ec4a3e8aa2c"
      },
      "outputs": [],
      "source": [
        "def calculate_experimental_probability(results,event):\n",
        "    event_count = results.count(event)\n",
        "    total_flips = len(results)\n",
        "    probability = event_count / total_flips\n",
        "    return probability"
      ]
    },
    {
      "cell_type": "code",
      "execution_count": null,
      "id": "bb862ae4-beef-4178-a9b8-d65da56c1fe7",
      "metadata": {
        "id": "bb862ae4-beef-4178-a9b8-d65da56c1fe7",
        "outputId": "da0ce232-002a-420d-db99-074c23624bfc"
      },
      "outputs": [
        {
          "name": "stdout",
          "output_type": "stream",
          "text": [
            "Number of flips: 1000\n",
            "Heads Probability: 0.5080\n",
            "Tails probability: 0.4920\n"
          ]
        }
      ],
      "source": [
        "num_filps = 1000\n",
        "simulation_results = simulate_coin_flips(num_filps)\n",
        "\n",
        "heads_probability = calculate_experimental_probability(simulation_results,\"heads\")\n",
        "tails_probability = calculate_experimental_probability(simulation_results,\"tails\")\n",
        "\n",
        "print(f\"Number of flips: {num_filps}\")\n",
        "print(f\"Heads Probability: {heads_probability:.4f}\")\n",
        "print(f\"Tails probability: {tails_probability:.4f}\")"
      ]
    },
    {
      "cell_type": "code",
      "execution_count": null,
      "id": "27d58b4b-5bd4-4256-b2b0-db05f9620cc7",
      "metadata": {
        "id": "27d58b4b-5bd4-4256-b2b0-db05f9620cc7"
      },
      "outputs": [],
      "source": []
    },
    {
      "cell_type": "markdown",
      "id": "424d120c-9b75-4a2e-8149-2a460f8ae05b",
      "metadata": {
        "id": "424d120c-9b75-4a2e-8149-2a460f8ae05b"
      },
      "source": [
        "### Probability Distribution"
      ]
    },
    {
      "cell_type": "code",
      "execution_count": null,
      "id": "dec5c142-bda0-4ea9-aca9-75250d48f6a8",
      "metadata": {
        "id": "dec5c142-bda0-4ea9-aca9-75250d48f6a8"
      },
      "outputs": [],
      "source": [
        "import numpy as np\n",
        "import seaborn as sns\n",
        "import matplotlib.pyplot as plt"
      ]
    },
    {
      "cell_type": "code",
      "execution_count": null,
      "id": "b42bc040-17ba-4482-ae35-f7654e9767f6",
      "metadata": {
        "id": "b42bc040-17ba-4482-ae35-f7654e9767f6"
      },
      "outputs": [],
      "source": [
        "iq = np.array([70,70,80,80,80,90,90,90,90,100,100,100,100,100,110,110,110,110,120,120,120,130,130])"
      ]
    },
    {
      "cell_type": "code",
      "execution_count": null,
      "id": "16153def-915d-4961-87d3-892e7135bce2",
      "metadata": {
        "id": "16153def-915d-4961-87d3-892e7135bce2",
        "outputId": "28773b80-2a87-410a-e515-02d7da85d357"
      },
      "outputs": [
        {
          "data": {
            "text/plain": [
              "<seaborn.axisgrid.FacetGrid at 0x1d0348320f0>"
            ]
          },
          "execution_count": 85,
          "metadata": {},
          "output_type": "execute_result"
        },
        {
          "data": {
            "image/png": "[encoded data removed]",
            "text/plain": [
              "<Figure size 500x500 with 1 Axes>"
            ]
          },
          "metadata": {},
          "output_type": "display_data"
        }
      ],
      "source": [
        "sns.displot(iq,kind=\"kde\")"
      ]
    },
    {
      "cell_type": "code",
      "execution_count": null,
      "id": "65c93dee-e9bd-4d3e-8372-f4952acdf1b2",
      "metadata": {
        "id": "65c93dee-e9bd-4d3e-8372-f4952acdf1b2",
        "outputId": "20746865-3a57-4995-b74f-7f8c3f8f2e2d"
      },
      "outputs": [
        {
          "data": {
            "text/plain": [
              "100.0"
            ]
          },
          "execution_count": 87,
          "metadata": {},
          "output_type": "execute_result"
        }
      ],
      "source": [
        "iq.mean()"
      ]
    },
    {
      "cell_type": "code",
      "execution_count": null,
      "id": "2196aad0-b776-4511-811f-106d8b9e6509",
      "metadata": {
        "id": "2196aad0-b776-4511-811f-106d8b9e6509",
        "outputId": "1e87f336-3135-409f-a0f9-d40fc3ecd276"
      },
      "outputs": [
        {
          "data": {
            "text/plain": [
              "100.0"
            ]
          },
          "execution_count": 89,
          "metadata": {},
          "output_type": "execute_result"
        }
      ],
      "source": [
        "np.median(iq)"
      ]
    },
    {
      "cell_type": "code",
      "execution_count": null,
      "id": "9eb6c90a-e0f9-4b8e-b17e-1fa07144fbad",
      "metadata": {
        "id": "9eb6c90a-e0f9-4b8e-b17e-1fa07144fbad",
        "outputId": "e14301fb-1bb5-4797-8a5e-44bf7afc8d8e"
      },
      "outputs": [
        {
          "data": {
            "text/plain": [
              "0    100\n",
              "dtype: int32"
            ]
          },
          "execution_count": 91,
          "metadata": {},
          "output_type": "execute_result"
        }
      ],
      "source": [
        "pd.Series(iq).mode()"
      ]
    },
    {
      "cell_type": "code",
      "execution_count": null,
      "id": "b66849b8-221b-4c44-b80e-9b9e39506aa9",
      "metadata": {
        "id": "b66849b8-221b-4c44-b80e-9b9e39506aa9"
      },
      "outputs": [],
      "source": []
    },
    {
      "cell_type": "markdown",
      "id": "9568e004-9dd8-45a8-bb29-85eaca1c83e1",
      "metadata": {
        "id": "9568e004-9dd8-45a8-bb29-85eaca1c83e1"
      },
      "source": [
        "### Linear Growth"
      ]
    },
    {
      "cell_type": "code",
      "execution_count": null,
      "id": "6dbb595a-aa72-4572-b168-15054b0a44fa",
      "metadata": {
        "id": "6dbb595a-aa72-4572-b168-15054b0a44fa",
        "outputId": "2bd6dd05-4d62-49d7-edb8-3719d11c8a92"
      },
      "outputs": [
        {
          "data": {
            "text/plain": [
              "array([1.  , 1.25, 1.5 , 1.75, 2.  , 2.25, 2.5 , 2.75, 3.  , 3.25, 3.5 ,\n",
              "       3.75, 4.  , 4.25, 4.5 , 4.75, 5.  , 5.25, 5.5 , 5.75, 6.  , 6.25,\n",
              "       6.5 , 6.75, 7.  , 7.25, 7.5 , 7.75, 8.  , 8.25, 8.5 , 8.75, 9.  ,\n",
              "       9.25, 9.5 , 9.75])"
            ]
          },
          "execution_count": 94,
          "metadata": {},
          "output_type": "execute_result"
        }
      ],
      "source": [
        "x = np.arange(1,10,0.25)\n",
        "x"
      ]
    },
    {
      "cell_type": "code",
      "execution_count": null,
      "id": "380f58e7-fa78-4c72-be3c-fb36c2b69b68",
      "metadata": {
        "id": "380f58e7-fa78-4c72-be3c-fb36c2b69b68",
        "outputId": "1a4a6bdc-ed89-4afb-aaad-d8a1e195f06c"
      },
      "outputs": [
        {
          "data": {
            "text/plain": [
              "array([ 6.026 ,  7.4435,  8.861 , 10.2785, 11.696 , 13.1135, 14.531 ,\n",
              "       15.9485, 17.366 , 18.7835, 20.201 , 21.6185, 23.036 , 24.4535,\n",
              "       25.871 , 27.2885, 28.706 , 30.1235, 31.541 , 32.9585, 34.376 ,\n",
              "       35.7935, 37.211 , 38.6285, 40.046 , 41.4635, 42.881 , 44.2985,\n",
              "       45.716 , 47.1335, 48.551 , 49.9685, 51.386 , 52.8035, 54.221 ,\n",
              "       55.6385])"
            ]
          },
          "execution_count": 96,
          "metadata": {},
          "output_type": "execute_result"
        }
      ],
      "source": [
        "y = 5.67*x + 0.356\n",
        "y"
      ]
    },
    {
      "cell_type": "code",
      "execution_count": null,
      "id": "b35da8a2-777c-4b49-9cee-394299a504e4",
      "metadata": {
        "id": "b35da8a2-777c-4b49-9cee-394299a504e4",
        "outputId": "3fb805d6-23bb-4d01-b69c-02d59b789393"
      },
      "outputs": [
        {
          "data": {
            "image/png": "[encoded data removed]",
            "text/plain": [
              "<Figure size 640x480 with 1 Axes>"
            ]
          },
          "metadata": {},
          "output_type": "display_data"
        }
      ],
      "source": [
        "plt.plot(x,y);"
      ]
    },
    {
      "cell_type": "markdown",
      "id": "6bd3c1bc-353e-418c-ab4e-b49877312b1a",
      "metadata": {
        "id": "6bd3c1bc-353e-418c-ab4e-b49877312b1a"
      },
      "source": [
        "### Polynomial /Exponential Growth"
      ]
    },
    {
      "cell_type": "code",
      "execution_count": null,
      "id": "0918ce02-7499-4c06-b4d2-769fec4f4c81",
      "metadata": {
        "id": "0918ce02-7499-4c06-b4d2-769fec4f4c81",
        "outputId": "9b8c29fb-c75e-4367-efde-0555730fc771"
      },
      "outputs": [
        {
          "data": {
            "image/png": "[encoded data removed]",
            "text/plain": [
              "<Figure size 640x480 with 1 Axes>"
            ]
          },
          "metadata": {},
          "output_type": "display_data"
        }
      ],
      "source": [
        "y1 = x**2\n",
        "plt.plot(x,y1);"
      ]
    },
    {
      "cell_type": "code",
      "execution_count": null,
      "id": "4192241e-e755-4387-b334-7691ba67d815",
      "metadata": {
        "id": "4192241e-e755-4387-b334-7691ba67d815"
      },
      "outputs": [],
      "source": []
    },
    {
      "cell_type": "markdown",
      "id": "580358bd-c237-4e74-953a-0aec2b9d566d",
      "metadata": {
        "id": "580358bd-c237-4e74-953a-0aec2b9d566d"
      },
      "source": [
        "### Logerithamic Growth"
      ]
    },
    {
      "cell_type": "code",
      "execution_count": null,
      "id": "4d44a5d6-9681-43ae-8ba4-d524afa4621a",
      "metadata": {
        "id": "4d44a5d6-9681-43ae-8ba4-d524afa4621a",
        "outputId": "056cbb27-3db1-4eda-e82d-589628793773"
      },
      "outputs": [
        {
          "data": {
            "image/png": "[encoded data removed]",
            "text/plain": [
              "<Figure size 640x480 with 1 Axes>"
            ]
          },
          "metadata": {},
          "output_type": "display_data"
        }
      ],
      "source": [
        "plt.plot(x,np.log(x));"
      ]
    },
    {
      "cell_type": "code",
      "execution_count": null,
      "id": "0a437e18-2b41-4b4b-b7d2-287de887e3db",
      "metadata": {
        "id": "0a437e18-2b41-4b4b-b7d2-287de887e3db"
      },
      "outputs": [],
      "source": []
    },
    {
      "cell_type": "markdown",
      "id": "d0ae9355-ac7d-437b-b728-6fa73a7f9eab",
      "metadata": {
        "id": "d0ae9355-ac7d-437b-b728-6fa73a7f9eab"
      },
      "source": [
        "### Logistic Growth"
      ]
    },
    {
      "cell_type": "code",
      "execution_count": null,
      "id": "bb98ddc8-b52c-4e13-b2e3-f7368c03fd57",
      "metadata": {
        "id": "bb98ddc8-b52c-4e13-b2e3-f7368c03fd57",
        "outputId": "06e4cb3d-1c21-49e8-c710-97af24709ae6"
      },
      "outputs": [
        {
          "data": {
            "text/plain": [
              "array([-5.  , -4.75, -4.5 , -4.25, -4.  , -3.75, -3.5 , -3.25, -3.  ,\n",
              "       -2.75, -2.5 , -2.25, -2.  , -1.75, -1.5 , -1.25, -1.  , -0.75,\n",
              "       -0.5 , -0.25,  0.  ,  0.25,  0.5 ,  0.75,  1.  ,  1.25,  1.5 ,\n",
              "        1.75,  2.  ,  2.25,  2.5 ,  2.75,  3.  ,  3.25,  3.5 ,  3.75,\n",
              "        4.  ,  4.25,  4.5 ,  4.75])"
            ]
          },
          "execution_count": 118,
          "metadata": {},
          "output_type": "execute_result"
        }
      ],
      "source": [
        "x = np.arange(-5,5,0.25)\n",
        "x"
      ]
    },
    {
      "cell_type": "code",
      "execution_count": null,
      "id": "f0ebb0cb-c022-42e2-acbd-396394149d10",
      "metadata": {
        "id": "f0ebb0cb-c022-42e2-acbd-396394149d10"
      },
      "outputs": [],
      "source": [
        "def sigmoid(z):\n",
        "    val = 1/(1+np.exp(-z))\n",
        "    return val\n",
        ""
      ]
    },
    {
      "cell_type": "code",
      "execution_count": null,
      "id": "07d7b77a-d1b6-4990-acb9-b1f545899959",
      "metadata": {
        "id": "07d7b77a-d1b6-4990-acb9-b1f545899959",
        "outputId": "0f1001ee-8e22-4458-9b5a-176048df45ab"
      },
      "outputs": [
        {
          "data": {
            "text/plain": [
              "array([0.00669285, 0.00857749, 0.01098694, 0.01406363, 0.01798621,\n",
              "       0.02297737, 0.02931223, 0.03732689, 0.04742587, 0.06008665,\n",
              "       0.07585818, 0.09534946, 0.11920292, 0.1480472 , 0.18242552,\n",
              "       0.22270014, 0.26894142, 0.3208213 , 0.37754067, 0.4378235 ,\n",
              "       0.5       , 0.5621765 , 0.62245933, 0.6791787 , 0.73105858,\n",
              "       0.77729986, 0.81757448, 0.8519528 , 0.88079708, 0.90465054,\n",
              "       0.92414182, 0.93991335, 0.95257413, 0.96267311, 0.97068777,\n",
              "       0.97702263, 0.98201379, 0.98593637, 0.98901306, 0.99142251])"
            ]
          },
          "execution_count": 122,
          "metadata": {},
          "output_type": "execute_result"
        }
      ],
      "source": [
        "sigmoid(x)"
      ]
    },
    {
      "cell_type": "code",
      "execution_count": null,
      "id": "4b011197-b9fc-4abb-b3e3-b41740e3a3e5",
      "metadata": {
        "id": "4b011197-b9fc-4abb-b3e3-b41740e3a3e5",
        "outputId": "c5c9f9c6-049f-41c5-e555-82043326fc71"
      },
      "outputs": [
        {
          "data": {
            "image/png": "[encoded data removed]",
            "text/plain": [
              "<Figure size 640x480 with 1 Axes>"
            ]
          },
          "metadata": {},
          "output_type": "display_data"
        }
      ],
      "source": [
        "plt.plot(x,sigmoid(x));"
      ]
    },
    {
      "cell_type": "code",
      "execution_count": null,
      "id": "e517f646-521c-4332-b503-6a7d2694aad6",
      "metadata": {
        "id": "e517f646-521c-4332-b503-6a7d2694aad6"
      },
      "outputs": [],
      "source": []
    }
  ],
  "metadata": {
    "kernelspec": {
      "display_name": "Python 3 (ipykernel)",
      "language": "python",
      "name": "python3"
    },
    "language_info": {
      "codemirror_mode": {
        "name": "ipython",
        "version": 3
      },
      "file_extension": ".py",
      "mimetype": "text/x-python",
      "name": "python",
      "nbconvert_exporter": "python",
      "pygments_lexer": "ipython3",
      "version": "3.12.7"
    },
    "colab": {
      "provenance": []
    }
  },
  "nbformat": 4,
  "nbformat_minor": 5
}