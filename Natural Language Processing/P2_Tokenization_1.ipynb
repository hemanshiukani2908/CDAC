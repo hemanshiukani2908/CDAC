{
 "cells": [
  {
   "cell_type": "code",
   "execution_count": 1,
   "id": "e07256e8-db91-407e-8cec-3fb16211708c",
   "metadata": {},
   "outputs": [],
   "source": [
    "# pip install nltk spacy textblob -U"
   ]
  },
  {
   "cell_type": "code",
   "execution_count": 2,
   "id": "48d3da0c-4d39-4815-ad1a-d295ed567393",
   "metadata": {},
   "outputs": [],
   "source": [
    "# pip uninstall numpy"
   ]
  },
  {
   "cell_type": "code",
   "execution_count": 3,
   "id": "597cc260-ffb8-405a-b606-4d3deafd84aa",
   "metadata": {},
   "outputs": [],
   "source": [
    "# pip install numpy==1.26.4"
   ]
  },
  {
   "cell_type": "code",
   "execution_count": 4,
   "id": "bcf5c8e4-f189-4973-b670-ef8be2826190",
   "metadata": {},
   "outputs": [],
   "source": [
    "import nltk"
   ]
  },
  {
   "cell_type": "code",
   "execution_count": 5,
   "id": "d09cd2e8-248c-4460-a3bd-3666af6d64f6",
   "metadata": {},
   "outputs": [],
   "source": [
    "# nltk.download()"
   ]
  },
  {
   "cell_type": "code",
   "execution_count": 21,
   "id": "6fdc2913-bacb-4018-90ef-34ccaa83193f",
   "metadata": {},
   "outputs": [
    {
     "name": "stderr",
     "output_type": "stream",
     "text": [
      "[nltk_data] Downloading package punkt to\n",
      "[nltk_data]     C:\\Users\\DAI.STUDENTSDC\\AppData\\Roaming\\nltk_data...\n",
      "[nltk_data]   Package punkt is already up-to-date!\n",
      "[nltk_data] Downloading package punkt_tab to\n",
      "[nltk_data]     C:\\Users\\DAI.STUDENTSDC\\AppData\\Roaming\\nltk_data...\n",
      "[nltk_data]   Unzipping tokenizers\\punkt_tab.zip.\n",
      "[nltk_data] Downloading package stopwords to\n",
      "[nltk_data]     C:\\Users\\DAI.STUDENTSDC\\AppData\\Roaming\\nltk_data...\n",
      "[nltk_data]   Package stopwords is already up-to-date!\n",
      "[nltk_data] Downloading package wordnet to\n",
      "[nltk_data]     C:\\Users\\DAI.STUDENTSDC\\AppData\\Roaming\\nltk_data...\n",
      "[nltk_data]   Package wordnet is already up-to-date!\n",
      "[nltk_data] Downloading package omw-1.4 to\n",
      "[nltk_data]     C:\\Users\\DAI.STUDENTSDC\\AppData\\Roaming\\nltk_data...\n",
      "[nltk_data]   Package omw-1.4 is already up-to-date!\n",
      "[nltk_data] Downloading package averaged_perceptron_tagger to\n",
      "[nltk_data]     C:\\Users\\DAI.STUDENTSDC\\AppData\\Roaming\\nltk_data...\n",
      "[nltk_data]   Package averaged_perceptron_tagger is already up-to-\n",
      "[nltk_data]       date!\n",
      "[nltk_data] Downloading package indian to\n",
      "[nltk_data]     C:\\Users\\DAI.STUDENTSDC\\AppData\\Roaming\\nltk_data...\n",
      "[nltk_data]   Package indian is already up-to-date!\n",
      "[nltk_data] Downloading package maxent_ne_chunker to\n",
      "[nltk_data]     C:\\Users\\DAI.STUDENTSDC\\AppData\\Roaming\\nltk_data...\n",
      "[nltk_data]   Package maxent_ne_chunker is already up-to-date!\n"
     ]
    },
    {
     "data": {
      "text/plain": [
       "True"
      ]
     },
     "execution_count": 21,
     "metadata": {},
     "output_type": "execute_result"
    }
   ],
   "source": [
    "nltk.download('punkt') #tokenization\n",
    "nltk.download('punkt_tab') #tokenization\n",
    "nltk.download('stopwords') #collection of stopwords\n",
    "nltk.download('wordnet') #WORDNET -> DATABASE OF ENGLISH WORDS\n",
    "nltk.download('omw-1.4') #open multilinguial wordnet \n",
    "nltk.download('averaged_perceptron_tagger') # POS tagging\n",
    "nltk.download('indian') # INDIAN language POS tagging\n",
    "nltk.download('maxent_ne_chunker') # NER tagging  "
   ]
  },
  {
   "cell_type": "markdown",
   "id": "44ccb13e-ed7f-4cd2-89fb-a31faa253cb7",
   "metadata": {},
   "source": [
    "## <center><b> `1. Word Tokenize` </b></center>"
   ]
  },
  {
   "cell_type": "code",
   "execution_count": 15,
   "id": "8661b21c-9ea9-4935-91d4-ed883da66a6e",
   "metadata": {},
   "outputs": [],
   "source": [
    "sent = 'They told that their ages are 25, 26 and 31 respectively'"
   ]
  },
  {
   "cell_type": "code",
   "execution_count": 17,
   "id": "b592a8fc-a1dd-49f3-a262-dff5c6eece03",
   "metadata": {},
   "outputs": [
    {
     "data": {
      "text/plain": [
       "['They',\n",
       " 'told',\n",
       " 'that',\n",
       " 'their',\n",
       " 'ages',\n",
       " 'are',\n",
       " '25,',\n",
       " '26',\n",
       " 'and',\n",
       " '31',\n",
       " 'respectively']"
      ]
     },
     "execution_count": 17,
     "metadata": {},
     "output_type": "execute_result"
    }
   ],
   "source": [
    "sent.split()"
   ]
  },
  {
   "cell_type": "markdown",
   "id": "f812140a-31ee-4251-a867-9baf22885473",
   "metadata": {},
   "source": [
    "## -<b> Using nltk.word_tokenize</b>"
   ]
  },
  {
   "cell_type": "markdown",
   "id": "5b42f740-bf1c-4bcc-aedc-7229edde3c9b",
   "metadata": {},
   "source": [
    "#### Ex: 1 Simple word_tokenization"
   ]
  },
  {
   "cell_type": "code",
   "execution_count": 26,
   "id": "8f7c0092-3b1b-497e-94df-85dd85b5d3a0",
   "metadata": {},
   "outputs": [],
   "source": [
    "from nltk.tokenize import word_tokenize"
   ]
  },
  {
   "cell_type": "code",
   "execution_count": 28,
   "id": "e559b001-5243-4334-8098-09c85649b669",
   "metadata": {},
   "outputs": [
    {
     "data": {
      "text/plain": [
       "['They',\n",
       " 'told',\n",
       " 'that',\n",
       " 'their',\n",
       " 'ages',\n",
       " 'are',\n",
       " '25',\n",
       " ',',\n",
       " '26',\n",
       " 'and',\n",
       " '31',\n",
       " 'respectively']"
      ]
     },
     "execution_count": 28,
     "metadata": {},
     "output_type": "execute_result"
    }
   ],
   "source": [
    "word_tokenize(sent)"
   ]
  },
  {
   "cell_type": "markdown",
   "id": "3e489d3b-75ac-47b6-a3ca-ec291fece129",
   "metadata": {},
   "source": [
    "#### Ex: 2 Count the percentage of punctuations in it\n",
    "##### Type: 1"
   ]
  },
  {
   "cell_type": "code",
   "execution_count": 73,
   "id": "339f8182-c307-4ab4-a2e6-4722ae2dc949",
   "metadata": {},
   "outputs": [],
   "source": [
    "sents = '''Hello friends!\n",
    "How are you? welcome to the world of python programming.'''"
   ]
  },
  {
   "cell_type": "code",
   "execution_count": 75,
   "id": "d5965fb6-65e0-409e-a6af-9bf06a0283e7",
   "metadata": {},
   "outputs": [],
   "source": [
    "tokens = word_tokenize(sents)"
   ]
  },
  {
   "cell_type": "code",
   "execution_count": 77,
   "id": "7115fcd9-5c2f-40a6-829b-c7d7a067e5ad",
   "metadata": {},
   "outputs": [],
   "source": [
    "pun_list = ['!','?','.']"
   ]
  },
  {
   "cell_type": "code",
   "execution_count": 79,
   "id": "350d62ed-517a-42c1-9d19-6c5962c4f8b3",
   "metadata": {},
   "outputs": [],
   "source": [
    "count = 0\n",
    "for i in tokens:\n",
    "    if i in pun_list:\n",
    "        count+=1"
   ]
  },
  {
   "cell_type": "code",
   "execution_count": 87,
   "id": "4b149282-a11b-4094-be77-6e94de65dbb8",
   "metadata": {},
   "outputs": [
    {
     "name": "stdout",
     "output_type": "stream",
     "text": [
      "Count the percentage of punctuations in the given string : 20.0\n"
     ]
    }
   ],
   "source": [
    "percentage = (count/len(tokens))*100\n",
    "\n",
    "print(f'Count the percentage of punctuations in the given string : {percentage}')"
   ]
  },
  {
   "cell_type": "markdown",
   "id": "4edfb6f8-c172-4a00-9282-77c873c524ed",
   "metadata": {},
   "source": [
    "##### Type: 2"
   ]
  },
  {
   "cell_type": "code",
   "execution_count": 99,
   "id": "502adbb1-a18f-4175-8f5f-c7211323a3d8",
   "metadata": {},
   "outputs": [],
   "source": [
    "count = [word for word in tokens if not word.isalpha() and not word.isdigit()]"
   ]
  },
  {
   "cell_type": "code",
   "execution_count": 101,
   "id": "8470b939-d6dc-4c64-aa6c-9d031714f94d",
   "metadata": {},
   "outputs": [
    {
     "data": {
      "text/plain": [
       "20.0"
      ]
     },
     "execution_count": 101,
     "metadata": {},
     "output_type": "execute_result"
    }
   ],
   "source": [
    "(len(count)/len(tokens))*100"
   ]
  }
 ],
 "metadata": {
  "kernelspec": {
   "display_name": "Python 3 (ipykernel)",
   "language": "python",
   "name": "python3"
  },
  "language_info": {
   "codemirror_mode": {
    "name": "ipython",
    "version": 3
   },
   "file_extension": ".py",
   "mimetype": "text/x-python",
   "name": "python",
   "nbconvert_exporter": "python",
   "pygments_lexer": "ipython3",
   "version": "3.12.7"
  }
 },
 "nbformat": 4,
 "nbformat_minor": 5
}
