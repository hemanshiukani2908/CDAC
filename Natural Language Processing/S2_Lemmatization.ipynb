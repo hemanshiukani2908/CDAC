{
  "nbformat": 4,
  "nbformat_minor": 0,
  "metadata": {
    "colab": {
      "provenance": []
    },
    "kernelspec": {
      "name": "python3",
      "display_name": "Python 3"
    },
    "language_info": {
      "name": "python"
    }
  },
  "cells": [
    {
      "cell_type": "markdown",
      "source": [
        "# **Using NLTK**"
      ],
      "metadata": {
        "id": "rvlh1Fr3tKGm"
      }
    },
    {
      "cell_type": "code",
      "execution_count": 12,
      "metadata": {
        "colab": {
          "base_uri": "https://localhost:8080/"
        },
        "id": "m8mLu2WltA5w",
        "outputId": "59fdfa6b-07a6-4964-895c-04d77092834a"
      },
      "outputs": [
        {
          "output_type": "stream",
          "name": "stderr",
          "text": [
            "[nltk_data] Downloading package wordnet to /root/nltk_data...\n",
            "[nltk_data]   Package wordnet is already up-to-date!\n",
            "[nltk_data] Downloading package punkt_tab to /root/nltk_data...\n",
            "[nltk_data]   Package punkt_tab is already up-to-date!\n"
          ]
        },
        {
          "output_type": "execute_result",
          "data": {
            "text/plain": [
              "True"
            ]
          },
          "metadata": {},
          "execution_count": 12
        }
      ],
      "source": [
        "from nltk.tokenize import word_tokenize\n",
        "from nltk.stem import WordNetLemmatizer\n",
        "import string\n",
        "import nltk\n",
        "nltk.download('wordnet')\n",
        "nltk.download('punkt_tab')"
      ]
    },
    {
      "cell_type": "markdown",
      "source": [
        "## - **Without POS**"
      ],
      "metadata": {
        "id": "bKh_uQiEuC92"
      }
    },
    {
      "cell_type": "markdown",
      "source": [
        "### **1.**"
      ],
      "metadata": {
        "id": "hiWBB1Q1uQEm"
      }
    },
    {
      "cell_type": "code",
      "source": [
        "from os import write\n",
        "wnl = WordNetLemmatizer()\n",
        "\n",
        "words = [\"running\", \"ran\", \"better\", \"studies\"]\n",
        "\n",
        "for word in words:\n",
        "    print(word,\" ----> \",wnl.lemmatize(word))"
      ],
      "metadata": {
        "colab": {
          "base_uri": "https://localhost:8080/"
        },
        "id": "JezEpU2_tWbc",
        "outputId": "07d427cf-1d35-4825-8826-6dae73cf8b42"
      },
      "execution_count": 6,
      "outputs": [
        {
          "output_type": "stream",
          "name": "stdout",
          "text": [
            "running  ---->  running\n",
            "ran  ---->  ran\n",
            "better  ---->  better\n",
            "studies  ---->  study\n"
          ]
        }
      ]
    },
    {
      "cell_type": "markdown",
      "source": [
        "### **2.**"
      ],
      "metadata": {
        "id": "EoNTlCFhuCB_"
      }
    },
    {
      "cell_type": "code",
      "source": [
        "text = '''\n",
        "The tiger (Panthera tigris) is a large cat and a member of the genus Panthera native to Asia.\n",
        "It has a powerful, muscular body with a large head and paws, a long tail and orange fur with black, mostly vertical stripes.\n",
        "It is traditionally classified into nine recent subspecies, though some recognise only two subspecies,\n",
        "mainland Asian tigers and the island tigers of the Sunda Islands.'''\n",
        "\n",
        "\n",
        "tokens = word_tokenize(text)\n",
        "tokens = [word.lower() for word in tokens if (word.isalpha() and len(word)>1) and not word in string.punctuation]\n",
        "\n",
        "for word in tokens:\n",
        "    print(word,\" ----> \",wnl.lemmatize(word))\n"
      ],
      "metadata": {
        "colab": {
          "base_uri": "https://localhost:8080/"
        },
        "id": "zMT5l_tMtkMK",
        "outputId": "2be38747-4f2d-47f4-e219-d59dec0b89c7"
      },
      "execution_count": 14,
      "outputs": [
        {
          "output_type": "stream",
          "name": "stdout",
          "text": [
            "the  ---->  the\n",
            "tiger  ---->  tiger\n",
            "panthera  ---->  panthera\n",
            "tigris  ---->  tigris\n",
            "is  ---->  is\n",
            "large  ---->  large\n",
            "cat  ---->  cat\n",
            "and  ---->  and\n",
            "member  ---->  member\n",
            "of  ---->  of\n",
            "the  ---->  the\n",
            "genus  ---->  genus\n",
            "panthera  ---->  panthera\n",
            "native  ---->  native\n",
            "to  ---->  to\n",
            "asia  ---->  asia\n",
            "it  ---->  it\n",
            "has  ---->  ha\n",
            "powerful  ---->  powerful\n",
            "muscular  ---->  muscular\n",
            "body  ---->  body\n",
            "with  ---->  with\n",
            "large  ---->  large\n",
            "head  ---->  head\n",
            "and  ---->  and\n",
            "paws  ---->  paw\n",
            "long  ---->  long\n",
            "tail  ---->  tail\n",
            "and  ---->  and\n",
            "orange  ---->  orange\n",
            "fur  ---->  fur\n",
            "with  ---->  with\n",
            "black  ---->  black\n",
            "mostly  ---->  mostly\n",
            "vertical  ---->  vertical\n",
            "stripes  ---->  stripe\n",
            "it  ---->  it\n",
            "is  ---->  is\n",
            "traditionally  ---->  traditionally\n",
            "classified  ---->  classified\n",
            "into  ---->  into\n",
            "nine  ---->  nine\n",
            "recent  ---->  recent\n",
            "subspecies  ---->  subspecies\n",
            "though  ---->  though\n",
            "some  ---->  some\n",
            "recognise  ---->  recognise\n",
            "only  ---->  only\n",
            "two  ---->  two\n",
            "subspecies  ---->  subspecies\n",
            "mainland  ---->  mainland\n",
            "asian  ---->  asian\n",
            "tigers  ---->  tiger\n",
            "and  ---->  and\n",
            "the  ---->  the\n",
            "island  ---->  island\n",
            "tigers  ---->  tiger\n",
            "of  ---->  of\n",
            "the  ---->  the\n",
            "sunda  ---->  sunda\n",
            "islands  ---->  island\n"
          ]
        }
      ]
    },
    {
      "cell_type": "markdown",
      "source": [
        "## - **With POS**"
      ],
      "metadata": {
        "id": "RcDxXWGFvKx5"
      }
    },
    {
      "cell_type": "code",
      "source": [
        "words = [\"running\", \"ran\", \"better\", \"studies\"]\n",
        "\n",
        "for word in words:\n",
        "    print(word,\" ----> \",wnl.lemmatize(word,pos=\"v\"))"
      ],
      "metadata": {
        "colab": {
          "base_uri": "https://localhost:8080/"
        },
        "id": "7bRzjkZzuYQL",
        "outputId": "0fa49ea9-0501-4716-fa38-1de739665022"
      },
      "execution_count": 17,
      "outputs": [
        {
          "output_type": "stream",
          "name": "stdout",
          "text": [
            "running  ---->  run\n",
            "ran  ---->  run\n",
            "better  ---->  better\n",
            "studies  ---->  study\n"
          ]
        }
      ]
    },
    {
      "cell_type": "markdown",
      "source": [
        "# **Using Spacy**"
      ],
      "metadata": {
        "id": "Wwpsxud3viOE"
      }
    },
    {
      "cell_type": "code",
      "source": [
        "import spacy"
      ],
      "metadata": {
        "id": "xnVHULczvhmR"
      },
      "execution_count": 18,
      "outputs": []
    },
    {
      "cell_type": "code",
      "source": [
        "nlp = spacy.load(\"en_core_web_sm\")"
      ],
      "metadata": {
        "id": "MfKQHqtxvSdP"
      },
      "execution_count": 19,
      "outputs": []
    },
    {
      "cell_type": "code",
      "source": [
        "doc = nlp(\"The tiger (Panthera tigris) is a large cat and a member of the genus Panthera native to Asia.\")\n",
        "\n",
        "for token in doc:\n",
        "    print(token.text, \" ----> \", token.lemma_)"
      ],
      "metadata": {
        "colab": {
          "base_uri": "https://localhost:8080/"
        },
        "id": "mY8Z4v19vo9J",
        "outputId": "11d678b3-dfc5-481c-bfc8-cdc61e5d57b2"
      },
      "execution_count": 22,
      "outputs": [
        {
          "output_type": "stream",
          "name": "stdout",
          "text": [
            "The  ---->  the\n",
            "tiger  ---->  tiger\n",
            "(  ---->  (\n",
            "Panthera  ---->  Panthera\n",
            "tigris  ---->  tigris\n",
            ")  ---->  )\n",
            "is  ---->  be\n",
            "a  ---->  a\n",
            "large  ---->  large\n",
            "cat  ---->  cat\n",
            "and  ---->  and\n",
            "a  ---->  a\n",
            "member  ---->  member\n",
            "of  ---->  of\n",
            "the  ---->  the\n",
            "genus  ---->  genus\n",
            "Panthera  ---->  Panthera\n",
            "native  ---->  native\n",
            "to  ---->  to\n",
            "Asia  ---->  Asia\n",
            ".  ---->  .\n"
          ]
        }
      ]
    },
    {
      "cell_type": "code",
      "source": [],
      "metadata": {
        "id": "xICxkGSvvxZV"
      },
      "execution_count": null,
      "outputs": []
    }
  ]
}