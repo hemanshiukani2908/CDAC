{
  "cells": [
    {
      "cell_type": "code",
      "execution_count": 106,
      "id": "71cd4039-a276-404b-b6ad-88d4103b1b79",
      "metadata": {
        "id": "71cd4039-a276-404b-b6ad-88d4103b1b79"
      },
      "outputs": [],
      "source": [
        "words1 = 'managing','manage','management','managerial','managed'\n",
        "words2 = 'worked','workable','working','worked'\n",
        "words3 = 'big','biggest','bigger'\n",
        "words4 = 'go','gone','went','going'\n",
        "words5 = 'association','associated','associate'"
      ]
    },
    {
      "cell_type": "markdown",
      "id": "426a941f-3a26-48b9-abb7-cb8d4828094a",
      "metadata": {
        "id": "426a941f-3a26-48b9-abb7-cb8d4828094a"
      },
      "source": [
        "## Porter stemmer"
      ]
    },
    {
      "cell_type": "code",
      "execution_count": 107,
      "id": "56ab9aeb-26fe-4773-9dfe-6cf975582c27",
      "metadata": {
        "id": "56ab9aeb-26fe-4773-9dfe-6cf975582c27"
      },
      "outputs": [],
      "source": [
        "from nltk.stem import PorterStemmer"
      ]
    },
    {
      "cell_type": "code",
      "execution_count": 108,
      "id": "e170c373-8295-409f-8331-66dc774df826",
      "metadata": {
        "id": "e170c373-8295-409f-8331-66dc774df826"
      },
      "outputs": [],
      "source": [
        "ps = PorterStemmer()"
      ]
    },
    {
      "cell_type": "code",
      "execution_count": 109,
      "id": "e4780fd8-a671-40ff-9ac1-2729c08eb261",
      "metadata": {
        "id": "e4780fd8-a671-40ff-9ac1-2729c08eb261",
        "outputId": "a0308c84-4fc1-47fb-980b-9fd3e8f9da57",
        "colab": {
          "base_uri": "https://localhost:8080/",
          "height": 35
        }
      },
      "outputs": [
        {
          "output_type": "execute_result",
          "data": {
            "text/plain": [
              "'manag'"
            ],
            "application/vnd.google.colaboratory.intrinsic+json": {
              "type": "string"
            }
          },
          "metadata": {},
          "execution_count": 109
        }
      ],
      "source": [
        "ps.stem(words1[2])"
      ]
    },
    {
      "cell_type": "code",
      "execution_count": 110,
      "id": "3a28b61e-7edd-499c-b77d-25bc63ce1b87",
      "metadata": {
        "id": "3a28b61e-7edd-499c-b77d-25bc63ce1b87",
        "outputId": "990869d3-0614-4f1c-e8e7-2c08b44582f0",
        "colab": {
          "base_uri": "https://localhost:8080/",
          "height": 35
        }
      },
      "outputs": [
        {
          "output_type": "execute_result",
          "data": {
            "text/plain": [
              "'biggest'"
            ],
            "application/vnd.google.colaboratory.intrinsic+json": {
              "type": "string"
            }
          },
          "metadata": {},
          "execution_count": 110
        }
      ],
      "source": [
        "ps.stem(words3[1])"
      ]
    },
    {
      "cell_type": "code",
      "execution_count": 111,
      "id": "963e82ee-d318-47c2-bb8f-89316605fe55",
      "metadata": {
        "id": "963e82ee-d318-47c2-bb8f-89316605fe55",
        "outputId": "25862cd6-e84e-4d3d-f8c0-c06394c13012",
        "colab": {
          "base_uri": "https://localhost:8080/",
          "height": 35
        }
      },
      "outputs": [
        {
          "output_type": "execute_result",
          "data": {
            "text/plain": [
              "'associ'"
            ],
            "application/vnd.google.colaboratory.intrinsic+json": {
              "type": "string"
            }
          },
          "metadata": {},
          "execution_count": 111
        }
      ],
      "source": [
        "ps.stem(words5[0])"
      ]
    },
    {
      "cell_type": "code",
      "execution_count": 112,
      "id": "b6268d6f-8589-448d-9f36-8fb874a56399",
      "metadata": {
        "id": "b6268d6f-8589-448d-9f36-8fb874a56399",
        "outputId": "9b7306af-8885-47c0-cc1c-b9dc393f759c",
        "colab": {
          "base_uri": "https://localhost:8080/"
        }
      },
      "outputs": [
        {
          "output_type": "stream",
          "name": "stdout",
          "text": [
            "managing ---> manag\n",
            "manage ---> manag\n",
            "management ---> manag\n",
            "managerial ---> manageri\n",
            "managed ---> manag\n"
          ]
        }
      ],
      "source": [
        "for word in words1:\n",
        "    print(word,'--->',ps.stem(word))"
      ]
    },
    {
      "cell_type": "code",
      "execution_count": 113,
      "id": "aa48a9ce-bebd-40db-96d8-221e934c8a2b",
      "metadata": {
        "id": "aa48a9ce-bebd-40db-96d8-221e934c8a2b",
        "outputId": "217e2619-1a65-4de3-c7ab-b234db8ed7c7",
        "colab": {
          "base_uri": "https://localhost:8080/"
        }
      },
      "outputs": [
        {
          "output_type": "stream",
          "name": "stdout",
          "text": [
            "worked ---> work\n",
            "workable ---> workabl\n",
            "working ---> work\n",
            "worked ---> work\n"
          ]
        }
      ],
      "source": [
        "for word in words2:\n",
        "    print(word,'--->',ps.stem(word))"
      ]
    },
    {
      "cell_type": "code",
      "execution_count": 114,
      "id": "a9d3432b-8160-4cbe-896a-e1b892d4796b",
      "metadata": {
        "id": "a9d3432b-8160-4cbe-896a-e1b892d4796b",
        "outputId": "64c455e1-7331-43ce-eb55-df7c4d3b26ad",
        "colab": {
          "base_uri": "https://localhost:8080/"
        }
      },
      "outputs": [
        {
          "output_type": "stream",
          "name": "stdout",
          "text": [
            "big ---> big\n",
            "biggest ---> biggest\n",
            "bigger ---> bigger\n"
          ]
        }
      ],
      "source": [
        "for word in words3:\n",
        "    print(word,'--->',ps.stem(word))"
      ]
    },
    {
      "cell_type": "code",
      "execution_count": 115,
      "id": "eda66ddb-2b5e-448e-b736-e26004c30f2a",
      "metadata": {
        "id": "eda66ddb-2b5e-448e-b736-e26004c30f2a",
        "outputId": "0589f40a-691c-489e-e3c5-2ed7bc63d3a0",
        "colab": {
          "base_uri": "https://localhost:8080/"
        }
      },
      "outputs": [
        {
          "output_type": "stream",
          "name": "stdout",
          "text": [
            "go ---> go\n",
            "gone ---> gone\n",
            "went ---> went\n",
            "going ---> go\n"
          ]
        }
      ],
      "source": [
        "for word in words4:\n",
        "    print(word,'--->',ps.stem(word))"
      ]
    },
    {
      "cell_type": "code",
      "execution_count": 116,
      "id": "8ab39eb9-cadd-4f63-8a61-e64cde374afb",
      "metadata": {
        "id": "8ab39eb9-cadd-4f63-8a61-e64cde374afb",
        "outputId": "9355c335-0061-4f84-cb44-c65607807560",
        "colab": {
          "base_uri": "https://localhost:8080/"
        }
      },
      "outputs": [
        {
          "output_type": "stream",
          "name": "stdout",
          "text": [
            "association ---> associ\n",
            "associated ---> associ\n",
            "associate ---> associ\n"
          ]
        }
      ],
      "source": [
        "for word in words5:\n",
        "    print(word,'--->',ps.stem(word))"
      ]
    },
    {
      "cell_type": "markdown",
      "id": "79d16cdc-7e54-4ce5-b77b-b9aa6c5d1030",
      "metadata": {
        "id": "79d16cdc-7e54-4ce5-b77b-b9aa6c5d1030"
      },
      "source": [
        "### Apply Stemming"
      ]
    },
    {
      "cell_type": "code",
      "execution_count": 117,
      "id": "4de722e3-35db-42bf-bb79-480246f15648",
      "metadata": {
        "id": "4de722e3-35db-42bf-bb79-480246f15648"
      },
      "outputs": [],
      "source": [
        "text = 'Hello friends! how are you? welcome to pune.'"
      ]
    },
    {
      "cell_type": "code",
      "execution_count": 118,
      "id": "d024dbcb-41b9-4708-a329-11b8ee52b812",
      "metadata": {
        "id": "d024dbcb-41b9-4708-a329-11b8ee52b812",
        "colab": {
          "base_uri": "https://localhost:8080/"
        },
        "outputId": "a4741bbc-299c-4da7-a8e9-7bdd2cf28ce3"
      },
      "outputs": [
        {
          "output_type": "stream",
          "name": "stderr",
          "text": [
            "[nltk_data] Downloading package punkt_tab to /root/nltk_data...\n",
            "[nltk_data]   Package punkt_tab is already up-to-date!\n"
          ]
        },
        {
          "output_type": "execute_result",
          "data": {
            "text/plain": [
              "True"
            ]
          },
          "metadata": {},
          "execution_count": 118
        }
      ],
      "source": [
        "import nltk\n",
        "from nltk.tokenize import word_tokenize\n",
        "from nltk.corpus import stopwords\n",
        "import string\n",
        "nltk.download('punkt_tab')"
      ]
    },
    {
      "cell_type": "code",
      "execution_count": 119,
      "id": "098545ff-0502-4572-9cd0-3aa32c95906e",
      "metadata": {
        "id": "098545ff-0502-4572-9cd0-3aa32c95906e"
      },
      "outputs": [],
      "source": [
        "## remove punctuation\n",
        "\n",
        "tokens1 = [word for word in word_tokenize(text) if word not in string.punctuation]"
      ]
    },
    {
      "cell_type": "code",
      "execution_count": 120,
      "id": "2394a549-4aa4-4752-912e-6636306b39f1",
      "metadata": {
        "id": "2394a549-4aa4-4752-912e-6636306b39f1",
        "outputId": "360c125b-3178-486f-ebea-1efa84b5c9fd",
        "colab": {
          "base_uri": "https://localhost:8080/"
        }
      },
      "outputs": [
        {
          "output_type": "execute_result",
          "data": {
            "text/plain": [
              "['Hello', 'friends', 'how', 'are', 'you', 'welcome', 'to', 'pune']"
            ]
          },
          "metadata": {},
          "execution_count": 120
        }
      ],
      "source": [
        "tokens1"
      ]
    },
    {
      "cell_type": "code",
      "execution_count": 121,
      "id": "59fcfb53-0627-484a-95ce-a1bfb34c1ac4",
      "metadata": {
        "id": "59fcfb53-0627-484a-95ce-a1bfb34c1ac4",
        "colab": {
          "base_uri": "https://localhost:8080/"
        },
        "outputId": "5ebca859-a3b3-441e-f8ca-79221602b292"
      },
      "outputs": [
        {
          "output_type": "stream",
          "name": "stderr",
          "text": [
            "[nltk_data] Downloading package stopwords to /root/nltk_data...\n",
            "[nltk_data]   Package stopwords is already up-to-date!\n"
          ]
        }
      ],
      "source": [
        "nltk.download('stopwords')\n",
        "swords = stopwords.words('english')\n",
        "tokens2 = [ps.stem(word) for word in tokens1 if word.lower() not in swords]"
      ]
    },
    {
      "cell_type": "code",
      "execution_count": 122,
      "id": "e1f58f1a-fc54-4fb7-b4f2-fe186be2f013",
      "metadata": {
        "id": "e1f58f1a-fc54-4fb7-b4f2-fe186be2f013",
        "outputId": "0dd70c36-dfd7-49eb-8a3a-db3179d57f5d",
        "colab": {
          "base_uri": "https://localhost:8080/"
        }
      },
      "outputs": [
        {
          "output_type": "execute_result",
          "data": {
            "text/plain": [
              "['hello', 'friend', 'welcom', 'pune']"
            ]
          },
          "metadata": {},
          "execution_count": 122
        }
      ],
      "source": [
        "tokens2"
      ]
    },
    {
      "cell_type": "code",
      "execution_count": 122,
      "id": "74190e9a-c152-4aca-891d-de94fa5ae63e",
      "metadata": {
        "id": "74190e9a-c152-4aca-891d-de94fa5ae63e"
      },
      "outputs": [],
      "source": []
    },
    {
      "cell_type": "markdown",
      "id": "34895f06-0015-4c6e-8267-e464b0e70dfc",
      "metadata": {
        "id": "34895f06-0015-4c6e-8267-e464b0e70dfc"
      },
      "source": [
        "## Lancaster stemmer"
      ]
    },
    {
      "cell_type": "code",
      "execution_count": 123,
      "id": "1be5bbcc-0f47-45ef-9073-339c9c4e7440",
      "metadata": {
        "id": "1be5bbcc-0f47-45ef-9073-339c9c4e7440"
      },
      "outputs": [],
      "source": [
        "from nltk.stem import LancasterStemmer"
      ]
    },
    {
      "cell_type": "code",
      "execution_count": 124,
      "id": "eb2c3d98-d6d4-40e8-aea7-77123c80b1f3",
      "metadata": {
        "id": "eb2c3d98-d6d4-40e8-aea7-77123c80b1f3"
      },
      "outputs": [],
      "source": [
        "ls = LancasterStemmer()"
      ]
    },
    {
      "cell_type": "code",
      "execution_count": 125,
      "id": "971ebf0b-ef8d-433c-ac0a-4d89e8320dcf",
      "metadata": {
        "id": "971ebf0b-ef8d-433c-ac0a-4d89e8320dcf",
        "outputId": "64c67dad-cf2c-437d-e03c-ebc347c69872",
        "colab": {
          "base_uri": "https://localhost:8080/",
          "height": 35
        }
      },
      "outputs": [
        {
          "output_type": "execute_result",
          "data": {
            "text/plain": [
              "'man'"
            ],
            "application/vnd.google.colaboratory.intrinsic+json": {
              "type": "string"
            }
          },
          "metadata": {},
          "execution_count": 125
        }
      ],
      "source": [
        "ls.stem(words1[2])"
      ]
    },
    {
      "cell_type": "code",
      "execution_count": 126,
      "id": "f56e2096-2d90-44f0-bf2b-ced97172351e",
      "metadata": {
        "id": "f56e2096-2d90-44f0-bf2b-ced97172351e",
        "outputId": "40b9380d-3f56-4e3c-8689-39dfc3fbd514",
        "colab": {
          "base_uri": "https://localhost:8080/"
        }
      },
      "outputs": [
        {
          "output_type": "stream",
          "name": "stdout",
          "text": [
            "managing ---> man\n",
            "manage ---> man\n",
            "management ---> man\n",
            "managerial ---> man\n",
            "managed ---> man\n"
          ]
        }
      ],
      "source": [
        "for word in words1:\n",
        "    print(word,'--->',ls.stem(word))"
      ]
    },
    {
      "cell_type": "code",
      "execution_count": 127,
      "id": "b4d712de-a9fe-4a0a-bda0-8af53651d74a",
      "metadata": {
        "id": "b4d712de-a9fe-4a0a-bda0-8af53651d74a",
        "outputId": "fc3d3ccc-6ddb-426d-bddc-5e6c4139d856",
        "colab": {
          "base_uri": "https://localhost:8080/"
        }
      },
      "outputs": [
        {
          "output_type": "stream",
          "name": "stdout",
          "text": [
            "worked ---> work\n",
            "workable ---> work\n",
            "working ---> work\n",
            "worked ---> work\n"
          ]
        }
      ],
      "source": [
        "for word in words2:\n",
        "    print(word,'--->',ls.stem(word))"
      ]
    },
    {
      "cell_type": "code",
      "execution_count": 128,
      "id": "8d228d24-c411-43cf-a7a5-d0b806878f93",
      "metadata": {
        "id": "8d228d24-c411-43cf-a7a5-d0b806878f93",
        "outputId": "1eaa6f3a-66ae-4ac0-8d5c-79aa19f13b2f",
        "colab": {
          "base_uri": "https://localhost:8080/"
        }
      },
      "outputs": [
        {
          "output_type": "stream",
          "name": "stdout",
          "text": [
            "big ---> big\n",
            "biggest ---> biggest\n",
            "bigger ---> big\n"
          ]
        }
      ],
      "source": [
        "for word in words3:\n",
        "    print(word,'--->',ls.stem(word))"
      ]
    },
    {
      "cell_type": "code",
      "execution_count": 129,
      "id": "3166eb2a-bd09-4725-aa18-eb3a2b2871cd",
      "metadata": {
        "id": "3166eb2a-bd09-4725-aa18-eb3a2b2871cd",
        "outputId": "6dde9d4e-5ba6-4d1f-ed18-a0257b45447b",
        "colab": {
          "base_uri": "https://localhost:8080/"
        }
      },
      "outputs": [
        {
          "output_type": "stream",
          "name": "stdout",
          "text": [
            "go ---> go\n",
            "gone ---> gon\n",
            "went ---> went\n",
            "going ---> going\n"
          ]
        }
      ],
      "source": [
        "for word in words4:\n",
        "    print(word,'--->',ls.stem(word))"
      ]
    },
    {
      "cell_type": "code",
      "execution_count": 130,
      "id": "8bf7b954-e077-4d8a-be4e-00e773c03427",
      "metadata": {
        "id": "8bf7b954-e077-4d8a-be4e-00e773c03427",
        "outputId": "d4d97d2c-22b0-436e-926f-cd251fd1fc72",
        "colab": {
          "base_uri": "https://localhost:8080/"
        }
      },
      "outputs": [
        {
          "output_type": "stream",
          "name": "stdout",
          "text": [
            "association ---> assocy\n",
            "associated ---> assocy\n",
            "associate ---> assocy\n"
          ]
        }
      ],
      "source": [
        "for word in words5:\n",
        "    print(word,'--->',ls.stem(word))"
      ]
    },
    {
      "cell_type": "code",
      "execution_count": 131,
      "id": "8125ab55-7ede-4a45-91e3-d3fd26283945",
      "metadata": {
        "id": "8125ab55-7ede-4a45-91e3-d3fd26283945",
        "outputId": "083cb466-bb95-45f3-8812-be0d7aafff3b",
        "colab": {
          "base_uri": "https://localhost:8080/"
        }
      },
      "outputs": [
        {
          "output_type": "execute_result",
          "data": {
            "text/plain": [
              "['hello', 'friend', 'welcom', 'pun']"
            ]
          },
          "metadata": {},
          "execution_count": 131
        }
      ],
      "source": [
        "tokens2 = [ls.stem(word) for word in tokens1 if word.lower() not in swords]\n",
        "tokens2"
      ]
    },
    {
      "cell_type": "markdown",
      "id": "bc737d23-415b-4702-9016-7dae5279a7ad",
      "metadata": {
        "id": "bc737d23-415b-4702-9016-7dae5279a7ad"
      },
      "source": [
        "## Snow bowl stemmer"
      ]
    },
    {
      "cell_type": "code",
      "execution_count": 132,
      "id": "f559f800-3dba-4b25-a144-5cd4d479f995",
      "metadata": {
        "id": "f559f800-3dba-4b25-a144-5cd4d479f995"
      },
      "outputs": [],
      "source": [
        "from nltk.stem import SnowballStemmer"
      ]
    },
    {
      "cell_type": "code",
      "execution_count": 133,
      "id": "d2804fb2-2309-4404-a9cf-1ff509668858",
      "metadata": {
        "id": "d2804fb2-2309-4404-a9cf-1ff509668858",
        "outputId": "b50b4306-e295-45fd-c3cc-b8c78a269ccc",
        "colab": {
          "base_uri": "https://localhost:8080/"
        },
        "collapsed": true
      },
      "outputs": [
        {
          "output_type": "stream",
          "name": "stdout",
          "text": [
            "Help on class SnowballStemmer in module nltk.stem.snowball:\n",
            "\n",
            "class SnowballStemmer(nltk.stem.api.StemmerI)\n",
            " |  SnowballStemmer(language, ignore_stopwords=False)\n",
            " |  \n",
            " |  Snowball Stemmer\n",
            " |  \n",
            " |  The following languages are supported:\n",
            " |  Arabic, Danish, Dutch, English, Finnish, French, German,\n",
            " |  Hungarian, Italian, Norwegian, Portuguese, Romanian, Russian,\n",
            " |  Spanish and Swedish.\n",
            " |  \n",
            " |  The algorithm for English is documented here:\n",
            " |  \n",
            " |      Porter, M. \"An algorithm for suffix stripping.\"\n",
            " |      Program 14.3 (1980): 130-137.\n",
            " |  \n",
            " |  The algorithms have been developed by Martin Porter.\n",
            " |  These stemmers are called Snowball, because Porter created\n",
            " |  a programming language with this name for creating\n",
            " |  new stemming algorithms. There is more information available\n",
            " |  at http://snowball.tartarus.org/\n",
            " |  \n",
            " |  The stemmer is invoked as shown below:\n",
            " |  \n",
            " |  >>> from nltk.stem import SnowballStemmer # See which languages are supported\n",
            " |  >>> print(\" \".join(SnowballStemmer.languages)) # doctest: +NORMALIZE_WHITESPACE\n",
            " |  arabic danish dutch english finnish french german hungarian\n",
            " |  italian norwegian porter portuguese romanian russian\n",
            " |  spanish swedish\n",
            " |  >>> stemmer = SnowballStemmer(\"german\") # Choose a language\n",
            " |  >>> stemmer.stem(\"Autobahnen\") # Stem a word\n",
            " |  'autobahn'\n",
            " |  \n",
            " |  Invoking the stemmers that way is useful if you do not know the\n",
            " |  language to be stemmed at runtime. Alternatively, if you already know\n",
            " |  the language, then you can invoke the language specific stemmer directly:\n",
            " |  \n",
            " |  >>> from nltk.stem.snowball import GermanStemmer\n",
            " |  >>> stemmer = GermanStemmer()\n",
            " |  >>> stemmer.stem(\"Autobahnen\")\n",
            " |  'autobahn'\n",
            " |  \n",
            " |  :param language: The language whose subclass is instantiated.\n",
            " |  :type language: str or unicode\n",
            " |  :param ignore_stopwords: If set to True, stopwords are\n",
            " |                           not stemmed and returned unchanged.\n",
            " |                           Set to False by default.\n",
            " |  :type ignore_stopwords: bool\n",
            " |  :raise ValueError: If there is no stemmer for the specified\n",
            " |                         language, a ValueError is raised.\n",
            " |  \n",
            " |  Method resolution order:\n",
            " |      SnowballStemmer\n",
            " |      nltk.stem.api.StemmerI\n",
            " |      builtins.object\n",
            " |  \n",
            " |  Methods defined here:\n",
            " |  \n",
            " |  __init__(self, language, ignore_stopwords=False)\n",
            " |      Initialize self.  See help(type(self)) for accurate signature.\n",
            " |  \n",
            " |  stem(self, token)\n",
            " |      Strip affixes from the token and return the stem.\n",
            " |      \n",
            " |      :param token: The token that should be stemmed.\n",
            " |      :type token: str\n",
            " |  \n",
            " |  ----------------------------------------------------------------------\n",
            " |  Data and other attributes defined here:\n",
            " |  \n",
            " |  __abstractmethods__ = frozenset()\n",
            " |  \n",
            " |  languages = ('arabic', 'danish', 'dutch', 'english', 'finnish', 'frenc...\n",
            " |  \n",
            " |  ----------------------------------------------------------------------\n",
            " |  Data descriptors inherited from nltk.stem.api.StemmerI:\n",
            " |  \n",
            " |  __dict__\n",
            " |      dictionary for instance variables (if defined)\n",
            " |  \n",
            " |  __weakref__\n",
            " |      list of weak references to the object (if defined)\n",
            "\n"
          ]
        }
      ],
      "source": [
        "help(SnowballStemmer)"
      ]
    },
    {
      "cell_type": "code",
      "execution_count": 134,
      "id": "5ec3004f-5d83-43fc-a3e1-c7e779720247",
      "metadata": {
        "id": "5ec3004f-5d83-43fc-a3e1-c7e779720247"
      },
      "outputs": [],
      "source": [
        "ss = SnowballStemmer(language ='english')"
      ]
    },
    {
      "cell_type": "code",
      "execution_count": 135,
      "id": "c56d00d1-5b10-405b-9f31-e51723af4e12",
      "metadata": {
        "id": "c56d00d1-5b10-405b-9f31-e51723af4e12",
        "outputId": "a3289b39-4043-4d06-d60f-92d7b7b6939a",
        "colab": {
          "base_uri": "https://localhost:8080/"
        }
      },
      "outputs": [
        {
          "output_type": "stream",
          "name": "stdout",
          "text": [
            "managing ---> manag\n",
            "manage ---> manag\n",
            "management ---> manag\n",
            "managerial ---> manageri\n",
            "managed ---> manag\n"
          ]
        }
      ],
      "source": [
        "for word in words1:\n",
        "    print(word,'--->',ss.stem(word))"
      ]
    },
    {
      "cell_type": "code",
      "execution_count": 136,
      "id": "c8cac55d-b745-4cb9-84b7-e7453f78b6a8",
      "metadata": {
        "id": "c8cac55d-b745-4cb9-84b7-e7453f78b6a8",
        "outputId": "8e4312f5-47c3-4d52-aae4-a0c1ff51c390",
        "colab": {
          "base_uri": "https://localhost:8080/"
        }
      },
      "outputs": [
        {
          "output_type": "stream",
          "name": "stdout",
          "text": [
            "worked ---> work\n",
            "workable ---> workabl\n",
            "working ---> work\n",
            "worked ---> work\n"
          ]
        }
      ],
      "source": [
        "for word in words2:\n",
        "    print(word,'--->',ss.stem(word))"
      ]
    },
    {
      "cell_type": "code",
      "execution_count": 137,
      "id": "e134ad28-0af9-4283-969a-941009e9a7bd",
      "metadata": {
        "id": "e134ad28-0af9-4283-969a-941009e9a7bd",
        "outputId": "8a3a2b05-49e2-470f-dffd-811a7884071d",
        "colab": {
          "base_uri": "https://localhost:8080/"
        }
      },
      "outputs": [
        {
          "output_type": "stream",
          "name": "stdout",
          "text": [
            "big ---> big\n",
            "biggest ---> biggest\n",
            "bigger ---> bigger\n"
          ]
        }
      ],
      "source": [
        "for word in words3:\n",
        "    print(word,'--->',ss.stem(word))"
      ]
    },
    {
      "cell_type": "code",
      "execution_count": 138,
      "id": "1f595d0c-1b38-450b-a222-74cd0d2f1544",
      "metadata": {
        "id": "1f595d0c-1b38-450b-a222-74cd0d2f1544",
        "outputId": "befe7ecc-5bfe-4bbf-cd66-ef7b52c74cdb",
        "colab": {
          "base_uri": "https://localhost:8080/"
        }
      },
      "outputs": [
        {
          "output_type": "stream",
          "name": "stdout",
          "text": [
            "go ---> go\n",
            "gone ---> gone\n",
            "went ---> went\n",
            "going ---> go\n"
          ]
        }
      ],
      "source": [
        "for word in words4:\n",
        "    print(word,'--->',ss.stem(word))"
      ]
    },
    {
      "cell_type": "code",
      "execution_count": 139,
      "id": "b02ddb84-8404-4e81-a226-81bc0dae6459",
      "metadata": {
        "id": "b02ddb84-8404-4e81-a226-81bc0dae6459",
        "outputId": "efb36092-0022-4767-e7a6-fbda841c1317",
        "colab": {
          "base_uri": "https://localhost:8080/"
        }
      },
      "outputs": [
        {
          "output_type": "stream",
          "name": "stdout",
          "text": [
            "association ---> associ\n",
            "associated ---> associ\n",
            "associate ---> associ\n"
          ]
        }
      ],
      "source": [
        "for word in words5:\n",
        "    print(word,'--->',ss.stem(word))"
      ]
    },
    {
      "cell_type": "code",
      "execution_count": 140,
      "id": "54cd4b93-af5d-407d-91ac-009872734695",
      "metadata": {
        "id": "54cd4b93-af5d-407d-91ac-009872734695",
        "outputId": "eb4dfa59-d1e5-4e81-e24b-ee364a264221",
        "colab": {
          "base_uri": "https://localhost:8080/"
        }
      },
      "outputs": [
        {
          "output_type": "execute_result",
          "data": {
            "text/plain": [
              "('arabic',\n",
              " 'danish',\n",
              " 'dutch',\n",
              " 'english',\n",
              " 'finnish',\n",
              " 'french',\n",
              " 'german',\n",
              " 'hungarian',\n",
              " 'italian',\n",
              " 'norwegian',\n",
              " 'porter',\n",
              " 'portuguese',\n",
              " 'romanian',\n",
              " 'russian',\n",
              " 'spanish',\n",
              " 'swedish')"
            ]
          },
          "metadata": {},
          "execution_count": 140
        }
      ],
      "source": [
        "ss.languages"
      ]
    }
  ],
  "metadata": {
    "kernelspec": {
      "display_name": "Python 3 (ipykernel)",
      "language": "python",
      "name": "python3"
    },
    "language_info": {
      "codemirror_mode": {
        "name": "ipython",
        "version": 3
      },
      "file_extension": ".py",
      "mimetype": "text/x-python",
      "name": "python",
      "nbconvert_exporter": "python",
      "pygments_lexer": "ipython3",
      "version": "3.12.7"
    },
    "colab": {
      "provenance": []
    }
  },
  "nbformat": 4,
  "nbformat_minor": 5
}