{
  "cells": [
    {
      "cell_type": "code",
      "execution_count": 1,
      "id": "14429d39-4562-4216-9bbc-42b36f45ed9d",
      "metadata": {
        "id": "14429d39-4562-4216-9bbc-42b36f45ed9d"
      },
      "outputs": [],
      "source": [
        "import spacy"
      ]
    },
    {
      "cell_type": "code",
      "execution_count": 2,
      "id": "0276d50b-582b-4c9c-a039-b0596780bfc7",
      "metadata": {
        "colab": {
          "base_uri": "https://localhost:8080/"
        },
        "id": "0276d50b-582b-4c9c-a039-b0596780bfc7",
        "outputId": "3e7362c5-2c95-44ca-a0df-11416225e864"
      },
      "outputs": [
        {
          "output_type": "stream",
          "name": "stdout",
          "text": [
            "Collecting en-core-web-sm==3.7.1\n",
            "  Downloading https://github.com/explosion/spacy-models/releases/download/en_core_web_sm-3.7.1/en_core_web_sm-3.7.1-py3-none-any.whl (12.8 MB)\n",
            "\u001b[2K     \u001b[90m━━━━━━━━━━━━━━━━━━━━━━━━━━━━━━━━━━━━━━━━\u001b[0m \u001b[32m12.8/12.8 MB\u001b[0m \u001b[31m38.3 MB/s\u001b[0m eta \u001b[36m0:00:00\u001b[0m\n",
            "\u001b[?25hRequirement already satisfied: spacy<3.8.0,>=3.7.2 in /usr/local/lib/python3.10/dist-packages (from en-core-web-sm==3.7.1) (3.7.5)\n",
            "Requirement already satisfied: spacy-legacy<3.1.0,>=3.0.11 in /usr/local/lib/python3.10/dist-packages (from spacy<3.8.0,>=3.7.2->en-core-web-sm==3.7.1) (3.0.12)\n",
            "Requirement already satisfied: spacy-loggers<2.0.0,>=1.0.0 in /usr/local/lib/python3.10/dist-packages (from spacy<3.8.0,>=3.7.2->en-core-web-sm==3.7.1) (1.0.5)\n",
            "Requirement already satisfied: murmurhash<1.1.0,>=0.28.0 in /usr/local/lib/python3.10/dist-packages (from spacy<3.8.0,>=3.7.2->en-core-web-sm==3.7.1) (1.0.11)\n",
            "Requirement already satisfied: cymem<2.1.0,>=2.0.2 in /usr/local/lib/python3.10/dist-packages (from spacy<3.8.0,>=3.7.2->en-core-web-sm==3.7.1) (2.0.10)\n",
            "Requirement already satisfied: preshed<3.1.0,>=3.0.2 in /usr/local/lib/python3.10/dist-packages (from spacy<3.8.0,>=3.7.2->en-core-web-sm==3.7.1) (3.0.9)\n",
            "Requirement already satisfied: thinc<8.3.0,>=8.2.2 in /usr/local/lib/python3.10/dist-packages (from spacy<3.8.0,>=3.7.2->en-core-web-sm==3.7.1) (8.2.5)\n",
            "Requirement already satisfied: wasabi<1.2.0,>=0.9.1 in /usr/local/lib/python3.10/dist-packages (from spacy<3.8.0,>=3.7.2->en-core-web-sm==3.7.1) (1.1.3)\n",
            "Requirement already satisfied: srsly<3.0.0,>=2.4.3 in /usr/local/lib/python3.10/dist-packages (from spacy<3.8.0,>=3.7.2->en-core-web-sm==3.7.1) (2.5.0)\n",
            "Requirement already satisfied: catalogue<2.1.0,>=2.0.6 in /usr/local/lib/python3.10/dist-packages (from spacy<3.8.0,>=3.7.2->en-core-web-sm==3.7.1) (2.0.10)\n",
            "Requirement already satisfied: weasel<0.5.0,>=0.1.0 in /usr/local/lib/python3.10/dist-packages (from spacy<3.8.0,>=3.7.2->en-core-web-sm==3.7.1) (0.4.1)\n",
            "Requirement already satisfied: typer<1.0.0,>=0.3.0 in /usr/local/lib/python3.10/dist-packages (from spacy<3.8.0,>=3.7.2->en-core-web-sm==3.7.1) (0.15.1)\n",
            "Requirement already satisfied: tqdm<5.0.0,>=4.38.0 in /usr/local/lib/python3.10/dist-packages (from spacy<3.8.0,>=3.7.2->en-core-web-sm==3.7.1) (4.66.6)\n",
            "Requirement already satisfied: requests<3.0.0,>=2.13.0 in /usr/local/lib/python3.10/dist-packages (from spacy<3.8.0,>=3.7.2->en-core-web-sm==3.7.1) (2.32.3)\n",
            "Requirement already satisfied: pydantic!=1.8,!=1.8.1,<3.0.0,>=1.7.4 in /usr/local/lib/python3.10/dist-packages (from spacy<3.8.0,>=3.7.2->en-core-web-sm==3.7.1) (2.10.3)\n",
            "Requirement already satisfied: jinja2 in /usr/local/lib/python3.10/dist-packages (from spacy<3.8.0,>=3.7.2->en-core-web-sm==3.7.1) (3.1.4)\n",
            "Requirement already satisfied: setuptools in /usr/local/lib/python3.10/dist-packages (from spacy<3.8.0,>=3.7.2->en-core-web-sm==3.7.1) (75.1.0)\n",
            "Requirement already satisfied: packaging>=20.0 in /usr/local/lib/python3.10/dist-packages (from spacy<3.8.0,>=3.7.2->en-core-web-sm==3.7.1) (24.2)\n",
            "Requirement already satisfied: langcodes<4.0.0,>=3.2.0 in /usr/local/lib/python3.10/dist-packages (from spacy<3.8.0,>=3.7.2->en-core-web-sm==3.7.1) (3.5.0)\n",
            "Requirement already satisfied: numpy>=1.19.0 in /usr/local/lib/python3.10/dist-packages (from spacy<3.8.0,>=3.7.2->en-core-web-sm==3.7.1) (1.26.4)\n",
            "Requirement already satisfied: language-data>=1.2 in /usr/local/lib/python3.10/dist-packages (from langcodes<4.0.0,>=3.2.0->spacy<3.8.0,>=3.7.2->en-core-web-sm==3.7.1) (1.3.0)\n",
            "Requirement already satisfied: annotated-types>=0.6.0 in /usr/local/lib/python3.10/dist-packages (from pydantic!=1.8,!=1.8.1,<3.0.0,>=1.7.4->spacy<3.8.0,>=3.7.2->en-core-web-sm==3.7.1) (0.7.0)\n",
            "Requirement already satisfied: pydantic-core==2.27.1 in /usr/local/lib/python3.10/dist-packages (from pydantic!=1.8,!=1.8.1,<3.0.0,>=1.7.4->spacy<3.8.0,>=3.7.2->en-core-web-sm==3.7.1) (2.27.1)\n",
            "Requirement already satisfied: typing-extensions>=4.12.2 in /usr/local/lib/python3.10/dist-packages (from pydantic!=1.8,!=1.8.1,<3.0.0,>=1.7.4->spacy<3.8.0,>=3.7.2->en-core-web-sm==3.7.1) (4.12.2)\n",
            "Requirement already satisfied: charset-normalizer<4,>=2 in /usr/local/lib/python3.10/dist-packages (from requests<3.0.0,>=2.13.0->spacy<3.8.0,>=3.7.2->en-core-web-sm==3.7.1) (3.4.0)\n",
            "Requirement already satisfied: idna<4,>=2.5 in /usr/local/lib/python3.10/dist-packages (from requests<3.0.0,>=2.13.0->spacy<3.8.0,>=3.7.2->en-core-web-sm==3.7.1) (3.10)\n",
            "Requirement already satisfied: urllib3<3,>=1.21.1 in /usr/local/lib/python3.10/dist-packages (from requests<3.0.0,>=2.13.0->spacy<3.8.0,>=3.7.2->en-core-web-sm==3.7.1) (2.2.3)\n",
            "Requirement already satisfied: certifi>=2017.4.17 in /usr/local/lib/python3.10/dist-packages (from requests<3.0.0,>=2.13.0->spacy<3.8.0,>=3.7.2->en-core-web-sm==3.7.1) (2024.8.30)\n",
            "Requirement already satisfied: blis<0.8.0,>=0.7.8 in /usr/local/lib/python3.10/dist-packages (from thinc<8.3.0,>=8.2.2->spacy<3.8.0,>=3.7.2->en-core-web-sm==3.7.1) (0.7.11)\n",
            "Requirement already satisfied: confection<1.0.0,>=0.0.1 in /usr/local/lib/python3.10/dist-packages (from thinc<8.3.0,>=8.2.2->spacy<3.8.0,>=3.7.2->en-core-web-sm==3.7.1) (0.1.5)\n",
            "Requirement already satisfied: click>=8.0.0 in /usr/local/lib/python3.10/dist-packages (from typer<1.0.0,>=0.3.0->spacy<3.8.0,>=3.7.2->en-core-web-sm==3.7.1) (8.1.7)\n",
            "Requirement already satisfied: shellingham>=1.3.0 in /usr/local/lib/python3.10/dist-packages (from typer<1.0.0,>=0.3.0->spacy<3.8.0,>=3.7.2->en-core-web-sm==3.7.1) (1.5.4)\n",
            "Requirement already satisfied: rich>=10.11.0 in /usr/local/lib/python3.10/dist-packages (from typer<1.0.0,>=0.3.0->spacy<3.8.0,>=3.7.2->en-core-web-sm==3.7.1) (13.9.4)\n",
            "Requirement already satisfied: cloudpathlib<1.0.0,>=0.7.0 in /usr/local/lib/python3.10/dist-packages (from weasel<0.5.0,>=0.1.0->spacy<3.8.0,>=3.7.2->en-core-web-sm==3.7.1) (0.20.0)\n",
            "Requirement already satisfied: smart-open<8.0.0,>=5.2.1 in /usr/local/lib/python3.10/dist-packages (from weasel<0.5.0,>=0.1.0->spacy<3.8.0,>=3.7.2->en-core-web-sm==3.7.1) (7.0.5)\n",
            "Requirement already satisfied: MarkupSafe>=2.0 in /usr/local/lib/python3.10/dist-packages (from jinja2->spacy<3.8.0,>=3.7.2->en-core-web-sm==3.7.1) (3.0.2)\n",
            "Requirement already satisfied: marisa-trie>=1.1.0 in /usr/local/lib/python3.10/dist-packages (from language-data>=1.2->langcodes<4.0.0,>=3.2.0->spacy<3.8.0,>=3.7.2->en-core-web-sm==3.7.1) (1.2.1)\n",
            "Requirement already satisfied: markdown-it-py>=2.2.0 in /usr/local/lib/python3.10/dist-packages (from rich>=10.11.0->typer<1.0.0,>=0.3.0->spacy<3.8.0,>=3.7.2->en-core-web-sm==3.7.1) (3.0.0)\n",
            "Requirement already satisfied: pygments<3.0.0,>=2.13.0 in /usr/local/lib/python3.10/dist-packages (from rich>=10.11.0->typer<1.0.0,>=0.3.0->spacy<3.8.0,>=3.7.2->en-core-web-sm==3.7.1) (2.18.0)\n",
            "Requirement already satisfied: wrapt in /usr/local/lib/python3.10/dist-packages (from smart-open<8.0.0,>=5.2.1->weasel<0.5.0,>=0.1.0->spacy<3.8.0,>=3.7.2->en-core-web-sm==3.7.1) (1.17.0)\n",
            "Requirement already satisfied: mdurl~=0.1 in /usr/local/lib/python3.10/dist-packages (from markdown-it-py>=2.2.0->rich>=10.11.0->typer<1.0.0,>=0.3.0->spacy<3.8.0,>=3.7.2->en-core-web-sm==3.7.1) (0.1.2)\n",
            "\u001b[38;5;2m✔ Download and installation successful\u001b[0m\n",
            "You can now load the package via spacy.load('en_core_web_sm')\n",
            "\u001b[38;5;3m⚠ Restart to reload dependencies\u001b[0m\n",
            "If you are in a Jupyter or Colab notebook, you may need to restart Python in\n",
            "order to load all the package's dependencies. You can do this by selecting the\n",
            "'Restart kernel' or 'Restart runtime' option.\n"
          ]
        }
      ],
      "source": [
        "!python -m spacy download en_core_web_sm"
      ]
    },
    {
      "cell_type": "markdown",
      "id": "41a30dbc-aca4-4677-ab3d-4128f910c3e5",
      "metadata": {
        "id": "41a30dbc-aca4-4677-ab3d-4128f910c3e5"
      },
      "source": [
        "### Common NER Entity Types:\n",
        "- PERSON: Names of people (e.g., \"Barack Obama\", \"Albert Einstein\").\n",
        "- NORP: Nationalities or religious/political groups (e.g., \"American\", \"Christian\", \"Democrats\").\n",
        "- FAC: Buildings, airports, highways, bridges, etc. (e.g., \"Eiffel Tower\", \"Berlin Airport\").\n",
        "- ORG: Organizations (e.g., \"Google\", \"United Nations\", \"Microsoft\").\n",
        "- GPE: Geo-political entities (countries, cities, states) (e.g., \"USA\", \"New York\", \"India\").\n",
        "- LOC: Non-political locations (mountains, bodies of water, etc.) (e.g., \"Mount Everest\", \"Amazon River\").\n",
        "- PRODUCT: Products, including physical objects and services (e.g., \"iPhone\", \"Tesla Model S\").\n",
        "- EVENT: Events, including festivals, wars, sports events, etc. (e.g., \"World War II\", \"Super Bowl\").\n",
        "- WORK_OF_ART: Books, paintings, songs, movies, etc. (e.g., \"Mona Lisa\", \"Harry Potter\").\n",
        "- LAW: Named laws or legal regulations (e.g., \"The Constitution\", \"Antitrust Law\").\n",
        "- LANGUAGE: Languages (e.g., \"English\", \"Spanish\", \"Mandarin\").\n",
        "- DATE: Absolute or relative dates (e.g., \"January 1, 2024\", \"next week\").\n",
        "- TIME: Time expressions (e.g., \"2 PM\", \"morning\").\n",
        "- PERCENT: Percentage expressions (e.g., \"25%\", \"50 percent\").\n",
        "- MONEY: Monetary values (e.g., \"$100\", \"€50\").\n",
        "- QUANTITY: Quantities (e.g., \"100 kilograms\", \"3 liters\").\n",
        "- ORDINAL: Ordinal numbers (e.g., \"first\", \"second\").\n",
        "- CARDINAL: Cardinal numbers (e.g., \"one\", \"100\")"
      ]
    },
    {
      "cell_type": "code",
      "execution_count": 3,
      "id": "cfe657a4-0526-491d-a3cd-55e6f9a4dac1",
      "metadata": {
        "colab": {
          "base_uri": "https://localhost:8080/",
          "height": 35
        },
        "id": "cfe657a4-0526-491d-a3cd-55e6f9a4dac1",
        "outputId": "9c97cf99-440c-4ddb-fe0c-14029f8bed58"
      },
      "outputs": [
        {
          "output_type": "execute_result",
          "data": {
            "text/plain": [
              "'People, including fictional'"
            ],
            "application/vnd.google.colaboratory.intrinsic+json": {
              "type": "string"
            }
          },
          "metadata": {},
          "execution_count": 3
        }
      ],
      "source": [
        "spacy.explain('PERSON')"
      ]
    },
    {
      "cell_type": "code",
      "execution_count": 4,
      "id": "cc128450-164e-47d1-a304-ad20c974a5dd",
      "metadata": {
        "colab": {
          "base_uri": "https://localhost:8080/",
          "height": 35
        },
        "id": "cc128450-164e-47d1-a304-ad20c974a5dd",
        "outputId": "02286581-4868-46e2-9f64-a5c153ce0f92"
      },
      "outputs": [
        {
          "output_type": "execute_result",
          "data": {
            "text/plain": [
              "'Named hurricanes, battles, wars, sports events, etc.'"
            ],
            "application/vnd.google.colaboratory.intrinsic+json": {
              "type": "string"
            }
          },
          "metadata": {},
          "execution_count": 4
        }
      ],
      "source": [
        "spacy.explain('EVENT')"
      ]
    },
    {
      "cell_type": "code",
      "execution_count": 5,
      "id": "6f1c7e9d-b91d-4e60-8c5c-1301213717d5",
      "metadata": {
        "colab": {
          "base_uri": "https://localhost:8080/",
          "height": 35
        },
        "id": "6f1c7e9d-b91d-4e60-8c5c-1301213717d5",
        "outputId": "62968eee-4cdb-4fed-ee96-4449433f185a"
      },
      "outputs": [
        {
          "output_type": "execute_result",
          "data": {
            "text/plain": [
              "'Objects, vehicles, foods, etc. (not services)'"
            ],
            "application/vnd.google.colaboratory.intrinsic+json": {
              "type": "string"
            }
          },
          "metadata": {},
          "execution_count": 5
        }
      ],
      "source": [
        "spacy.explain('PRODUCT')"
      ]
    },
    {
      "cell_type": "markdown",
      "id": "6ea1d2e7-a9df-4555-a9d7-a837858d01e1",
      "metadata": {
        "id": "6ea1d2e7-a9df-4555-a9d7-a837858d01e1"
      },
      "source": [
        "### <b>```Apply Named entity recognition using spacy```</b>\n",
        " - That are better than nltk"
      ]
    },
    {
      "cell_type": "markdown",
      "id": "d6081e11-3b81-41ab-8b80-3cef55c52ec6",
      "metadata": {
        "id": "d6081e11-3b81-41ab-8b80-3cef55c52ec6"
      },
      "source": [
        "### 1."
      ]
    },
    {
      "cell_type": "code",
      "execution_count": 6,
      "id": "ddcdb061-3332-480f-aa28-fe4ff461fd20",
      "metadata": {
        "id": "ddcdb061-3332-480f-aa28-fe4ff461fd20"
      },
      "outputs": [],
      "source": [
        "nlp = spacy.load('en_core_web_sm')"
      ]
    },
    {
      "cell_type": "code",
      "execution_count": 7,
      "id": "9d78be68-ddd5-4b64-ab75-01fc36258cff",
      "metadata": {
        "id": "9d78be68-ddd5-4b64-ab75-01fc36258cff"
      },
      "outputs": [],
      "source": [
        "sent = nlp('''Mark Zukerberg will went Aditya Joshi in New York, USA on Monday 21, 2024 4pm for $3 Trillion deal.''')"
      ]
    },
    {
      "cell_type": "code",
      "execution_count": 8,
      "id": "17665157-0cb4-4163-bf15-71f4218a5e06",
      "metadata": {
        "colab": {
          "base_uri": "https://localhost:8080/"
        },
        "id": "17665157-0cb4-4163-bf15-71f4218a5e06",
        "outputId": "e412b2b0-777f-4772-bc5c-f2521541ba29"
      },
      "outputs": [
        {
          "output_type": "execute_result",
          "data": {
            "text/plain": [
              "(Mark Zukerberg, Aditya Joshi, New York, USA, Monday 21, 2024 4, $3 Trillion)"
            ]
          },
          "metadata": {},
          "execution_count": 8
        }
      ],
      "source": [
        "sent.ents   # all the entity of above sentence"
      ]
    },
    {
      "cell_type": "code",
      "execution_count": 9,
      "id": "b5fe742b-5b5d-4f66-b022-50b4ca258b96",
      "metadata": {
        "colab": {
          "base_uri": "https://localhost:8080/"
        },
        "id": "b5fe742b-5b5d-4f66-b022-50b4ca258b96",
        "outputId": "eca00b40-3028-46d9-fc50-f771c3068a11"
      },
      "outputs": [
        {
          "output_type": "stream",
          "name": "stdout",
          "text": [
            "Mark Zukerberg ----> PERSON ::: People, including fictional\n",
            "Aditya Joshi ----> PERSON ::: People, including fictional\n",
            "New York ----> GPE ::: Countries, cities, states\n",
            "USA ----> GPE ::: Countries, cities, states\n",
            "Monday 21, 2024 4 ----> DATE ::: Absolute or relative dates or periods\n",
            "$3 Trillion ----> MONEY ::: Monetary values, including unit\n"
          ]
        }
      ],
      "source": [
        "for word in sent.ents:\n",
        "\n",
        "    # here, word.label_ ==  entity type(\"GPE\" for Geo-Political Entity, \"PERSON\" for a person, etc.)\n",
        "    print(word,'---->',word.label_,\":::\",spacy.explain(word.label_))\n",
        ""
      ]
    },
    {
      "cell_type": "code",
      "execution_count": 9,
      "id": "34db6dbf-99cb-466f-982d-31235eb815a4",
      "metadata": {
        "id": "34db6dbf-99cb-466f-982d-31235eb815a4"
      },
      "outputs": [],
      "source": []
    },
    {
      "cell_type": "markdown",
      "id": "c75f9a64-fcd3-4961-af59-b7dd5827645f",
      "metadata": {
        "id": "c75f9a64-fcd3-4961-af59-b7dd5827645f"
      },
      "source": [
        "### 2."
      ]
    },
    {
      "cell_type": "code",
      "execution_count": 10,
      "id": "fe93d29d-aaaf-4d1d-b486-cc0baba9e1d6",
      "metadata": {
        "colab": {
          "base_uri": "https://localhost:8080/"
        },
        "id": "fe93d29d-aaaf-4d1d-b486-cc0baba9e1d6",
        "outputId": "b26cdb75-2c04-447b-8a5b-915249d226cd"
      },
      "outputs": [
        {
          "output_type": "stream",
          "name": "stdout",
          "text": [
            "Sachin Tendulkar ----> PERSON ::: People, including fictional\n",
            "Mumbai ----> GPE ::: Countries, cities, states\n",
            "India ----> GPE ::: Countries, cities, states\n",
            "April 24, 1974 ----> DATE ::: Absolute or relative dates or periods\n"
          ]
        }
      ],
      "source": [
        "text = \"Sachin Tendulkar was born in Mumbai, India on April 24, 1974.\"\n",
        "\n",
        "sent = nlp(text)\n",
        "\n",
        "for word in sent.ents:\n",
        "\n",
        "    # here, word.label_ ==  entity type(\"GPE\" for Geo-Political Entity, \"PERSON\" for a person, etc.)\n",
        "    print(word,'---->',word.label_,\":::\",spacy.explain(word.label_))   # here, date also recognize bcz of spacy, which is not recognize by nltk in previous file"
      ]
    },
    {
      "cell_type": "code",
      "execution_count": 10,
      "id": "efddd5fd-0869-447d-ab3f-eb72837d0841",
      "metadata": {
        "id": "efddd5fd-0869-447d-ab3f-eb72837d0841"
      },
      "outputs": [],
      "source": []
    },
    {
      "cell_type": "markdown",
      "id": "0f25680b-8bcc-41bd-9d6c-f6a4ded8cb01",
      "metadata": {
        "id": "0f25680b-8bcc-41bd-9d6c-f6a4ded8cb01"
      },
      "source": [
        "### 3."
      ]
    },
    {
      "cell_type": "code",
      "execution_count": 11,
      "id": "9fb7e91a-271b-490d-aba7-d34e9cac6bb5",
      "metadata": {
        "id": "9fb7e91a-271b-490d-aba7-d34e9cac6bb5"
      },
      "outputs": [],
      "source": [
        "text = '''Indigenous people have lived in Alaska for thousands of years, and it is widely believed that the region served as the entry point for the initial settlement of North America by way of the Bering land bridge. The Russian Empire was the first to actively colonize the area beginning in the 18th century, eventually establishing Russian America, which spanned most of the current state and promoted and maintained a native Alaskan Creole population.[7] The expense and logistical difficulty of maintaining this distant possession prompted its sale to the U.S. in 1867 for US$7.2 million (equivalent to $157 million in 2023). The area went through several administrative changes before becoming organized as a territory on May 11, 1912. It was admitted as the 49th state of the U.S. on January 3, 1959.'''"
      ]
    },
    {
      "cell_type": "code",
      "execution_count": 12,
      "id": "5b650b2f-fd7c-416a-8445-5ef2da595e11",
      "metadata": {
        "colab": {
          "base_uri": "https://localhost:8080/"
        },
        "id": "5b650b2f-fd7c-416a-8445-5ef2da595e11",
        "outputId": "7bfd0c2a-0bfc-4622-ee2d-bc296005d8bb"
      },
      "outputs": [
        {
          "output_type": "stream",
          "name": "stdout",
          "text": [
            "Alaska ----> GPE ::: Countries, cities, states\n",
            "thousands of years ----> DATE ::: Absolute or relative dates or periods\n",
            "North America ----> LOC ::: Non-GPE locations, mountain ranges, bodies of water\n",
            "The Russian Empire ----> GPE ::: Countries, cities, states\n",
            "first ----> ORDINAL ::: \"first\", \"second\", etc.\n",
            "the 18th century ----> DATE ::: Absolute or relative dates or periods\n",
            "Russian America ----> LOC ::: Non-GPE locations, mountain ranges, bodies of water\n",
            "Alaskan ----> NORP ::: Nationalities or religious or political groups\n",
            "U.S. ----> GPE ::: Countries, cities, states\n",
            "1867 ----> DATE ::: Absolute or relative dates or periods\n",
            "US$7.2 million ----> MONEY ::: Monetary values, including unit\n",
            "$157 million ----> MONEY ::: Monetary values, including unit\n",
            "2023 ----> DATE ::: Absolute or relative dates or periods\n",
            "May 11, 1912 ----> DATE ::: Absolute or relative dates or periods\n",
            "49th ----> ORDINAL ::: \"first\", \"second\", etc.\n",
            "U.S. ----> GPE ::: Countries, cities, states\n",
            "January 3, 1959 ----> DATE ::: Absolute or relative dates or periods\n"
          ]
        }
      ],
      "source": [
        "sent = nlp(text)\n",
        "\n",
        "for word in sent.ents:\n",
        "\n",
        "    # here, word.label_ ==  entity type(\"GPE\" for Geo-Political Entity, \"PERSON\" for a person, etc.)\n",
        "    print(word,'---->',word.label_,\":::\",spacy.explain(word.label_))"
      ]
    },
    {
      "cell_type": "code",
      "execution_count": 12,
      "id": "f4765789-7c98-4497-b6d8-c0ac80e46104",
      "metadata": {
        "id": "f4765789-7c98-4497-b6d8-c0ac80e46104"
      },
      "outputs": [],
      "source": []
    },
    {
      "cell_type": "markdown",
      "id": "cf10564d-2b69-4552-a458-baea719fb67e",
      "metadata": {
        "id": "cf10564d-2b69-4552-a458-baea719fb67e"
      },
      "source": [
        "### <b>```Display the NER in interactive way```</b>"
      ]
    },
    {
      "cell_type": "code",
      "execution_count": 13,
      "id": "b659aef8-8660-4e08-8eda-debc145bc088",
      "metadata": {
        "id": "b659aef8-8660-4e08-8eda-debc145bc088"
      },
      "outputs": [],
      "source": [
        "from spacy import displacy"
      ]
    },
    {
      "cell_type": "code",
      "execution_count": 14,
      "id": "97cdd5eb-e2cb-4baa-a8f9-1a4373951f4d",
      "metadata": {
        "colab": {
          "base_uri": "https://localhost:8080/",
          "height": 192
        },
        "id": "97cdd5eb-e2cb-4baa-a8f9-1a4373951f4d",
        "outputId": "0e0f12fb-04ec-43f7-cfe4-a72a92b88754"
      },
      "outputs": [
        {
          "output_type": "display_data",
          "data": {
            "text/plain": [
              "<IPython.core.display.HTML object>"
            ],
            "text/html": [
              "<span class=\"tex2jax_ignore\"><div class=\"entities\" style=\"line-height: 2.5; direction: ltr\">Indigenous people have lived in \n",
              "<mark class=\"entity\" style=\"background: #feca74; padding: 0.45em 0.6em; margin: 0 0.25em; line-height: 1; border-radius: 0.35em;\">\n",
              "    Alaska\n",
              "    <span style=\"font-size: 0.8em; font-weight: bold; line-height: 1; border-radius: 0.35em; vertical-align: middle; margin-left: 0.5rem\">GPE</span>\n",
              "</mark>\n",
              " for \n",
              "<mark class=\"entity\" style=\"background: #bfe1d9; padding: 0.45em 0.6em; margin: 0 0.25em; line-height: 1; border-radius: 0.35em;\">\n",
              "    thousands of years\n",
              "    <span style=\"font-size: 0.8em; font-weight: bold; line-height: 1; border-radius: 0.35em; vertical-align: middle; margin-left: 0.5rem\">DATE</span>\n",
              "</mark>\n",
              ", and it is widely believed that the region served as the entry point for the initial settlement of \n",
              "<mark class=\"entity\" style=\"background: #ff9561; padding: 0.45em 0.6em; margin: 0 0.25em; line-height: 1; border-radius: 0.35em;\">\n",
              "    North America\n",
              "    <span style=\"font-size: 0.8em; font-weight: bold; line-height: 1; border-radius: 0.35em; vertical-align: middle; margin-left: 0.5rem\">LOC</span>\n",
              "</mark>\n",
              " by way of the Bering land bridge. \n",
              "<mark class=\"entity\" style=\"background: #feca74; padding: 0.45em 0.6em; margin: 0 0.25em; line-height: 1; border-radius: 0.35em;\">\n",
              "    The Russian Empire\n",
              "    <span style=\"font-size: 0.8em; font-weight: bold; line-height: 1; border-radius: 0.35em; vertical-align: middle; margin-left: 0.5rem\">GPE</span>\n",
              "</mark>\n",
              " was the \n",
              "<mark class=\"entity\" style=\"background: #e4e7d2; padding: 0.45em 0.6em; margin: 0 0.25em; line-height: 1; border-radius: 0.35em;\">\n",
              "    first\n",
              "    <span style=\"font-size: 0.8em; font-weight: bold; line-height: 1; border-radius: 0.35em; vertical-align: middle; margin-left: 0.5rem\">ORDINAL</span>\n",
              "</mark>\n",
              " to actively colonize the area beginning in \n",
              "<mark class=\"entity\" style=\"background: #bfe1d9; padding: 0.45em 0.6em; margin: 0 0.25em; line-height: 1; border-radius: 0.35em;\">\n",
              "    the 18th century\n",
              "    <span style=\"font-size: 0.8em; font-weight: bold; line-height: 1; border-radius: 0.35em; vertical-align: middle; margin-left: 0.5rem\">DATE</span>\n",
              "</mark>\n",
              ", eventually establishing \n",
              "<mark class=\"entity\" style=\"background: #ff9561; padding: 0.45em 0.6em; margin: 0 0.25em; line-height: 1; border-radius: 0.35em;\">\n",
              "    Russian America\n",
              "    <span style=\"font-size: 0.8em; font-weight: bold; line-height: 1; border-radius: 0.35em; vertical-align: middle; margin-left: 0.5rem\">LOC</span>\n",
              "</mark>\n",
              ", which spanned most of the current state and promoted and maintained a native \n",
              "<mark class=\"entity\" style=\"background: #c887fb; padding: 0.45em 0.6em; margin: 0 0.25em; line-height: 1; border-radius: 0.35em;\">\n",
              "    Alaskan\n",
              "    <span style=\"font-size: 0.8em; font-weight: bold; line-height: 1; border-radius: 0.35em; vertical-align: middle; margin-left: 0.5rem\">NORP</span>\n",
              "</mark>\n",
              " Creole population.[7] The expense and logistical difficulty of maintaining this distant possession prompted its sale to the \n",
              "<mark class=\"entity\" style=\"background: #feca74; padding: 0.45em 0.6em; margin: 0 0.25em; line-height: 1; border-radius: 0.35em;\">\n",
              "    U.S.\n",
              "    <span style=\"font-size: 0.8em; font-weight: bold; line-height: 1; border-radius: 0.35em; vertical-align: middle; margin-left: 0.5rem\">GPE</span>\n",
              "</mark>\n",
              " in \n",
              "<mark class=\"entity\" style=\"background: #bfe1d9; padding: 0.45em 0.6em; margin: 0 0.25em; line-height: 1; border-radius: 0.35em;\">\n",
              "    1867\n",
              "    <span style=\"font-size: 0.8em; font-weight: bold; line-height: 1; border-radius: 0.35em; vertical-align: middle; margin-left: 0.5rem\">DATE</span>\n",
              "</mark>\n",
              " for \n",
              "<mark class=\"entity\" style=\"background: #e4e7d2; padding: 0.45em 0.6em; margin: 0 0.25em; line-height: 1; border-radius: 0.35em;\">\n",
              "    US$7.2 million\n",
              "    <span style=\"font-size: 0.8em; font-weight: bold; line-height: 1; border-radius: 0.35em; vertical-align: middle; margin-left: 0.5rem\">MONEY</span>\n",
              "</mark>\n",
              " (equivalent to \n",
              "<mark class=\"entity\" style=\"background: #e4e7d2; padding: 0.45em 0.6em; margin: 0 0.25em; line-height: 1; border-radius: 0.35em;\">\n",
              "    $157 million\n",
              "    <span style=\"font-size: 0.8em; font-weight: bold; line-height: 1; border-radius: 0.35em; vertical-align: middle; margin-left: 0.5rem\">MONEY</span>\n",
              "</mark>\n",
              " in \n",
              "<mark class=\"entity\" style=\"background: #bfe1d9; padding: 0.45em 0.6em; margin: 0 0.25em; line-height: 1; border-radius: 0.35em;\">\n",
              "    2023\n",
              "    <span style=\"font-size: 0.8em; font-weight: bold; line-height: 1; border-radius: 0.35em; vertical-align: middle; margin-left: 0.5rem\">DATE</span>\n",
              "</mark>\n",
              "). The area went through several administrative changes before becoming organized as a territory on \n",
              "<mark class=\"entity\" style=\"background: #bfe1d9; padding: 0.45em 0.6em; margin: 0 0.25em; line-height: 1; border-radius: 0.35em;\">\n",
              "    May 11, 1912\n",
              "    <span style=\"font-size: 0.8em; font-weight: bold; line-height: 1; border-radius: 0.35em; vertical-align: middle; margin-left: 0.5rem\">DATE</span>\n",
              "</mark>\n",
              ". It was admitted as the \n",
              "<mark class=\"entity\" style=\"background: #e4e7d2; padding: 0.45em 0.6em; margin: 0 0.25em; line-height: 1; border-radius: 0.35em;\">\n",
              "    49th\n",
              "    <span style=\"font-size: 0.8em; font-weight: bold; line-height: 1; border-radius: 0.35em; vertical-align: middle; margin-left: 0.5rem\">ORDINAL</span>\n",
              "</mark>\n",
              " state of the \n",
              "<mark class=\"entity\" style=\"background: #feca74; padding: 0.45em 0.6em; margin: 0 0.25em; line-height: 1; border-radius: 0.35em;\">\n",
              "    U.S.\n",
              "    <span style=\"font-size: 0.8em; font-weight: bold; line-height: 1; border-radius: 0.35em; vertical-align: middle; margin-left: 0.5rem\">GPE</span>\n",
              "</mark>\n",
              " on \n",
              "<mark class=\"entity\" style=\"background: #bfe1d9; padding: 0.45em 0.6em; margin: 0 0.25em; line-height: 1; border-radius: 0.35em;\">\n",
              "    January 3, 1959\n",
              "    <span style=\"font-size: 0.8em; font-weight: bold; line-height: 1; border-radius: 0.35em; vertical-align: middle; margin-left: 0.5rem\">DATE</span>\n",
              "</mark>\n",
              ".</div></span>"
            ]
          },
          "metadata": {}
        }
      ],
      "source": [
        "displacy.render(sent, style='ent', jupyter=True)"
      ]
    }
  ],
  "metadata": {
    "kernelspec": {
      "display_name": "Python 3 (ipykernel)",
      "language": "python",
      "name": "python3"
    },
    "language_info": {
      "codemirror_mode": {
        "name": "ipython",
        "version": 3
      },
      "file_extension": ".py",
      "mimetype": "text/x-python",
      "name": "python",
      "nbconvert_exporter": "python",
      "pygments_lexer": "ipython3",
      "version": "3.12.7"
    },
    "colab": {
      "provenance": []
    }
  },
  "nbformat": 4,
  "nbformat_minor": 5
}