{
  "cells": [
    {
      "cell_type": "markdown",
      "id": "fd5604ee-2eea-4a50-b8f8-6a7a3afdb66a",
      "metadata": {
        "id": "fd5604ee-2eea-4a50-b8f8-6a7a3afdb66a"
      },
      "source": [
        "# 1. Extractive Summarization\n",
        "\n",
        "\n",
        "##### Extractive summarization is a natural language processing (NLP) technique for creating summaries by selecting and extracting the most relevant sentences or phrases directly from the original text. Unlike abstractive summarization, it doesn’t generate new sentences but focuses on identifying the most important parts of the input."
      ]
    },
    {
      "cell_type": "markdown",
      "id": "3bf20f1d-5e93-43a9-86fb-e01b00e93a21",
      "metadata": {
        "id": "3bf20f1d-5e93-43a9-86fb-e01b00e93a21"
      },
      "source": [
        "#### install necessary libraries"
      ]
    },
    {
      "cell_type": "code",
      "execution_count": 27,
      "id": "9d34d0e4-a9c0-4054-a0b4-e36dafd8001b",
      "metadata": {
        "colab": {
          "base_uri": "https://localhost:8080/"
        },
        "id": "9d34d0e4-a9c0-4054-a0b4-e36dafd8001b",
        "outputId": "be5be15f-8251-4ed5-83f2-2c10a0f3f4fa"
      },
      "outputs": [
        {
          "output_type": "stream",
          "name": "stdout",
          "text": [
            "Requirement already satisfied: sumy in /usr/local/lib/python3.10/dist-packages (0.11.0)\n",
            "Requirement already satisfied: gensim in /usr/local/lib/python3.10/dist-packages (4.3.3)\n",
            "Requirement already satisfied: docopt<0.7,>=0.6.1 in /usr/local/lib/python3.10/dist-packages (from sumy) (0.6.2)\n",
            "Requirement already satisfied: breadability>=0.1.20 in /usr/local/lib/python3.10/dist-packages (from sumy) (0.1.20)\n",
            "Requirement already satisfied: requests>=2.7.0 in /usr/local/lib/python3.10/dist-packages (from sumy) (2.32.3)\n",
            "Requirement already satisfied: pycountry>=18.2.23 in /usr/local/lib/python3.10/dist-packages (from sumy) (24.6.1)\n",
            "Requirement already satisfied: nltk>=3.0.2 in /usr/local/lib/python3.10/dist-packages (from sumy) (3.9.1)\n",
            "Requirement already satisfied: numpy<2.0,>=1.18.5 in /usr/local/lib/python3.10/dist-packages (from gensim) (1.26.4)\n",
            "Requirement already satisfied: scipy<1.14.0,>=1.7.0 in /usr/local/lib/python3.10/dist-packages (from gensim) (1.13.1)\n",
            "Requirement already satisfied: smart-open>=1.8.1 in /usr/local/lib/python3.10/dist-packages (from gensim) (7.1.0)\n",
            "Requirement already satisfied: chardet in /usr/local/lib/python3.10/dist-packages (from breadability>=0.1.20->sumy) (5.2.0)\n",
            "Requirement already satisfied: lxml>=2.0 in /usr/local/lib/python3.10/dist-packages (from breadability>=0.1.20->sumy) (5.3.0)\n",
            "Requirement already satisfied: click in /usr/local/lib/python3.10/dist-packages (from nltk>=3.0.2->sumy) (8.1.7)\n",
            "Requirement already satisfied: joblib in /usr/local/lib/python3.10/dist-packages (from nltk>=3.0.2->sumy) (1.4.2)\n",
            "Requirement already satisfied: regex>=2021.8.3 in /usr/local/lib/python3.10/dist-packages (from nltk>=3.0.2->sumy) (2024.11.6)\n",
            "Requirement already satisfied: tqdm in /usr/local/lib/python3.10/dist-packages (from nltk>=3.0.2->sumy) (4.67.1)\n",
            "Requirement already satisfied: charset-normalizer<4,>=2 in /usr/local/lib/python3.10/dist-packages (from requests>=2.7.0->sumy) (3.4.0)\n",
            "Requirement already satisfied: idna<4,>=2.5 in /usr/local/lib/python3.10/dist-packages (from requests>=2.7.0->sumy) (3.10)\n",
            "Requirement already satisfied: urllib3<3,>=1.21.1 in /usr/local/lib/python3.10/dist-packages (from requests>=2.7.0->sumy) (2.2.3)\n",
            "Requirement already satisfied: certifi>=2017.4.17 in /usr/local/lib/python3.10/dist-packages (from requests>=2.7.0->sumy) (2024.12.14)\n",
            "Requirement already satisfied: wrapt in /usr/local/lib/python3.10/dist-packages (from smart-open>=1.8.1->gensim) (1.17.0)\n"
          ]
        }
      ],
      "source": [
        "# pip install sumy gensim"
      ]
    },
    {
      "cell_type": "code",
      "execution_count": 28,
      "id": "91925cd9-aab5-4d92-b180-94be337daf08",
      "metadata": {
        "id": "91925cd9-aab5-4d92-b180-94be337daf08"
      },
      "outputs": [],
      "source": [
        "text = \"\"\"The tiger (Panthera tigris) is a large cat and a member of the genus Panthera native to Asia. It has a powerful, muscular body with a large head and paws, a long tail and orange fur with black, mostly vertical stripes. It is traditionally classified into nine recent subspecies, though some recognise only two subspecies, mainland Asian tigers and the island tigers of the Sunda Islands.\n",
        "\n",
        "Throughout the tiger's range, it inhabits mainly forests, from coniferous and temperate broadleaf and mixed forests in the Russian Far East and Northeast China to tropical and subtropical moist broadleaf forests on the Indian subcontinent and Southeast Asia. The tiger is an apex predator and preys mainly on ungulates, which it takes by ambush. It lives a mostly solitary life and occupies home ranges, defending these from individuals of the same sex. The range of a male tiger overlaps with that of multiple females with whom he mates. Females give birth to usually two or three cubs that stay with their mother for about two years. When becoming independent, they leave their mother's home range and establish their own.\n",
        "\n",
        "Since the early 20th century, tiger populations have lost at least 93% of their historic range and are locally extinct in West and Central Asia, in large areas of China and on the islands of Java and Bali. Today, the tiger's range is severely fragmented. It is listed as Endangered on the IUCN Red List of Threatened Species, as its range is thought to have declined by 53% to 68% since the late 1990s. Major threats to tigers are habitat destruction and fragmentation due to deforestation, poaching for fur and the illegal trade of body parts for medicinal purposes. Tigers are also victims of human–wildlife conflict as they attack and prey on livestock in areas where natural prey is scarce. The tiger is legally protected in all range countries. National conservation measures consist of action plans, anti-poaching patrols and schemes for monitoring tiger populations. In several range countries, wildlife corridors have been established and tiger reintroduction is planned.\n",
        "\n",
        "The tiger is among the most popular of the world's charismatic megafauna. It has been kept in captivity since ancient times and has been trained to perform in circuses and other entertainment shows. The tiger featured prominently in the ancient mythology and folklore of cultures throughout its historic range and has continued to appear in culture worldwide. The tiger has a typical felid morphology, with a muscular body, shortened legs, strong forelimbs with wide front paws, a large head and a tail that is about half the length of the rest of its body.[47][48] It has five digits, including a dewclaw, on the front feet and four on the back, all of which have retractile claws that are compact and curved, and can reach 10 cm (3.9 in) long.[47][49] The ears are rounded and the eyes have a round pupil.[47] The snout ends in a triangular, pink tip with small black dots, the number of which increase with age.[50] The tiger's skull is robust, with a constricted front region, proportionally small, elliptical orbits, long nasal bones and a lengthened cranium with a large sagittal crest.[51][47] It resembles a lion's skull, but differs from it in the concave or flattened underside of the lower jaw and in its longer nasals.[51][43] The tiger has 30 fairly robust teeth and its somewhat curved canines are the longest in the cat family at 6.4–7.6 cm (2.5–3.0 in).[47][52]\n",
        "\n",
        "The tiger has a head-body length of 1.4–2.8 m (4 ft 7 in – 9 ft 2 in) with a 0.6–1.1 m (2 ft 0 in – 3 ft 7 in) tail and stands 0.8–1.1 m (2 ft 7 in – 3 ft 7 in) at the shoulder.[53] The Siberian and Bengal tigers are the largest.[47] Male Bengal tigers weigh 200–260 kg (440–570 lb), and females weigh 100–160 kg (220–350 lb); island tigers are the smallest, likely due to insular dwarfism.[11] Male Sumatran tigers weigh 100–140 kg (220–310 lb), and females weigh 75–110 kg (165–243 lb).[54] The tiger is popularly thought to be the largest living felid species; but since tigers of the different subspecies and populations vary greatly in size and weight, the tiger's average size may be less than the lion's, while the largest tigers are bigger than their lion counterparts.\"\"\""
      ]
    },
    {
      "cell_type": "code",
      "execution_count": 29,
      "id": "c6a79bc1-e78e-48da-894e-ee666f2c1d6f",
      "metadata": {
        "colab": {
          "base_uri": "https://localhost:8080/"
        },
        "id": "c6a79bc1-e78e-48da-894e-ee666f2c1d6f",
        "outputId": "1a5db55f-5fc7-4e4e-c79a-cf4d3e3d750c"
      },
      "outputs": [
        {
          "output_type": "stream",
          "name": "stdout",
          "text": [
            "The tiger (Panthera tigris) is a large cat and a member of the genus Panthera native to Asia. It has a powerful, muscular body with a large head and paws, a long tail and orange fur with black, mostly vertical stripes. It is traditionally classified into nine recent subspecies, though some recognise only two subspecies, mainland Asian tigers and the island tigers of the Sunda Islands.\n",
            "\n",
            "Throughout the tiger's range, it inhabits mainly forests, from coniferous and temperate broadleaf and mixed forests in the Russian Far East and Northeast China to tropical and subtropical moist broadleaf forests on the Indian subcontinent and Southeast Asia. The tiger is an apex predator and preys mainly on ungulates, which it takes by ambush. It lives a mostly solitary life and occupies home ranges, defending these from individuals of the same sex. The range of a male tiger overlaps with that of multiple females with whom he mates. Females give birth to usually two or three cubs that stay with their mother for about two years. When becoming independent, they leave their mother's home range and establish their own.\n",
            "\n",
            "Since the early 20th century, tiger populations have lost at least 93% of their historic range and are locally extinct in West and Central Asia, in large areas of China and on the islands of Java and Bali. Today, the tiger's range is severely fragmented. It is listed as Endangered on the IUCN Red List of Threatened Species, as its range is thought to have declined by 53% to 68% since the late 1990s. Major threats to tigers are habitat destruction and fragmentation due to deforestation, poaching for fur and the illegal trade of body parts for medicinal purposes. Tigers are also victims of human–wildlife conflict as they attack and prey on livestock in areas where natural prey is scarce. The tiger is legally protected in all range countries. National conservation measures consist of action plans, anti-poaching patrols and schemes for monitoring tiger populations. In several range countries, wildlife corridors have been established and tiger reintroduction is planned.\n",
            "\n",
            "The tiger is among the most popular of the world's charismatic megafauna. It has been kept in captivity since ancient times and has been trained to perform in circuses and other entertainment shows. The tiger featured prominently in the ancient mythology and folklore of cultures throughout its historic range and has continued to appear in culture worldwide. The tiger has a typical felid morphology, with a muscular body, shortened legs, strong forelimbs with wide front paws, a large head and a tail that is about half the length of the rest of its body.[47][48] It has five digits, including a dewclaw, on the front feet and four on the back, all of which have retractile claws that are compact and curved, and can reach 10 cm (3.9 in) long.[47][49] The ears are rounded and the eyes have a round pupil.[47] The snout ends in a triangular, pink tip with small black dots, the number of which increase with age.[50] The tiger's skull is robust, with a constricted front region, proportionally small, elliptical orbits, long nasal bones and a lengthened cranium with a large sagittal crest.[51][47] It resembles a lion's skull, but differs from it in the concave or flattened underside of the lower jaw and in its longer nasals.[51][43] The tiger has 30 fairly robust teeth and its somewhat curved canines are the longest in the cat family at 6.4–7.6 cm (2.5–3.0 in).[47][52]\n",
            "\n",
            "The tiger has a head-body length of 1.4–2.8 m (4 ft 7 in – 9 ft 2 in) with a 0.6–1.1 m (2 ft 0 in – 3 ft 7 in) tail and stands 0.8–1.1 m (2 ft 7 in – 3 ft 7 in) at the shoulder.[53] The Siberian and Bengal tigers are the largest.[47] Male Bengal tigers weigh 200–260 kg (440–570 lb), and females weigh 100–160 kg (220–350 lb); island tigers are the smallest, likely due to insular dwarfism.[11] Male Sumatran tigers weigh 100–140 kg (220–310 lb), and females weigh 75–110 kg (165–243 lb).[54] The tiger is popularly thought to be the largest living felid species; but since tigers of the different subspecies and populations vary greatly in size and weight, the tiger's average size may be less than the lion's, while the largest tigers are bigger than their lion counterparts.\n"
          ]
        }
      ],
      "source": [
        "print(text)"
      ]
    },
    {
      "cell_type": "markdown",
      "id": "f101c4db-7799-4af6-81c4-3e6a0d4b3466",
      "metadata": {
        "id": "f101c4db-7799-4af6-81c4-3e6a0d4b3466"
      },
      "source": [
        "#### TextRank Algorithm"
      ]
    },
    {
      "cell_type": "code",
      "execution_count": 30,
      "id": "1b1f20c6-b6a3-4b9d-9b9a-4b63dc11dcd2",
      "metadata": {
        "colab": {
          "base_uri": "https://localhost:8080/"
        },
        "id": "1b1f20c6-b6a3-4b9d-9b9a-4b63dc11dcd2",
        "outputId": "14aa52cd-db42-4877-e486-4bffa9ddbe39"
      },
      "outputs": [
        {
          "output_type": "stream",
          "name": "stderr",
          "text": [
            "[nltk_data] Downloading package punkt_tab to /root/nltk_data...\n",
            "[nltk_data]   Package punkt_tab is already up-to-date!\n",
            "[nltk_data] Downloading package punkt to /root/nltk_data...\n",
            "[nltk_data]   Package punkt is already up-to-date!\n",
            "[nltk_data] Downloading package stopwords to /root/nltk_data...\n",
            "[nltk_data]   Package stopwords is already up-to-date!\n",
            "[nltk_data] Downloading package averaged_perceptron_tagger to\n",
            "[nltk_data]     /root/nltk_data...\n",
            "[nltk_data]   Package averaged_perceptron_tagger is already up-to-\n",
            "[nltk_data]       date!\n"
          ]
        },
        {
          "output_type": "execute_result",
          "data": {
            "text/plain": [
              "True"
            ]
          },
          "metadata": {},
          "execution_count": 30
        }
      ],
      "source": [
        "# import the textrank summarizer\n",
        "from sumy.summarizers.text_rank import TextRankSummarizer\n",
        "import nltk\n",
        "nltk.download('punkt_tab')\n",
        "nltk.download('punkt')\n",
        "nltk.download('stopwords')\n",
        "nltk.download('averaged_perceptron_tagger')"
      ]
    },
    {
      "cell_type": "code",
      "execution_count": 31,
      "id": "0008d9f9-6a44-44e9-a3a1-0a5078c9b3d5",
      "metadata": {
        "id": "0008d9f9-6a44-44e9-a3a1-0a5078c9b3d5"
      },
      "outputs": [],
      "source": [
        "# import parser and tokenizer\n",
        "from sumy.parsers.plaintext import PlaintextParser\n",
        "from sumy.nlp.tokenizers import Tokenizer"
      ]
    },
    {
      "cell_type": "code",
      "execution_count": 32,
      "id": "06c532f4-776a-46e5-830e-9cd3479e74c4",
      "metadata": {
        "id": "06c532f4-776a-46e5-830e-9cd3479e74c4"
      },
      "outputs": [],
      "source": [
        "from nltk.tokenize import sent_tokenize\n"
      ]
    },
    {
      "cell_type": "code",
      "execution_count": 33,
      "id": "c4a255a4-400f-4000-a8e2-d93a8dc9924c",
      "metadata": {
        "colab": {
          "base_uri": "https://localhost:8080/"
        },
        "id": "c4a255a4-400f-4000-a8e2-d93a8dc9924c",
        "outputId": "e94bea9c-75cd-4032-f337-dfdcfa8862a3"
      },
      "outputs": [
        {
          "output_type": "execute_result",
          "data": {
            "text/plain": [
              "32"
            ]
          },
          "metadata": {},
          "execution_count": 33
        }
      ],
      "source": [
        "len(sent_tokenize(text))"
      ]
    },
    {
      "cell_type": "code",
      "execution_count": 34,
      "id": "193a3900-c1e4-44fc-8736-3301e09edb88",
      "metadata": {
        "colab": {
          "base_uri": "https://localhost:8080/"
        },
        "id": "193a3900-c1e4-44fc-8736-3301e09edb88",
        "outputId": "e984fd95-a876-4d10-fa71-a7cb55f603c4"
      },
      "outputs": [
        {
          "output_type": "execute_result",
          "data": {
            "text/plain": [
              "<sumy.parsers.plaintext.PlaintextParser at 0x79fdc8b07880>"
            ]
          },
          "metadata": {},
          "execution_count": 34
        }
      ],
      "source": [
        "# intialize the parser\n",
        "my_parser = PlaintextParser.from_string(text, Tokenizer('english'))\n",
        "my_parser"
      ]
    },
    {
      "cell_type": "code",
      "execution_count": 35,
      "id": "f3beb143-3bbb-44ed-8f55-9f699bd71564",
      "metadata": {
        "id": "f3beb143-3bbb-44ed-8f55-9f699bd71564"
      },
      "outputs": [],
      "source": [
        "# Create the object of Textrank\n",
        "text_rank_summarizer = TextRankSummarizer()"
      ]
    },
    {
      "cell_type": "code",
      "execution_count": 36,
      "id": "67a4a1b6-a1f9-475b-9959-3d6c03ea1da9",
      "metadata": {
        "id": "67a4a1b6-a1f9-475b-9959-3d6c03ea1da9"
      },
      "outputs": [],
      "source": [
        "summary = text_rank_summarizer(my_parser.document, sentences_count=7)"
      ]
    },
    {
      "cell_type": "code",
      "execution_count": 37,
      "id": "76ec107e-91d9-4c74-b82b-bbbc4cbe82c3",
      "metadata": {
        "colab": {
          "base_uri": "https://localhost:8080/"
        },
        "id": "76ec107e-91d9-4c74-b82b-bbbc4cbe82c3",
        "outputId": "a62ea047-71e8-407f-b95b-2cd6f6db6be0"
      },
      "outputs": [
        {
          "output_type": "stream",
          "name": "stdout",
          "text": [
            "Throughout the tiger's range, it inhabits mainly forests, from coniferous and temperate broadleaf and mixed forests in the Russian Far East and Northeast China to tropical and subtropical moist broadleaf forests on the Indian subcontinent and Southeast Asia. \n",
            "\n",
            "Since the early 20th century, tiger populations have lost at least 93% of their historic range and are locally extinct in West and Central Asia, in large areas of China and on the islands of Java and Bali. \n",
            "\n",
            "The tiger featured prominently in the ancient mythology and folklore of cultures throughout its historic range and has continued to appear in culture worldwide. \n",
            "\n",
            "The tiger has a typical felid morphology, with a muscular body, shortened legs, strong forelimbs with wide front paws, a large head and a tail that is about half the length of the rest of its body. \n",
            "\n",
            "[47][48] It has five digits, including a dewclaw, on the front feet and four on the back, all of which have retractile claws that are compact and curved, and can reach 10 cm (3.9 in) long. \n",
            "\n",
            "The tiger has a head-body length of 1.4–2.8 m (4 ft 7 in – 9 ft 2 in) with a 0.6–1.1 m (2 ft 0 in – 3 ft 7 in) tail and stands 0.8–1.1 m (2 ft 7 in – 3 ft 7 in) at the shoulder. \n",
            "\n",
            "[54] The tiger is popularly thought to be the largest living felid species; but since tigers of the different subspecies and populations vary greatly in size and weight, the tiger's average size may be less than the lion's, while the largest tigers are bigger than their lion counterparts. \n",
            "\n"
          ]
        }
      ],
      "source": [
        "for sentence in summary:\n",
        "    print(sentence,'\\n')"
      ]
    },
    {
      "cell_type": "code",
      "execution_count": 38,
      "id": "a2a01160-b3ff-47a6-ace3-1fccd7ab7b3c",
      "metadata": {
        "id": "a2a01160-b3ff-47a6-ace3-1fccd7ab7b3c"
      },
      "outputs": [],
      "source": [
        "marathi_text = \"\"\"वाघ हा वर नमूद केल्याप्रमाणे मार्जार कुळातील सर्वात मोठा प्राणी आहे. वाघाचा आकार हा स्थानिक परिस्थितीप्रमाणे कमी जास्त असतो. सायबेरीयन वाघ हा आकाराने मोठा असतो तर भारतीय वाघ त्या मानाने कमी भरतो. सायबेरीयन वाघ हा लांबीला ३.५ मीटर पर्यंत भरतो तर त्याचे वजन ३०० किलोपर्यंत असते. हा अपवाद झाला परंतु १९० -२०० सेमी पर्यंत लांब असतात व त्यांचे सरासरी वजन २२७ किलो पर्यंत असते. भारतीय वाघ साधारणपणे वजनात १०० ते १८० किलोपर्यंत भरतो. मादी ही नरापेक्षा लहान असते. सुमात्रा मधील वाघ हा अजूनच लहान असतो. वाघांची ओळखण्याची सर्वात मोठी खूण त्यांचे अंगावरचे पट्टे व तांबूस रंगाची फ़र असते. प्रत्येक वाघाचे अंगावरील पट्टे हे वेगळे असतात. जसे प्रत्येक माणसाचे ठसे वेगळे असतात त्याचप्रमाणे यावरून वाघांना ओळखता येते. वाघाच्या अंगावर साधारणपणे १०० पर्यंत पट्टे असतात. पट्ट्यांचा मुख्य उपयोग वाघांना दाट झाडींमध्ये सदृश होण्यासाठी होतो. पट्ट्यांबरोबरच प्रत्येक वाघाच्या पंज्याची ठेवणही वेगळी असते. वाघांची पारंपारिक गणना पंजाच्या ठश्यांवरूनच होते. वाघाचा पंजा हा वाघाच्या आकारमानाने खूप मोठा व अतिशय ताकदवान असतो. त्याचा व्यास साधारणपणे ६ ते ८ इंच इतका भरतो. जंगलातून फ़िरताना वाघ जरी दिसला नाही तरी वाघाचे ठसे दिसू शकतात. शिकार साधण्यासाठी वाघांचा जबडा जबरदस्त ताकदवान असतो व तो वर-खाली या दिशेत फिरतो. जबड्याची ताकद ते भक्ष्यामध्ये सुळे रुतवण्यासाठी तसेच भक्ष्याला पकडून ठेवणे, ओढून नेणे या कामासाठी वापरतात. वाघाची सर्वात जास्त ताकद त्याच्या जबड्यात असते असे म्हटल्यास वावगे ठरणार नाही. वाघ हे पट्टीचे पोहोणारे आहेत, म्हणजे त्यांची पोहोण्याची क्षमता चांगलीच असते व या बाबतीत इतर मांजरांपेक्षा वेगळी सवय आहे. वाघांना पाणी आवडते. उन्हाळ्याच्या दिवसात वाघ पाण्यात तासन तास डुंबून स्वतःला थंड ठेवतात. वाघ हा पूर्णतः मासांहारी प्राणी आहे वाघाची चावण्याची क्षमता ही १०५० पिएस आय इतकी आहे वाघाचे शिकारी कौशल्य वादातीत आहे. पूर्ण वाढ झालेला हत्ती सोडला तर वाघ कोणत्याही जमिनीवरील प्राण्याची शिकार करण्यास समर्थ आहे. वाघाची मुख्य शिकार मध्यम ते मोठ्या आकाराचे प्राणी आहेत. सांबर हे वाघाचे सर्वात आवडते खाद्य आहे. तसेच इतर प्राणी उदा: रानगवा, चितळ, भेकर व इतर हरणे, रानडुक्कर, नीलगाय, रानम्हैस इत्यादी आहेत. वाघाचे खाद्य प्रांतानुसार, उपलब्धतेनुसार तसेच वयानुसार बदलते. पूर्ण वाढलेल्या हत्तीची तसेच गेंड्याची वाघांशी सामना झाल्याची उदाहरणे आहेत. परंतु साधारणपणे सामना टाळण्याचा कल असतो. वाघ बहुतांशी एकटे शिकार करतात. प्रजनन काळात जोडीने शिकार केल्याची उदाहरणे आहेत. पिल्ले आपल्या वाढत्या वयात आईच्या मार्गदर्शनाखाली एकत्रितपणे शिकार करतात.\n",
        "\n",
        "वाघांची शिकारीचे तंत्र हे बहुतांशी एकच असते. वाघ आपले सावज हेरतात व दबा धरून सावजाला न कळता जास्तीत जास्त जवळ जाण्याचा प्रयत्न करतात. जेव्हा सावज एक दोन ढांगांच्या अंतरावर येते तेव्हा चपळाईने सावजावर वाघ चाल करून जातो. पूर्ण वाढलेला वाघही साधारणपणे ६५ किमी/तास इतक्या वेगाने चाल करून जाऊ शकतो. तसेच वाघाची एक ढांग ५ते ६ मीटर पर्यंत जाऊ शकते. या वेगाने व आपल्या वजनाच्या संवेगाने वाघ सावजाला खाली पाडू शकतो. वाघ मोठ्या सावजांसाठी गळ्याचा चावा घेण्याचा प्रयत्न करतो व श्वसननलिका फ़ोडतो. सावज हलू नये यासाठी आपल्या नख्यांनी व ताकदवान पंज्यानी सावजाचा जीव जाईपर्यंत त्याला धरून ठेवतो. छोट्या प्राण्यांसाठी वाघ सरळ मानेचा लचका तोडतो यात सावज लगेचच मरून जाते. अतिशय छोट्या सावजांसाठी वाघाचा पंजाचा एक दणका सावजाची कवटी फ़ुटायला पुरेसा असतो.\n",
        "\n",
        "\n",
        "रणथंभोरचा एक वाघ शिकार करतांना\n",
        "भारतीय वाघ वानरांची शिकार करण्यासाठी अनोख्या युक्तीचा उपयोग करतात. ज्या झाडावर वानरे असतील तर त्या ठिकाणी जाऊन मोठ्याने डरकाळी फ़ोडतात. वानरांच्या कळपातील काही वानरे घाबरून अथवा हृदय बंद पडून झाडाखाली पडतात[९]. वाघ पाण्यात पोहूनही आपले भक्ष्य मिळवू शकतात तसेच पाण्यातून आपले भक्ष्य ओढूनही घेऊन जातात. रणथंभोरचा आजवरचा सर्वाधिक प्रसिद्ध` चंगीज´ नावाचा वाघ पाण्यातील सांबरांवर आक्रमण करण्यात पटाईत होता. याच्या शिकारीची क्षणचित्रे अनेक वाघांवरच्या चित्रपटांत आहेत.वाघ शिकार साधल्यावर ती लपवून ठेवतो. लपवून ठेवण्याचे मुख्य कारण म्हणजे शिकारीला अस्वले, तरस खासकरून गिधाडे इत्यादी प्राण्यांपासून दूर ठेवणे. लपवून ठेवण्यासाठी गुहा अथवा झाडांची दाट जाळी निवडतो. वाघ हा अतिउच्च दर्जाचा शिकारी असला तरी वाघाला एक शिकार मिळवायला सरासरी २० प्रयत्न करावे लागतात[१०]. वाघाला एकदा शिकार केल्यावर भक्ष्याच्या आकारानुसार ती शिकार तीन ते सात दिवसापर्यंत पुरते. वाघ महिन्यातून सरासरी तीन ते चार वेळा शिकार साधतात. शिकाऱ्यांनी केलेल्या नोंदीप्रमाणे वाघ शिकार खाण्याच्या बाबतीत अतिशय स्वच्छ प्राणी आहे. शिकार खाण्याच्या आगोदर वाघ पोट चिरून आतडी पूर्णपणे बाहेर काढतो व लांबवर फेकतो त्यानंतरच शिकार खाण्यास सुरुवात करतो. भक्ष्यातील मांसल भाग खाण्यास वाघाची जास्त पसंती असते.\"\"\""
      ]
    },
    {
      "cell_type": "code",
      "execution_count": 39,
      "id": "f52cc5e2-ccb0-449b-b8c4-599a821f91ac",
      "metadata": {
        "colab": {
          "base_uri": "https://localhost:8080/"
        },
        "id": "f52cc5e2-ccb0-449b-b8c4-599a821f91ac",
        "outputId": "d0f24b2d-467f-4ed2-f81b-bfbf9912003b"
      },
      "outputs": [
        {
          "output_type": "stream",
          "name": "stdout",
          "text": [
            "वाघ हा वर नमूद केल्याप्रमाणे मार्जार कुळातील सर्वात मोठा प्राणी आहे. वाघाचा आकार हा स्थानिक परिस्थितीप्रमाणे कमी जास्त असतो. सायबेरीयन वाघ हा आकाराने मोठा असतो तर भारतीय वाघ त्या मानाने कमी भरतो. सायबेरीयन वाघ हा लांबीला ३.५ मीटर पर्यंत भरतो तर त्याचे वजन ३०० किलोपर्यंत असते. हा अपवाद झाला परंतु १९० -२०० सेमी पर्यंत लांब असतात व त्यांचे सरासरी वजन २२७ किलो पर्यंत असते. भारतीय वाघ साधारणपणे वजनात १०० ते १८० किलोपर्यंत भरतो. मादी ही नरापेक्षा लहान असते. सुमात्रा मधील वाघ हा अजूनच लहान असतो. वाघांची ओळखण्याची सर्वात मोठी खूण त्यांचे अंगावरचे पट्टे व तांबूस रंगाची फ़र असते. प्रत्येक वाघाचे अंगावरील पट्टे हे वेगळे असतात. जसे प्रत्येक माणसाचे ठसे वेगळे असतात त्याचप्रमाणे यावरून वाघांना ओळखता येते. वाघाच्या अंगावर साधारणपणे १०० पर्यंत पट्टे असतात. पट्ट्यांचा मुख्य उपयोग वाघांना दाट झाडींमध्ये सदृश होण्यासाठी होतो. पट्ट्यांबरोबरच प्रत्येक वाघाच्या पंज्याची ठेवणही वेगळी असते. वाघांची पारंपारिक गणना पंजाच्या ठश्यांवरूनच होते. वाघाचा पंजा हा वाघाच्या आकारमानाने खूप मोठा व अतिशय ताकदवान असतो. त्याचा व्यास साधारणपणे ६ ते ८ इंच इतका भरतो. जंगलातून फ़िरताना वाघ जरी दिसला नाही तरी वाघाचे ठसे दिसू शकतात. शिकार साधण्यासाठी वाघांचा जबडा जबरदस्त ताकदवान असतो व तो वर-खाली या दिशेत फिरतो. जबड्याची ताकद ते भक्ष्यामध्ये सुळे रुतवण्यासाठी तसेच भक्ष्याला पकडून ठेवणे, ओढून नेणे या कामासाठी वापरतात. वाघाची सर्वात जास्त ताकद त्याच्या जबड्यात असते असे म्हटल्यास वावगे ठरणार नाही. वाघ हे पट्टीचे पोहोणारे आहेत, म्हणजे त्यांची पोहोण्याची क्षमता चांगलीच असते व या बाबतीत इतर मांजरांपेक्षा वेगळी सवय आहे. वाघांना पाणी आवडते. उन्हाळ्याच्या दिवसात वाघ पाण्यात तासन तास डुंबून स्वतःला थंड ठेवतात. वाघ हा पूर्णतः मासांहारी प्राणी आहे वाघाची चावण्याची क्षमता ही १०५० पिएस आय इतकी आहे वाघाचे शिकारी कौशल्य वादातीत आहे. पूर्ण वाढ झालेला हत्ती सोडला तर वाघ कोणत्याही जमिनीवरील प्राण्याची शिकार करण्यास समर्थ आहे. वाघाची मुख्य शिकार मध्यम ते मोठ्या आकाराचे प्राणी आहेत. सांबर हे वाघाचे सर्वात आवडते खाद्य आहे. तसेच इतर प्राणी उदा: रानगवा, चितळ, भेकर व इतर हरणे, रानडुक्कर, नीलगाय, रानम्हैस इत्यादी आहेत. वाघाचे खाद्य प्रांतानुसार, उपलब्धतेनुसार तसेच वयानुसार बदलते. पूर्ण वाढलेल्या हत्तीची तसेच गेंड्याची वाघांशी सामना झाल्याची उदाहरणे आहेत. परंतु साधारणपणे सामना टाळण्याचा कल असतो. वाघ बहुतांशी एकटे शिकार करतात. प्रजनन काळात जोडीने शिकार केल्याची उदाहरणे आहेत. पिल्ले आपल्या वाढत्या वयात आईच्या मार्गदर्शनाखाली एकत्रितपणे शिकार करतात.\n",
            "\n",
            "वाघांची शिकारीचे तंत्र हे बहुतांशी एकच असते. वाघ आपले सावज हेरतात व दबा धरून सावजाला न कळता जास्तीत जास्त जवळ जाण्याचा प्रयत्न करतात. जेव्हा सावज एक दोन ढांगांच्या अंतरावर येते तेव्हा चपळाईने सावजावर वाघ चाल करून जातो. पूर्ण वाढलेला वाघही साधारणपणे ६५ किमी/तास इतक्या वेगाने चाल करून जाऊ शकतो. तसेच वाघाची एक ढांग ५ते ६ मीटर पर्यंत जाऊ शकते. या वेगाने व आपल्या वजनाच्या संवेगाने वाघ सावजाला खाली पाडू शकतो. वाघ मोठ्या सावजांसाठी गळ्याचा चावा घेण्याचा प्रयत्न करतो व श्वसननलिका फ़ोडतो. सावज हलू नये यासाठी आपल्या नख्यांनी व ताकदवान पंज्यानी सावजाचा जीव जाईपर्यंत त्याला धरून ठेवतो. छोट्या प्राण्यांसाठी वाघ सरळ मानेचा लचका तोडतो यात सावज लगेचच मरून जाते. अतिशय छोट्या सावजांसाठी वाघाचा पंजाचा एक दणका सावजाची कवटी फ़ुटायला पुरेसा असतो.\n",
            "\n",
            "\n",
            "रणथंभोरचा एक वाघ शिकार करतांना\n",
            "भारतीय वाघ वानरांची शिकार करण्यासाठी अनोख्या युक्तीचा उपयोग करतात. ज्या झाडावर वानरे असतील तर त्या ठिकाणी जाऊन मोठ्याने डरकाळी फ़ोडतात. वानरांच्या कळपातील काही वानरे घाबरून अथवा हृदय बंद पडून झाडाखाली पडतात[९]. वाघ पाण्यात पोहूनही आपले भक्ष्य मिळवू शकतात तसेच पाण्यातून आपले भक्ष्य ओढूनही घेऊन जातात. रणथंभोरचा आजवरचा सर्वाधिक प्रसिद्ध` चंगीज´ नावाचा वाघ पाण्यातील सांबरांवर आक्रमण करण्यात पटाईत होता. याच्या शिकारीची क्षणचित्रे अनेक वाघांवरच्या चित्रपटांत आहेत.वाघ शिकार साधल्यावर ती लपवून ठेवतो. लपवून ठेवण्याचे मुख्य कारण म्हणजे शिकारीला अस्वले, तरस खासकरून गिधाडे इत्यादी प्राण्यांपासून दूर ठेवणे. लपवून ठेवण्यासाठी गुहा अथवा झाडांची दाट जाळी निवडतो. वाघ हा अतिउच्च दर्जाचा शिकारी असला तरी वाघाला एक शिकार मिळवायला सरासरी २० प्रयत्न करावे लागतात[१०]. वाघाला एकदा शिकार केल्यावर भक्ष्याच्या आकारानुसार ती शिकार तीन ते सात दिवसापर्यंत पुरते. वाघ महिन्यातून सरासरी तीन ते चार वेळा शिकार साधतात. शिकाऱ्यांनी केलेल्या नोंदीप्रमाणे वाघ शिकार खाण्याच्या बाबतीत अतिशय स्वच्छ प्राणी आहे. शिकार खाण्याच्या आगोदर वाघ पोट चिरून आतडी पूर्णपणे बाहेर काढतो व लांबवर फेकतो त्यानंतरच शिकार खाण्यास सुरुवात करतो. भक्ष्यातील मांसल भाग खाण्यास वाघाची जास्त पसंती असते.\n"
          ]
        }
      ],
      "source": [
        "print(marathi_text)"
      ]
    },
    {
      "cell_type": "code",
      "execution_count": 40,
      "id": "26da3b57-67fd-4f2c-8dd1-04632ecf4451",
      "metadata": {
        "id": "26da3b57-67fd-4f2c-8dd1-04632ecf4451"
      },
      "outputs": [],
      "source": [
        "# intialize the parser\n",
        "# nltk.download(\"punkt\")\n",
        "my_parser = PlaintextParser.from_string(marathi_text, Tokenizer('english'))"
      ]
    },
    {
      "cell_type": "code",
      "execution_count": 41,
      "id": "009fd89b-0240-4885-9bd9-bb9b7f8d4d8a",
      "metadata": {
        "id": "009fd89b-0240-4885-9bd9-bb9b7f8d4d8a"
      },
      "outputs": [],
      "source": [
        "# create the object at textrank\n",
        "text_rank_summarizer = TextRankSummarizer()"
      ]
    },
    {
      "cell_type": "code",
      "execution_count": 42,
      "id": "9f2e4563-b2f6-4ed0-b2e3-6af439e58d64",
      "metadata": {
        "id": "9f2e4563-b2f6-4ed0-b2e3-6af439e58d64"
      },
      "outputs": [],
      "source": [
        "summary = text_rank_summarizer(my_parser.document, sentences_count=5)"
      ]
    },
    {
      "cell_type": "code",
      "execution_count": 43,
      "id": "5f2a576f-c9c8-4a33-a493-9f7c33fb7736",
      "metadata": {
        "colab": {
          "base_uri": "https://localhost:8080/"
        },
        "id": "5f2a576f-c9c8-4a33-a493-9f7c33fb7736",
        "outputId": "7df08639-ba7d-459a-f28d-9b7834ce74bd"
      },
      "outputs": [
        {
          "output_type": "stream",
          "name": "stdout",
          "text": [
            "सायबेरीयन वाघ हा लांबीला ३.५ मीटर पर्यंत भरतो तर त्याचे वजन ३०० किलोपर्यंत असते. \n",
            "\n",
            "हा अपवाद झाला परंतु १९० -२०० सेमी पर्यंत लांब असतात व त्यांचे सरासरी वजन २२७ किलो पर्यंत असते. \n",
            "\n",
            "वाघांची ओळखण्याची सर्वात मोठी खूण त्यांचे अंगावरचे पट्टे व तांबूस रंगाची फ़र असते. \n",
            "\n",
            "वाघाचा पंजा हा वाघाच्या आकारमानाने खूप मोठा व अतिशय ताकदवान असतो. \n",
            "\n",
            "शिकार खाण्याच्या आगोदर वाघ पोट चिरून आतडी पूर्णपणे बाहेर काढतो व लांबवर फेकतो त्यानंतरच शिकार खाण्यास सुरुवात करतो. \n",
            "\n"
          ]
        }
      ],
      "source": [
        "for sentence in summary:\n",
        "    print(sentence,'\\n')"
      ]
    },
    {
      "cell_type": "markdown",
      "id": "b0670ee3-3ce5-4eb0-96bc-deec8d319ff3",
      "metadata": {
        "id": "b0670ee3-3ce5-4eb0-96bc-deec8d319ff3"
      },
      "source": [
        "#### LexRank Algorithm"
      ]
    },
    {
      "cell_type": "code",
      "execution_count": 44,
      "id": "d3ae1e93-4891-4b24-976d-3fb916d0fbf5",
      "metadata": {
        "id": "d3ae1e93-4891-4b24-976d-3fb916d0fbf5"
      },
      "outputs": [],
      "source": [
        "# import the lexrank algorithm\n",
        "from sumy.summarizers.lex_rank import LexRankSummarizer"
      ]
    },
    {
      "cell_type": "code",
      "execution_count": 45,
      "id": "1aee8f6d-192a-4e71-8256-290e25908fed",
      "metadata": {
        "id": "1aee8f6d-192a-4e71-8256-290e25908fed"
      },
      "outputs": [],
      "source": [
        "# intialize the parser\n",
        "\n",
        "my_parser = PlaintextParser.from_string(text, Tokenizer('english'))"
      ]
    },
    {
      "cell_type": "code",
      "execution_count": 46,
      "id": "5e1ca691-89e4-4ba2-b7d7-3b08b8ea2b22",
      "metadata": {
        "id": "5e1ca691-89e4-4ba2-b7d7-3b08b8ea2b22"
      },
      "outputs": [],
      "source": [
        "lex_rank_summarizer = LexRankSummarizer()\n",
        "summary = lex_rank_summarizer(my_parser.document, sentences_count=5)"
      ]
    },
    {
      "cell_type": "code",
      "execution_count": 47,
      "id": "05ad3275-1894-47f7-a41c-1be27995f944",
      "metadata": {
        "colab": {
          "base_uri": "https://localhost:8080/"
        },
        "id": "05ad3275-1894-47f7-a41c-1be27995f944",
        "outputId": "f898b19a-40fe-4d26-d750-2096864f7cd1"
      },
      "outputs": [
        {
          "output_type": "stream",
          "name": "stdout",
          "text": [
            "It has a powerful, muscular body with a large head and paws, a long tail and orange fur with black, mostly vertical stripes. \n",
            "\n",
            "The range of a male tiger overlaps with that of multiple females with whom he mates. \n",
            "\n",
            "The tiger has a typical felid morphology, with a muscular body, shortened legs, strong forelimbs with wide front paws, a large head and a tail that is about half the length of the rest of its body. \n",
            "\n",
            "[47] Male Bengal tigers weigh 200–260 kg (440–570 lb), and females weigh 100–160 kg (220–350 lb); island tigers are the smallest, likely due to insular dwarfism. \n",
            "\n",
            "[54] The tiger is popularly thought to be the largest living felid species; but since tigers of the different subspecies and populations vary greatly in size and weight, the tiger's average size may be less than the lion's, while the largest tigers are bigger than their lion counterparts. \n",
            "\n"
          ]
        }
      ],
      "source": [
        "for sentence in summary:\n",
        "    print(sentence, '\\n')"
      ]
    },
    {
      "cell_type": "markdown",
      "id": "2c4166ef-d4bc-4d85-8f21-06e708a47362",
      "metadata": {
        "id": "2c4166ef-d4bc-4d85-8f21-06e708a47362"
      },
      "source": [
        "#### Latent Semantic Analysis LSA"
      ]
    },
    {
      "cell_type": "code",
      "execution_count": 48,
      "id": "55a6402e-4165-4767-baad-17f5c89fb932",
      "metadata": {
        "id": "55a6402e-4165-4767-baad-17f5c89fb932"
      },
      "outputs": [],
      "source": [
        "from sumy.summarizers.lsa import LsaSummarizer"
      ]
    },
    {
      "cell_type": "code",
      "execution_count": 49,
      "id": "9cf90668-dfdb-466e-968b-40749649e8fa",
      "metadata": {
        "id": "9cf90668-dfdb-466e-968b-40749649e8fa"
      },
      "outputs": [],
      "source": [
        "# intialize the parser\n",
        "\n",
        "my_parser = PlaintextParser.from_string(text, Tokenizer('english'))"
      ]
    },
    {
      "cell_type": "code",
      "execution_count": 50,
      "id": "e9b46378-fa6b-4bfd-ac95-4b66ea124793",
      "metadata": {
        "id": "e9b46378-fa6b-4bfd-ac95-4b66ea124793"
      },
      "outputs": [],
      "source": [
        "lsa_summarizer = LsaSummarizer()"
      ]
    },
    {
      "cell_type": "code",
      "execution_count": 51,
      "id": "625526ca-860a-4b2c-80e1-b5ffcfae5849",
      "metadata": {
        "id": "625526ca-860a-4b2c-80e1-b5ffcfae5849"
      },
      "outputs": [],
      "source": [
        "summary = lsa_summarizer(my_parser.document, sentences_count=5)"
      ]
    },
    {
      "cell_type": "code",
      "execution_count": 52,
      "id": "b12ff021-8fce-471c-b292-d63223e0dfb7",
      "metadata": {
        "colab": {
          "base_uri": "https://localhost:8080/"
        },
        "id": "b12ff021-8fce-471c-b292-d63223e0dfb7",
        "outputId": "37869bf4-2abc-4652-a179-f5a819e3c792"
      },
      "outputs": [
        {
          "output_type": "stream",
          "name": "stdout",
          "text": [
            "The tiger is an apex predator and preys mainly on ungulates, which it takes by ambush. \n",
            "\n",
            "It lives a mostly solitary life and occupies home ranges, defending these from individuals of the same sex. \n",
            "\n",
            "It is listed as Endangered on the IUCN Red List of Threatened Species, as its range is thought to have declined by 53% to 68% since the late 1990s. \n",
            "\n",
            "National conservation measures consist of action plans, anti-poaching patrols and schemes for monitoring tiger populations. \n",
            "\n",
            "In several range countries, wildlife corridors have been established and tiger reintroduction is planned. \n",
            "\n"
          ]
        }
      ],
      "source": [
        "for sentence in summary:\n",
        "    print(sentence, '\\n')"
      ]
    },
    {
      "cell_type": "markdown",
      "id": "dedc26cc-081a-47cb-a8a5-97cdcb5e59eb",
      "metadata": {
        "id": "dedc26cc-081a-47cb-a8a5-97cdcb5e59eb"
      },
      "source": [
        "# 2. Abstractive Summarization\n",
        "\n",
        "##### Abstractive summarization is an advanced natural language processing (NLP) technique that generates summaries by understanding the meaning of the text and then paraphrasing or rewriting the content in a condensed form. Unlike extractive summarization, which directly selects sentences from the original text, abstractive summarization creates new sentences that capture the essence of the original content."
      ]
    },
    {
      "cell_type": "code",
      "execution_count": 60,
      "id": "c7288477-e68b-4d9a-8697-ade9955582fa",
      "metadata": {
        "id": "c7288477-e68b-4d9a-8697-ade9955582fa"
      },
      "outputs": [],
      "source": [
        "# pip install transformers"
      ]
    },
    {
      "cell_type": "code",
      "execution_count": 54,
      "id": "dee65635-564d-4d96-87ba-e76335e081bb",
      "metadata": {
        "id": "dee65635-564d-4d96-87ba-e76335e081bb"
      },
      "outputs": [],
      "source": [
        "from transformers import pipeline"
      ]
    },
    {
      "cell_type": "code",
      "execution_count": 55,
      "id": "e7846f2d-fd44-4fa9-9978-7547943f3c1f",
      "metadata": {
        "colab": {
          "base_uri": "https://localhost:8080/",
          "height": 318,
          "referenced_widgets": [
            "04a1a9a6f86a4a0983a8d0c6211f692c",
            "845f5dd5e1bb48ecb1882c2aaf79ccf7",
            "86c5fdbaa72a46f58f365f36c88f8e0a",
            "93c822458b5d4131b82be0cdd08cdb2f",
            "977327d1ee9849cdb5d9a4e508785cf8",
            "7f7fc4d61e894bc298afdc32b249b5aa",
            "49f9b875b03444aea61909316dbc3855",
            "806d199813204bddb0d0448d5c6e4e7e",
            "0dc3a36654954a0caf8903479010292b",
            "ef996120344d4e6791f3e9f3bfbf3c89",
            "3522ebc1048a4e1d8e25d3f12d7d9ad3",
            "89c8e0d6754c448e8ba939abd2c70659",
            "4b3206cfd0264dc6988aa99031757bb2",
            "af5217d98864410197fbe068614dfb49",
            "23d81971f4544dde8e8d6f92813f1215",
            "917e3489747b4aceb968e13c263013b9",
            "22b40aeb8ec7423fa3e1a99b83570a2e",
            "084210af8d014909af1c1b6778fc94f5",
            "36a1fc82128b4fb78c3b529d9d03f727",
            "2a934269a0eb4c6686b63d092b7af0f3",
            "25135dc9c3504905a7b983a13ea16b50",
            "ce5ced98859e4832a0fed25aa2e2e2e7",
            "139e7baf2c954b77b745ee1f47375e14",
            "abf8da8bbac74daba551c245b532fb86",
            "38817abd22e2422f828731e9b5c4595b",
            "8357103ed01f47419f20762aeba45550",
            "24f63a88359f4dce85a4750d574fd236",
            "a5e960b02e9d4cc9a4d90e910db2a6d8",
            "b9aed3c4e78e4eed93e94af696acd010",
            "3274dedeaa8d4a1ba8f3cb92398cca2b",
            "9909d9ab48dc4f8d8f59247ccc6e53b6",
            "4125c675a37f4b78ac7d0c874f410e01",
            "8c4661fc6fbe4beeb97795e7f036cae0",
            "3c13bc88a8c349b8885bedfee3c7b571",
            "7599f98d9f9d4ef184e43967e59fb2d1",
            "3be624bce02545baaf670edd9c7f33fe",
            "996f8c9863484614907a2e24eb497ec3",
            "78e4d12bc733403091b03bb724281468",
            "7772301c38a14b5b93b7cc1f3715dbcc",
            "30d002ba787a4e82b98ea0d3b5efd790",
            "f490af05889d415996536a1fa7a547ad",
            "c5d4286cd29a47e2831b1bc5a20b23f6",
            "625e6b7934014eaab7430db3d9d5110e",
            "741295db3540441b944bd4257bb4b947",
            "8934ab49fe8a4ec6a7f688943c2ef4a9",
            "f29cf283801a405b91d03aaa2779ecb3",
            "2a7c90c73ad9403899a9450831040ee2",
            "bedcf6efcceb433ab1aa8170efe7fd9f",
            "b40d5c3ccf8f45c2a23416429ce7b0c9",
            "a0bfe6d9a4184478b938aea2c3a28dde",
            "19e2d5811f7f4dc092198eecd613269a",
            "f58d7fd353f24f3fb34cc8a75924dfe1",
            "afaf52c86df14cc6ad0731af860a00c6",
            "d1053f3fdffa494dba88a7a897756ee4",
            "58ab21d3af75452492cb933aa86239e3"
          ]
        },
        "id": "e7846f2d-fd44-4fa9-9978-7547943f3c1f",
        "outputId": "95323d0d-8933-4999-9a88-79685f0579ff"
      },
      "outputs": [
        {
          "output_type": "stream",
          "name": "stderr",
          "text": [
            "/usr/local/lib/python3.10/dist-packages/huggingface_hub/utils/_auth.py:94: UserWarning: \n",
            "The secret `HF_TOKEN` does not exist in your Colab secrets.\n",
            "To authenticate with the Hugging Face Hub, create a token in your settings tab (https://huggingface.co/settings/tokens), set it as secret in your Google Colab and restart your session.\n",
            "You will be able to reuse this secret in all of your notebooks.\n",
            "Please note that authentication is recommended but still optional to access public models or datasets.\n",
            "  warnings.warn(\n"
          ]
        },
        {
          "output_type": "display_data",
          "data": {
            "text/plain": [
              "config.json:   0%|          | 0.00/1.21k [00:00<?, ?B/s]"
            ],
            "application/vnd.jupyter.widget-view+json": {
              "version_major": 2,
              "version_minor": 0,
              "model_id": "04a1a9a6f86a4a0983a8d0c6211f692c"
            }
          },
          "metadata": {}
        },
        {
          "output_type": "display_data",
          "data": {
            "text/plain": [
              "model.safetensors:   0%|          | 0.00/892M [00:00<?, ?B/s]"
            ],
            "application/vnd.jupyter.widget-view+json": {
              "version_major": 2,
              "version_minor": 0,
              "model_id": "89c8e0d6754c448e8ba939abd2c70659"
            }
          },
          "metadata": {}
        },
        {
          "output_type": "display_data",
          "data": {
            "text/plain": [
              "generation_config.json:   0%|          | 0.00/147 [00:00<?, ?B/s]"
            ],
            "application/vnd.jupyter.widget-view+json": {
              "version_major": 2,
              "version_minor": 0,
              "model_id": "139e7baf2c954b77b745ee1f47375e14"
            }
          },
          "metadata": {}
        },
        {
          "output_type": "display_data",
          "data": {
            "text/plain": [
              "spiece.model:   0%|          | 0.00/792k [00:00<?, ?B/s]"
            ],
            "application/vnd.jupyter.widget-view+json": {
              "version_major": 2,
              "version_minor": 0,
              "model_id": "3c13bc88a8c349b8885bedfee3c7b571"
            }
          },
          "metadata": {}
        },
        {
          "output_type": "display_data",
          "data": {
            "text/plain": [
              "tokenizer.json:   0%|          | 0.00/1.39M [00:00<?, ?B/s]"
            ],
            "application/vnd.jupyter.widget-view+json": {
              "version_major": 2,
              "version_minor": 0,
              "model_id": "8934ab49fe8a4ec6a7f688943c2ef4a9"
            }
          },
          "metadata": {}
        },
        {
          "output_type": "stream",
          "name": "stderr",
          "text": [
            "Device set to use cpu\n"
          ]
        }
      ],
      "source": [
        "summarizer = pipeline('summarization',model='t5-base')"
      ]
    },
    {
      "cell_type": "code",
      "execution_count": 56,
      "id": "f822e14c-bc2f-450d-b2e8-af156351dda4",
      "metadata": {
        "colab": {
          "base_uri": "https://localhost:8080/"
        },
        "id": "f822e14c-bc2f-450d-b2e8-af156351dda4",
        "outputId": "742b82e3-9461-4b5e-be3a-f24c1a834659"
      },
      "outputs": [
        {
          "output_type": "stream",
          "name": "stdout",
          "text": [
            "Requirement already satisfied: tensorflow in /usr/local/lib/python3.10/dist-packages (2.17.1)\n",
            "Requirement already satisfied: absl-py>=1.0.0 in /usr/local/lib/python3.10/dist-packages (from tensorflow) (1.4.0)\n",
            "Requirement already satisfied: astunparse>=1.6.0 in /usr/local/lib/python3.10/dist-packages (from tensorflow) (1.6.3)\n",
            "Requirement already satisfied: flatbuffers>=24.3.25 in /usr/local/lib/python3.10/dist-packages (from tensorflow) (24.3.25)\n",
            "Requirement already satisfied: gast!=0.5.0,!=0.5.1,!=0.5.2,>=0.2.1 in /usr/local/lib/python3.10/dist-packages (from tensorflow) (0.6.0)\n",
            "Requirement already satisfied: google-pasta>=0.1.1 in /usr/local/lib/python3.10/dist-packages (from tensorflow) (0.2.0)\n",
            "Requirement already satisfied: h5py>=3.10.0 in /usr/local/lib/python3.10/dist-packages (from tensorflow) (3.12.1)\n",
            "Requirement already satisfied: libclang>=13.0.0 in /usr/local/lib/python3.10/dist-packages (from tensorflow) (18.1.1)\n",
            "Requirement already satisfied: ml-dtypes<0.5.0,>=0.3.1 in /usr/local/lib/python3.10/dist-packages (from tensorflow) (0.4.1)\n",
            "Requirement already satisfied: opt-einsum>=2.3.2 in /usr/local/lib/python3.10/dist-packages (from tensorflow) (3.4.0)\n",
            "Requirement already satisfied: packaging in /usr/local/lib/python3.10/dist-packages (from tensorflow) (24.2)\n",
            "Requirement already satisfied: protobuf!=4.21.0,!=4.21.1,!=4.21.2,!=4.21.3,!=4.21.4,!=4.21.5,<5.0.0dev,>=3.20.3 in /usr/local/lib/python3.10/dist-packages (from tensorflow) (4.25.5)\n",
            "Requirement already satisfied: requests<3,>=2.21.0 in /usr/local/lib/python3.10/dist-packages (from tensorflow) (2.32.3)\n",
            "Requirement already satisfied: setuptools in /usr/local/lib/python3.10/dist-packages (from tensorflow) (75.1.0)\n",
            "Requirement already satisfied: six>=1.12.0 in /usr/local/lib/python3.10/dist-packages (from tensorflow) (1.17.0)\n",
            "Requirement already satisfied: termcolor>=1.1.0 in /usr/local/lib/python3.10/dist-packages (from tensorflow) (2.5.0)\n",
            "Requirement already satisfied: typing-extensions>=3.6.6 in /usr/local/lib/python3.10/dist-packages (from tensorflow) (4.12.2)\n",
            "Requirement already satisfied: wrapt>=1.11.0 in /usr/local/lib/python3.10/dist-packages (from tensorflow) (1.17.0)\n",
            "Requirement already satisfied: grpcio<2.0,>=1.24.3 in /usr/local/lib/python3.10/dist-packages (from tensorflow) (1.68.1)\n",
            "Requirement already satisfied: tensorboard<2.18,>=2.17 in /usr/local/lib/python3.10/dist-packages (from tensorflow) (2.17.1)\n",
            "Requirement already satisfied: keras>=3.2.0 in /usr/local/lib/python3.10/dist-packages (from tensorflow) (3.5.0)\n",
            "Requirement already satisfied: tensorflow-io-gcs-filesystem>=0.23.1 in /usr/local/lib/python3.10/dist-packages (from tensorflow) (0.37.1)\n",
            "Requirement already satisfied: numpy<2.0.0,>=1.23.5 in /usr/local/lib/python3.10/dist-packages (from tensorflow) (1.26.4)\n",
            "Requirement already satisfied: wheel<1.0,>=0.23.0 in /usr/local/lib/python3.10/dist-packages (from astunparse>=1.6.0->tensorflow) (0.45.1)\n",
            "Requirement already satisfied: rich in /usr/local/lib/python3.10/dist-packages (from keras>=3.2.0->tensorflow) (13.9.4)\n",
            "Requirement already satisfied: namex in /usr/local/lib/python3.10/dist-packages (from keras>=3.2.0->tensorflow) (0.0.8)\n",
            "Requirement already satisfied: optree in /usr/local/lib/python3.10/dist-packages (from keras>=3.2.0->tensorflow) (0.13.1)\n",
            "Requirement already satisfied: charset-normalizer<4,>=2 in /usr/local/lib/python3.10/dist-packages (from requests<3,>=2.21.0->tensorflow) (3.4.0)\n",
            "Requirement already satisfied: idna<4,>=2.5 in /usr/local/lib/python3.10/dist-packages (from requests<3,>=2.21.0->tensorflow) (3.10)\n",
            "Requirement already satisfied: urllib3<3,>=1.21.1 in /usr/local/lib/python3.10/dist-packages (from requests<3,>=2.21.0->tensorflow) (2.2.3)\n",
            "Requirement already satisfied: certifi>=2017.4.17 in /usr/local/lib/python3.10/dist-packages (from requests<3,>=2.21.0->tensorflow) (2024.12.14)\n",
            "Requirement already satisfied: markdown>=2.6.8 in /usr/local/lib/python3.10/dist-packages (from tensorboard<2.18,>=2.17->tensorflow) (3.7)\n",
            "Requirement already satisfied: tensorboard-data-server<0.8.0,>=0.7.0 in /usr/local/lib/python3.10/dist-packages (from tensorboard<2.18,>=2.17->tensorflow) (0.7.2)\n",
            "Requirement already satisfied: werkzeug>=1.0.1 in /usr/local/lib/python3.10/dist-packages (from tensorboard<2.18,>=2.17->tensorflow) (3.1.3)\n",
            "Requirement already satisfied: MarkupSafe>=2.1.1 in /usr/local/lib/python3.10/dist-packages (from werkzeug>=1.0.1->tensorboard<2.18,>=2.17->tensorflow) (3.0.2)\n",
            "Requirement already satisfied: markdown-it-py>=2.2.0 in /usr/local/lib/python3.10/dist-packages (from rich->keras>=3.2.0->tensorflow) (3.0.0)\n",
            "Requirement already satisfied: pygments<3.0.0,>=2.13.0 in /usr/local/lib/python3.10/dist-packages (from rich->keras>=3.2.0->tensorflow) (2.18.0)\n",
            "Requirement already satisfied: mdurl~=0.1 in /usr/local/lib/python3.10/dist-packages (from markdown-it-py>=2.2.0->rich->keras>=3.2.0->tensorflow) (0.1.2)\n"
          ]
        }
      ],
      "source": [
        "pip install tensorflow\n"
      ]
    },
    {
      "cell_type": "code",
      "execution_count": 63,
      "id": "25f7a0cf-0858-4d87-91ae-71bdaeaf3525",
      "metadata": {
        "colab": {
          "base_uri": "https://localhost:8080/"
        },
        "id": "25f7a0cf-0858-4d87-91ae-71bdaeaf3525",
        "outputId": "921213e3-bc32-475e-9ad7-ab4c0ba4cf5e"
      },
      "outputs": [
        {
          "output_type": "stream",
          "name": "stderr",
          "text": [
            "Device set to use cpu\n"
          ]
        },
        {
          "output_type": "stream",
          "name": "stdout",
          "text": [
            "[{'summary_text': 'the tiger (Panthera tigris) is a large cat and a member of the genus Panthera native to Asia . it has a powerful, muscular body, large head and paw'}]\n"
          ]
        }
      ],
      "source": [
        "from transformers import pipeline\n",
        "\n",
        "summarizer = pipeline('summarization', model='t5-base')\n",
        "result = summarizer(text, max_length=50, min_length=25, do_sample=False)\n",
        "print(result)\n"
      ]
    },
    {
      "cell_type": "code",
      "source": [],
      "metadata": {
        "id": "qXQuEmz8ls1G"
      },
      "id": "qXQuEmz8ls1G",
      "execution_count": null,
      "outputs": []
    }
  ],
  "metadata": {
    "kernelspec": {
      "display_name": "Python 3 (ipykernel)",
      "language": "python",
      "name": "python3"
    },
    "language_info": {
      "codemirror_mode": {
        "name": "ipython",
        "version": 3
      },
      "file_extension": ".py",
      "mimetype": "text/x-python",
      "name": "python",
      "nbconvert_exporter": "python",
      "pygments_lexer": "ipython3",
      "version": "3.12.7"
    },
    "colab": {
      "provenance": []
    },
    "widgets": {
      "application/vnd.jupyter.widget-state+json": {
        "04a1a9a6f86a4a0983a8d0c6211f692c": {
          "model_module": "@jupyter-widgets/controls",
          "model_name": "HBoxModel",
          "model_module_version": "1.5.0",
          "state": {
            "_dom_classes": [],
            "_model_module": "@jupyter-widgets/controls",
            "_model_module_version": "1.5.0",
            "_model_name": "HBoxModel",
            "_view_count": null,
            "_view_module": "@jupyter-widgets/controls",
            "_view_module_version": "1.5.0",
            "_view_name": "HBoxView",
            "box_style": "",
            "children": [
              "IPY_MODEL_845f5dd5e1bb48ecb1882c2aaf79ccf7",
              "IPY_MODEL_86c5fdbaa72a46f58f365f36c88f8e0a",
              "IPY_MODEL_93c822458b5d4131b82be0cdd08cdb2f"
            ],
            "layout": "IPY_MODEL_977327d1ee9849cdb5d9a4e508785cf8"
          }
        },
        "845f5dd5e1bb48ecb1882c2aaf79ccf7": {
          "model_module": "@jupyter-widgets/controls",
          "model_name": "HTMLModel",
          "model_module_version": "1.5.0",
          "state": {
            "_dom_classes": [],
            "_model_module": "@jupyter-widgets/controls",
            "_model_module_version": "1.5.0",
            "_model_name": "HTMLModel",
            "_view_count": null,
            "_view_module": "@jupyter-widgets/controls",
            "_view_module_version": "1.5.0",
            "_view_name": "HTMLView",
            "description": "",
            "description_tooltip": null,
            "layout": "IPY_MODEL_7f7fc4d61e894bc298afdc32b249b5aa",
            "placeholder": "​",
            "style": "IPY_MODEL_49f9b875b03444aea61909316dbc3855",
            "value": "config.json: 100%"
          }
        },
        "86c5fdbaa72a46f58f365f36c88f8e0a": {
          "model_module": "@jupyter-widgets/controls",
          "model_name": "FloatProgressModel",
          "model_module_version": "1.5.0",
          "state": {
            "_dom_classes": [],
            "_model_module": "@jupyter-widgets/controls",
            "_model_module_version": "1.5.0",
            "_model_name": "FloatProgressModel",
            "_view_count": null,
            "_view_module": "@jupyter-widgets/controls",
            "_view_module_version": "1.5.0",
            "_view_name": "ProgressView",
            "bar_style": "success",
            "description": "",
            "description_tooltip": null,
            "layout": "IPY_MODEL_806d199813204bddb0d0448d5c6e4e7e",
            "max": 1208,
            "min": 0,
            "orientation": "horizontal",
            "style": "IPY_MODEL_0dc3a36654954a0caf8903479010292b",
            "value": 1208
          }
        },
        "93c822458b5d4131b82be0cdd08cdb2f": {
          "model_module": "@jupyter-widgets/controls",
          "model_name": "HTMLModel",
          "model_module_version": "1.5.0",
          "state": {
            "_dom_classes": [],
            "_model_module": "@jupyter-widgets/controls",
            "_model_module_version": "1.5.0",
            "_model_name": "HTMLModel",
            "_view_count": null,
            "_view_module": "@jupyter-widgets/controls",
            "_view_module_version": "1.5.0",
            "_view_name": "HTMLView",
            "description": "",
            "description_tooltip": null,
            "layout": "IPY_MODEL_ef996120344d4e6791f3e9f3bfbf3c89",
            "placeholder": "​",
            "style": "IPY_MODEL_3522ebc1048a4e1d8e25d3f12d7d9ad3",
            "value": " 1.21k/1.21k [00:00&lt;00:00, 56.8kB/s]"
          }
        },
        "977327d1ee9849cdb5d9a4e508785cf8": {
          "model_module": "@jupyter-widgets/base",
          "model_name": "LayoutModel",
          "model_module_version": "1.2.0",
          "state": {
            "_model_module": "@jupyter-widgets/base",
            "_model_module_version": "1.2.0",
            "_model_name": "LayoutModel",
            "_view_count": null,
            "_view_module": "@jupyter-widgets/base",
            "_view_module_version": "1.2.0",
            "_view_name": "LayoutView",
            "align_content": null,
            "align_items": null,
            "align_self": null,
            "border": null,
            "bottom": null,
            "display": null,
            "flex": null,
            "flex_flow": null,
            "grid_area": null,
            "grid_auto_columns": null,
            "grid_auto_flow": null,
            "grid_auto_rows": null,
            "grid_column": null,
            "grid_gap": null,
            "grid_row": null,
            "grid_template_areas": null,
            "grid_template_columns": null,
            "grid_template_rows": null,
            "height": null,
            "justify_content": null,
            "justify_items": null,
            "left": null,
            "margin": null,
            "max_height": null,
            "max_width": null,
            "min_height": null,
            "min_width": null,
            "object_fit": null,
            "object_position": null,
            "order": null,
            "overflow": null,
            "overflow_x": null,
            "overflow_y": null,
            "padding": null,
            "right": null,
            "top": null,
            "visibility": null,
            "width": null
          }
        },
        "7f7fc4d61e894bc298afdc32b249b5aa": {
          "model_module": "@jupyter-widgets/base",
          "model_name": "LayoutModel",
          "model_module_version": "1.2.0",
          "state": {
            "_model_module": "@jupyter-widgets/base",
            "_model_module_version": "1.2.0",
            "_model_name": "LayoutModel",
            "_view_count": null,
            "_view_module": "@jupyter-widgets/base",
            "_view_module_version": "1.2.0",
            "_view_name": "LayoutView",
            "align_content": null,
            "align_items": null,
            "align_self": null,
            "border": null,
            "bottom": null,
            "display": null,
            "flex": null,
            "flex_flow": null,
            "grid_area": null,
            "grid_auto_columns": null,
            "grid_auto_flow": null,
            "grid_auto_rows": null,
            "grid_column": null,
            "grid_gap": null,
            "grid_row": null,
            "grid_template_areas": null,
            "grid_template_columns": null,
            "grid_template_rows": null,
            "height": null,
            "justify_content": null,
            "justify_items": null,
            "left": null,
            "margin": null,
            "max_height": null,
            "max_width": null,
            "min_height": null,
            "min_width": null,
            "object_fit": null,
            "object_position": null,
            "order": null,
            "overflow": null,
            "overflow_x": null,
            "overflow_y": null,
            "padding": null,
            "right": null,
            "top": null,
            "visibility": null,
            "width": null
          }
        },
        "49f9b875b03444aea61909316dbc3855": {
          "model_module": "@jupyter-widgets/controls",
          "model_name": "DescriptionStyleModel",
          "model_module_version": "1.5.0",
          "state": {
            "_model_module": "@jupyter-widgets/controls",
            "_model_module_version": "1.5.0",
            "_model_name": "DescriptionStyleModel",
            "_view_count": null,
            "_view_module": "@jupyter-widgets/base",
            "_view_module_version": "1.2.0",
            "_view_name": "StyleView",
            "description_width": ""
          }
        },
        "806d199813204bddb0d0448d5c6e4e7e": {
          "model_module": "@jupyter-widgets/base",
          "model_name": "LayoutModel",
          "model_module_version": "1.2.0",
          "state": {
            "_model_module": "@jupyter-widgets/base",
            "_model_module_version": "1.2.0",
            "_model_name": "LayoutModel",
            "_view_count": null,
            "_view_module": "@jupyter-widgets/base",
            "_view_module_version": "1.2.0",
            "_view_name": "LayoutView",
            "align_content": null,
            "align_items": null,
            "align_self": null,
            "border": null,
            "bottom": null,
            "display": null,
            "flex": null,
            "flex_flow": null,
            "grid_area": null,
            "grid_auto_columns": null,
            "grid_auto_flow": null,
            "grid_auto_rows": null,
            "grid_column": null,
            "grid_gap": null,
            "grid_row": null,
            "grid_template_areas": null,
            "grid_template_columns": null,
            "grid_template_rows": null,
            "height": null,
            "justify_content": null,
            "justify_items": null,
            "left": null,
            "margin": null,
            "max_height": null,
            "max_width": null,
            "min_height": null,
            "min_width": null,
            "object_fit": null,
            "object_position": null,
            "order": null,
            "overflow": null,
            "overflow_x": null,
            "overflow_y": null,
            "padding": null,
            "right": null,
            "top": null,
            "visibility": null,
            "width": null
          }
        },
        "0dc3a36654954a0caf8903479010292b": {
          "model_module": "@jupyter-widgets/controls",
          "model_name": "ProgressStyleModel",
          "model_module_version": "1.5.0",
          "state": {
            "_model_module": "@jupyter-widgets/controls",
            "_model_module_version": "1.5.0",
            "_model_name": "ProgressStyleModel",
            "_view_count": null,
            "_view_module": "@jupyter-widgets/base",
            "_view_module_version": "1.2.0",
            "_view_name": "StyleView",
            "bar_color": null,
            "description_width": ""
          }
        },
        "ef996120344d4e6791f3e9f3bfbf3c89": {
          "model_module": "@jupyter-widgets/base",
          "model_name": "LayoutModel",
          "model_module_version": "1.2.0",
          "state": {
            "_model_module": "@jupyter-widgets/base",
            "_model_module_version": "1.2.0",
            "_model_name": "LayoutModel",
            "_view_count": null,
            "_view_module": "@jupyter-widgets/base",
            "_view_module_version": "1.2.0",
            "_view_name": "LayoutView",
            "align_content": null,
            "align_items": null,
            "align_self": null,
            "border": null,
            "bottom": null,
            "display": null,
            "flex": null,
            "flex_flow": null,
            "grid_area": null,
            "grid_auto_columns": null,
            "grid_auto_flow": null,
            "grid_auto_rows": null,
            "grid_column": null,
            "grid_gap": null,
            "grid_row": null,
            "grid_template_areas": null,
            "grid_template_columns": null,
            "grid_template_rows": null,
            "height": null,
            "justify_content": null,
            "justify_items": null,
            "left": null,
            "margin": null,
            "max_height": null,
            "max_width": null,
            "min_height": null,
            "min_width": null,
            "object_fit": null,
            "object_position": null,
            "order": null,
            "overflow": null,
            "overflow_x": null,
            "overflow_y": null,
            "padding": null,
            "right": null,
            "top": null,
            "visibility": null,
            "width": null
          }
        },
        "3522ebc1048a4e1d8e25d3f12d7d9ad3": {
          "model_module": "@jupyter-widgets/controls",
          "model_name": "DescriptionStyleModel",
          "model_module_version": "1.5.0",
          "state": {
            "_model_module": "@jupyter-widgets/controls",
            "_model_module_version": "1.5.0",
            "_model_name": "DescriptionStyleModel",
            "_view_count": null,
            "_view_module": "@jupyter-widgets/base",
            "_view_module_version": "1.2.0",
            "_view_name": "StyleView",
            "description_width": ""
          }
        },
        "89c8e0d6754c448e8ba939abd2c70659": {
          "model_module": "@jupyter-widgets/controls",
          "model_name": "HBoxModel",
          "model_module_version": "1.5.0",
          "state": {
            "_dom_classes": [],
            "_model_module": "@jupyter-widgets/controls",
            "_model_module_version": "1.5.0",
            "_model_name": "HBoxModel",
            "_view_count": null,
            "_view_module": "@jupyter-widgets/controls",
            "_view_module_version": "1.5.0",
            "_view_name": "HBoxView",
            "box_style": "",
            "children": [
              "IPY_MODEL_4b3206cfd0264dc6988aa99031757bb2",
              "IPY_MODEL_af5217d98864410197fbe068614dfb49",
              "IPY_MODEL_23d81971f4544dde8e8d6f92813f1215"
            ],
            "layout": "IPY_MODEL_917e3489747b4aceb968e13c263013b9"
          }
        },
        "4b3206cfd0264dc6988aa99031757bb2": {
          "model_module": "@jupyter-widgets/controls",
          "model_name": "HTMLModel",
          "model_module_version": "1.5.0",
          "state": {
            "_dom_classes": [],
            "_model_module": "@jupyter-widgets/controls",
            "_model_module_version": "1.5.0",
            "_model_name": "HTMLModel",
            "_view_count": null,
            "_view_module": "@jupyter-widgets/controls",
            "_view_module_version": "1.5.0",
            "_view_name": "HTMLView",
            "description": "",
            "description_tooltip": null,
            "layout": "IPY_MODEL_22b40aeb8ec7423fa3e1a99b83570a2e",
            "placeholder": "​",
            "style": "IPY_MODEL_084210af8d014909af1c1b6778fc94f5",
            "value": "model.safetensors: 100%"
          }
        },
        "af5217d98864410197fbe068614dfb49": {
          "model_module": "@jupyter-widgets/controls",
          "model_name": "FloatProgressModel",
          "model_module_version": "1.5.0",
          "state": {
            "_dom_classes": [],
            "_model_module": "@jupyter-widgets/controls",
            "_model_module_version": "1.5.0",
            "_model_name": "FloatProgressModel",
            "_view_count": null,
            "_view_module": "@jupyter-widgets/controls",
            "_view_module_version": "1.5.0",
            "_view_name": "ProgressView",
            "bar_style": "success",
            "description": "",
            "description_tooltip": null,
            "layout": "IPY_MODEL_36a1fc82128b4fb78c3b529d9d03f727",
            "max": 891646390,
            "min": 0,
            "orientation": "horizontal",
            "style": "IPY_MODEL_2a934269a0eb4c6686b63d092b7af0f3",
            "value": 891646390
          }
        },
        "23d81971f4544dde8e8d6f92813f1215": {
          "model_module": "@jupyter-widgets/controls",
          "model_name": "HTMLModel",
          "model_module_version": "1.5.0",
          "state": {
            "_dom_classes": [],
            "_model_module": "@jupyter-widgets/controls",
            "_model_module_version": "1.5.0",
            "_model_name": "HTMLModel",
            "_view_count": null,
            "_view_module": "@jupyter-widgets/controls",
            "_view_module_version": "1.5.0",
            "_view_name": "HTMLView",
            "description": "",
            "description_tooltip": null,
            "layout": "IPY_MODEL_25135dc9c3504905a7b983a13ea16b50",
            "placeholder": "​",
            "style": "IPY_MODEL_ce5ced98859e4832a0fed25aa2e2e2e7",
            "value": " 892M/892M [00:11&lt;00:00, 126MB/s]"
          }
        },
        "917e3489747b4aceb968e13c263013b9": {
          "model_module": "@jupyter-widgets/base",
          "model_name": "LayoutModel",
          "model_module_version": "1.2.0",
          "state": {
            "_model_module": "@jupyter-widgets/base",
            "_model_module_version": "1.2.0",
            "_model_name": "LayoutModel",
            "_view_count": null,
            "_view_module": "@jupyter-widgets/base",
            "_view_module_version": "1.2.0",
            "_view_name": "LayoutView",
            "align_content": null,
            "align_items": null,
            "align_self": null,
            "border": null,
            "bottom": null,
            "display": null,
            "flex": null,
            "flex_flow": null,
            "grid_area": null,
            "grid_auto_columns": null,
            "grid_auto_flow": null,
            "grid_auto_rows": null,
            "grid_column": null,
            "grid_gap": null,
            "grid_row": null,
            "grid_template_areas": null,
            "grid_template_columns": null,
            "grid_template_rows": null,
            "height": null,
            "justify_content": null,
            "justify_items": null,
            "left": null,
            "margin": null,
            "max_height": null,
            "max_width": null,
            "min_height": null,
            "min_width": null,
            "object_fit": null,
            "object_position": null,
            "order": null,
            "overflow": null,
            "overflow_x": null,
            "overflow_y": null,
            "padding": null,
            "right": null,
            "top": null,
            "visibility": null,
            "width": null
          }
        },
        "22b40aeb8ec7423fa3e1a99b83570a2e": {
          "model_module": "@jupyter-widgets/base",
          "model_name": "LayoutModel",
          "model_module_version": "1.2.0",
          "state": {
            "_model_module": "@jupyter-widgets/base",
            "_model_module_version": "1.2.0",
            "_model_name": "LayoutModel",
            "_view_count": null,
            "_view_module": "@jupyter-widgets/base",
            "_view_module_version": "1.2.0",
            "_view_name": "LayoutView",
            "align_content": null,
            "align_items": null,
            "align_self": null,
            "border": null,
            "bottom": null,
            "display": null,
            "flex": null,
            "flex_flow": null,
            "grid_area": null,
            "grid_auto_columns": null,
            "grid_auto_flow": null,
            "grid_auto_rows": null,
            "grid_column": null,
            "grid_gap": null,
            "grid_row": null,
            "grid_template_areas": null,
            "grid_template_columns": null,
            "grid_template_rows": null,
            "height": null,
            "justify_content": null,
            "justify_items": null,
            "left": null,
            "margin": null,
            "max_height": null,
            "max_width": null,
            "min_height": null,
            "min_width": null,
            "object_fit": null,
            "object_position": null,
            "order": null,
            "overflow": null,
            "overflow_x": null,
            "overflow_y": null,
            "padding": null,
            "right": null,
            "top": null,
            "visibility": null,
            "width": null
          }
        },
        "084210af8d014909af1c1b6778fc94f5": {
          "model_module": "@jupyter-widgets/controls",
          "model_name": "DescriptionStyleModel",
          "model_module_version": "1.5.0",
          "state": {
            "_model_module": "@jupyter-widgets/controls",
            "_model_module_version": "1.5.0",
            "_model_name": "DescriptionStyleModel",
            "_view_count": null,
            "_view_module": "@jupyter-widgets/base",
            "_view_module_version": "1.2.0",
            "_view_name": "StyleView",
            "description_width": ""
          }
        },
        "36a1fc82128b4fb78c3b529d9d03f727": {
          "model_module": "@jupyter-widgets/base",
          "model_name": "LayoutModel",
          "model_module_version": "1.2.0",
          "state": {
            "_model_module": "@jupyter-widgets/base",
            "_model_module_version": "1.2.0",
            "_model_name": "LayoutModel",
            "_view_count": null,
            "_view_module": "@jupyter-widgets/base",
            "_view_module_version": "1.2.0",
            "_view_name": "LayoutView",
            "align_content": null,
            "align_items": null,
            "align_self": null,
            "border": null,
            "bottom": null,
            "display": null,
            "flex": null,
            "flex_flow": null,
            "grid_area": null,
            "grid_auto_columns": null,
            "grid_auto_flow": null,
            "grid_auto_rows": null,
            "grid_column": null,
            "grid_gap": null,
            "grid_row": null,
            "grid_template_areas": null,
            "grid_template_columns": null,
            "grid_template_rows": null,
            "height": null,
            "justify_content": null,
            "justify_items": null,
            "left": null,
            "margin": null,
            "max_height": null,
            "max_width": null,
            "min_height": null,
            "min_width": null,
            "object_fit": null,
            "object_position": null,
            "order": null,
            "overflow": null,
            "overflow_x": null,
            "overflow_y": null,
            "padding": null,
            "right": null,
            "top": null,
            "visibility": null,
            "width": null
          }
        },
        "2a934269a0eb4c6686b63d092b7af0f3": {
          "model_module": "@jupyter-widgets/controls",
          "model_name": "ProgressStyleModel",
          "model_module_version": "1.5.0",
          "state": {
            "_model_module": "@jupyter-widgets/controls",
            "_model_module_version": "1.5.0",
            "_model_name": "ProgressStyleModel",
            "_view_count": null,
            "_view_module": "@jupyter-widgets/base",
            "_view_module_version": "1.2.0",
            "_view_name": "StyleView",
            "bar_color": null,
            "description_width": ""
          }
        },
        "25135dc9c3504905a7b983a13ea16b50": {
          "model_module": "@jupyter-widgets/base",
          "model_name": "LayoutModel",
          "model_module_version": "1.2.0",
          "state": {
            "_model_module": "@jupyter-widgets/base",
            "_model_module_version": "1.2.0",
            "_model_name": "LayoutModel",
            "_view_count": null,
            "_view_module": "@jupyter-widgets/base",
            "_view_module_version": "1.2.0",
            "_view_name": "LayoutView",
            "align_content": null,
            "align_items": null,
            "align_self": null,
            "border": null,
            "bottom": null,
            "display": null,
            "flex": null,
            "flex_flow": null,
            "grid_area": null,
            "grid_auto_columns": null,
            "grid_auto_flow": null,
            "grid_auto_rows": null,
            "grid_column": null,
            "grid_gap": null,
            "grid_row": null,
            "grid_template_areas": null,
            "grid_template_columns": null,
            "grid_template_rows": null,
            "height": null,
            "justify_content": null,
            "justify_items": null,
            "left": null,
            "margin": null,
            "max_height": null,
            "max_width": null,
            "min_height": null,
            "min_width": null,
            "object_fit": null,
            "object_position": null,
            "order": null,
            "overflow": null,
            "overflow_x": null,
            "overflow_y": null,
            "padding": null,
            "right": null,
            "top": null,
            "visibility": null,
            "width": null
          }
        },
        "ce5ced98859e4832a0fed25aa2e2e2e7": {
          "model_module": "@jupyter-widgets/controls",
          "model_name": "DescriptionStyleModel",
          "model_module_version": "1.5.0",
          "state": {
            "_model_module": "@jupyter-widgets/controls",
            "_model_module_version": "1.5.0",
            "_model_name": "DescriptionStyleModel",
            "_view_count": null,
            "_view_module": "@jupyter-widgets/base",
            "_view_module_version": "1.2.0",
            "_view_name": "StyleView",
            "description_width": ""
          }
        },
        "139e7baf2c954b77b745ee1f47375e14": {
          "model_module": "@jupyter-widgets/controls",
          "model_name": "HBoxModel",
          "model_module_version": "1.5.0",
          "state": {
            "_dom_classes": [],
            "_model_module": "@jupyter-widgets/controls",
            "_model_module_version": "1.5.0",
            "_model_name": "HBoxModel",
            "_view_count": null,
            "_view_module": "@jupyter-widgets/controls",
            "_view_module_version": "1.5.0",
            "_view_name": "HBoxView",
            "box_style": "",
            "children": [
              "IPY_MODEL_abf8da8bbac74daba551c245b532fb86",
              "IPY_MODEL_38817abd22e2422f828731e9b5c4595b",
              "IPY_MODEL_8357103ed01f47419f20762aeba45550"
            ],
            "layout": "IPY_MODEL_24f63a88359f4dce85a4750d574fd236"
          }
        },
        "abf8da8bbac74daba551c245b532fb86": {
          "model_module": "@jupyter-widgets/controls",
          "model_name": "HTMLModel",
          "model_module_version": "1.5.0",
          "state": {
            "_dom_classes": [],
            "_model_module": "@jupyter-widgets/controls",
            "_model_module_version": "1.5.0",
            "_model_name": "HTMLModel",
            "_view_count": null,
            "_view_module": "@jupyter-widgets/controls",
            "_view_module_version": "1.5.0",
            "_view_name": "HTMLView",
            "description": "",
            "description_tooltip": null,
            "layout": "IPY_MODEL_a5e960b02e9d4cc9a4d90e910db2a6d8",
            "placeholder": "​",
            "style": "IPY_MODEL_b9aed3c4e78e4eed93e94af696acd010",
            "value": "generation_config.json: 100%"
          }
        },
        "38817abd22e2422f828731e9b5c4595b": {
          "model_module": "@jupyter-widgets/controls",
          "model_name": "FloatProgressModel",
          "model_module_version": "1.5.0",
          "state": {
            "_dom_classes": [],
            "_model_module": "@jupyter-widgets/controls",
            "_model_module_version": "1.5.0",
            "_model_name": "FloatProgressModel",
            "_view_count": null,
            "_view_module": "@jupyter-widgets/controls",
            "_view_module_version": "1.5.0",
            "_view_name": "ProgressView",
            "bar_style": "success",
            "description": "",
            "description_tooltip": null,
            "layout": "IPY_MODEL_3274dedeaa8d4a1ba8f3cb92398cca2b",
            "max": 147,
            "min": 0,
            "orientation": "horizontal",
            "style": "IPY_MODEL_9909d9ab48dc4f8d8f59247ccc6e53b6",
            "value": 147
          }
        },
        "8357103ed01f47419f20762aeba45550": {
          "model_module": "@jupyter-widgets/controls",
          "model_name": "HTMLModel",
          "model_module_version": "1.5.0",
          "state": {
            "_dom_classes": [],
            "_model_module": "@jupyter-widgets/controls",
            "_model_module_version": "1.5.0",
            "_model_name": "HTMLModel",
            "_view_count": null,
            "_view_module": "@jupyter-widgets/controls",
            "_view_module_version": "1.5.0",
            "_view_name": "HTMLView",
            "description": "",
            "description_tooltip": null,
            "layout": "IPY_MODEL_4125c675a37f4b78ac7d0c874f410e01",
            "placeholder": "​",
            "style": "IPY_MODEL_8c4661fc6fbe4beeb97795e7f036cae0",
            "value": " 147/147 [00:00&lt;00:00, 2.55kB/s]"
          }
        },
        "24f63a88359f4dce85a4750d574fd236": {
          "model_module": "@jupyter-widgets/base",
          "model_name": "LayoutModel",
          "model_module_version": "1.2.0",
          "state": {
            "_model_module": "@jupyter-widgets/base",
            "_model_module_version": "1.2.0",
            "_model_name": "LayoutModel",
            "_view_count": null,
            "_view_module": "@jupyter-widgets/base",
            "_view_module_version": "1.2.0",
            "_view_name": "LayoutView",
            "align_content": null,
            "align_items": null,
            "align_self": null,
            "border": null,
            "bottom": null,
            "display": null,
            "flex": null,
            "flex_flow": null,
            "grid_area": null,
            "grid_auto_columns": null,
            "grid_auto_flow": null,
            "grid_auto_rows": null,
            "grid_column": null,
            "grid_gap": null,
            "grid_row": null,
            "grid_template_areas": null,
            "grid_template_columns": null,
            "grid_template_rows": null,
            "height": null,
            "justify_content": null,
            "justify_items": null,
            "left": null,
            "margin": null,
            "max_height": null,
            "max_width": null,
            "min_height": null,
            "min_width": null,
            "object_fit": null,
            "object_position": null,
            "order": null,
            "overflow": null,
            "overflow_x": null,
            "overflow_y": null,
            "padding": null,
            "right": null,
            "top": null,
            "visibility": null,
            "width": null
          }
        },
        "a5e960b02e9d4cc9a4d90e910db2a6d8": {
          "model_module": "@jupyter-widgets/base",
          "model_name": "LayoutModel",
          "model_module_version": "1.2.0",
          "state": {
            "_model_module": "@jupyter-widgets/base",
            "_model_module_version": "1.2.0",
            "_model_name": "LayoutModel",
            "_view_count": null,
            "_view_module": "@jupyter-widgets/base",
            "_view_module_version": "1.2.0",
            "_view_name": "LayoutView",
            "align_content": null,
            "align_items": null,
            "align_self": null,
            "border": null,
            "bottom": null,
            "display": null,
            "flex": null,
            "flex_flow": null,
            "grid_area": null,
            "grid_auto_columns": null,
            "grid_auto_flow": null,
            "grid_auto_rows": null,
            "grid_column": null,
            "grid_gap": null,
            "grid_row": null,
            "grid_template_areas": null,
            "grid_template_columns": null,
            "grid_template_rows": null,
            "height": null,
            "justify_content": null,
            "justify_items": null,
            "left": null,
            "margin": null,
            "max_height": null,
            "max_width": null,
            "min_height": null,
            "min_width": null,
            "object_fit": null,
            "object_position": null,
            "order": null,
            "overflow": null,
            "overflow_x": null,
            "overflow_y": null,
            "padding": null,
            "right": null,
            "top": null,
            "visibility": null,
            "width": null
          }
        },
        "b9aed3c4e78e4eed93e94af696acd010": {
          "model_module": "@jupyter-widgets/controls",
          "model_name": "DescriptionStyleModel",
          "model_module_version": "1.5.0",
          "state": {
            "_model_module": "@jupyter-widgets/controls",
            "_model_module_version": "1.5.0",
            "_model_name": "DescriptionStyleModel",
            "_view_count": null,
            "_view_module": "@jupyter-widgets/base",
            "_view_module_version": "1.2.0",
            "_view_name": "StyleView",
            "description_width": ""
          }
        },
        "3274dedeaa8d4a1ba8f3cb92398cca2b": {
          "model_module": "@jupyter-widgets/base",
          "model_name": "LayoutModel",
          "model_module_version": "1.2.0",
          "state": {
            "_model_module": "@jupyter-widgets/base",
            "_model_module_version": "1.2.0",
            "_model_name": "LayoutModel",
            "_view_count": null,
            "_view_module": "@jupyter-widgets/base",
            "_view_module_version": "1.2.0",
            "_view_name": "LayoutView",
            "align_content": null,
            "align_items": null,
            "align_self": null,
            "border": null,
            "bottom": null,
            "display": null,
            "flex": null,
            "flex_flow": null,
            "grid_area": null,
            "grid_auto_columns": null,
            "grid_auto_flow": null,
            "grid_auto_rows": null,
            "grid_column": null,
            "grid_gap": null,
            "grid_row": null,
            "grid_template_areas": null,
            "grid_template_columns": null,
            "grid_template_rows": null,
            "height": null,
            "justify_content": null,
            "justify_items": null,
            "left": null,
            "margin": null,
            "max_height": null,
            "max_width": null,
            "min_height": null,
            "min_width": null,
            "object_fit": null,
            "object_position": null,
            "order": null,
            "overflow": null,
            "overflow_x": null,
            "overflow_y": null,
            "padding": null,
            "right": null,
            "top": null,
            "visibility": null,
            "width": null
          }
        },
        "9909d9ab48dc4f8d8f59247ccc6e53b6": {
          "model_module": "@jupyter-widgets/controls",
          "model_name": "ProgressStyleModel",
          "model_module_version": "1.5.0",
          "state": {
            "_model_module": "@jupyter-widgets/controls",
            "_model_module_version": "1.5.0",
            "_model_name": "ProgressStyleModel",
            "_view_count": null,
            "_view_module": "@jupyter-widgets/base",
            "_view_module_version": "1.2.0",
            "_view_name": "StyleView",
            "bar_color": null,
            "description_width": ""
          }
        },
        "4125c675a37f4b78ac7d0c874f410e01": {
          "model_module": "@jupyter-widgets/base",
          "model_name": "LayoutModel",
          "model_module_version": "1.2.0",
          "state": {
            "_model_module": "@jupyter-widgets/base",
            "_model_module_version": "1.2.0",
            "_model_name": "LayoutModel",
            "_view_count": null,
            "_view_module": "@jupyter-widgets/base",
            "_view_module_version": "1.2.0",
            "_view_name": "LayoutView",
            "align_content": null,
            "align_items": null,
            "align_self": null,
            "border": null,
            "bottom": null,
            "display": null,
            "flex": null,
            "flex_flow": null,
            "grid_area": null,
            "grid_auto_columns": null,
            "grid_auto_flow": null,
            "grid_auto_rows": null,
            "grid_column": null,
            "grid_gap": null,
            "grid_row": null,
            "grid_template_areas": null,
            "grid_template_columns": null,
            "grid_template_rows": null,
            "height": null,
            "justify_content": null,
            "justify_items": null,
            "left": null,
            "margin": null,
            "max_height": null,
            "max_width": null,
            "min_height": null,
            "min_width": null,
            "object_fit": null,
            "object_position": null,
            "order": null,
            "overflow": null,
            "overflow_x": null,
            "overflow_y": null,
            "padding": null,
            "right": null,
            "top": null,
            "visibility": null,
            "width": null
          }
        },
        "8c4661fc6fbe4beeb97795e7f036cae0": {
          "model_module": "@jupyter-widgets/controls",
          "model_name": "DescriptionStyleModel",
          "model_module_version": "1.5.0",
          "state": {
            "_model_module": "@jupyter-widgets/controls",
            "_model_module_version": "1.5.0",
            "_model_name": "DescriptionStyleModel",
            "_view_count": null,
            "_view_module": "@jupyter-widgets/base",
            "_view_module_version": "1.2.0",
            "_view_name": "StyleView",
            "description_width": ""
          }
        },
        "3c13bc88a8c349b8885bedfee3c7b571": {
          "model_module": "@jupyter-widgets/controls",
          "model_name": "HBoxModel",
          "model_module_version": "1.5.0",
          "state": {
            "_dom_classes": [],
            "_model_module": "@jupyter-widgets/controls",
            "_model_module_version": "1.5.0",
            "_model_name": "HBoxModel",
            "_view_count": null,
            "_view_module": "@jupyter-widgets/controls",
            "_view_module_version": "1.5.0",
            "_view_name": "HBoxView",
            "box_style": "",
            "children": [
              "IPY_MODEL_7599f98d9f9d4ef184e43967e59fb2d1",
              "IPY_MODEL_3be624bce02545baaf670edd9c7f33fe",
              "IPY_MODEL_996f8c9863484614907a2e24eb497ec3"
            ],
            "layout": "IPY_MODEL_78e4d12bc733403091b03bb724281468"
          }
        },
        "7599f98d9f9d4ef184e43967e59fb2d1": {
          "model_module": "@jupyter-widgets/controls",
          "model_name": "HTMLModel",
          "model_module_version": "1.5.0",
          "state": {
            "_dom_classes": [],
            "_model_module": "@jupyter-widgets/controls",
            "_model_module_version": "1.5.0",
            "_model_name": "HTMLModel",
            "_view_count": null,
            "_view_module": "@jupyter-widgets/controls",
            "_view_module_version": "1.5.0",
            "_view_name": "HTMLView",
            "description": "",
            "description_tooltip": null,
            "layout": "IPY_MODEL_7772301c38a14b5b93b7cc1f3715dbcc",
            "placeholder": "​",
            "style": "IPY_MODEL_30d002ba787a4e82b98ea0d3b5efd790",
            "value": "spiece.model: 100%"
          }
        },
        "3be624bce02545baaf670edd9c7f33fe": {
          "model_module": "@jupyter-widgets/controls",
          "model_name": "FloatProgressModel",
          "model_module_version": "1.5.0",
          "state": {
            "_dom_classes": [],
            "_model_module": "@jupyter-widgets/controls",
            "_model_module_version": "1.5.0",
            "_model_name": "FloatProgressModel",
            "_view_count": null,
            "_view_module": "@jupyter-widgets/controls",
            "_view_module_version": "1.5.0",
            "_view_name": "ProgressView",
            "bar_style": "success",
            "description": "",
            "description_tooltip": null,
            "layout": "IPY_MODEL_f490af05889d415996536a1fa7a547ad",
            "max": 791656,
            "min": 0,
            "orientation": "horizontal",
            "style": "IPY_MODEL_c5d4286cd29a47e2831b1bc5a20b23f6",
            "value": 791656
          }
        },
        "996f8c9863484614907a2e24eb497ec3": {
          "model_module": "@jupyter-widgets/controls",
          "model_name": "HTMLModel",
          "model_module_version": "1.5.0",
          "state": {
            "_dom_classes": [],
            "_model_module": "@jupyter-widgets/controls",
            "_model_module_version": "1.5.0",
            "_model_name": "HTMLModel",
            "_view_count": null,
            "_view_module": "@jupyter-widgets/controls",
            "_view_module_version": "1.5.0",
            "_view_name": "HTMLView",
            "description": "",
            "description_tooltip": null,
            "layout": "IPY_MODEL_625e6b7934014eaab7430db3d9d5110e",
            "placeholder": "​",
            "style": "IPY_MODEL_741295db3540441b944bd4257bb4b947",
            "value": " 792k/792k [00:00&lt;00:00, 3.51MB/s]"
          }
        },
        "78e4d12bc733403091b03bb724281468": {
          "model_module": "@jupyter-widgets/base",
          "model_name": "LayoutModel",
          "model_module_version": "1.2.0",
          "state": {
            "_model_module": "@jupyter-widgets/base",
            "_model_module_version": "1.2.0",
            "_model_name": "LayoutModel",
            "_view_count": null,
            "_view_module": "@jupyter-widgets/base",
            "_view_module_version": "1.2.0",
            "_view_name": "LayoutView",
            "align_content": null,
            "align_items": null,
            "align_self": null,
            "border": null,
            "bottom": null,
            "display": null,
            "flex": null,
            "flex_flow": null,
            "grid_area": null,
            "grid_auto_columns": null,
            "grid_auto_flow": null,
            "grid_auto_rows": null,
            "grid_column": null,
            "grid_gap": null,
            "grid_row": null,
            "grid_template_areas": null,
            "grid_template_columns": null,
            "grid_template_rows": null,
            "height": null,
            "justify_content": null,
            "justify_items": null,
            "left": null,
            "margin": null,
            "max_height": null,
            "max_width": null,
            "min_height": null,
            "min_width": null,
            "object_fit": null,
            "object_position": null,
            "order": null,
            "overflow": null,
            "overflow_x": null,
            "overflow_y": null,
            "padding": null,
            "right": null,
            "top": null,
            "visibility": null,
            "width": null
          }
        },
        "7772301c38a14b5b93b7cc1f3715dbcc": {
          "model_module": "@jupyter-widgets/base",
          "model_name": "LayoutModel",
          "model_module_version": "1.2.0",
          "state": {
            "_model_module": "@jupyter-widgets/base",
            "_model_module_version": "1.2.0",
            "_model_name": "LayoutModel",
            "_view_count": null,
            "_view_module": "@jupyter-widgets/base",
            "_view_module_version": "1.2.0",
            "_view_name": "LayoutView",
            "align_content": null,
            "align_items": null,
            "align_self": null,
            "border": null,
            "bottom": null,
            "display": null,
            "flex": null,
            "flex_flow": null,
            "grid_area": null,
            "grid_auto_columns": null,
            "grid_auto_flow": null,
            "grid_auto_rows": null,
            "grid_column": null,
            "grid_gap": null,
            "grid_row": null,
            "grid_template_areas": null,
            "grid_template_columns": null,
            "grid_template_rows": null,
            "height": null,
            "justify_content": null,
            "justify_items": null,
            "left": null,
            "margin": null,
            "max_height": null,
            "max_width": null,
            "min_height": null,
            "min_width": null,
            "object_fit": null,
            "object_position": null,
            "order": null,
            "overflow": null,
            "overflow_x": null,
            "overflow_y": null,
            "padding": null,
            "right": null,
            "top": null,
            "visibility": null,
            "width": null
          }
        },
        "30d002ba787a4e82b98ea0d3b5efd790": {
          "model_module": "@jupyter-widgets/controls",
          "model_name": "DescriptionStyleModel",
          "model_module_version": "1.5.0",
          "state": {
            "_model_module": "@jupyter-widgets/controls",
            "_model_module_version": "1.5.0",
            "_model_name": "DescriptionStyleModel",
            "_view_count": null,
            "_view_module": "@jupyter-widgets/base",
            "_view_module_version": "1.2.0",
            "_view_name": "StyleView",
            "description_width": ""
          }
        },
        "f490af05889d415996536a1fa7a547ad": {
          "model_module": "@jupyter-widgets/base",
          "model_name": "LayoutModel",
          "model_module_version": "1.2.0",
          "state": {
            "_model_module": "@jupyter-widgets/base",
            "_model_module_version": "1.2.0",
            "_model_name": "LayoutModel",
            "_view_count": null,
            "_view_module": "@jupyter-widgets/base",
            "_view_module_version": "1.2.0",
            "_view_name": "LayoutView",
            "align_content": null,
            "align_items": null,
            "align_self": null,
            "border": null,
            "bottom": null,
            "display": null,
            "flex": null,
            "flex_flow": null,
            "grid_area": null,
            "grid_auto_columns": null,
            "grid_auto_flow": null,
            "grid_auto_rows": null,
            "grid_column": null,
            "grid_gap": null,
            "grid_row": null,
            "grid_template_areas": null,
            "grid_template_columns": null,
            "grid_template_rows": null,
            "height": null,
            "justify_content": null,
            "justify_items": null,
            "left": null,
            "margin": null,
            "max_height": null,
            "max_width": null,
            "min_height": null,
            "min_width": null,
            "object_fit": null,
            "object_position": null,
            "order": null,
            "overflow": null,
            "overflow_x": null,
            "overflow_y": null,
            "padding": null,
            "right": null,
            "top": null,
            "visibility": null,
            "width": null
          }
        },
        "c5d4286cd29a47e2831b1bc5a20b23f6": {
          "model_module": "@jupyter-widgets/controls",
          "model_name": "ProgressStyleModel",
          "model_module_version": "1.5.0",
          "state": {
            "_model_module": "@jupyter-widgets/controls",
            "_model_module_version": "1.5.0",
            "_model_name": "ProgressStyleModel",
            "_view_count": null,
            "_view_module": "@jupyter-widgets/base",
            "_view_module_version": "1.2.0",
            "_view_name": "StyleView",
            "bar_color": null,
            "description_width": ""
          }
        },
        "625e6b7934014eaab7430db3d9d5110e": {
          "model_module": "@jupyter-widgets/base",
          "model_name": "LayoutModel",
          "model_module_version": "1.2.0",
          "state": {
            "_model_module": "@jupyter-widgets/base",
            "_model_module_version": "1.2.0",
            "_model_name": "LayoutModel",
            "_view_count": null,
            "_view_module": "@jupyter-widgets/base",
            "_view_module_version": "1.2.0",
            "_view_name": "LayoutView",
            "align_content": null,
            "align_items": null,
            "align_self": null,
            "border": null,
            "bottom": null,
            "display": null,
            "flex": null,
            "flex_flow": null,
            "grid_area": null,
            "grid_auto_columns": null,
            "grid_auto_flow": null,
            "grid_auto_rows": null,
            "grid_column": null,
            "grid_gap": null,
            "grid_row": null,
            "grid_template_areas": null,
            "grid_template_columns": null,
            "grid_template_rows": null,
            "height": null,
            "justify_content": null,
            "justify_items": null,
            "left": null,
            "margin": null,
            "max_height": null,
            "max_width": null,
            "min_height": null,
            "min_width": null,
            "object_fit": null,
            "object_position": null,
            "order": null,
            "overflow": null,
            "overflow_x": null,
            "overflow_y": null,
            "padding": null,
            "right": null,
            "top": null,
            "visibility": null,
            "width": null
          }
        },
        "741295db3540441b944bd4257bb4b947": {
          "model_module": "@jupyter-widgets/controls",
          "model_name": "DescriptionStyleModel",
          "model_module_version": "1.5.0",
          "state": {
            "_model_module": "@jupyter-widgets/controls",
            "_model_module_version": "1.5.0",
            "_model_name": "DescriptionStyleModel",
            "_view_count": null,
            "_view_module": "@jupyter-widgets/base",
            "_view_module_version": "1.2.0",
            "_view_name": "StyleView",
            "description_width": ""
          }
        },
        "8934ab49fe8a4ec6a7f688943c2ef4a9": {
          "model_module": "@jupyter-widgets/controls",
          "model_name": "HBoxModel",
          "model_module_version": "1.5.0",
          "state": {
            "_dom_classes": [],
            "_model_module": "@jupyter-widgets/controls",
            "_model_module_version": "1.5.0",
            "_model_name": "HBoxModel",
            "_view_count": null,
            "_view_module": "@jupyter-widgets/controls",
            "_view_module_version": "1.5.0",
            "_view_name": "HBoxView",
            "box_style": "",
            "children": [
              "IPY_MODEL_f29cf283801a405b91d03aaa2779ecb3",
              "IPY_MODEL_2a7c90c73ad9403899a9450831040ee2",
              "IPY_MODEL_bedcf6efcceb433ab1aa8170efe7fd9f"
            ],
            "layout": "IPY_MODEL_b40d5c3ccf8f45c2a23416429ce7b0c9"
          }
        },
        "f29cf283801a405b91d03aaa2779ecb3": {
          "model_module": "@jupyter-widgets/controls",
          "model_name": "HTMLModel",
          "model_module_version": "1.5.0",
          "state": {
            "_dom_classes": [],
            "_model_module": "@jupyter-widgets/controls",
            "_model_module_version": "1.5.0",
            "_model_name": "HTMLModel",
            "_view_count": null,
            "_view_module": "@jupyter-widgets/controls",
            "_view_module_version": "1.5.0",
            "_view_name": "HTMLView",
            "description": "",
            "description_tooltip": null,
            "layout": "IPY_MODEL_a0bfe6d9a4184478b938aea2c3a28dde",
            "placeholder": "​",
            "style": "IPY_MODEL_19e2d5811f7f4dc092198eecd613269a",
            "value": "tokenizer.json: 100%"
          }
        },
        "2a7c90c73ad9403899a9450831040ee2": {
          "model_module": "@jupyter-widgets/controls",
          "model_name": "FloatProgressModel",
          "model_module_version": "1.5.0",
          "state": {
            "_dom_classes": [],
            "_model_module": "@jupyter-widgets/controls",
            "_model_module_version": "1.5.0",
            "_model_name": "FloatProgressModel",
            "_view_count": null,
            "_view_module": "@jupyter-widgets/controls",
            "_view_module_version": "1.5.0",
            "_view_name": "ProgressView",
            "bar_style": "success",
            "description": "",
            "description_tooltip": null,
            "layout": "IPY_MODEL_f58d7fd353f24f3fb34cc8a75924dfe1",
            "max": 1389353,
            "min": 0,
            "orientation": "horizontal",
            "style": "IPY_MODEL_afaf52c86df14cc6ad0731af860a00c6",
            "value": 1389353
          }
        },
        "bedcf6efcceb433ab1aa8170efe7fd9f": {
          "model_module": "@jupyter-widgets/controls",
          "model_name": "HTMLModel",
          "model_module_version": "1.5.0",
          "state": {
            "_dom_classes": [],
            "_model_module": "@jupyter-widgets/controls",
            "_model_module_version": "1.5.0",
            "_model_name": "HTMLModel",
            "_view_count": null,
            "_view_module": "@jupyter-widgets/controls",
            "_view_module_version": "1.5.0",
            "_view_name": "HTMLView",
            "description": "",
            "description_tooltip": null,
            "layout": "IPY_MODEL_d1053f3fdffa494dba88a7a897756ee4",
            "placeholder": "​",
            "style": "IPY_MODEL_58ab21d3af75452492cb933aa86239e3",
            "value": " 1.39M/1.39M [00:00&lt;00:00, 8.07MB/s]"
          }
        },
        "b40d5c3ccf8f45c2a23416429ce7b0c9": {
          "model_module": "@jupyter-widgets/base",
          "model_name": "LayoutModel",
          "model_module_version": "1.2.0",
          "state": {
            "_model_module": "@jupyter-widgets/base",
            "_model_module_version": "1.2.0",
            "_model_name": "LayoutModel",
            "_view_count": null,
            "_view_module": "@jupyter-widgets/base",
            "_view_module_version": "1.2.0",
            "_view_name": "LayoutView",
            "align_content": null,
            "align_items": null,
            "align_self": null,
            "border": null,
            "bottom": null,
            "display": null,
            "flex": null,
            "flex_flow": null,
            "grid_area": null,
            "grid_auto_columns": null,
            "grid_auto_flow": null,
            "grid_auto_rows": null,
            "grid_column": null,
            "grid_gap": null,
            "grid_row": null,
            "grid_template_areas": null,
            "grid_template_columns": null,
            "grid_template_rows": null,
            "height": null,
            "justify_content": null,
            "justify_items": null,
            "left": null,
            "margin": null,
            "max_height": null,
            "max_width": null,
            "min_height": null,
            "min_width": null,
            "object_fit": null,
            "object_position": null,
            "order": null,
            "overflow": null,
            "overflow_x": null,
            "overflow_y": null,
            "padding": null,
            "right": null,
            "top": null,
            "visibility": null,
            "width": null
          }
        },
        "a0bfe6d9a4184478b938aea2c3a28dde": {
          "model_module": "@jupyter-widgets/base",
          "model_name": "LayoutModel",
          "model_module_version": "1.2.0",
          "state": {
            "_model_module": "@jupyter-widgets/base",
            "_model_module_version": "1.2.0",
            "_model_name": "LayoutModel",
            "_view_count": null,
            "_view_module": "@jupyter-widgets/base",
            "_view_module_version": "1.2.0",
            "_view_name": "LayoutView",
            "align_content": null,
            "align_items": null,
            "align_self": null,
            "border": null,
            "bottom": null,
            "display": null,
            "flex": null,
            "flex_flow": null,
            "grid_area": null,
            "grid_auto_columns": null,
            "grid_auto_flow": null,
            "grid_auto_rows": null,
            "grid_column": null,
            "grid_gap": null,
            "grid_row": null,
            "grid_template_areas": null,
            "grid_template_columns": null,
            "grid_template_rows": null,
            "height": null,
            "justify_content": null,
            "justify_items": null,
            "left": null,
            "margin": null,
            "max_height": null,
            "max_width": null,
            "min_height": null,
            "min_width": null,
            "object_fit": null,
            "object_position": null,
            "order": null,
            "overflow": null,
            "overflow_x": null,
            "overflow_y": null,
            "padding": null,
            "right": null,
            "top": null,
            "visibility": null,
            "width": null
          }
        },
        "19e2d5811f7f4dc092198eecd613269a": {
          "model_module": "@jupyter-widgets/controls",
          "model_name": "DescriptionStyleModel",
          "model_module_version": "1.5.0",
          "state": {
            "_model_module": "@jupyter-widgets/controls",
            "_model_module_version": "1.5.0",
            "_model_name": "DescriptionStyleModel",
            "_view_count": null,
            "_view_module": "@jupyter-widgets/base",
            "_view_module_version": "1.2.0",
            "_view_name": "StyleView",
            "description_width": ""
          }
        },
        "f58d7fd353f24f3fb34cc8a75924dfe1": {
          "model_module": "@jupyter-widgets/base",
          "model_name": "LayoutModel",
          "model_module_version": "1.2.0",
          "state": {
            "_model_module": "@jupyter-widgets/base",
            "_model_module_version": "1.2.0",
            "_model_name": "LayoutModel",
            "_view_count": null,
            "_view_module": "@jupyter-widgets/base",
            "_view_module_version": "1.2.0",
            "_view_name": "LayoutView",
            "align_content": null,
            "align_items": null,
            "align_self": null,
            "border": null,
            "bottom": null,
            "display": null,
            "flex": null,
            "flex_flow": null,
            "grid_area": null,
            "grid_auto_columns": null,
            "grid_auto_flow": null,
            "grid_auto_rows": null,
            "grid_column": null,
            "grid_gap": null,
            "grid_row": null,
            "grid_template_areas": null,
            "grid_template_columns": null,
            "grid_template_rows": null,
            "height": null,
            "justify_content": null,
            "justify_items": null,
            "left": null,
            "margin": null,
            "max_height": null,
            "max_width": null,
            "min_height": null,
            "min_width": null,
            "object_fit": null,
            "object_position": null,
            "order": null,
            "overflow": null,
            "overflow_x": null,
            "overflow_y": null,
            "padding": null,
            "right": null,
            "top": null,
            "visibility": null,
            "width": null
          }
        },
        "afaf52c86df14cc6ad0731af860a00c6": {
          "model_module": "@jupyter-widgets/controls",
          "model_name": "ProgressStyleModel",
          "model_module_version": "1.5.0",
          "state": {
            "_model_module": "@jupyter-widgets/controls",
            "_model_module_version": "1.5.0",
            "_model_name": "ProgressStyleModel",
            "_view_count": null,
            "_view_module": "@jupyter-widgets/base",
            "_view_module_version": "1.2.0",
            "_view_name": "StyleView",
            "bar_color": null,
            "description_width": ""
          }
        },
        "d1053f3fdffa494dba88a7a897756ee4": {
          "model_module": "@jupyter-widgets/base",
          "model_name": "LayoutModel",
          "model_module_version": "1.2.0",
          "state": {
            "_model_module": "@jupyter-widgets/base",
            "_model_module_version": "1.2.0",
            "_model_name": "LayoutModel",
            "_view_count": null,
            "_view_module": "@jupyter-widgets/base",
            "_view_module_version": "1.2.0",
            "_view_name": "LayoutView",
            "align_content": null,
            "align_items": null,
            "align_self": null,
            "border": null,
            "bottom": null,
            "display": null,
            "flex": null,
            "flex_flow": null,
            "grid_area": null,
            "grid_auto_columns": null,
            "grid_auto_flow": null,
            "grid_auto_rows": null,
            "grid_column": null,
            "grid_gap": null,
            "grid_row": null,
            "grid_template_areas": null,
            "grid_template_columns": null,
            "grid_template_rows": null,
            "height": null,
            "justify_content": null,
            "justify_items": null,
            "left": null,
            "margin": null,
            "max_height": null,
            "max_width": null,
            "min_height": null,
            "min_width": null,
            "object_fit": null,
            "object_position": null,
            "order": null,
            "overflow": null,
            "overflow_x": null,
            "overflow_y": null,
            "padding": null,
            "right": null,
            "top": null,
            "visibility": null,
            "width": null
          }
        },
        "58ab21d3af75452492cb933aa86239e3": {
          "model_module": "@jupyter-widgets/controls",
          "model_name": "DescriptionStyleModel",
          "model_module_version": "1.5.0",
          "state": {
            "_model_module": "@jupyter-widgets/controls",
            "_model_module_version": "1.5.0",
            "_model_name": "DescriptionStyleModel",
            "_view_count": null,
            "_view_module": "@jupyter-widgets/base",
            "_view_module_version": "1.2.0",
            "_view_name": "StyleView",
            "description_width": ""
          }
        }
      }
    }
  },
  "nbformat": 4,
  "nbformat_minor": 5
}