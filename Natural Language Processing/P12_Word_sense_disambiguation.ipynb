{
  "cells": [
    {
      "cell_type": "markdown",
      "id": "f5948a2f-0bff-4085-99ac-d8d858d7dd88",
      "metadata": {
        "id": "f5948a2f-0bff-4085-99ac-d8d858d7dd88"
      },
      "source": [
        "### Import library"
      ]
    },
    {
      "cell_type": "code",
      "execution_count": 23,
      "id": "4c0147d2-157b-416d-b64f-ac3e13989084",
      "metadata": {
        "colab": {
          "base_uri": "https://localhost:8080/"
        },
        "id": "4c0147d2-157b-416d-b64f-ac3e13989084",
        "outputId": "24b90163-10e9-4b67-99f8-f868aa76b178"
      },
      "outputs": [
        {
          "output_type": "stream",
          "name": "stderr",
          "text": [
            "[nltk_data] Downloading package punkt_tab to /root/nltk_data...\n",
            "[nltk_data]   Package punkt_tab is already up-to-date!\n",
            "[nltk_data] Downloading package wordnet to /root/nltk_data...\n",
            "[nltk_data]   Package wordnet is already up-to-date!\n"
          ]
        },
        {
          "output_type": "execute_result",
          "data": {
            "text/plain": [
              "True"
            ]
          },
          "metadata": {},
          "execution_count": 23
        }
      ],
      "source": [
        "from nltk.tokenize import word_tokenize\n",
        "from nltk.wsd import lesk\n",
        "import nltk\n",
        "nltk.download('punkt_tab')\n",
        "nltk.download('wordnet')"
      ]
    },
    {
      "cell_type": "markdown",
      "id": "6bbfc454-a996-4988-a894-c5844af6e049",
      "metadata": {
        "id": "6bbfc454-a996-4988-a894-c5844af6e049"
      },
      "source": [
        "### <b>```Define the sentence with word ambiguity```</b>"
      ]
    },
    {
      "cell_type": "markdown",
      "id": "71e00fa1-97de-4600-8dad-d6827482e067",
      "metadata": {
        "id": "71e00fa1-97de-4600-8dad-d6827482e067"
      },
      "source": [
        "### 1."
      ]
    },
    {
      "cell_type": "code",
      "execution_count": 24,
      "id": "0efe5cc1-94a6-4201-aec4-4f2eef0489d4",
      "metadata": {
        "colab": {
          "base_uri": "https://localhost:8080/"
        },
        "id": "0efe5cc1-94a6-4201-aec4-4f2eef0489d4",
        "outputId": "525e5a31-ccd4-4dc8-ddd0-2923eb8b20df"
      },
      "outputs": [
        {
          "output_type": "stream",
          "name": "stdout",
          "text": [
            "deliberate radiation or reflection of electromagnetic energy for the purpose of disrupting enemy use of electronic devices or systems\n",
            "[]\n"
          ]
        }
      ],
      "source": [
        "a1 = lesk(word_tokenize(\"We have to jam the signal around us\"),\"jam\")\n",
        "print(a1.definition())\n",
        "print(a1.examples())"
      ]
    },
    {
      "cell_type": "markdown",
      "id": "421c18d0-b73c-4a3a-87de-c75e6eca5437",
      "metadata": {
        "id": "421c18d0-b73c-4a3a-87de-c75e6eca5437"
      },
      "source": [
        "### 2."
      ]
    },
    {
      "cell_type": "code",
      "execution_count": 25,
      "id": "4c25d71f-667a-4507-a20b-51b2deb4fc9a",
      "metadata": {
        "colab": {
          "base_uri": "https://localhost:8080/"
        },
        "id": "4c25d71f-667a-4507-a20b-51b2deb4fc9a",
        "outputId": "f0c5ad4b-a2c6-4282-8969-ff63788df0b5"
      },
      "outputs": [
        {
          "output_type": "stream",
          "name": "stdout",
          "text": [
            "get stuck and immobilized\n",
            "['the mechanism jammed']\n"
          ]
        }
      ],
      "source": [
        "a2 = lesk(word_tokenize(\"I am stuck in a heavy traffic jam\"),\"jam\")\n",
        "print(a2.definition())\n",
        "print(a2.examples())"
      ]
    },
    {
      "cell_type": "code",
      "execution_count": 25,
      "id": "2c602c79-c7e7-4c45-a051-25a9bdeb427e",
      "metadata": {
        "id": "2c602c79-c7e7-4c45-a051-25a9bdeb427e"
      },
      "outputs": [],
      "source": []
    },
    {
      "cell_type": "code",
      "execution_count": 26,
      "id": "c1f0e0c9-fa80-4503-85cc-b17c60e4264e",
      "metadata": {
        "colab": {
          "base_uri": "https://localhost:8080/"
        },
        "id": "c1f0e0c9-fa80-4503-85cc-b17c60e4264e",
        "outputId": "534aacd3-90e1-456f-ec23-1e1cca20259b"
      },
      "outputs": [
        {
          "output_type": "execute_result",
          "data": {
            "text/plain": [
              "[Synset('barrage_jamming.n.01'), Synset('spot_jamming.n.01')]"
            ]
          },
          "metadata": {},
          "execution_count": 26
        }
      ],
      "source": [
        "a1.hyponyms()"
      ]
    },
    {
      "cell_type": "code",
      "execution_count": 27,
      "id": "3bd736fd-ad49-412f-a6ad-895c0b506350",
      "metadata": {
        "colab": {
          "base_uri": "https://localhost:8080/"
        },
        "id": "3bd736fd-ad49-412f-a6ad-895c0b506350",
        "outputId": "6529e2c3-af4b-4c94-a28a-cc449dce11fd"
      },
      "outputs": [
        {
          "output_type": "execute_result",
          "data": {
            "text/plain": [
              "[]"
            ]
          },
          "metadata": {},
          "execution_count": 27
        }
      ],
      "source": [
        "a2.hyponyms()"
      ]
    },
    {
      "cell_type": "markdown",
      "id": "82b20c19-a311-463c-a24d-08d1857ccfc0",
      "metadata": {
        "id": "82b20c19-a311-463c-a24d-08d1857ccfc0"
      },
      "source": [
        "### 3."
      ]
    },
    {
      "cell_type": "code",
      "execution_count": 28,
      "id": "f90c0666-9a70-438a-b8a4-63e68298f0b0",
      "metadata": {
        "colab": {
          "base_uri": "https://localhost:8080/"
        },
        "id": "f90c0666-9a70-438a-b8a4-63e68298f0b0",
        "outputId": "7010c4e3-00b5-4774-f84c-696086a3c703"
      },
      "outputs": [
        {
          "output_type": "stream",
          "name": "stdout",
          "text": [
            "discover or come upon accidentally, suddenly, or unexpectedly; catch somebody doing something or in a certain state\n",
            "['She caught her son eating candy', 'She was caught shoplifting']\n"
          ]
        }
      ],
      "source": [
        "a3 = lesk(word_tokenize(\"It was a good catch by the player\"),\"catch\")\n",
        "print(a3.definition())\n",
        "print(a3.examples())"
      ]
    },
    {
      "cell_type": "markdown",
      "id": "7bc16fb9-731c-4eec-90d1-e2e3450cbcc2",
      "metadata": {
        "id": "7bc16fb9-731c-4eec-90d1-e2e3450cbcc2"
      },
      "source": [
        "### 4."
      ]
    },
    {
      "cell_type": "code",
      "execution_count": 29,
      "id": "ba1c27f7-b9de-476e-8cd7-fc6861d5e352",
      "metadata": {
        "colab": {
          "base_uri": "https://localhost:8080/"
        },
        "id": "ba1c27f7-b9de-476e-8cd7-fc6861d5e352",
        "outputId": "b7f1f018-82c7-4d9d-a7d9-05baaaf09d7f"
      },
      "outputs": [
        {
          "output_type": "stream",
          "name": "stdout",
          "text": [
            "catch up with and possibly overtake\n",
            "['The Rolls Royce caught us near the exit ramp']\n"
          ]
        }
      ],
      "source": [
        "a4 = lesk(word_tokenize(\"You should catch that opportunity\"),\"catch\")\n",
        "print(a4.definition())\n",
        "print(a4.examples())"
      ]
    },
    {
      "cell_type": "code",
      "execution_count": 29,
      "id": "6135d890-fbcd-47ac-8b39-b96b99a04e16",
      "metadata": {
        "id": "6135d890-fbcd-47ac-8b39-b96b99a04e16"
      },
      "outputs": [],
      "source": []
    },
    {
      "cell_type": "code",
      "execution_count": 30,
      "id": "2a59bcf8-1de4-4cce-a613-7ac591633b71",
      "metadata": {
        "id": "2a59bcf8-1de4-4cce-a613-7ac591633b71"
      },
      "outputs": [],
      "source": [
        "sentence1 = \"The dog started to bark loudly in the yard.\"\n",
        "sentence2 = \"His tree's bark was rough and peeling aff.\""
      ]
    },
    {
      "cell_type": "code",
      "execution_count": 31,
      "id": "95c56555-563b-4a76-8583-40a5e3133ae7",
      "metadata": {
        "id": "95c56555-563b-4a76-8583-40a5e3133ae7"
      },
      "outputs": [],
      "source": [
        "sense1 = lesk(word_tokenize(sentence1),\"bark\")\n",
        "sense2 = lesk(word_tokenize(sentence2),\"bark\")"
      ]
    },
    {
      "cell_type": "code",
      "execution_count": 32,
      "id": "6b3642e2-d982-4b43-9de5-67ebc1b0992c",
      "metadata": {
        "colab": {
          "base_uri": "https://localhost:8080/"
        },
        "id": "6b3642e2-d982-4b43-9de5-67ebc1b0992c",
        "outputId": "324b8a90-a036-4059-a5fb-44077c7ab68d"
      },
      "outputs": [
        {
          "output_type": "stream",
          "name": "stdout",
          "text": [
            "a noise resembling the bark of a dog\n",
            "remove the bark of a tree\n"
          ]
        }
      ],
      "source": [
        "print(sense1.definition())\n",
        "print(sense2.definition())"
      ]
    },
    {
      "cell_type": "code",
      "execution_count": 32,
      "id": "503abd59-2134-4b5c-982a-48bbe78c116c",
      "metadata": {
        "id": "503abd59-2134-4b5c-982a-48bbe78c116c"
      },
      "outputs": [],
      "source": []
    },
    {
      "cell_type": "code",
      "execution_count": 32,
      "id": "283a8850-0633-4dad-a46a-0da3c7eaafa4",
      "metadata": {
        "id": "283a8850-0633-4dad-a46a-0da3c7eaafa4"
      },
      "outputs": [],
      "source": [
        ""
      ]
    },
    {
      "cell_type": "code",
      "execution_count": 33,
      "id": "28a0adca-f345-4e04-8596-a36c4303dd92",
      "metadata": {
        "id": "28a0adca-f345-4e04-8596-a36c4303dd92"
      },
      "outputs": [],
      "source": [
        "from nltk.corpus import wordnet"
      ]
    },
    {
      "cell_type": "code",
      "execution_count": 34,
      "id": "89c3cc76-45a7-473d-bb1a-0d962b241ab3",
      "metadata": {
        "colab": {
          "base_uri": "https://localhost:8080/"
        },
        "id": "89c3cc76-45a7-473d-bb1a-0d962b241ab3",
        "outputId": "3bb2c586-2bb6-4353-c2b3-e804c95c6f81"
      },
      "outputs": [
        {
          "output_type": "execute_result",
          "data": {
            "text/plain": [
              "[Synset('jam.n.01'),\n",
              " Synset('fix.n.01'),\n",
              " Synset('crush.n.02'),\n",
              " Synset('jamming.n.01'),\n",
              " Synset('throng.v.01'),\n",
              " Synset('jam.v.02'),\n",
              " Synset('jam.v.03'),\n",
              " Synset('jam.v.04'),\n",
              " Synset('jam.v.05'),\n",
              " Synset('jam.v.06'),\n",
              " Synset('obstruct.v.02')]"
            ]
          },
          "metadata": {},
          "execution_count": 34
        }
      ],
      "source": [
        "x = wordnet.synsets('jam')\n",
        "x"
      ]
    }
  ],
  "metadata": {
    "kernelspec": {
      "display_name": "Python 3 (ipykernel)",
      "language": "python",
      "name": "python3"
    },
    "language_info": {
      "codemirror_mode": {
        "name": "ipython",
        "version": 3
      },
      "file_extension": ".py",
      "mimetype": "text/x-python",
      "name": "python",
      "nbconvert_exporter": "python",
      "pygments_lexer": "ipython3",
      "version": "3.12.7"
    },
    "colab": {
      "provenance": []
    }
  },
  "nbformat": 4,
  "nbformat_minor": 5
}